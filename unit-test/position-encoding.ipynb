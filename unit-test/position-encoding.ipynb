{
 "cells": [
  {
   "metadata": {},
   "cell_type": "markdown",
   "source": "Part 1: generate rays",
   "id": "953f74b6ce99baf2"
  },
  {
   "metadata": {},
   "cell_type": "code",
   "source": [
    "from nerfstudio.data.datamanagers.base_datamanager import VanillaDataManagerConfig, VanillaDataManager\n",
    "from nerfstudio.data.dataparsers.blender_dataparser import BlenderDataParserConfig\n",
    "from nerfstudio.cameras.rays import RayBundle\n",
    "from pathlib import Path\n",
    "import torch\n",
    "\n",
    "device = 'cuda:0' if torch.cuda.is_available() else 'cpu'\n",
    "config_datamanager : VanillaDataManagerConfig = VanillaDataManagerConfig(dataparser=BlenderDataParserConfig(), )\n",
    "config_datamanager.data = Path(\"../data/nerf_synthetic/lego\")\n",
    "datamanager: VanillaDataManager = config_datamanager.setup(device=device, test_mode='val', world_size=1, local_rank=0)"
   ],
   "id": "7ef884438fc6c7ac",
   "outputs": [],
   "execution_count": null
  },
  {
   "metadata": {},
   "cell_type": "code",
   "source": [
    "ray_bundle: RayBundle\n",
    "ray_bundle, batch = datamanager.next_train(0)\n",
    "print(ray_bundle)"
   ],
   "id": "9ac395192fa63bb4",
   "outputs": [],
   "execution_count": null
  },
  {
   "metadata": {
    "ExecuteTime": {
     "end_time": "2024-10-20T20:28:00.480101Z",
     "start_time": "2024-10-20T20:28:00.476898Z"
    }
   },
   "cell_type": "code",
   "source": [
    "print(batch['image'].shape)\n",
    "print(batch['indices'].shape)"
   ],
   "id": "ce746979c3f67b4",
   "outputs": [
    {
     "name": "stdout",
     "output_type": "stream",
     "text": [
      "torch.Size([1024, 3])\n",
      "torch.Size([1024, 3])\n"
     ]
    }
   ],
   "execution_count": 9
  },
  {
   "metadata": {},
   "cell_type": "markdown",
   "source": "Part 2: position encoding",
   "id": "5a4a84b5ec907f5a"
  },
  {
   "metadata": {
    "ExecuteTime": {
     "end_time": "2024-10-20T23:32:57.681311Z",
     "start_time": "2024-10-20T23:32:57.675112Z"
    }
   },
   "cell_type": "code",
   "source": "",
   "id": "a3959a16454692c1",
   "outputs": [],
   "execution_count": 9
  }
 ],
 "metadata": {
  "kernelspec": {
   "display_name": "Python 3",
   "language": "python",
   "name": "python3"
  },
  "language_info": {
   "codemirror_mode": {
    "name": "ipython",
    "version": 2
   },
   "file_extension": ".py",
   "mimetype": "text/x-python",
   "name": "python",
   "nbconvert_exporter": "python",
   "pygments_lexer": "ipython2",
   "version": "2.7.6"
  }
 },
 "nbformat": 4,
 "nbformat_minor": 5
}
