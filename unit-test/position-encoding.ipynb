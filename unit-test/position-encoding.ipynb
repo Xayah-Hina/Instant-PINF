{
 "cells": [
  {
   "cell_type": "code",
   "id": "initial_id",
   "metadata": {
    "collapsed": true,
    "ExecuteTime": {
     "end_time": "2024-10-19T04:07:55.510926Z",
     "start_time": "2024-10-19T04:07:55.496686Z"
    }
   },
   "source": "",
   "outputs": [],
   "execution_count": null
  },
  {
   "metadata": {},
   "cell_type": "markdown",
   "source": "Part 1: generate rays",
   "id": "953f74b6ce99baf2"
  },
  {
   "metadata": {
    "ExecuteTime": {
     "end_time": "2024-10-19T06:34:57.304486Z",
     "start_time": "2024-10-19T06:34:55.316332Z"
    }
   },
   "cell_type": "code",
   "source": [
    "from nerfstudio.data.datamanagers.base_datamanager import VanillaDataManagerConfig, VanillaDataManager\n",
    "from nerfstudio.data.dataparsers.blender_dataparser import BlenderDataParserConfig\n",
    "from nerfstudio.cameras.rays import RayBundle\n",
    "from pathlib import Path\n",
    "import torch\n",
    "\n",
    "device = 'cuda:0' if torch.cuda.is_available() else 'cpu'\n",
    "config_datamanager : VanillaDataManagerConfig = VanillaDataManagerConfig(dataparser=BlenderDataParserConfig(), )\n",
    "config_datamanager.data = Path(\"../data/nerf_synthetic/lego\")\n",
    "datamanager: VanillaDataManager = config_datamanager.setup(device=device, test_mode='val', world_size=1, local_rank=0)"
   ],
   "id": "7ef884438fc6c7ac",
   "outputs": [
    {
     "data": {
      "text/plain": [
       "Setting up training dataset\u001B[33m...\u001B[0m\n"
      ],
      "text/html": [
       "<pre style=\"white-space:pre;overflow-x:auto;line-height:normal;font-family:Menlo,'DejaVu Sans Mono',consolas,'Courier New',monospace\">Setting up training dataset<span style=\"color: #808000; text-decoration-color: #808000\">...</span>\n",
       "</pre>\n"
      ]
     },
     "metadata": {},
     "output_type": "display_data"
    },
    {
     "data": {
      "text/plain": [
       "Caching all \u001B[1;36m100\u001B[0m images.\n"
      ],
      "text/html": [
       "<pre style=\"white-space:pre;overflow-x:auto;line-height:normal;font-family:Menlo,'DejaVu Sans Mono',consolas,'Courier New',monospace\">Caching all <span style=\"color: #008080; text-decoration-color: #008080; font-weight: bold\">100</span> images.\n",
       "</pre>\n"
      ]
     },
     "metadata": {},
     "output_type": "display_data"
    },
    {
     "data": {
      "text/plain": [
       "Output()"
      ],
      "application/vnd.jupyter.widget-view+json": {
       "version_major": 2,
       "version_minor": 0,
       "model_id": "32a3a8ecce9f41cfbcf399f5c06088e2"
      }
     },
     "metadata": {},
     "output_type": "display_data"
    },
    {
     "data": {
      "text/plain": [],
      "text/html": [
       "<pre style=\"white-space:pre;overflow-x:auto;line-height:normal;font-family:Menlo,'DejaVu Sans Mono',consolas,'Courier New',monospace\"></pre>\n"
      ]
     },
     "metadata": {},
     "output_type": "display_data"
    },
    {
     "data": {
      "text/plain": [
       "Setting up evaluation dataset\u001B[33m...\u001B[0m\n"
      ],
      "text/html": [
       "<pre style=\"white-space:pre;overflow-x:auto;line-height:normal;font-family:Menlo,'DejaVu Sans Mono',consolas,'Courier New',monospace\">Setting up evaluation dataset<span style=\"color: #808000; text-decoration-color: #808000\">...</span>\n",
       "</pre>\n"
      ]
     },
     "metadata": {},
     "output_type": "display_data"
    },
    {
     "data": {
      "text/plain": [
       "Caching all \u001B[1;36m100\u001B[0m images.\n"
      ],
      "text/html": [
       "<pre style=\"white-space:pre;overflow-x:auto;line-height:normal;font-family:Menlo,'DejaVu Sans Mono',consolas,'Courier New',monospace\">Caching all <span style=\"color: #008080; text-decoration-color: #008080; font-weight: bold\">100</span> images.\n",
       "</pre>\n"
      ]
     },
     "metadata": {},
     "output_type": "display_data"
    },
    {
     "data": {
      "text/plain": [
       "Output()"
      ],
      "application/vnd.jupyter.widget-view+json": {
       "version_major": 2,
       "version_minor": 0,
       "model_id": "580f347833e245abaeaf9033dde67a82"
      }
     },
     "metadata": {},
     "output_type": "display_data"
    },
    {
     "data": {
      "text/plain": [],
      "text/html": [
       "<pre style=\"white-space:pre;overflow-x:auto;line-height:normal;font-family:Menlo,'DejaVu Sans Mono',consolas,'Courier New',monospace\"></pre>\n"
      ]
     },
     "metadata": {},
     "output_type": "display_data"
    }
   ],
   "execution_count": 3
  },
  {
   "metadata": {
    "jupyter": {
     "is_executing": true
    },
    "ExecuteTime": {
     "start_time": "2024-10-19T07:14:10.153Z"
    }
   },
   "cell_type": "code",
   "source": [
    "ray_bundle: RayBundle\n",
    "ray_bundle, batch = datamanager.next_train(0)\n",
    "print(ray_bundle)\n",
    "print(batch['indices'])"
   ],
   "id": "9ac395192fa63bb4",
   "outputs": [],
   "execution_count": null
  },
  {
   "metadata": {},
   "cell_type": "markdown",
   "source": "Part 2: position encoding",
   "id": "5a4a84b5ec907f5a"
  },
  {
   "metadata": {
    "ExecuteTime": {
     "end_time": "2024-10-19T04:07:57.990473Z",
     "start_time": "2024-10-19T04:07:57.979708Z"
    }
   },
   "cell_type": "code",
   "source": "",
   "id": "1da1efad002f2973",
   "outputs": [],
   "execution_count": null
  }
 ],
 "metadata": {
  "kernelspec": {
   "display_name": "Python 3",
   "language": "python",
   "name": "python3"
  },
  "language_info": {
   "codemirror_mode": {
    "name": "ipython",
    "version": 2
   },
   "file_extension": ".py",
   "mimetype": "text/x-python",
   "name": "python",
   "nbconvert_exporter": "python",
   "pygments_lexer": "ipython2",
   "version": "2.7.6"
  }
 },
 "nbformat": 4,
 "nbformat_minor": 5
}
