{
 "cells": [
  {
   "metadata": {},
   "cell_type": "markdown",
   "source": "Part 1: generate rays",
   "id": "953f74b6ce99baf2"
  },
  {
   "metadata": {},
   "cell_type": "code",
   "source": [
    "from nerfstudio.data.datamanagers.base_datamanager import VanillaDataManagerConfig, VanillaDataManager\n",
    "from nerfstudio.data.dataparsers.blender_dataparser import BlenderDataParserConfig\n",
    "from nerfstudio.cameras.rays import RayBundle\n",
    "from pathlib import Path\n",
    "import torch\n",
    "\n",
    "device = 'cuda:0' if torch.cuda.is_available() else 'cpu'\n",
    "config_datamanager : VanillaDataManagerConfig = VanillaDataManagerConfig(dataparser=BlenderDataParserConfig(), )\n",
    "config_datamanager.data = Path(\"../data/nerf_synthetic/lego\")\n",
    "datamanager: VanillaDataManager = config_datamanager.setup(device=device, test_mode='val', world_size=1, local_rank=0)"
   ],
   "id": "7ef884438fc6c7ac",
   "outputs": [],
   "execution_count": null
  },
  {
   "metadata": {},
   "cell_type": "code",
   "source": [
    "ray_bundle: RayBundle\n",
    "ray_bundle, batch = datamanager.next_train(0)\n",
    "print(ray_bundle)\n",
    "print(batch['indices'])"
   ],
   "id": "9ac395192fa63bb4",
   "outputs": [],
   "execution_count": null
  },
  {
   "metadata": {},
   "cell_type": "markdown",
   "source": "Part 2: position encoding",
   "id": "5a4a84b5ec907f5a"
  }
 ],
 "metadata": {
  "kernelspec": {
   "display_name": "Python 3",
   "language": "python",
   "name": "python3"
  },
  "language_info": {
   "codemirror_mode": {
    "name": "ipython",
    "version": 2
   },
   "file_extension": ".py",
   "mimetype": "text/x-python",
   "name": "python",
   "nbconvert_exporter": "python",
   "pygments_lexer": "ipython2",
   "version": "2.7.6"
  }
 },
 "nbformat": 4,
 "nbformat_minor": 5
}
