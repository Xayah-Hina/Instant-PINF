{
 "cells": [
  {
   "cell_type": "code",
   "id": "initial_id",
   "metadata": {
    "collapsed": true,
    "jupyter": {
     "is_executing": true
    },
    "ExecuteTime": {
     "start_time": "2024-10-23T07:13:26.142557Z"
    }
   },
   "source": [
    "from datamanager import PINFDataParser, PINFDataParserConfig\n",
    "import pathlib\n",
    "\n",
    "parser_config = PINFDataParserConfig(data=pathlib.Path(\"../data/ScalarReal\"))\n",
    "parser: PINFDataParser = parser_config.setup()\n",
    "parser.get_dataparser_outputs()"
   ],
   "outputs": [],
   "execution_count": null
  }
 ],
 "metadata": {
  "kernelspec": {
   "display_name": "Python 3",
   "language": "python",
   "name": "python3"
  },
  "language_info": {
   "codemirror_mode": {
    "name": "ipython",
    "version": 2
   },
   "file_extension": ".py",
   "mimetype": "text/x-python",
   "name": "python",
   "nbconvert_exporter": "python",
   "pygments_lexer": "ipython2",
   "version": "2.7.6"
  }
 },
 "nbformat": 4,
 "nbformat_minor": 5
}
