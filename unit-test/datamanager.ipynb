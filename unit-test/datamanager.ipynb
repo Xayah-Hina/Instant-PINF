{
 "cells": [
  {
   "metadata": {
    "ExecuteTime": {
     "end_time": "2024-10-27T10:17:15.156008Z",
     "start_time": "2024-10-27T10:17:15.151239Z"
    }
   },
   "cell_type": "code",
   "source": [
    "import argparse\n",
    "\n",
    "args = {\n",
    "    'config': 'configs/scalarflowreal.txt',\n",
    "    'expname': 'exp_real/density_256_128',\n",
    "    'basedir': './logs',\n",
    "    'datadir': './data/ScalarReal',\n",
    "    'encoder': 'ingp',\n",
    "    'N_rand': 256,\n",
    "    'N_time': 1,\n",
    "    'lrate': 0.01,\n",
    "    'lrate_decay': 100000,\n",
    "    'N_iters': 300000,\n",
    "    'no_reload': False,\n",
    "    'ft_path': None,\n",
    "    'N_samples': 192,\n",
    "    'perturb': 1.0,\n",
    "    'render_only': False,\n",
    "    'half_res': True,\n",
    "    'i_print': 100,\n",
    "    'i_weights': 100000,\n",
    "    'i_video': 100000,\n",
    "    'finest_resolution': 256,\n",
    "    'finest_resolution_t': 128,\n",
    "    'num_levels': 16,\n",
    "    'base_resolution': 16,\n",
    "    'base_resolution_t': 16,\n",
    "    'log2_hashmap_size': 19,\n",
    "    'feats_dim': 36,\n",
    "    'tv_loss_weight': 1e-06\n",
    "}\n",
    "args = argparse.Namespace(**args)"
   ],
   "id": "213051aade3e721e",
   "outputs": [],
   "execution_count": 3
  },
  {
   "metadata": {
    "ExecuteTime": {
     "end_time": "2024-10-27T10:45:33.077990Z",
     "start_time": "2024-10-27T10:44:33.614292Z"
    }
   },
   "cell_type": "code",
   "source": [
    "from datamanager import PINFDataParserConfig, PINFNeRFDataManager, PINFNeRFDataManagerConfig\n",
    "import pathlib\n",
    "import torch\n",
    "\n",
    "device = torch.device(\"cuda\" if torch.cuda.is_available() else \"cpu\")\n",
    "config_datamanager: PINFNeRFDataManagerConfig = PINFNeRFDataManagerConfig(dataparser=PINFDataParserConfig(), )\n",
    "config_datamanager.dataparser.data = pathlib.Path(\"../data/ScalarReal\")\n",
    "datamanager: PINFNeRFDataManager = config_datamanager.setup(device=device)\n",
    "\n",
    "_ = datamanager.dataparser.get_dataparser_outputs()"
   ],
   "id": "db2e4e331a109de9",
   "outputs": [
    {
     "name": "stdout",
     "output_type": "stream",
     "text": [
      "Jupyter environment detected. Enabling Open3D WebVisualizer.\n",
      "[Open3D INFO] WebRTC GUI backend enabled.\n",
      "[Open3D INFO] WebRTCWindowSystem: HTTP handshake server disabled.\n"
     ]
    },
    {
     "data": {
      "text/plain": [
       "Setting up training dataset\u001B[33m...\u001B[0m\n"
      ],
      "text/html": [
       "<pre style=\"white-space:pre;overflow-x:auto;line-height:normal;font-family:Menlo,'DejaVu Sans Mono',consolas,'Courier New',monospace\">Setting up training dataset<span style=\"color: #808000; text-decoration-color: #808000\">...</span>\n",
       "</pre>\n"
      ]
     },
     "metadata": {},
     "output_type": "display_data"
    },
    {
     "data": {
      "text/plain": [
       "Setting up evaluation dataset\u001B[33m...\u001B[0m\n"
      ],
      "text/html": [
       "<pre style=\"white-space:pre;overflow-x:auto;line-height:normal;font-family:Menlo,'DejaVu Sans Mono',consolas,'Courier New',monospace\">Setting up evaluation dataset<span style=\"color: #808000; text-decoration-color: #808000\">...</span>\n",
       "</pre>\n"
      ]
     },
     "metadata": {},
     "output_type": "display_data"
    }
   ],
   "execution_count": 1
  }
 ],
 "metadata": {
  "kernelspec": {
   "display_name": "Python 3",
   "language": "python",
   "name": "python3"
  },
  "language_info": {
   "codemirror_mode": {
    "name": "ipython",
    "version": 2
   },
   "file_extension": ".py",
   "mimetype": "text/x-python",
   "name": "python",
   "nbconvert_exporter": "python",
   "pygments_lexer": "ipython2",
   "version": "2.7.6"
  }
 },
 "nbformat": 4,
 "nbformat_minor": 5
}
