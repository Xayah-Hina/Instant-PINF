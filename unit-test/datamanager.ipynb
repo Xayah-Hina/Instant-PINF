{
 "cells": [
  {
   "metadata": {
    "ExecuteTime": {
     "end_time": "2024-10-28T09:44:46.839547Z",
     "start_time": "2024-10-28T09:44:46.833242Z"
    }
   },
   "cell_type": "code",
   "source": [
    "import argparse\n",
    "\n",
    "args = {\n",
    "    'config': 'configs/scalarflowreal.txt',\n",
    "    'expname': 'exp_real/density_256_128',\n",
    "    'basedir': './logs',\n",
    "    'datadir': './data/ScalarReal',\n",
    "    'encoder': 'ingp',\n",
    "    'N_rand': 256,\n",
    "    'N_time': 1,\n",
    "    'lrate': 0.01,\n",
    "    'lrate_decay': 100000,\n",
    "    'N_iters': 300000,\n",
    "    'no_reload': False,\n",
    "    'ft_path': None,\n",
    "    'N_samples': 192,\n",
    "    'perturb': 1.0,\n",
    "    'render_only': False,\n",
    "    'half_res': True,\n",
    "    'i_print': 100,\n",
    "    'i_weights': 100000,\n",
    "    'i_video': 100000,\n",
    "    'finest_resolution': 256,\n",
    "    'finest_resolution_t': 128,\n",
    "    'num_levels': 16,\n",
    "    'base_resolution': 16,\n",
    "    'base_resolution_t': 16,\n",
    "    'log2_hashmap_size': 19,\n",
    "    'feats_dim': 36,\n",
    "    'tv_loss_weight': 1e-06\n",
    "}\n",
    "args = argparse.Namespace(**args)"
   ],
   "id": "213051aade3e721e",
   "outputs": [],
   "execution_count": 1
  },
  {
   "metadata": {
    "ExecuteTime": {
     "end_time": "2024-10-28T09:45:25.378452Z",
     "start_time": "2024-10-28T09:44:46.852974Z"
    }
   },
   "cell_type": "code",
   "source": [
    "from datamanager import PINFDataParserConfig, PINFNeRFDataManager, PINFNeRFDataManagerConfig\n",
    "import pathlib\n",
    "import torch\n",
    "\n",
    "device = torch.device(\"cuda\" if torch.cuda.is_available() else \"cpu\")\n",
    "config_datamanager: PINFNeRFDataManagerConfig = PINFNeRFDataManagerConfig(dataparser=PINFDataParserConfig(), )\n",
    "config_datamanager.dataparser.data = pathlib.Path(\"../data/ScalarReal\")\n",
    "datamanager: PINFNeRFDataManager = config_datamanager.setup(device=device)"
   ],
   "id": "db2e4e331a109de9",
   "outputs": [
    {
     "name": "stdout",
     "output_type": "stream",
     "text": [
      "Jupyter environment detected. Enabling Open3D WebVisualizer.\n",
      "[Open3D INFO] WebRTC GUI backend enabled.\n",
      "[Open3D INFO] WebRTCWindowSystem: HTTP handshake server disabled.\n"
     ]
    },
    {
     "data": {
      "text/plain": [
       "Caching all \u001B[1;36m480\u001B[0m images.\n"
      ],
      "text/html": [
       "<pre style=\"white-space:pre;overflow-x:auto;line-height:normal;font-family:Menlo,'DejaVu Sans Mono',consolas,'Courier New',monospace\">Caching all <span style=\"color: #008080; text-decoration-color: #008080; font-weight: bold\">480</span> images.\n",
       "</pre>\n"
      ]
     },
     "metadata": {},
     "output_type": "display_data"
    },
    {
     "data": {
      "text/plain": [
       "Output()"
      ],
      "application/vnd.jupyter.widget-view+json": {
       "version_major": 2,
       "version_minor": 0,
       "model_id": "6442a0201d8540989b43ee7a3057be48"
      }
     },
     "metadata": {},
     "output_type": "display_data"
    },
    {
     "data": {
      "text/plain": [],
      "text/html": [
       "<pre style=\"white-space:pre;overflow-x:auto;line-height:normal;font-family:Menlo,'DejaVu Sans Mono',consolas,'Courier New',monospace\"></pre>\n"
      ]
     },
     "metadata": {},
     "output_type": "display_data"
    },
    {
     "data": {
      "text/plain": [
       "Caching all \u001B[1;36m120\u001B[0m images.\n"
      ],
      "text/html": [
       "<pre style=\"white-space:pre;overflow-x:auto;line-height:normal;font-family:Menlo,'DejaVu Sans Mono',consolas,'Courier New',monospace\">Caching all <span style=\"color: #008080; text-decoration-color: #008080; font-weight: bold\">120</span> images.\n",
       "</pre>\n"
      ]
     },
     "metadata": {},
     "output_type": "display_data"
    },
    {
     "data": {
      "text/plain": [
       "Output()"
      ],
      "application/vnd.jupyter.widget-view+json": {
       "version_major": 2,
       "version_minor": 0,
       "model_id": "3f4976e18678449889ddf44cca05c815"
      }
     },
     "metadata": {},
     "output_type": "display_data"
    },
    {
     "data": {
      "text/plain": [],
      "text/html": [
       "<pre style=\"white-space:pre;overflow-x:auto;line-height:normal;font-family:Menlo,'DejaVu Sans Mono',consolas,'Courier New',monospace\"></pre>\n"
      ]
     },
     "metadata": {},
     "output_type": "display_data"
    }
   ],
   "execution_count": 2
  },
  {
   "metadata": {
    "ExecuteTime": {
     "end_time": "2024-10-28T09:46:32.560028Z",
     "start_time": "2024-10-28T09:46:32.551433Z"
    }
   },
   "cell_type": "code",
   "source": [
    "ray_bundle, batch = datamanager.next_train()\n",
    "print(batch.keys())"
   ],
   "id": "4f14e97113e6b07d",
   "outputs": [
    {
     "name": "stdout",
     "output_type": "stream",
     "text": [
      "dict_keys(['image', 'indices'])\n"
     ]
    }
   ],
   "execution_count": 6
  }
 ],
 "metadata": {
  "kernelspec": {
   "display_name": "Python 3",
   "language": "python",
   "name": "python3"
  },
  "language_info": {
   "codemirror_mode": {
    "name": "ipython",
    "version": 2
   },
   "file_extension": ".py",
   "mimetype": "text/x-python",
   "name": "python",
   "nbconvert_exporter": "python",
   "pygments_lexer": "ipython2",
   "version": "2.7.6"
  }
 },
 "nbformat": 4,
 "nbformat_minor": 5
}
