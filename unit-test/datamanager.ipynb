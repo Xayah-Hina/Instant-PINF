{
 "cells": [
  {
   "cell_type": "code",
   "id": "initial_id",
   "metadata": {
    "collapsed": true
   },
   "source": [
    "from nerfstudio.data.datamanagers.base_datamanager import VanillaDataManagerConfig, VanillaDataManager\n",
    "\n"
   ],
   "outputs": [],
   "execution_count": null
  },
  {
   "metadata": {},
   "cell_type": "code",
   "source": [
    "from nerfstudio.engine.trainer import TrainerConfig\n",
    "from nerfstudio.engine.optimizers import AdamOptimizerConfig\n",
    "from nerfstudio.engine.schedulers import ExponentialDecaySchedulerConfig\n",
    "from nerfstudio.data.dataparsers.nerfstudio_dataparser import NerfstudioDataParserConfig\n",
    "from nerfstudio.data.dataparsers.blender_dataparser import BlenderDataParserConfig\n",
    "from nerfstudio.pipelines.dynamic_batch import DynamicBatchPipelineConfig\n",
    "from nerfstudio.models.instant_ngp import InstantNGPModelConfig\n",
    "from nerfstudio.configs.base_config import ViewerConfig\n",
    "from pathlib import Path\n",
    "\n",
    "trainer_config = TrainerConfig(\n",
    "    method_name=\"instant-ngp\",\n",
    "    steps_per_eval_batch=500,\n",
    "    steps_per_save=2000,\n",
    "    max_num_iterations=30000,\n",
    "    mixed_precision=True,\n",
    "    pipeline=DynamicBatchPipelineConfig(\n",
    "        datamanager=VanillaDataManagerConfig(\n",
    "            dataparser=BlenderDataParserConfig(),\n",
    "        ),\n",
    "        model=InstantNGPModelConfig(eval_num_rays_per_chunk=8192),\n",
    "    ),\n",
    "    optimizers={\n",
    "        \"fields\": {\n",
    "            \"optimizer\": AdamOptimizerConfig(lr=1e-2, eps=1e-15),\n",
    "            \"scheduler\": ExponentialDecaySchedulerConfig(lr_final=0.0001, max_steps=200000),\n",
    "        }\n",
    "    },\n",
    "    viewer=ViewerConfig(num_rays_per_chunk=1 << 12),\n",
    "    vis=\"viewer\",\n",
    ")\n",
    "\n",
    "trainer_config.vis = \"viewer\"\n",
    "trainer_config.pipeline.datamanager.data = Path(\"../data/nerf_synthetic/lego\")\n",
    "trainer_config.set_timestamp()\n",
    "trainer_config.save_config()\n",
    "\n",
    "trainer = trainer_config.setup(local_rank=0, world_size=1)\n",
    "trainer.setup()\n",
    "trainer.train()"
   ],
   "id": "42fa8aff38f23846",
   "outputs": [
    {
     "data": {
      "text/plain": [
       "\u001B[1m(\u001B[0m\u001B[1mviser\u001B[0m\u001B[1m)\u001B[0m Connection opened \u001B[1m(\u001B[0m\u001B[1;36m4\u001B[0m, \u001B[1;36m1\u001B[0m total\u001B[1m)\u001B[0m, \u001B[1;36m619\u001B[0m persistent messages\n"
      ],
      "text/html": [
       "<pre style=\"white-space:pre;overflow-x:auto;line-height:normal;font-family:Menlo,'DejaVu Sans Mono',consolas,'Courier New',monospace\"><span style=\"font-weight: bold\">(viser)</span> Connection opened <span style=\"font-weight: bold\">(</span><span style=\"color: #008080; text-decoration-color: #008080; font-weight: bold\">4</span>, <span style=\"color: #008080; text-decoration-color: #008080; font-weight: bold\">1</span> total<span style=\"font-weight: bold\">)</span>, <span style=\"color: #008080; text-decoration-color: #008080; font-weight: bold\">619</span> persistent messages\n",
       "</pre>\n"
      ]
     },
     "metadata": {},
     "output_type": "display_data"
    },
    {
     "data": {
      "text/plain": [
       "\u001B[1m(\u001B[0m\u001B[1mviser\u001B[0m\u001B[1m)\u001B[0m Connection closed \u001B[1m(\u001B[0m\u001B[1;36m4\u001B[0m, \u001B[1;36m0\u001B[0m total\u001B[1m)\u001B[0m\n"
      ],
      "text/html": [
       "<pre style=\"white-space:pre;overflow-x:auto;line-height:normal;font-family:Menlo,'DejaVu Sans Mono',consolas,'Courier New',monospace\"><span style=\"font-weight: bold\">(viser)</span> Connection closed <span style=\"font-weight: bold\">(</span><span style=\"color: #008080; text-decoration-color: #008080; font-weight: bold\">4</span>, <span style=\"color: #008080; text-decoration-color: #008080; font-weight: bold\">0</span> total<span style=\"font-weight: bold\">)</span>\n",
       "</pre>\n"
      ]
     },
     "metadata": {},
     "output_type": "display_data"
    },
    {
     "ename": "KeyboardInterrupt",
     "evalue": "",
     "output_type": "error",
     "traceback": [
      "\u001B[1;31m---------------------------------------------------------------------------\u001B[0m",
      "\u001B[1;31mKeyboardInterrupt\u001B[0m                         Traceback (most recent call last)",
      "Cell \u001B[1;32mIn[2], line 40\u001B[0m\n\u001B[0;32m     38\u001B[0m trainer \u001B[38;5;241m=\u001B[39m trainer_config\u001B[38;5;241m.\u001B[39msetup(local_rank\u001B[38;5;241m=\u001B[39m\u001B[38;5;241m0\u001B[39m, world_size\u001B[38;5;241m=\u001B[39m\u001B[38;5;241m1\u001B[39m)\n\u001B[0;32m     39\u001B[0m trainer\u001B[38;5;241m.\u001B[39msetup()\n\u001B[1;32m---> 40\u001B[0m \u001B[43mtrainer\u001B[49m\u001B[38;5;241;43m.\u001B[39;49m\u001B[43mtrain\u001B[49m\u001B[43m(\u001B[49m\u001B[43m)\u001B[49m\n",
      "File \u001B[1;32m~\\Desktop\\HinaPE-AI\\PINF\\venv\\Lib\\site-packages\\nerfstudio\\engine\\trainer.py:306\u001B[0m, in \u001B[0;36mTrainer.train\u001B[1;34m(self)\u001B[0m\n\u001B[0;32m    303\u001B[0m         writer\u001B[38;5;241m.\u001B[39mwrite_out_storage()\n\u001B[0;32m    305\u001B[0m \u001B[38;5;66;03m# save checkpoint at the end of training, and write out any remaining events\u001B[39;00m\n\u001B[1;32m--> 306\u001B[0m \u001B[38;5;28;43mself\u001B[39;49m\u001B[38;5;241;43m.\u001B[39;49m\u001B[43m_after_train\u001B[49m\u001B[43m(\u001B[49m\u001B[43m)\u001B[49m\n",
      "File \u001B[1;32m~\\Desktop\\HinaPE-AI\\PINF\\venv\\Lib\\site-packages\\nerfstudio\\engine\\trainer.py:340\u001B[0m, in \u001B[0;36mTrainer._after_train\u001B[1;34m(self)\u001B[0m\n\u001B[0;32m    337\u001B[0m     callback\u001B[38;5;241m.\u001B[39mrun_callback_at_location(step\u001B[38;5;241m=\u001B[39m\u001B[38;5;28mself\u001B[39m\u001B[38;5;241m.\u001B[39mstep, location\u001B[38;5;241m=\u001B[39mTrainingCallbackLocation\u001B[38;5;241m.\u001B[39mAFTER_TRAIN)\n\u001B[0;32m    339\u001B[0m \u001B[38;5;28;01mif\u001B[39;00m \u001B[38;5;129;01mnot\u001B[39;00m \u001B[38;5;28mself\u001B[39m\u001B[38;5;241m.\u001B[39mconfig\u001B[38;5;241m.\u001B[39mviewer\u001B[38;5;241m.\u001B[39mquit_on_train_completion:\n\u001B[1;32m--> 340\u001B[0m     \u001B[38;5;28;43mself\u001B[39;49m\u001B[38;5;241;43m.\u001B[39;49m\u001B[43m_train_complete_viewer\u001B[49m\u001B[43m(\u001B[49m\u001B[43m)\u001B[49m\n",
      "File \u001B[1;32m~\\Desktop\\HinaPE-AI\\PINF\\venv\\Lib\\site-packages\\nerfstudio\\utils\\decorators.py:58\u001B[0m, in \u001B[0;36mcheck_viewer_enabled.<locals>.wrapper\u001B[1;34m(self, *args, **kwargs)\u001B[0m\n\u001B[0;32m     56\u001B[0m ret \u001B[38;5;241m=\u001B[39m \u001B[38;5;28;01mNone\u001B[39;00m\n\u001B[0;32m     57\u001B[0m \u001B[38;5;28;01mif\u001B[39;00m (\u001B[38;5;28mself\u001B[39m\u001B[38;5;241m.\u001B[39mconfig\u001B[38;5;241m.\u001B[39mis_viewer_enabled() \u001B[38;5;129;01mor\u001B[39;00m \u001B[38;5;28mself\u001B[39m\u001B[38;5;241m.\u001B[39mconfig\u001B[38;5;241m.\u001B[39mis_viewer_legacy_enabled()) \u001B[38;5;129;01mand\u001B[39;00m comms\u001B[38;5;241m.\u001B[39mis_main_process():\n\u001B[1;32m---> 58\u001B[0m     ret \u001B[38;5;241m=\u001B[39m \u001B[43mfunc\u001B[49m\u001B[43m(\u001B[49m\u001B[38;5;28;43mself\u001B[39;49m\u001B[43m,\u001B[49m\u001B[43m \u001B[49m\u001B[38;5;241;43m*\u001B[39;49m\u001B[43margs\u001B[49m\u001B[43m,\u001B[49m\u001B[43m \u001B[49m\u001B[38;5;241;43m*\u001B[39;49m\u001B[38;5;241;43m*\u001B[39;49m\u001B[43mkwargs\u001B[49m\u001B[43m)\u001B[49m\n\u001B[0;32m     59\u001B[0m \u001B[38;5;28;01mreturn\u001B[39;00m ret\n",
      "File \u001B[1;32m~\\Desktop\\HinaPE-AI\\PINF\\venv\\Lib\\site-packages\\nerfstudio\\engine\\trainer.py:395\u001B[0m, in \u001B[0;36mTrainer._train_complete_viewer\u001B[1;34m(self)\u001B[0m\n\u001B[0;32m    393\u001B[0m CONSOLE\u001B[38;5;241m.\u001B[39mprint(\u001B[38;5;124m\"\u001B[39m\u001B[38;5;124mUse ctrl+c to quit\u001B[39m\u001B[38;5;124m\"\u001B[39m, justify\u001B[38;5;241m=\u001B[39m\u001B[38;5;124m\"\u001B[39m\u001B[38;5;124mcenter\u001B[39m\u001B[38;5;124m\"\u001B[39m)\n\u001B[0;32m    394\u001B[0m \u001B[38;5;28;01mwhile\u001B[39;00m \u001B[38;5;28;01mTrue\u001B[39;00m:\n\u001B[1;32m--> 395\u001B[0m     time\u001B[38;5;241m.\u001B[39msleep(\u001B[38;5;241m0.01\u001B[39m)\n",
      "\u001B[1;31mKeyboardInterrupt\u001B[0m: "
     ]
    }
   ],
   "execution_count": 2
  },
  {
   "metadata": {},
   "cell_type": "code",
   "outputs": [],
   "execution_count": null,
   "source": "",
   "id": "2940724c11efa118"
  }
 ],
 "metadata": {
  "kernelspec": {
   "display_name": "Python 3",
   "language": "python",
   "name": "python3"
  },
  "language_info": {
   "codemirror_mode": {
    "name": "ipython",
    "version": 2
   },
   "file_extension": ".py",
   "mimetype": "text/x-python",
   "name": "python",
   "nbconvert_exporter": "python",
   "pygments_lexer": "ipython2",
   "version": "2.7.6"
  }
 },
 "nbformat": 4,
 "nbformat_minor": 5
}
