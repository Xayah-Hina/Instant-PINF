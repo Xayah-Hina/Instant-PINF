{
 "cells": [
  {
   "metadata": {
    "ExecuteTime": {
     "end_time": "2024-10-29T06:32:00.901602Z",
     "start_time": "2024-10-29T06:32:00.853125Z"
    }
   },
   "cell_type": "code",
   "source": [
    "import argparse\n",
    "\n",
    "args = {\n",
    "    'config': 'configs/scalarflowreal.txt',\n",
    "    'expname': 'exp_real/density_256_128',\n",
    "    'basedir': './logs',\n",
    "    'datadir': './data/ScalarReal',\n",
    "    'encoder': 'ingp',\n",
    "    'N_rand': 256,\n",
    "    'N_time': 1,\n",
    "    'lrate': 0.01,\n",
    "    'lrate_decay': 100000,\n",
    "    'N_iters': 300000,\n",
    "    'no_reload': False,\n",
    "    'ft_path': None,\n",
    "    'N_samples': 192,\n",
    "    'perturb': 1.0,\n",
    "    'render_only': False,\n",
    "    'half_res': True,\n",
    "    'i_print': 100,\n",
    "    'i_weights': 100000,\n",
    "    'i_video': 100000,\n",
    "    'finest_resolution': 256,\n",
    "    'finest_resolution_t': 128,\n",
    "    'num_levels': 16,\n",
    "    'base_resolution': 16,\n",
    "    'base_resolution_t': 16,\n",
    "    'log2_hashmap_size': 19,\n",
    "    'feats_dim': 36,\n",
    "    'tv_loss_weight': 1e-06\n",
    "}\n",
    "args = argparse.Namespace(**args)"
   ],
   "id": "213051aade3e721e",
   "outputs": [],
   "execution_count": 24
  },
  {
   "metadata": {
    "ExecuteTime": {
     "end_time": "2024-10-29T06:32:57.036239Z",
     "start_time": "2024-10-29T06:32:00.908850Z"
    }
   },
   "cell_type": "code",
   "source": [
    "from datamanager import PINFDataParserConfig, PINFNeRFDataManager, PINFNeRFDataManagerConfig\n",
    "import pathlib\n",
    "import torch\n",
    "\n",
    "device = torch.device(\"cuda\" if torch.cuda.is_available() else \"cpu\")\n",
    "config_datamanager: PINFNeRFDataManagerConfig = PINFNeRFDataManagerConfig(dataparser=PINFDataParserConfig(), )\n",
    "config_datamanager.dataparser.data = pathlib.Path(\"../data/ScalarReal\")\n",
    "datamanager: PINFNeRFDataManager = config_datamanager.setup(device=device)"
   ],
   "id": "db2e4e331a109de9",
   "outputs": [
    {
     "data": {
      "text/plain": [
       "Caching all \u001B[1;36m480\u001B[0m images.\n"
      ],
      "text/html": [
       "<pre style=\"white-space:pre;overflow-x:auto;line-height:normal;font-family:Menlo,'DejaVu Sans Mono',consolas,'Courier New',monospace\">Caching all <span style=\"color: #008080; text-decoration-color: #008080; font-weight: bold\">480</span> images.\n",
       "</pre>\n"
      ]
     },
     "metadata": {},
     "output_type": "display_data"
    },
    {
     "data": {
      "text/plain": [
       "Output()"
      ],
      "application/vnd.jupyter.widget-view+json": {
       "version_major": 2,
       "version_minor": 0,
       "model_id": "b1e754a9436e421997317ad00e871e25"
      }
     },
     "metadata": {},
     "output_type": "display_data"
    },
    {
     "data": {
      "text/plain": [],
      "text/html": [
       "<pre style=\"white-space:pre;overflow-x:auto;line-height:normal;font-family:Menlo,'DejaVu Sans Mono',consolas,'Courier New',monospace\"></pre>\n"
      ]
     },
     "metadata": {},
     "output_type": "display_data"
    },
    {
     "data": {
      "text/plain": [
       "Caching all \u001B[1;36m120\u001B[0m images.\n"
      ],
      "text/html": [
       "<pre style=\"white-space:pre;overflow-x:auto;line-height:normal;font-family:Menlo,'DejaVu Sans Mono',consolas,'Courier New',monospace\">Caching all <span style=\"color: #008080; text-decoration-color: #008080; font-weight: bold\">120</span> images.\n",
       "</pre>\n"
      ]
     },
     "metadata": {},
     "output_type": "display_data"
    },
    {
     "data": {
      "text/plain": [
       "Output()"
      ],
      "application/vnd.jupyter.widget-view+json": {
       "version_major": 2,
       "version_minor": 0,
       "model_id": "d5413e6468fe4248854ab3c6ae40db79"
      }
     },
     "metadata": {},
     "output_type": "display_data"
    },
    {
     "data": {
      "text/plain": [],
      "text/html": [
       "<pre style=\"white-space:pre;overflow-x:auto;line-height:normal;font-family:Menlo,'DejaVu Sans Mono',consolas,'Courier New',monospace\"></pre>\n"
      ]
     },
     "metadata": {},
     "output_type": "display_data"
    }
   ],
   "execution_count": 25
  },
  {
   "metadata": {
    "ExecuteTime": {
     "end_time": "2024-10-29T06:32:57.251098Z",
     "start_time": "2024-10-29T06:32:57.174102Z"
    }
   },
   "cell_type": "code",
   "source": [
    "ray_bundle, batch = datamanager.next_train()\n",
    "print(batch.keys())"
   ],
   "id": "4f14e97113e6b07d",
   "outputs": [
    {
     "name": "stdout",
     "output_type": "stream",
     "text": [
      "dict_keys(['image', 'indices'])\n"
     ]
    }
   ],
   "execution_count": 26
  },
  {
   "metadata": {
    "ExecuteTime": {
     "end_time": "2024-10-29T06:32:57.512076Z",
     "start_time": "2024-10-29T06:32:57.502657Z"
    }
   },
   "cell_type": "code",
   "source": [
    "from nerfstudio.data.utils.dataloaders import FixedIndicesEvalDataloader, RandIndicesEvalDataloader\n",
    "import matplotlib.pyplot as plt\n",
    "\n",
    "fixed_indices_eval_dataloader = FixedIndicesEvalDataloader(input_dataset=datamanager.train_dataset)\n",
    "eval_dataloader = RandIndicesEvalDataloader(input_dataset=datamanager.train_dataset)"
   ],
   "id": "bd66680be36fb3f6",
   "outputs": [],
   "execution_count": 27
  },
  {
   "metadata": {
    "ExecuteTime": {
     "end_time": "2024-10-29T06:32:57.984106Z",
     "start_time": "2024-10-29T06:32:57.590279Z"
    }
   },
   "cell_type": "code",
   "source": [
    "camera, batch = next(eval_dataloader)\n",
    "plt.imshow(batch['image'])"
   ],
   "id": "d449dc92afb817c6",
   "outputs": [
    {
     "data": {
      "text/plain": [
       "<matplotlib.image.AxesImage at 0x27093e432d0>"
      ]
     },
     "execution_count": 28,
     "metadata": {},
     "output_type": "execute_result"
    },
    {
     "data": {
      "text/plain": [
       "<Figure size 640x480 with 1 Axes>"
      ],
      "image/png": "[encoded data removed]"
     },
     "metadata": {},
     "output_type": "display_data"
    }
   ],
   "execution_count": 28
  },
  {
   "metadata": {
    "ExecuteTime": {
     "end_time": "2024-10-29T06:32:58.023739Z",
     "start_time": "2024-10-29T06:32:58.020903Z"
    }
   },
   "cell_type": "code",
   "source": "",
   "id": "eada325e35ad8cd5",
   "outputs": [],
   "execution_count": null
  }
 ],
 "metadata": {
  "kernelspec": {
   "display_name": "Python 3",
   "language": "python",
   "name": "python3"
  },
  "language_info": {
   "codemirror_mode": {
    "name": "ipython",
    "version": 2
   },
   "file_extension": ".py",
   "mimetype": "text/x-python",
   "name": "python",
   "nbconvert_exporter": "python",
   "pygments_lexer": "ipython2",
   "version": "2.7.6"
  }
 },
 "nbformat": 4,
 "nbformat_minor": 5
}
