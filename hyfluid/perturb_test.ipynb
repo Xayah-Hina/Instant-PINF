{
 "cells": [
  {
   "cell_type": "code",
   "id": "initial_id",
   "metadata": {
    "collapsed": true,
    "ExecuteTime": {
     "end_time": "2024-11-10T14:40:34.422924Z",
     "start_time": "2024-11-10T14:39:55.318047Z"
    }
   },
   "source": [
    "import datamanager\n",
    "import torch\n",
    "import pathlib\n",
    "\n",
    "config = datamanager.HyFluidNeRFDataManagerConfig(dataparser=datamanager.HyFluidDataParserConfig())\n",
    "config.dataparser.data = pathlib.Path(\"../data/ScalarReal\")\n",
    "manager: datamanager.HyFluidNeRFDataManager = config.setup(device=torch.device(\"cuda\"))"
   ],
   "outputs": [
    {
     "name": "stdout",
     "output_type": "stream",
     "text": [
      "Jupyter environment detected. Enabling Open3D WebVisualizer.\n",
      "[Open3D INFO] WebRTC GUI backend enabled.\n",
      "[Open3D INFO] WebRTCWindowSystem: HTTP handshake server disabled.\n"
     ]
    },
    {
     "data": {
      "text/plain": [
       "Caching all \u001B[1;36m480\u001B[0m images.\n"
      ],
      "text/html": [
       "<pre style=\"white-space:pre;overflow-x:auto;line-height:normal;font-family:Menlo,'DejaVu Sans Mono',consolas,'Courier New',monospace\">Caching all <span style=\"color: #008080; text-decoration-color: #008080; font-weight: bold\">480</span> images.\n",
       "</pre>\n"
      ]
     },
     "metadata": {},
     "output_type": "display_data"
    },
    {
     "data": {
      "text/plain": [
       "Output()"
      ],
      "application/vnd.jupyter.widget-view+json": {
       "version_major": 2,
       "version_minor": 0,
       "model_id": "22494d0d81a940db891efe8c4bd3f35a"
      }
     },
     "metadata": {},
     "output_type": "display_data"
    },
    {
     "data": {
      "text/plain": [],
      "text/html": [
       "<pre style=\"white-space:pre;overflow-x:auto;line-height:normal;font-family:Menlo,'DejaVu Sans Mono',consolas,'Courier New',monospace\"></pre>\n"
      ]
     },
     "metadata": {},
     "output_type": "display_data"
    },
    {
     "data": {
      "text/plain": [
       "Caching all \u001B[1;36m120\u001B[0m images.\n"
      ],
      "text/html": [
       "<pre style=\"white-space:pre;overflow-x:auto;line-height:normal;font-family:Menlo,'DejaVu Sans Mono',consolas,'Courier New',monospace\">Caching all <span style=\"color: #008080; text-decoration-color: #008080; font-weight: bold\">120</span> images.\n",
       "</pre>\n"
      ]
     },
     "metadata": {},
     "output_type": "display_data"
    },
    {
     "data": {
      "text/plain": [
       "Output()"
      ],
      "application/vnd.jupyter.widget-view+json": {
       "version_major": 2,
       "version_minor": 0,
       "model_id": "2b4dadf55c6c4e96b010db846de2cdfc"
      }
     },
     "metadata": {},
     "output_type": "display_data"
    },
    {
     "data": {
      "text/plain": [],
      "text/html": [
       "<pre style=\"white-space:pre;overflow-x:auto;line-height:normal;font-family:Menlo,'DejaVu Sans Mono',consolas,'Courier New',monospace\"></pre>\n"
      ]
     },
     "metadata": {},
     "output_type": "display_data"
    }
   ],
   "execution_count": 1
  },
  {
   "metadata": {
    "ExecuteTime": {
     "end_time": "2024-11-09T11:43:06.325803Z",
     "start_time": "2024-11-09T11:43:05.486031Z"
    }
   },
   "cell_type": "code",
   "source": [
    "import copy\n",
    "manager.train_count += 1\n",
    "image_batch = next(manager.iter_train_image_dataloader)\n",
    "batch = manager.train_pixel_sampler.sample(image_batch)\n",
    "batch_copy = copy.deepcopy(batch)\n",
    "all_frames = manager.train_dataset.metadata['all_frames']\n",
    "datamanager.perturb_frames_sample(image_batch, all_frames, batch)"
   ],
   "id": "4b17a18814c16cb3",
   "outputs": [],
   "execution_count": 16
  },
  {
   "metadata": {
    "ExecuteTime": {
     "end_time": "2024-11-09T11:43:08.136011Z",
     "start_time": "2024-11-09T11:43:08.119744Z"
    }
   },
   "cell_type": "code",
   "source": "torch.max(torch.norm(batch_copy['image'] - batch['image'], dim=1))",
   "id": "3699cb07f6a39371",
   "outputs": [
    {
     "data": {
      "text/plain": [
       "tensor(0.1925)"
      ]
     },
     "execution_count": 18,
     "metadata": {},
     "output_type": "execute_result"
    }
   ],
   "execution_count": 18
  },
  {
   "metadata": {
    "ExecuteTime": {
     "end_time": "2024-11-09T11:36:05.377983Z",
     "start_time": "2024-11-09T11:36:05.366309Z"
    }
   },
   "cell_type": "code",
   "source": "batch_copy['indices']",
   "id": "9cb385d9434964b0",
   "outputs": [
    {
     "data": {
      "text/plain": [
       "tensor([[ 212, 1133,  543],\n",
       "        [ 213,  732,  375],\n",
       "        [ 177, 1250,  612],\n",
       "        ...,\n",
       "        [  88,  768,  519],\n",
       "        [ 253, 1233,  390],\n",
       "        [ 304,  910, 1027]])"
      ]
     },
     "execution_count": 11,
     "metadata": {},
     "output_type": "execute_result"
    }
   ],
   "execution_count": 11
  },
  {
   "metadata": {
    "ExecuteTime": {
     "end_time": "2024-11-09T11:35:21.522703Z",
     "start_time": "2024-11-09T11:35:21.509817Z"
    }
   },
   "cell_type": "code",
   "source": "batch['indices']",
   "id": "e7ab029f359ece16",
   "outputs": [
    {
     "data": {
      "text/plain": [
       "tensor([[ 212.2123, 1133.0000,  543.0000],\n",
       "        [ 212.9226,  732.0000,  375.0000],\n",
       "        [ 177.2008, 1250.0000,  612.0000],\n",
       "        ...,\n",
       "        [  87.7497,  768.0000,  519.0000],\n",
       "        [ 253.1201, 1233.0000,  390.0000],\n",
       "        [ 304.3980,  910.0000, 1027.0000]])"
      ]
     },
     "execution_count": 10,
     "metadata": {},
     "output_type": "execute_result"
    }
   ],
   "execution_count": 10
  },
  {
   "metadata": {
    "ExecuteTime": {
     "end_time": "2024-11-09T10:20:28.495787Z",
     "start_time": "2024-11-09T10:20:28.289540Z"
    }
   },
   "cell_type": "code",
   "source": [
    "from matplotlib import pyplot as plt\n",
    "\n",
    "print(image_batch['image_idx'].shape)\n",
    "print(image_batch['image'].shape)\n",
    "\n",
    "sample = image_batch['image'][0]\n",
    "height, width, channels = sample.shape\n",
    "sample_idx = torch.zeros((height, width, channels))\n",
    "sample_idx[..., 0] = image_batch['image_idx'][0]\n",
    "sample_idx[..., 1] = torch.arange(height).view(-1, 1).expand(-1, width)\n",
    "sample_idx[..., 2] = torch.arange(width).expand(height, -1)\n",
    "\n",
    "plt.imshow(sample)\n",
    "plt.axis('off')\n",
    "\n",
    "sample_flat = sample.reshape(-1, 3)\n",
    "sample_idx_flat = sample_idx.reshape(-1, 3)\n",
    "print(f'sample image: {image_batch[\"image_idx\"][0]}')\n",
    "print(f'sample shape: {sample.shape}')\n",
    "print(f'sample_flat shape: {sample_flat.shape}')\n",
    "print(f'sample_idx shape: {sample_idx.shape}')\n",
    "print(f'sample_idx_flat shape: {sample_idx_flat.shape}')"
   ],
   "id": "9617d646259f9170",
   "outputs": [
    {
     "name": "stdout",
     "output_type": "stream",
     "text": [
      "torch.Size([480])\n",
      "torch.Size([480, 1920, 1080, 3])\n",
      "sample image: 272\n",
      "sample shape: torch.Size([1920, 1080, 3])\n",
      "sample_flat shape: torch.Size([2073600, 3])\n",
      "sample_idx shape: torch.Size([1920, 1080, 3])\n",
      "sample_idx_flat shape: torch.Size([2073600, 3])\n"
     ]
    },
    {
     "data": {
      "text/plain": [
       "<Figure size 640x480 with 1 Axes>"
      ],
      "image/png": "[encoded data removed]"
     },
     "metadata": {},
     "output_type": "display_data"
    }
   ],
   "execution_count": 32
  },
  {
   "metadata": {
    "ExecuteTime": {
     "end_time": "2024-11-09T10:21:49.438730Z",
     "start_time": "2024-11-09T10:21:49.423534Z"
    }
   },
   "cell_type": "code",
   "source": [
    "batch = {'image': sample_flat, 'indices': sample_idx_flat}\n",
    "datamanager.perturb_frames(batch, all_frames)"
   ],
   "id": "21e9701a9dedeacc",
   "outputs": [
    {
     "name": "stdout",
     "output_type": "stream",
     "text": [
      "torch.Size([1024, 3])\n",
      "torch.Size([1024, 3])\n"
     ]
    }
   ],
   "execution_count": 36
  }
 ],
 "metadata": {
  "kernelspec": {
   "display_name": "Python 3",
   "language": "python",
   "name": "python3"
  },
  "language_info": {
   "codemirror_mode": {
    "name": "ipython",
    "version": 2
   },
   "file_extension": ".py",
   "mimetype": "text/x-python",
   "name": "python",
   "nbconvert_exporter": "python",
   "pygments_lexer": "ipython2",
   "version": "2.7.6"
  }
 },
 "nbformat": 4,
 "nbformat_minor": 5
}
