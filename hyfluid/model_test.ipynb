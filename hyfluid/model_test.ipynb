{
 "cells": [
  {
   "cell_type": "code",
   "id": "initial_id",
   "metadata": {
    "collapsed": true,
    "ExecuteTime": {
     "end_time": "2024-11-13T01:33:41.138142Z",
     "start_time": "2024-11-13T01:32:31.275651Z"
    }
   },
   "source": [
    "import numpy as np\n",
    "\n",
    "import datamanager\n",
    "import torch\n",
    "import pathlib\n",
    "\n",
    "config = datamanager.HyFluidNeRFDataManagerConfig(dataparser=datamanager.HyFluidDataParserConfig())\n",
    "config.dataparser.data = pathlib.Path(\"../data/ScalarReal\")\n",
    "manager: datamanager.HyFluidNeRFDataManager = config.setup(device=torch.device(\"cuda\"))"
   ],
   "outputs": [
    {
     "name": "stdout",
     "output_type": "stream",
     "text": [
      "Jupyter environment detected. Enabling Open3D WebVisualizer.\n",
      "[Open3D INFO] WebRTC GUI backend enabled.\n",
      "[Open3D INFO] WebRTCWindowSystem: HTTP handshake server disabled.\n"
     ]
    },
    {
     "data": {
      "text/plain": [
       "Caching all \u001B[1;36m480\u001B[0m images.\n"
      ],
      "text/html": [
       "<pre style=\"white-space:pre;overflow-x:auto;line-height:normal;font-family:Menlo,'DejaVu Sans Mono',consolas,'Courier New',monospace\">Caching all <span style=\"color: #008080; text-decoration-color: #008080; font-weight: bold\">480</span> images.\n",
       "</pre>\n"
      ]
     },
     "metadata": {},
     "output_type": "display_data"
    },
    {
     "data": {
      "text/plain": [
       "Output()"
      ],
      "application/vnd.jupyter.widget-view+json": {
       "version_major": 2,
       "version_minor": 0,
       "model_id": "1f2d47a4bf5f44fdaf7916904c1939c0"
      }
     },
     "metadata": {},
     "output_type": "display_data"
    },
    {
     "data": {
      "text/plain": [],
      "text/html": [
       "<pre style=\"white-space:pre;overflow-x:auto;line-height:normal;font-family:Menlo,'DejaVu Sans Mono',consolas,'Courier New',monospace\"></pre>\n"
      ]
     },
     "metadata": {},
     "output_type": "display_data"
    },
    {
     "data": {
      "text/plain": [
       "Caching all \u001B[1;36m120\u001B[0m images.\n"
      ],
      "text/html": [
       "<pre style=\"white-space:pre;overflow-x:auto;line-height:normal;font-family:Menlo,'DejaVu Sans Mono',consolas,'Courier New',monospace\">Caching all <span style=\"color: #008080; text-decoration-color: #008080; font-weight: bold\">120</span> images.\n",
       "</pre>\n"
      ]
     },
     "metadata": {},
     "output_type": "display_data"
    },
    {
     "data": {
      "text/plain": [
       "Output()"
      ],
      "application/vnd.jupyter.widget-view+json": {
       "version_major": 2,
       "version_minor": 0,
       "model_id": "1a7b6a3486c043a5b0b7c8ecdbe53e40"
      }
     },
     "metadata": {},
     "output_type": "display_data"
    },
    {
     "data": {
      "text/plain": [],
      "text/html": [
       "<pre style=\"white-space:pre;overflow-x:auto;line-height:normal;font-family:Menlo,'DejaVu Sans Mono',consolas,'Courier New',monospace\"></pre>\n"
      ]
     },
     "metadata": {},
     "output_type": "display_data"
    }
   ],
   "execution_count": 1
  },
  {
   "metadata": {
    "ExecuteTime": {
     "end_time": "2024-11-13T01:33:42.081181Z",
     "start_time": "2024-11-13T01:33:41.275521Z"
    }
   },
   "cell_type": "code",
   "source": [
    "ray_bundle, batch = manager.next_train()\n",
    "print(ray_bundle.shape)\n",
    "print(batch['image'].shape)\n",
    "print(batch['indices'].shape)"
   ],
   "id": "f09ad6a40e8d2654",
   "outputs": [
    {
     "name": "stdout",
     "output_type": "stream",
     "text": [
      "torch.Size([1024])\n",
      "torch.Size([1024, 3])\n",
      "torch.Size([1024, 3])\n"
     ]
    }
   ],
   "execution_count": 2
  },
  {
   "metadata": {
    "ExecuteTime": {
     "end_time": "2024-11-13T01:33:42.664452Z",
     "start_time": "2024-11-13T01:33:42.616309Z"
    }
   },
   "cell_type": "code",
   "source": [
    "from nerfstudio.model_components.ray_samplers import UniformSampler\n",
    "from nerfstudio.model_components.scene_colliders import NearFarCollider\n",
    "from nerfstudio.cameras.rays import RaySamples\n",
    "\n",
    "collider = NearFarCollider(near_plane=1.1, far_plane=1.5)\n",
    "sampler_uniform = UniformSampler(num_samples=192)\n",
    "\n",
    "collider(ray_bundle)\n",
    "ray_samples_uniform: RaySamples = sampler_uniform(ray_bundle)\n",
    "\n",
    "print(ray_samples_uniform.shape)"
   ],
   "id": "b5a3e5d18242fd0",
   "outputs": [
    {
     "name": "stdout",
     "output_type": "stream",
     "text": [
      "torch.Size([1024, 192])\n"
     ]
    }
   ],
   "execution_count": 3
  },
  {
   "metadata": {
    "ExecuteTime": {
     "end_time": "2024-11-13T01:33:42.769608Z",
     "start_time": "2024-11-13T01:33:42.765699Z"
    }
   },
   "cell_type": "code",
   "source": [
    "start_positions = ray_samples_uniform.frustums.get_start_positions()\n",
    "positions = ray_samples_uniform.frustums.get_positions()\n",
    "\n",
    "print(start_positions.shape)\n",
    "print(positions.shape)"
   ],
   "id": "9ece48fc74588730",
   "outputs": [
    {
     "name": "stdout",
     "output_type": "stream",
     "text": [
      "torch.Size([1024, 192, 3])\n",
      "torch.Size([1024, 192, 3])\n"
     ]
    }
   ],
   "execution_count": 4
  },
  {
   "metadata": {
    "ExecuteTime": {
     "end_time": "2024-11-13T01:33:43.084237Z",
     "start_time": "2024-11-13T01:33:42.877300Z"
    }
   },
   "cell_type": "code",
   "source": [
    "np.savez_compressed(\n",
    "    \"positions.npz\",\n",
    "    start_positions=start_positions.cpu().numpy(),\n",
    "    positions=positions.cpu().numpy()\n",
    ")"
   ],
   "id": "9f5323936f924fff",
   "outputs": [],
   "execution_count": 5
  },
  {
   "metadata": {
    "ExecuteTime": {
     "end_time": "2024-11-13T01:33:43.194652Z",
     "start_time": "2024-11-13T01:33:43.159254Z"
    }
   },
   "cell_type": "code",
   "source": [
    "image_indices = batch['indices'][:, 0]\n",
    "all_frames = manager.train_dataset.metadata['all_frames']\n",
    "frames = datamanager.image_idx_to_frame(image_indices, all_frames)\n",
    "frames_expanded = frames.to(positions.device).view(positions.shape[0], 1, 1).expand(-1, positions.shape[1], -1)\n",
    "xyzt = torch.cat((positions, frames_expanded), dim=-1)\n",
    "\n",
    "print(all_frames)\n",
    "print(image_indices)\n",
    "print(frames)\n",
    "print(frames.shape)\n",
    "print(xyzt.shape)"
   ],
   "id": "ff2d07a37e190d89",
   "outputs": [
    {
     "name": "stdout",
     "output_type": "stream",
     "text": [
      "[120, 120, 120, 120]\n",
      "tensor([167.9595, 104.3906, 225.7043,  ..., 239.0000, 210.3843,   0.8230])\n",
      "tensor([ 47.9595, 104.3906, 105.7043,  ..., 119.0000,  90.3843,   0.8230])\n",
      "torch.Size([1024])\n",
      "torch.Size([1024, 192, 4])\n"
     ]
    }
   ],
   "execution_count": 6
  },
  {
   "metadata": {
    "ExecuteTime": {
     "end_time": "2024-11-13T01:36:47.464390Z",
     "start_time": "2024-11-13T01:36:42.901289Z"
    }
   },
   "cell_type": "code",
   "source": [
    "import encoder\n",
    "import taichi as ti\n",
    "\n",
    "ti.init(arch=ti.cuda)\n",
    "xyzt_encoder = encoder.HashEncoderHyFluid(\n",
    "    min_res=np.array([16, 16, 16, 16]),\n",
    "    max_res=np.array([256, 256, 256, 128]),\n",
    "    num_scales=16,\n",
    "    max_params=2 ** 19,\n",
    ")\n",
    "\n",
    "xyzt_flat = xyzt.reshape(-1, 4)\n",
    "xyzt_encoded = xyzt_encoder(xyzt)"
   ],
   "id": "524f7973c06cee52",
   "outputs": [
    {
     "name": "stdout",
     "output_type": "stream",
     "text": [
      "[Taichi] Starting on arch=cuda\n"
     ]
    },
    {
     "ename": "RuntimeError",
     "evalue": "[taichi/rhi/cuda/cuda_driver.h:taichi::lang::CUDADriverFunction<void * *,unsigned __int64,void *>::operator ()@92] CUDA Error CUDA_ERROR_OUT_OF_MEMORY: out of memory while calling malloc_async_impl (cuMemAllocAsync)",
     "output_type": "error",
     "traceback": [
      "\u001B[1;31m---------------------------------------------------------------------------\u001B[0m",
      "\u001B[1;31mRuntimeError\u001B[0m                              Traceback (most recent call last)",
      "Cell \u001B[1;32mIn[8], line 13\u001B[0m\n\u001B[0;32m      5\u001B[0m xyzt_encoder \u001B[38;5;241m=\u001B[39m encoder\u001B[38;5;241m.\u001B[39mHashEncoderHyFluid(\n\u001B[0;32m      6\u001B[0m     min_res\u001B[38;5;241m=\u001B[39mnp\u001B[38;5;241m.\u001B[39marray([\u001B[38;5;241m16\u001B[39m, \u001B[38;5;241m16\u001B[39m, \u001B[38;5;241m16\u001B[39m, \u001B[38;5;241m16\u001B[39m]),\n\u001B[0;32m      7\u001B[0m     max_res\u001B[38;5;241m=\u001B[39mnp\u001B[38;5;241m.\u001B[39marray([\u001B[38;5;241m256\u001B[39m, \u001B[38;5;241m256\u001B[39m, \u001B[38;5;241m256\u001B[39m, \u001B[38;5;241m128\u001B[39m]),\n\u001B[0;32m      8\u001B[0m     num_scales\u001B[38;5;241m=\u001B[39m\u001B[38;5;241m16\u001B[39m,\n\u001B[0;32m      9\u001B[0m     max_params\u001B[38;5;241m=\u001B[39m\u001B[38;5;241m2\u001B[39m \u001B[38;5;241m*\u001B[39m\u001B[38;5;241m*\u001B[39m \u001B[38;5;241m19\u001B[39m,\n\u001B[0;32m     10\u001B[0m )\n\u001B[0;32m     12\u001B[0m xyzt_flat \u001B[38;5;241m=\u001B[39m xyzt\u001B[38;5;241m.\u001B[39mreshape(\u001B[38;5;241m-\u001B[39m\u001B[38;5;241m1\u001B[39m, \u001B[38;5;241m4\u001B[39m)\n\u001B[1;32m---> 13\u001B[0m xyzt_encoded \u001B[38;5;241m=\u001B[39m \u001B[43mxyzt_encoder\u001B[49m\u001B[43m(\u001B[49m\u001B[43mxyzt\u001B[49m\u001B[43m)\u001B[49m\n",
      "File \u001B[1;32m~\\Desktop\\241010\\Instant-PINF\\venv\\Lib\\site-packages\\torch\\nn\\modules\\module.py:1518\u001B[0m, in \u001B[0;36mModule._wrapped_call_impl\u001B[1;34m(self, *args, **kwargs)\u001B[0m\n\u001B[0;32m   1516\u001B[0m     \u001B[38;5;28;01mreturn\u001B[39;00m \u001B[38;5;28mself\u001B[39m\u001B[38;5;241m.\u001B[39m_compiled_call_impl(\u001B[38;5;241m*\u001B[39margs, \u001B[38;5;241m*\u001B[39m\u001B[38;5;241m*\u001B[39mkwargs)  \u001B[38;5;66;03m# type: ignore[misc]\u001B[39;00m\n\u001B[0;32m   1517\u001B[0m \u001B[38;5;28;01melse\u001B[39;00m:\n\u001B[1;32m-> 1518\u001B[0m     \u001B[38;5;28;01mreturn\u001B[39;00m \u001B[38;5;28;43mself\u001B[39;49m\u001B[38;5;241;43m.\u001B[39;49m\u001B[43m_call_impl\u001B[49m\u001B[43m(\u001B[49m\u001B[38;5;241;43m*\u001B[39;49m\u001B[43margs\u001B[49m\u001B[43m,\u001B[49m\u001B[43m \u001B[49m\u001B[38;5;241;43m*\u001B[39;49m\u001B[38;5;241;43m*\u001B[39;49m\u001B[43mkwargs\u001B[49m\u001B[43m)\u001B[49m\n",
      "File \u001B[1;32m~\\Desktop\\241010\\Instant-PINF\\venv\\Lib\\site-packages\\torch\\nn\\modules\\module.py:1527\u001B[0m, in \u001B[0;36mModule._call_impl\u001B[1;34m(self, *args, **kwargs)\u001B[0m\n\u001B[0;32m   1522\u001B[0m \u001B[38;5;66;03m# If we don't have any hooks, we want to skip the rest of the logic in\u001B[39;00m\n\u001B[0;32m   1523\u001B[0m \u001B[38;5;66;03m# this function, and just call forward.\u001B[39;00m\n\u001B[0;32m   1524\u001B[0m \u001B[38;5;28;01mif\u001B[39;00m \u001B[38;5;129;01mnot\u001B[39;00m (\u001B[38;5;28mself\u001B[39m\u001B[38;5;241m.\u001B[39m_backward_hooks \u001B[38;5;129;01mor\u001B[39;00m \u001B[38;5;28mself\u001B[39m\u001B[38;5;241m.\u001B[39m_backward_pre_hooks \u001B[38;5;129;01mor\u001B[39;00m \u001B[38;5;28mself\u001B[39m\u001B[38;5;241m.\u001B[39m_forward_hooks \u001B[38;5;129;01mor\u001B[39;00m \u001B[38;5;28mself\u001B[39m\u001B[38;5;241m.\u001B[39m_forward_pre_hooks\n\u001B[0;32m   1525\u001B[0m         \u001B[38;5;129;01mor\u001B[39;00m _global_backward_pre_hooks \u001B[38;5;129;01mor\u001B[39;00m _global_backward_hooks\n\u001B[0;32m   1526\u001B[0m         \u001B[38;5;129;01mor\u001B[39;00m _global_forward_hooks \u001B[38;5;129;01mor\u001B[39;00m _global_forward_pre_hooks):\n\u001B[1;32m-> 1527\u001B[0m     \u001B[38;5;28;01mreturn\u001B[39;00m \u001B[43mforward_call\u001B[49m\u001B[43m(\u001B[49m\u001B[38;5;241;43m*\u001B[39;49m\u001B[43margs\u001B[49m\u001B[43m,\u001B[49m\u001B[43m \u001B[49m\u001B[38;5;241;43m*\u001B[39;49m\u001B[38;5;241;43m*\u001B[39;49m\u001B[43mkwargs\u001B[49m\u001B[43m)\u001B[49m\n\u001B[0;32m   1529\u001B[0m \u001B[38;5;28;01mtry\u001B[39;00m:\n\u001B[0;32m   1530\u001B[0m     result \u001B[38;5;241m=\u001B[39m \u001B[38;5;28;01mNone\u001B[39;00m\n",
      "File \u001B[1;32m~\\Desktop\\241010\\Instant-PINF\\hyfluid\\encoder.py:370\u001B[0m, in \u001B[0;36mHashEncoderHyFluid.forward\u001B[1;34m(self, positions)\u001B[0m\n\u001B[0;32m    367\u001B[0m \u001B[38;5;28;01mdef\u001B[39;00m \u001B[38;5;21mforward\u001B[39m(\u001B[38;5;28mself\u001B[39m, positions):\n\u001B[0;32m    368\u001B[0m     \u001B[38;5;66;03m# positions: (N, 4), normalized to [-1, 1]\u001B[39;00m\n\u001B[0;32m    369\u001B[0m     positions \u001B[38;5;241m=\u001B[39m positions \u001B[38;5;241m*\u001B[39m \u001B[38;5;241m0.5\u001B[39m \u001B[38;5;241m+\u001B[39m \u001B[38;5;241m0.5\u001B[39m\n\u001B[1;32m--> 370\u001B[0m     \u001B[38;5;28;01mreturn\u001B[39;00m \u001B[38;5;28;43mself\u001B[39;49m\u001B[38;5;241;43m.\u001B[39;49m\u001B[43mmodule_function\u001B[49m\u001B[38;5;241;43m.\u001B[39;49m\u001B[43mapply\u001B[49m\u001B[43m(\u001B[49m\u001B[43mpositions\u001B[49m\u001B[43m,\u001B[49m\u001B[43m \u001B[49m\u001B[38;5;28;43mself\u001B[39;49m\u001B[38;5;241;43m.\u001B[39;49m\u001B[43mhash_table\u001B[49m\u001B[43m)\u001B[49m\n",
      "File \u001B[1;32m~\\Desktop\\241010\\Instant-PINF\\venv\\Lib\\site-packages\\torch\\autograd\\function.py:539\u001B[0m, in \u001B[0;36mFunction.apply\u001B[1;34m(cls, *args, **kwargs)\u001B[0m\n\u001B[0;32m    536\u001B[0m \u001B[38;5;28;01mif\u001B[39;00m \u001B[38;5;129;01mnot\u001B[39;00m torch\u001B[38;5;241m.\u001B[39m_C\u001B[38;5;241m.\u001B[39m_are_functorch_transforms_active():\n\u001B[0;32m    537\u001B[0m     \u001B[38;5;66;03m# See NOTE: [functorch vjp and autograd interaction]\u001B[39;00m\n\u001B[0;32m    538\u001B[0m     args \u001B[38;5;241m=\u001B[39m _functorch\u001B[38;5;241m.\u001B[39mutils\u001B[38;5;241m.\u001B[39munwrap_dead_wrappers(args)\n\u001B[1;32m--> 539\u001B[0m     \u001B[38;5;28;01mreturn\u001B[39;00m \u001B[38;5;28;43msuper\u001B[39;49m\u001B[43m(\u001B[49m\u001B[43m)\u001B[49m\u001B[38;5;241;43m.\u001B[39;49m\u001B[43mapply\u001B[49m\u001B[43m(\u001B[49m\u001B[38;5;241;43m*\u001B[39;49m\u001B[43margs\u001B[49m\u001B[43m,\u001B[49m\u001B[43m \u001B[49m\u001B[38;5;241;43m*\u001B[39;49m\u001B[38;5;241;43m*\u001B[39;49m\u001B[43mkwargs\u001B[49m\u001B[43m)\u001B[49m  \u001B[38;5;66;03m# type: ignore[misc]\u001B[39;00m\n\u001B[0;32m    541\u001B[0m \u001B[38;5;28;01mif\u001B[39;00m \u001B[38;5;28mcls\u001B[39m\u001B[38;5;241m.\u001B[39msetup_context \u001B[38;5;241m==\u001B[39m _SingleLevelFunction\u001B[38;5;241m.\u001B[39msetup_context:\n\u001B[0;32m    542\u001B[0m     \u001B[38;5;28;01mraise\u001B[39;00m \u001B[38;5;167;01mRuntimeError\u001B[39;00m(\n\u001B[0;32m    543\u001B[0m         \u001B[38;5;124m\"\u001B[39m\u001B[38;5;124mIn order to use an autograd.Function with functorch transforms \u001B[39m\u001B[38;5;124m\"\u001B[39m\n\u001B[0;32m    544\u001B[0m         \u001B[38;5;124m\"\u001B[39m\u001B[38;5;124m(vmap, grad, jvp, jacrev, ...), it must override the setup_context \u001B[39m\u001B[38;5;124m\"\u001B[39m\n\u001B[0;32m    545\u001B[0m         \u001B[38;5;124m\"\u001B[39m\u001B[38;5;124mstaticmethod. For more details, please see \u001B[39m\u001B[38;5;124m\"\u001B[39m\n\u001B[0;32m    546\u001B[0m         \u001B[38;5;124m\"\u001B[39m\u001B[38;5;124mhttps://pytorch.org/docs/master/notes/extending.func.html\u001B[39m\u001B[38;5;124m\"\u001B[39m\n\u001B[0;32m    547\u001B[0m     )\n",
      "File \u001B[1;32m~\\Desktop\\241010\\Instant-PINF\\venv\\Lib\\site-packages\\torch\\cuda\\amp\\autocast_mode.py:121\u001B[0m, in \u001B[0;36mcustom_fwd.<locals>.decorate_fwd\u001B[1;34m(*args, **kwargs)\u001B[0m\n\u001B[0;32m    119\u001B[0m         \u001B[38;5;28;01mreturn\u001B[39;00m fwd(\u001B[38;5;241m*\u001B[39m_cast(args, cast_inputs), \u001B[38;5;241m*\u001B[39m\u001B[38;5;241m*\u001B[39m_cast(kwargs, cast_inputs))\n\u001B[0;32m    120\u001B[0m \u001B[38;5;28;01melse\u001B[39;00m:\n\u001B[1;32m--> 121\u001B[0m     \u001B[38;5;28;01mreturn\u001B[39;00m \u001B[43mfwd\u001B[49m\u001B[43m(\u001B[49m\u001B[38;5;241;43m*\u001B[39;49m\u001B[43margs\u001B[49m\u001B[43m,\u001B[49m\u001B[43m \u001B[49m\u001B[38;5;241;43m*\u001B[39;49m\u001B[38;5;241;43m*\u001B[39;49m\u001B[43mkwargs\u001B[49m\u001B[43m)\u001B[49m\n",
      "File \u001B[1;32m~\\Desktop\\241010\\Instant-PINF\\hyfluid\\encoder.py:278\u001B[0m, in \u001B[0;36mHashEncoderHyFluid.__init__.<locals>.ModuleFunction.forward\u001B[1;34m(ctx, input_pos, params)\u001B[0m\n\u001B[0;32m    274\u001B[0m \u001B[38;5;129m@staticmethod\u001B[39m\n\u001B[0;32m    275\u001B[0m \u001B[38;5;129m@custom_fwd\u001B[39m(cast_inputs\u001B[38;5;241m=\u001B[39mtorch\u001B[38;5;241m.\u001B[39mfloat32)\n\u001B[0;32m    276\u001B[0m \u001B[38;5;28;01mdef\u001B[39;00m \u001B[38;5;21mforward\u001B[39m(ctx, input_pos, params):\n\u001B[0;32m    277\u001B[0m     output_embedding \u001B[38;5;241m=\u001B[39m \u001B[38;5;28mself\u001B[39m\u001B[38;5;241m.\u001B[39moutput_embedding[:input_pos\u001B[38;5;241m.\u001B[39mshape[\u001B[38;5;241m0\u001B[39m]]\u001B[38;5;241m.\u001B[39mcontiguous()\n\u001B[1;32m--> 278\u001B[0m     \u001B[43mtorch2ti\u001B[49m\u001B[43m(\u001B[49m\u001B[38;5;28;43mself\u001B[39;49m\u001B[38;5;241;43m.\u001B[39;49m\u001B[43minput_fields\u001B[49m\u001B[43m,\u001B[49m\u001B[43m \u001B[49m\u001B[43minput_pos\u001B[49m\u001B[38;5;241;43m.\u001B[39;49m\u001B[43mcontiguous\u001B[49m\u001B[43m(\u001B[49m\u001B[43m)\u001B[49m\u001B[43m)\u001B[49m\n\u001B[0;32m    279\u001B[0m     torch2ti(\u001B[38;5;28mself\u001B[39m\u001B[38;5;241m.\u001B[39mparameter_fields, params\u001B[38;5;241m.\u001B[39mcontiguous())\n\u001B[0;32m    281\u001B[0m     hash_encode_kernel(\n\u001B[0;32m    282\u001B[0m         \u001B[38;5;28mself\u001B[39m\u001B[38;5;241m.\u001B[39minput_fields,\n\u001B[0;32m    283\u001B[0m         \u001B[38;5;28mself\u001B[39m\u001B[38;5;241m.\u001B[39mparameter_fields,\n\u001B[1;32m   (...)\u001B[0m\n\u001B[0;32m    290\u001B[0m         \u001B[38;5;28mself\u001B[39m\u001B[38;5;241m.\u001B[39mnum_scales,\n\u001B[0;32m    291\u001B[0m     )\n",
      "File \u001B[1;32m~\\Desktop\\241010\\Instant-PINF\\venv\\Lib\\site-packages\\taichi\\lang\\kernel_impl.py:1113\u001B[0m, in \u001B[0;36m_kernel_impl.<locals>.wrapped\u001B[1;34m(*args, **kwargs)\u001B[0m\n\u001B[0;32m   1110\u001B[0m \u001B[38;5;129m@functools\u001B[39m\u001B[38;5;241m.\u001B[39mwraps(_func)\n\u001B[0;32m   1111\u001B[0m \u001B[38;5;28;01mdef\u001B[39;00m \u001B[38;5;21mwrapped\u001B[39m(\u001B[38;5;241m*\u001B[39margs, \u001B[38;5;241m*\u001B[39m\u001B[38;5;241m*\u001B[39mkwargs):\n\u001B[0;32m   1112\u001B[0m     \u001B[38;5;28;01mtry\u001B[39;00m:\n\u001B[1;32m-> 1113\u001B[0m         \u001B[38;5;28;01mreturn\u001B[39;00m \u001B[43mprimal\u001B[49m\u001B[43m(\u001B[49m\u001B[38;5;241;43m*\u001B[39;49m\u001B[43margs\u001B[49m\u001B[43m,\u001B[49m\u001B[43m \u001B[49m\u001B[38;5;241;43m*\u001B[39;49m\u001B[38;5;241;43m*\u001B[39;49m\u001B[43mkwargs\u001B[49m\u001B[43m)\u001B[49m\n\u001B[0;32m   1114\u001B[0m     \u001B[38;5;28;01mexcept\u001B[39;00m (TaichiCompilationError, TaichiRuntimeError) \u001B[38;5;28;01mas\u001B[39;00m e:\n\u001B[0;32m   1115\u001B[0m         \u001B[38;5;28;01mif\u001B[39;00m impl\u001B[38;5;241m.\u001B[39mget_runtime()\u001B[38;5;241m.\u001B[39mprint_full_traceback:\n",
      "File \u001B[1;32m~\\Desktop\\241010\\Instant-PINF\\venv\\Lib\\site-packages\\taichi\\lang\\shell.py:27\u001B[0m, in \u001B[0;36m_shell_pop_print.<locals>.new_call\u001B[1;34m(*args, **kwargs)\u001B[0m\n\u001B[0;32m     25\u001B[0m \u001B[38;5;129m@functools\u001B[39m\u001B[38;5;241m.\u001B[39mwraps(old_call)\n\u001B[0;32m     26\u001B[0m \u001B[38;5;28;01mdef\u001B[39;00m \u001B[38;5;21mnew_call\u001B[39m(\u001B[38;5;241m*\u001B[39margs, \u001B[38;5;241m*\u001B[39m\u001B[38;5;241m*\u001B[39mkwargs):\n\u001B[1;32m---> 27\u001B[0m     ret \u001B[38;5;241m=\u001B[39m \u001B[43mold_call\u001B[49m\u001B[43m(\u001B[49m\u001B[38;5;241;43m*\u001B[39;49m\u001B[43margs\u001B[49m\u001B[43m,\u001B[49m\u001B[43m \u001B[49m\u001B[38;5;241;43m*\u001B[39;49m\u001B[38;5;241;43m*\u001B[39;49m\u001B[43mkwargs\u001B[49m\u001B[43m)\u001B[49m\n\u001B[0;32m     28\u001B[0m     \u001B[38;5;66;03m# print's in kernel won't take effect until ti.sync(), discussion:\u001B[39;00m\n\u001B[0;32m     29\u001B[0m     \u001B[38;5;66;03m# https://github.com/taichi-dev/taichi/pull/1303#discussion_r444897102\u001B[39;00m\n\u001B[0;32m     30\u001B[0m     \u001B[38;5;28mprint\u001B[39m(_ti_core\u001B[38;5;241m.\u001B[39mpop_python_print_buffer(), end\u001B[38;5;241m=\u001B[39m\u001B[38;5;124m\"\u001B[39m\u001B[38;5;124m\"\u001B[39m)\n",
      "File \u001B[1;32m~\\Desktop\\241010\\Instant-PINF\\venv\\Lib\\site-packages\\taichi\\lang\\kernel_impl.py:1043\u001B[0m, in \u001B[0;36mKernel.__call__\u001B[1;34m(self, *args, **kwargs)\u001B[0m\n\u001B[0;32m   1041\u001B[0m     _logging\u001B[38;5;241m.\u001B[39mwarn(\u001B[38;5;124m\"\"\"\u001B[39m\u001B[38;5;124mopt_level = 1 is enforced to enable gradient computation.\u001B[39m\u001B[38;5;124m\"\"\"\u001B[39m)\n\u001B[0;32m   1042\u001B[0m     impl\u001B[38;5;241m.\u001B[39mcurrent_cfg()\u001B[38;5;241m.\u001B[39mopt_level \u001B[38;5;241m=\u001B[39m \u001B[38;5;241m1\u001B[39m\n\u001B[1;32m-> 1043\u001B[0m key \u001B[38;5;241m=\u001B[39m \u001B[38;5;28;43mself\u001B[39;49m\u001B[38;5;241;43m.\u001B[39;49m\u001B[43mensure_compiled\u001B[49m\u001B[43m(\u001B[49m\u001B[38;5;241;43m*\u001B[39;49m\u001B[43margs\u001B[49m\u001B[43m)\u001B[49m\n\u001B[0;32m   1044\u001B[0m kernel_cpp \u001B[38;5;241m=\u001B[39m \u001B[38;5;28mself\u001B[39m\u001B[38;5;241m.\u001B[39mcompiled_kernels[key]\n\u001B[0;32m   1045\u001B[0m \u001B[38;5;28;01mreturn\u001B[39;00m \u001B[38;5;28mself\u001B[39m\u001B[38;5;241m.\u001B[39mlaunch_kernel(kernel_cpp, \u001B[38;5;241m*\u001B[39margs)\n",
      "File \u001B[1;32m~\\Desktop\\241010\\Instant-PINF\\venv\\Lib\\site-packages\\taichi\\lang\\kernel_impl.py:1011\u001B[0m, in \u001B[0;36mKernel.ensure_compiled\u001B[1;34m(self, *args)\u001B[0m\n\u001B[0;32m   1009\u001B[0m instance_id, arg_features \u001B[38;5;241m=\u001B[39m \u001B[38;5;28mself\u001B[39m\u001B[38;5;241m.\u001B[39mmapper\u001B[38;5;241m.\u001B[39mlookup(args)\n\u001B[0;32m   1010\u001B[0m key \u001B[38;5;241m=\u001B[39m (\u001B[38;5;28mself\u001B[39m\u001B[38;5;241m.\u001B[39mfunc, instance_id, \u001B[38;5;28mself\u001B[39m\u001B[38;5;241m.\u001B[39mautodiff_mode)\n\u001B[1;32m-> 1011\u001B[0m \u001B[38;5;28;43mself\u001B[39;49m\u001B[38;5;241;43m.\u001B[39;49m\u001B[43mmaterialize\u001B[49m\u001B[43m(\u001B[49m\u001B[43mkey\u001B[49m\u001B[38;5;241;43m=\u001B[39;49m\u001B[43mkey\u001B[49m\u001B[43m,\u001B[49m\u001B[43m \u001B[49m\u001B[43margs\u001B[49m\u001B[38;5;241;43m=\u001B[39;49m\u001B[43margs\u001B[49m\u001B[43m,\u001B[49m\u001B[43m \u001B[49m\u001B[43marg_features\u001B[49m\u001B[38;5;241;43m=\u001B[39;49m\u001B[43marg_features\u001B[49m\u001B[43m)\u001B[49m\n\u001B[0;32m   1012\u001B[0m \u001B[38;5;28;01mreturn\u001B[39;00m key\n",
      "File \u001B[1;32m~\\Desktop\\241010\\Instant-PINF\\venv\\Lib\\site-packages\\taichi\\lang\\kernel_impl.py:637\u001B[0m, in \u001B[0;36mKernel.materialize\u001B[1;34m(self, key, args, arg_features)\u001B[0m\n\u001B[0;32m    635\u001B[0m \u001B[38;5;28;01mif\u001B[39;00m key \u001B[38;5;129;01mis\u001B[39;00m \u001B[38;5;28;01mNone\u001B[39;00m:\n\u001B[0;32m    636\u001B[0m     key \u001B[38;5;241m=\u001B[39m (\u001B[38;5;28mself\u001B[39m\u001B[38;5;241m.\u001B[39mfunc, \u001B[38;5;241m0\u001B[39m, \u001B[38;5;28mself\u001B[39m\u001B[38;5;241m.\u001B[39mautodiff_mode)\n\u001B[1;32m--> 637\u001B[0m \u001B[38;5;28;43mself\u001B[39;49m\u001B[38;5;241;43m.\u001B[39;49m\u001B[43mruntime\u001B[49m\u001B[38;5;241;43m.\u001B[39;49m\u001B[43mmaterialize\u001B[49m\u001B[43m(\u001B[49m\u001B[43m)\u001B[49m\n\u001B[0;32m    639\u001B[0m \u001B[38;5;28;01mif\u001B[39;00m key \u001B[38;5;129;01min\u001B[39;00m \u001B[38;5;28mself\u001B[39m\u001B[38;5;241m.\u001B[39mcompiled_kernels:\n\u001B[0;32m    640\u001B[0m     \u001B[38;5;28;01mreturn\u001B[39;00m\n",
      "File \u001B[1;32m~\\Desktop\\241010\\Instant-PINF\\venv\\Lib\\site-packages\\taichi\\lang\\impl.py:471\u001B[0m, in \u001B[0;36mPyTaichi.materialize\u001B[1;34m(self)\u001B[0m\n\u001B[0;32m    470\u001B[0m \u001B[38;5;28;01mdef\u001B[39;00m \u001B[38;5;21mmaterialize\u001B[39m(\u001B[38;5;28mself\u001B[39m):\n\u001B[1;32m--> 471\u001B[0m     \u001B[38;5;28;43mself\u001B[39;49m\u001B[38;5;241;43m.\u001B[39;49m\u001B[43mmaterialize_root_fb\u001B[49m\u001B[43m(\u001B[49m\u001B[38;5;129;43;01mnot\u001B[39;49;00m\u001B[43m \u001B[49m\u001B[38;5;28;43mself\u001B[39;49m\u001B[38;5;241;43m.\u001B[39;49m\u001B[43mmaterialized\u001B[49m\u001B[43m)\u001B[49m\n\u001B[0;32m    472\u001B[0m     \u001B[38;5;28mself\u001B[39m\u001B[38;5;241m.\u001B[39mmaterialized \u001B[38;5;241m=\u001B[39m \u001B[38;5;28;01mTrue\u001B[39;00m\n\u001B[0;32m    474\u001B[0m     \u001B[38;5;28mself\u001B[39m\u001B[38;5;241m.\u001B[39mvalidate_fields_builder()\n",
      "File \u001B[1;32m~\\Desktop\\241010\\Instant-PINF\\venv\\Lib\\site-packages\\taichi\\lang\\impl.py:406\u001B[0m, in \u001B[0;36mPyTaichi.materialize_root_fb\u001B[1;34m(is_first_call)\u001B[0m\n\u001B[0;32m    403\u001B[0m     \u001B[38;5;28;01mif\u001B[39;00m \u001B[38;5;129;01mnot\u001B[39;00m root\u001B[38;5;241m.\u001B[39mfinalized:\n\u001B[0;32m    404\u001B[0m         root\u001B[38;5;241m.\u001B[39m_allocate_adjoint_checkbit()\n\u001B[1;32m--> 406\u001B[0m \u001B[43mroot\u001B[49m\u001B[38;5;241;43m.\u001B[39;49m\u001B[43mfinalize\u001B[49m\u001B[43m(\u001B[49m\u001B[43mraise_warning\u001B[49m\u001B[38;5;241;43m=\u001B[39;49m\u001B[38;5;129;43;01mnot\u001B[39;49;00m\u001B[43m \u001B[49m\u001B[43mis_first_call\u001B[49m\u001B[43m)\u001B[49m\n\u001B[0;32m    407\u001B[0m \u001B[38;5;28;01mglobal\u001B[39;00m _root_fb\n\u001B[0;32m    408\u001B[0m _root_fb \u001B[38;5;241m=\u001B[39m FieldsBuilder()\n",
      "File \u001B[1;32m~\\Desktop\\241010\\Instant-PINF\\venv\\Lib\\site-packages\\taichi\\_snode\\fields_builder.py:170\u001B[0m, in \u001B[0;36mFieldsBuilder.finalize\u001B[1;34m(self, raise_warning)\u001B[0m\n\u001B[0;32m    165\u001B[0m \u001B[38;5;28;01mdef\u001B[39;00m \u001B[38;5;21mfinalize\u001B[39m(\u001B[38;5;28mself\u001B[39m, raise_warning\u001B[38;5;241m=\u001B[39m\u001B[38;5;28;01mTrue\u001B[39;00m):\n\u001B[0;32m    166\u001B[0m \u001B[38;5;250m    \u001B[39m\u001B[38;5;124;03m\"\"\"Constructs the SNodeTree and finalizes this builder.\u001B[39;00m\n\u001B[0;32m    167\u001B[0m \n\u001B[0;32m    168\u001B[0m \u001B[38;5;124;03m    Args:\u001B[39;00m\n\u001B[0;32m    169\u001B[0m \u001B[38;5;124;03m        raise_warning (bool): Raise warning or not.\"\"\"\u001B[39;00m\n\u001B[1;32m--> 170\u001B[0m     \u001B[38;5;28;01mreturn\u001B[39;00m \u001B[38;5;28;43mself\u001B[39;49m\u001B[38;5;241;43m.\u001B[39;49m\u001B[43m_finalize\u001B[49m\u001B[43m(\u001B[49m\u001B[43mraise_warning\u001B[49m\u001B[43m,\u001B[49m\u001B[43m \u001B[49m\u001B[43mcompile_only\u001B[49m\u001B[38;5;241;43m=\u001B[39;49m\u001B[38;5;28;43;01mFalse\u001B[39;49;00m\u001B[43m)\u001B[49m\n",
      "File \u001B[1;32m~\\Desktop\\241010\\Instant-PINF\\venv\\Lib\\site-packages\\taichi\\_snode\\fields_builder.py:182\u001B[0m, in \u001B[0;36mFieldsBuilder._finalize\u001B[1;34m(self, raise_warning, compile_only)\u001B[0m\n\u001B[0;32m    180\u001B[0m \u001B[38;5;28mself\u001B[39m\u001B[38;5;241m.\u001B[39mfinalized \u001B[38;5;241m=\u001B[39m \u001B[38;5;28;01mTrue\u001B[39;00m\n\u001B[0;32m    181\u001B[0m impl\u001B[38;5;241m.\u001B[39mget_runtime()\u001B[38;5;241m.\u001B[39mfinalize_fields_builder(\u001B[38;5;28mself\u001B[39m)\n\u001B[1;32m--> 182\u001B[0m \u001B[38;5;28;01mreturn\u001B[39;00m SNodeTree(\u001B[43m_ti_core\u001B[49m\u001B[38;5;241;43m.\u001B[39;49m\u001B[43mfinalize_snode_tree\u001B[49m\u001B[43m(\u001B[49m\u001B[43m_snode_registry\u001B[49m\u001B[43m,\u001B[49m\u001B[43m \u001B[49m\u001B[38;5;28;43mself\u001B[39;49m\u001B[38;5;241;43m.\u001B[39;49m\u001B[43mptr\u001B[49m\u001B[43m,\u001B[49m\u001B[43m \u001B[49m\u001B[43mimpl\u001B[49m\u001B[38;5;241;43m.\u001B[39;49m\u001B[43mget_runtime\u001B[49m\u001B[43m(\u001B[49m\u001B[43m)\u001B[49m\u001B[38;5;241;43m.\u001B[39;49m\u001B[43mprog\u001B[49m\u001B[43m,\u001B[49m\u001B[43m \u001B[49m\u001B[43mcompile_only\u001B[49m\u001B[43m)\u001B[49m)\n",
      "\u001B[1;31mRuntimeError\u001B[0m: [taichi/rhi/cuda/cuda_driver.h:taichi::lang::CUDADriverFunction<void * *,unsigned __int64,void *>::operator ()@92] CUDA Error CUDA_ERROR_OUT_OF_MEMORY: out of memory while calling malloc_async_impl (cuMemAllocAsync)"
     ]
    }
   ],
   "execution_count": 8
  }
 ],
 "metadata": {
  "kernelspec": {
   "display_name": "Python 3",
   "language": "python",
   "name": "python3"
  },
  "language_info": {
   "codemirror_mode": {
    "name": "ipython",
    "version": 2
   },
   "file_extension": ".py",
   "mimetype": "text/x-python",
   "name": "python",
   "nbconvert_exporter": "python",
   "pygments_lexer": "ipython2",
   "version": "2.7.6"
  }
 },
 "nbformat": 4,
 "nbformat_minor": 5
}
