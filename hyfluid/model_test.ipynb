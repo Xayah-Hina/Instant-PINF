{
 "cells": [
  {
   "cell_type": "code",
   "id": "initial_id",
   "metadata": {
    "collapsed": true,
    "jupyter": {
     "is_executing": true
    },
    "ExecuteTime": {
     "start_time": "2024-11-13T01:32:31.275651Z"
    }
   },
   "source": [
    "import numpy as np\n",
    "\n",
    "import datamanager\n",
    "import torch\n",
    "import pathlib\n",
    "\n",
    "config = datamanager.HyFluidNeRFDataManagerConfig(dataparser=datamanager.HyFluidDataParserConfig())\n",
    "config.dataparser.data = pathlib.Path(\"../data/ScalarReal\")\n",
    "manager: datamanager.HyFluidNeRFDataManager = config.setup(device=torch.device(\"cuda\"))"
   ],
   "outputs": [],
   "execution_count": null
  },
  {
   "metadata": {
    "ExecuteTime": {
     "end_time": "2024-11-13T01:12:45.451710Z",
     "start_time": "2024-11-13T01:12:11.327528Z"
    }
   },
   "cell_type": "code",
   "source": [
    "ray_bundle, batch = manager.next_train()\n",
    "print(ray_bundle.shape)\n",
    "print(batch['image'].shape)\n",
    "print(batch['indices'].shape)"
   ],
   "id": "f09ad6a40e8d2654",
   "outputs": [
    {
     "name": "stdout",
     "output_type": "stream",
     "text": [
      "torch.Size([1024])\n",
      "torch.Size([1024, 3])\n",
      "torch.Size([1024, 3])\n"
     ]
    }
   ],
   "execution_count": 3
  },
  {
   "metadata": {
    "ExecuteTime": {
     "end_time": "2024-11-13T01:12:47.627803Z",
     "start_time": "2024-11-13T01:12:47.575224Z"
    }
   },
   "cell_type": "code",
   "source": [
    "from nerfstudio.model_components.ray_samplers import UniformSampler\n",
    "from nerfstudio.model_components.scene_colliders import NearFarCollider\n",
    "from nerfstudio.cameras.rays import RaySamples\n",
    "\n",
    "collider = NearFarCollider(near_plane=1.1, far_plane=1.5)\n",
    "sampler_uniform = UniformSampler(num_samples=192)\n",
    "\n",
    "collider(ray_bundle)\n",
    "ray_samples_uniform: RaySamples = sampler_uniform(ray_bundle)\n",
    "\n",
    "print(ray_samples_uniform.shape)"
   ],
   "id": "b5a3e5d18242fd0",
   "outputs": [
    {
     "name": "stdout",
     "output_type": "stream",
     "text": [
      "torch.Size([1024, 192])\n"
     ]
    }
   ],
   "execution_count": 4
  },
  {
   "metadata": {
    "ExecuteTime": {
     "end_time": "2024-11-13T01:12:49.074741Z",
     "start_time": "2024-11-13T01:12:49.071317Z"
    }
   },
   "cell_type": "code",
   "source": [
    "start_positions = ray_samples_uniform.frustums.get_start_positions()\n",
    "positions = ray_samples_uniform.frustums.get_positions()\n",
    "\n",
    "print(start_positions.shape)\n",
    "print(positions.shape)"
   ],
   "id": "9ece48fc74588730",
   "outputs": [
    {
     "name": "stdout",
     "output_type": "stream",
     "text": [
      "torch.Size([1024, 192, 3])\n",
      "torch.Size([1024, 192, 3])\n"
     ]
    }
   ],
   "execution_count": 5
  },
  {
   "metadata": {
    "ExecuteTime": {
     "end_time": "2024-11-13T01:12:50.582969Z",
     "start_time": "2024-11-13T01:12:50.358089Z"
    }
   },
   "cell_type": "code",
   "source": [
    "np.savez_compressed(\n",
    "    \"positions.npz\",\n",
    "    start_positions=start_positions.cpu().numpy(),\n",
    "    positions=positions.cpu().numpy()\n",
    ")"
   ],
   "id": "9f5323936f924fff",
   "outputs": [],
   "execution_count": 6
  },
  {
   "metadata": {
    "ExecuteTime": {
     "end_time": "2024-11-13T01:23:12.902798Z",
     "start_time": "2024-11-13T01:23:12.874958Z"
    }
   },
   "cell_type": "code",
   "source": [
    "image_indices = batch['indices'][:, 0]\n",
    "all_frames = manager.train_dataset.metadata['all_frames']\n",
    "frames = datamanager.image_idx_to_frame(image_indices, all_frames)\n",
    "frames_expanded = frames.to(positions.device).view(positions.shape[0], 1, 1).expand(-1, positions.shape[1], -1)\n",
    "xyzt = torch.cat((positions, frames_expanded), dim=-1)\n",
    "\n",
    "print(all_frames)\n",
    "print(image_indices)\n",
    "print(frames)\n",
    "print(frames.shape)\n",
    "print(xyzt.shape)"
   ],
   "id": "ff2d07a37e190d89",
   "outputs": [
    {
     "name": "stdout",
     "output_type": "stream",
     "text": [
      "[120, 120, 120, 120]\n",
      "tensor([269.1974, 215.7328, 249.2552,  ..., 107.3740, 238.4813,  85.5473])\n",
      "tensor([ 29.1974,  95.7328,   9.2552,  ..., 107.3740, 118.4813,  85.5473])\n",
      "torch.Size([1024])\n"
     ]
    }
   ],
   "execution_count": 17
  }
 ],
 "metadata": {
  "kernelspec": {
   "display_name": "Python 3",
   "language": "python",
   "name": "python3"
  },
  "language_info": {
   "codemirror_mode": {
    "name": "ipython",
    "version": 2
   },
   "file_extension": ".py",
   "mimetype": "text/x-python",
   "name": "python",
   "nbconvert_exporter": "python",
   "pygments_lexer": "ipython2",
   "version": "2.7.6"
  }
 },
 "nbformat": 4,
 "nbformat_minor": 5
}
