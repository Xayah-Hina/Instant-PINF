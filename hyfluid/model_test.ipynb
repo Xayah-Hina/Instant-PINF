{
 "cells": [
  {
   "cell_type": "code",
   "id": "initial_id",
   "metadata": {
    "collapsed": true,
    "ExecuteTime": {
     "end_time": "2024-11-17T02:16:01.627142Z",
     "start_time": "2024-11-17T02:15:28.570729Z"
    }
   },
   "source": [
    "import numpy as np\n",
    "\n",
    "import datamanager\n",
    "import torch\n",
    "import pathlib\n",
    "\n",
    "device = torch.device(\"cuda\")\n",
    "\n",
    "config = datamanager.HyFluidNeRFDataManagerConfig(dataparser=datamanager.HyFluidDataParserConfig())\n",
    "config.dataparser.data = pathlib.Path(\"../data/ScalarReal\")\n",
    "manager: datamanager.HyFluidNeRFDataManager = config.setup(device=torch.device(\"cuda\"))\n",
    "manager.to(device)"
   ],
   "outputs": [
    {
     "data": {
      "text/plain": [
       "Caching all \u001B[1;36m480\u001B[0m images.\n"
      ],
      "text/html": [
       "<pre style=\"white-space:pre;overflow-x:auto;line-height:normal;font-family:Menlo,'DejaVu Sans Mono',consolas,'Courier New',monospace\">Caching all <span style=\"color: #008080; text-decoration-color: #008080; font-weight: bold\">480</span> images.\n",
       "</pre>\n"
      ]
     },
     "metadata": {},
     "output_type": "display_data"
    },
    {
     "data": {
      "text/plain": [
       "Output()"
      ],
      "application/vnd.jupyter.widget-view+json": {
       "version_major": 2,
       "version_minor": 0,
       "model_id": "6884e3a2f74644f2bc4b19936cbd0fdb"
      }
     },
     "metadata": {},
     "output_type": "display_data"
    },
    {
     "data": {
      "text/plain": [],
      "text/html": [
       "<pre style=\"white-space:pre;overflow-x:auto;line-height:normal;font-family:Menlo,'DejaVu Sans Mono',consolas,'Courier New',monospace\"></pre>\n"
      ]
     },
     "metadata": {},
     "output_type": "display_data"
    },
    {
     "data": {
      "text/plain": [
       "Caching all \u001B[1;36m120\u001B[0m images.\n"
      ],
      "text/html": [
       "<pre style=\"white-space:pre;overflow-x:auto;line-height:normal;font-family:Menlo,'DejaVu Sans Mono',consolas,'Courier New',monospace\">Caching all <span style=\"color: #008080; text-decoration-color: #008080; font-weight: bold\">120</span> images.\n",
       "</pre>\n"
      ]
     },
     "metadata": {},
     "output_type": "display_data"
    },
    {
     "data": {
      "text/plain": [
       "Output()"
      ],
      "application/vnd.jupyter.widget-view+json": {
       "version_major": 2,
       "version_minor": 0,
       "model_id": "9dc9325fcf0f4590b87c5727af9f99a1"
      }
     },
     "metadata": {},
     "output_type": "display_data"
    },
    {
     "data": {
      "text/plain": [],
      "text/html": [
       "<pre style=\"white-space:pre;overflow-x:auto;line-height:normal;font-family:Menlo,'DejaVu Sans Mono',consolas,'Courier New',monospace\"></pre>\n"
      ]
     },
     "metadata": {},
     "output_type": "display_data"
    },
    {
     "data": {
      "text/plain": [
       "HyFluidNeRFDataManager(\n",
       "  (train_ray_generator): RayGenerator()\n",
       "  (eval_ray_generator): RayGenerator()\n",
       ")"
      ]
     },
     "execution_count": 2,
     "metadata": {},
     "output_type": "execute_result"
    }
   ],
   "execution_count": 2
  },
  {
   "metadata": {
    "ExecuteTime": {
     "end_time": "2024-11-17T02:16:02.219394Z",
     "start_time": "2024-11-17T02:16:01.637148Z"
    }
   },
   "cell_type": "code",
   "source": [
    "ray_bundle, batch = manager.next_train()\n",
    "print(ray_bundle.shape)\n",
    "print(batch['image'].shape)\n",
    "print(batch['indices'].shape)"
   ],
   "id": "f09ad6a40e8d2654",
   "outputs": [
    {
     "name": "stdout",
     "output_type": "stream",
     "text": [
      "torch.Size([1024])\n",
      "torch.Size([1024, 3])\n",
      "torch.Size([1024, 3])\n"
     ]
    }
   ],
   "execution_count": 3
  },
  {
   "metadata": {
    "ExecuteTime": {
     "end_time": "2024-11-17T02:16:02.327208Z",
     "start_time": "2024-11-17T02:16:02.294793Z"
    }
   },
   "cell_type": "code",
   "source": [
    "from nerfstudio.model_components.ray_samplers import UniformSampler\n",
    "from nerfstudio.model_components.scene_colliders import NearFarCollider\n",
    "from nerfstudio.cameras.rays import RaySamples\n",
    "\n",
    "collider = NearFarCollider(near_plane=1.1, far_plane=1.5)\n",
    "sampler_uniform = UniformSampler(num_samples=192)\n",
    "\n",
    "collider(ray_bundle)\n",
    "ray_samples_uniform: RaySamples = sampler_uniform(ray_bundle)\n",
    "\n",
    "print(ray_samples_uniform.shape)"
   ],
   "id": "b5a3e5d18242fd0",
   "outputs": [
    {
     "name": "stdout",
     "output_type": "stream",
     "text": [
      "torch.Size([1024, 192])\n"
     ]
    }
   ],
   "execution_count": 4
  },
  {
   "metadata": {
    "ExecuteTime": {
     "end_time": "2024-11-17T02:16:02.373996Z",
     "start_time": "2024-11-17T02:16:02.370366Z"
    }
   },
   "cell_type": "code",
   "source": [
    "start_positions = ray_samples_uniform.frustums.get_start_positions()\n",
    "positions = ray_samples_uniform.frustums.get_positions()\n",
    "\n",
    "print(start_positions.shape)\n",
    "print(positions.shape)"
   ],
   "id": "9ece48fc74588730",
   "outputs": [
    {
     "name": "stdout",
     "output_type": "stream",
     "text": [
      "torch.Size([1024, 192, 3])\n",
      "torch.Size([1024, 192, 3])\n"
     ]
    }
   ],
   "execution_count": 5
  },
  {
   "metadata": {
    "ExecuteTime": {
     "end_time": "2024-11-17T02:16:02.650687Z",
     "start_time": "2024-11-17T02:16:02.424692Z"
    }
   },
   "cell_type": "code",
   "source": [
    "np.savez_compressed(\n",
    "    \"positions.npz\",\n",
    "    start_positions=start_positions.cpu().numpy(),\n",
    "    positions=positions.cpu().numpy()\n",
    ")"
   ],
   "id": "9f5323936f924fff",
   "outputs": [],
   "execution_count": 6
  },
  {
   "metadata": {
    "ExecuteTime": {
     "end_time": "2024-11-17T02:16:02.726836Z",
     "start_time": "2024-11-17T02:16:02.703807Z"
    }
   },
   "cell_type": "code",
   "source": [
    "image_indices = batch['indices'][:, 0]\n",
    "all_frames = manager.train_dataset.metadata['all_frames']\n",
    "frames = datamanager.image_idx_to_frame(image_indices, all_frames)\n",
    "frames_expanded = frames.to(positions.device).view(positions.shape[0], 1, 1).expand(-1, positions.shape[1], -1)\n",
    "xyzt = torch.cat((positions, frames_expanded), dim=-1)\n",
    "\n",
    "print(all_frames)\n",
    "print(image_indices)\n",
    "print(frames)\n",
    "print(frames.shape)\n",
    "print(xyzt.shape)"
   ],
   "id": "ff2d07a37e190d89",
   "outputs": [
    {
     "name": "stdout",
     "output_type": "stream",
     "text": [
      "[120, 120, 120, 120]\n",
      "tensor([ 36.5588, 424.4061, 462.1608,  ..., 276.2364, 333.5029, 195.6115])\n",
      "tensor([ 36.5588,  64.4061, 102.1608,  ...,  36.2364,  93.5029,  75.6115])\n",
      "torch.Size([1024])\n",
      "torch.Size([1024, 192, 4])\n"
     ]
    }
   ],
   "execution_count": 7
  },
  {
   "metadata": {
    "ExecuteTime": {
     "end_time": "2024-11-17T02:21:18.590805Z",
     "start_time": "2024-11-17T02:21:15.993034Z"
    }
   },
   "cell_type": "code",
   "source": [
    "import encoder\n",
    "import taichi as ti\n",
    "\n",
    "ti.init(arch=ti.cuda)\n",
    "xyzt_encoder = encoder.HashEncoderHyFluid(\n",
    "    min_res=np.array([16, 16, 16, 16]),\n",
    "    max_res=np.array([256, 256, 256, 128]),\n",
    "    num_scales=16,\n",
    "    max_params=2 ** 19,\n",
    ")\n",
    "xyzt_encoder.to(device)\n",
    "\n",
    "xyzt_flat = xyzt.reshape(-1, 4)\n",
    "xyzt_encoded = xyzt_encoder(xyzt_flat)"
   ],
   "id": "524f7973c06cee52",
   "outputs": [
    {
     "name": "stdout",
     "output_type": "stream",
     "text": [
      "[Taichi] Starting on arch=cuda\n"
     ]
    }
   ],
   "execution_count": 29
  },
  {
   "metadata": {
    "ExecuteTime": {
     "end_time": "2024-11-17T02:21:27.287301Z",
     "start_time": "2024-11-17T02:21:27.284060Z"
    }
   },
   "cell_type": "code",
   "source": "print(xyzt_encoded.shape)",
   "id": "9a63d93ec95879e",
   "outputs": [
    {
     "name": "stdout",
     "output_type": "stream",
     "text": [
      "torch.Size([196608, 32])\n",
      "cuda:0\n"
     ]
    }
   ],
   "execution_count": 30
  },
  {
   "metadata": {
    "ExecuteTime": {
     "end_time": "2024-11-17T02:27:32.909105Z",
     "start_time": "2024-11-17T02:27:32.902824Z"
    }
   },
   "cell_type": "code",
   "source": [
    "from nerfstudio.field_components.mlp import MLP\n",
    "import radam\n",
    "\n",
    "mlp_base = MLP(\n",
    "    in_dim=xyzt_encoder.num_scales * xyzt_encoder.features_per_level,\n",
    "    num_layers=2,\n",
    "    layer_width=64,\n",
    "    out_dim=1,\n",
    "    out_activation=torch.nn.ReLU(),\n",
    ")\n",
    "mlp_base.to(device)\n",
    "learned_rgb = torch.nn.Parameter(torch.tensor([0.0], device=device))\n",
    "\n",
    "grad_vars = list(mlp_base.parameters()) + [learned_rgb]\n",
    "embedding_params = list(xyzt_encoder.parameters())\n",
    "\n",
    "optimizer = radam.RAdam([\n",
    "    {'params': grad_vars, 'weight_decay': 1e-6},\n",
    "    {'params': embedding_params, 'eps': 1e-15}\n",
    "], lr=0.01, betas=(0.9, 0.99))"
   ],
   "id": "c47b59ed8a2f74da",
   "outputs": [],
   "execution_count": 47
  },
  {
   "metadata": {
    "ExecuteTime": {
     "end_time": "2024-11-17T02:27:36.399618Z",
     "start_time": "2024-11-17T02:27:36.395256Z"
    }
   },
   "cell_type": "code",
   "source": [
    "density_flat = mlp_base(xyzt_encoded)\n",
    "density = density_flat.reshape(xyzt.shape[0], xyzt.shape[1], density_flat.shape[-1])\n",
    "print(f'density: {density.shape}')"
   ],
   "id": "47396eb0ee28b302",
   "outputs": [
    {
     "name": "stdout",
     "output_type": "stream",
     "text": [
      "density: torch.Size([1024, 192, 1])\n"
     ]
    }
   ],
   "execution_count": 48
  },
  {
   "metadata": {
    "ExecuteTime": {
     "end_time": "2024-11-17T02:27:38.637423Z",
     "start_time": "2024-11-17T02:27:38.621921Z"
    }
   },
   "cell_type": "code",
   "source": [
    "raw2alpha = lambda raw, dists, act_fn=torch.nn.functional.relu: 1. - torch.exp(-act_fn(raw) * dists)\n",
    "dists = ray_samples_uniform.deltas\n",
    "rgb = torch.ones(3, device=device) * (0.6 + torch.tanh(learned_rgb) * 0.4)\n",
    "alpha = raw2alpha(density[..., -1], dists[..., -1])\n",
    "weights = alpha * torch.cumprod(torch.cat([torch.ones((alpha.shape[0], 1), device=device), 1. - alpha + 1e-10], -1), -1)[:, :-1]\n",
    "rgb_map = torch.sum(weights[..., None] * rgb, -2)\n",
    "\n",
    "print(f'dists: {dists.shape}')\n",
    "print(f'alpha: {alpha.shape}')\n",
    "print(f'weights: {weights.shape}')\n",
    "print(f'rgb_map: {rgb_map.shape}')"
   ],
   "id": "367ade216b5bdb57",
   "outputs": [
    {
     "name": "stdout",
     "output_type": "stream",
     "text": [
      "dists: torch.Size([1024, 192, 1])\n",
      "alpha: torch.Size([1024, 192])\n",
      "weights: torch.Size([1024, 192])\n",
      "rgb_map: torch.Size([1024, 3])\n"
     ]
    }
   ],
   "execution_count": 49
  },
  {
   "metadata": {
    "ExecuteTime": {
     "end_time": "2024-11-17T02:47:01.003553Z",
     "start_time": "2024-11-17T02:46:15.030198Z"
    }
   },
   "cell_type": "code",
   "source": [
    "from nerfstudio.model_components.losses import MSELoss\n",
    "rgb_loss = MSELoss()\n",
    "\n",
    "image = batch['image'].to(device)\n",
    "loss = rgb_loss(rgb_map, image)\n",
    "\n",
    "optimizer.zero_grad()\n",
    "loss.backward()\n",
    "optimizer.step()\n",
    "\n",
    "# print(loss.shape)"
   ],
   "id": "404eaf1e5897156b",
   "outputs": [
    {
     "name": "stderr",
     "output_type": "stream",
     "text": [
      "\n",
      "KeyboardInterrupt\n",
      "\n"
     ]
    }
   ],
   "execution_count": 57
  }
 ],
 "metadata": {
  "kernelspec": {
   "display_name": "Python 3",
   "language": "python",
   "name": "python3"
  },
  "language_info": {
   "codemirror_mode": {
    "name": "ipython",
    "version": 2
   },
   "file_extension": ".py",
   "mimetype": "text/x-python",
   "name": "python",
   "nbconvert_exporter": "python",
   "pygments_lexer": "ipython2",
   "version": "2.7.6"
  }
 },
 "nbformat": 4,
 "nbformat_minor": 5
}
