{
 "cells": [
  {
   "cell_type": "code",
   "id": "initial_id",
   "metadata": {
    "collapsed": true,
    "ExecuteTime": {
     "end_time": "2025-01-19T10:09:23.348565Z",
     "start_time": "2025-01-19T10:09:23.282295Z"
    }
   },
   "source": "import numpy as np",
   "outputs": [],
   "execution_count": 1
  },
  {
   "metadata": {
    "ExecuteTime": {
     "end_time": "2025-01-19T12:32:55.169892Z",
     "start_time": "2025-01-19T12:32:54.793782Z"
    }
   },
   "cell_type": "code",
   "source": [
    "ret = np.load('01_density_only/den_our_high_res_000029/den.npy.npz')['arr_0']\n",
    "np.count_nonzero(ret)"
   ],
   "id": "92c027e14352ca1b",
   "outputs": [
    {
     "ename": "MemoryError",
     "evalue": "Unable to allocate 90.0 GiB for an array with shape (24159191040,) and data type float32",
     "output_type": "error",
     "traceback": [
      "\u001B[1;31m---------------------------------------------------------------------------\u001B[0m",
      "\u001B[1;31mMemoryError\u001B[0m                               Traceback (most recent call last)",
      "Cell \u001B[1;32mIn[9], line 1\u001B[0m\n\u001B[1;32m----> 1\u001B[0m ret \u001B[38;5;241m=\u001B[39m \u001B[43mnp\u001B[49m\u001B[38;5;241;43m.\u001B[39;49m\u001B[43mload\u001B[49m\u001B[43m(\u001B[49m\u001B[38;5;124;43m'\u001B[39;49m\u001B[38;5;124;43m01_density_only/den_our_high_res_000029/den.npy.npz\u001B[39;49m\u001B[38;5;124;43m'\u001B[39;49m\u001B[43m)\u001B[49m\u001B[43m[\u001B[49m\u001B[38;5;124;43m'\u001B[39;49m\u001B[38;5;124;43marr_0\u001B[39;49m\u001B[38;5;124;43m'\u001B[39;49m\u001B[43m]\u001B[49m\n\u001B[0;32m      2\u001B[0m np\u001B[38;5;241m.\u001B[39mcount_nonzero(ret)\n",
      "File \u001B[1;32m~\\AppData\\Local\\Programs\\Python\\Python311\\Lib\\site-packages\\numpy\\lib\\_npyio_impl.py:254\u001B[0m, in \u001B[0;36mNpzFile.__getitem__\u001B[1;34m(self, key)\u001B[0m\n\u001B[0;32m    252\u001B[0m \u001B[38;5;28;01mif\u001B[39;00m magic \u001B[38;5;241m==\u001B[39m \u001B[38;5;28mformat\u001B[39m\u001B[38;5;241m.\u001B[39mMAGIC_PREFIX:\n\u001B[0;32m    253\u001B[0m     \u001B[38;5;28mbytes\u001B[39m \u001B[38;5;241m=\u001B[39m \u001B[38;5;28mself\u001B[39m\u001B[38;5;241m.\u001B[39mzip\u001B[38;5;241m.\u001B[39mopen(key)\n\u001B[1;32m--> 254\u001B[0m     \u001B[38;5;28;01mreturn\u001B[39;00m \u001B[38;5;28;43mformat\u001B[39;49m\u001B[38;5;241;43m.\u001B[39;49m\u001B[43mread_array\u001B[49m\u001B[43m(\u001B[49m\u001B[38;5;28;43mbytes\u001B[39;49m\u001B[43m,\u001B[49m\n\u001B[0;32m    255\u001B[0m \u001B[43m                             \u001B[49m\u001B[43mallow_pickle\u001B[49m\u001B[38;5;241;43m=\u001B[39;49m\u001B[38;5;28;43mself\u001B[39;49m\u001B[38;5;241;43m.\u001B[39;49m\u001B[43mallow_pickle\u001B[49m\u001B[43m,\u001B[49m\n\u001B[0;32m    256\u001B[0m \u001B[43m                             \u001B[49m\u001B[43mpickle_kwargs\u001B[49m\u001B[38;5;241;43m=\u001B[39;49m\u001B[38;5;28;43mself\u001B[39;49m\u001B[38;5;241;43m.\u001B[39;49m\u001B[43mpickle_kwargs\u001B[49m\u001B[43m,\u001B[49m\n\u001B[0;32m    257\u001B[0m \u001B[43m                             \u001B[49m\u001B[43mmax_header_size\u001B[49m\u001B[38;5;241;43m=\u001B[39;49m\u001B[38;5;28;43mself\u001B[39;49m\u001B[38;5;241;43m.\u001B[39;49m\u001B[43mmax_header_size\u001B[49m\u001B[43m)\u001B[49m\n\u001B[0;32m    258\u001B[0m \u001B[38;5;28;01melse\u001B[39;00m:\n\u001B[0;32m    259\u001B[0m     \u001B[38;5;28;01mreturn\u001B[39;00m \u001B[38;5;28mself\u001B[39m\u001B[38;5;241m.\u001B[39mzip\u001B[38;5;241m.\u001B[39mread(key)\n",
      "File \u001B[1;32m~\\AppData\\Local\\Programs\\Python\\Python311\\Lib\\site-packages\\numpy\\lib\\format.py:842\u001B[0m, in \u001B[0;36mread_array\u001B[1;34m(fp, allow_pickle, pickle_kwargs, max_header_size)\u001B[0m\n\u001B[0;32m    829\u001B[0m     array \u001B[38;5;241m=\u001B[39m numpy\u001B[38;5;241m.\u001B[39mfromfile(fp, dtype\u001B[38;5;241m=\u001B[39mdtype, count\u001B[38;5;241m=\u001B[39mcount)\n\u001B[0;32m    830\u001B[0m \u001B[38;5;28;01melse\u001B[39;00m:\n\u001B[0;32m    831\u001B[0m     \u001B[38;5;66;03m# This is not a real file. We have to read it the\u001B[39;00m\n\u001B[0;32m    832\u001B[0m     \u001B[38;5;66;03m# memory-intensive way.\u001B[39;00m\n\u001B[1;32m   (...)\u001B[0m\n\u001B[0;32m    840\u001B[0m     \u001B[38;5;66;03m# not correctly instantiate zero-width string dtypes; see\u001B[39;00m\n\u001B[0;32m    841\u001B[0m     \u001B[38;5;66;03m# https://github.com/numpy/numpy/pull/6430\u001B[39;00m\n\u001B[1;32m--> 842\u001B[0m     array \u001B[38;5;241m=\u001B[39m \u001B[43mnumpy\u001B[49m\u001B[38;5;241;43m.\u001B[39;49m\u001B[43mndarray\u001B[49m\u001B[43m(\u001B[49m\u001B[43mcount\u001B[49m\u001B[43m,\u001B[49m\u001B[43m \u001B[49m\u001B[43mdtype\u001B[49m\u001B[38;5;241;43m=\u001B[39;49m\u001B[43mdtype\u001B[49m\u001B[43m)\u001B[49m\n\u001B[0;32m    844\u001B[0m     \u001B[38;5;28;01mif\u001B[39;00m dtype\u001B[38;5;241m.\u001B[39mitemsize \u001B[38;5;241m>\u001B[39m \u001B[38;5;241m0\u001B[39m:\n\u001B[0;32m    845\u001B[0m         \u001B[38;5;66;03m# If dtype.itemsize == 0 then there's nothing more to read\u001B[39;00m\n\u001B[0;32m    846\u001B[0m         max_read_count \u001B[38;5;241m=\u001B[39m BUFFER_SIZE \u001B[38;5;241m/\u001B[39m\u001B[38;5;241m/\u001B[39m \u001B[38;5;28mmin\u001B[39m(BUFFER_SIZE, dtype\u001B[38;5;241m.\u001B[39mitemsize)\n",
      "\u001B[1;31mMemoryError\u001B[0m: Unable to allocate 90.0 GiB for an array with shape (24159191040,) and data type float32"
     ]
    }
   ],
   "execution_count": 9
  }
 ],
 "metadata": {
  "kernelspec": {
   "display_name": "Python 3",
   "language": "python",
   "name": "python3"
  },
  "language_info": {
   "codemirror_mode": {
    "name": "ipython",
    "version": 2
   },
   "file_extension": ".py",
   "mimetype": "text/x-python",
   "name": "python",
   "nbconvert_exporter": "python",
   "pygments_lexer": "ipython2",
   "version": "2.7.6"
  }
 },
 "nbformat": 4,
 "nbformat_minor": 5
}
