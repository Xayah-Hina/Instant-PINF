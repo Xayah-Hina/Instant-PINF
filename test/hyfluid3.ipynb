{
 "cells": [
  {
   "metadata": {},
   "cell_type": "markdown",
   "source": "## Preprocessing",
   "id": "b7078d58b6c842e9"
  },
  {
   "cell_type": "code",
   "id": "initial_id",
   "metadata": {
    "collapsed": true,
    "ExecuteTime": {
     "end_time": "2024-12-01T08:57:52.920705Z",
     "start_time": "2024-12-01T08:57:46.855565Z"
    }
   },
   "source": [
    "import torch\n",
    "import taichi as ti\n",
    "import numpy as np\n",
    "import imageio.v2 as imageio\n",
    "import math\n",
    "from tqdm import tqdm, trange\n",
    "import matplotlib.pyplot as plt\n",
    "import os\n",
    "import json\n",
    "import lpips\n",
    "\n",
    "device = torch.device(\"cuda\")"
   ],
   "outputs": [
    {
     "name": "stdout",
     "output_type": "stream",
     "text": [
      "[Taichi] version 1.7.2, llvm 15.0.1, commit 0131dce9, win, python 3.11.0\n"
     ]
    }
   ],
   "execution_count": 1
  },
  {
   "metadata": {
    "ExecuteTime": {
     "end_time": "2024-12-01T08:57:52.933834Z",
     "start_time": "2024-12-01T08:57:52.923225Z"
    }
   },
   "cell_type": "code",
   "source": [
    "from types import SimpleNamespace\n",
    "\n",
    "args_npz = np.load(\"args.npz\", allow_pickle=True)\n",
    "args = SimpleNamespace(**{\n",
    "    key: value.item() if isinstance(value, np.ndarray) and value.size == 1 else\n",
    "    value.tolist() if isinstance(value, np.ndarray) else\n",
    "    value\n",
    "    for key, value in args_npz.items()\n",
    "})"
   ],
   "id": "2b37f6b833767b19",
   "outputs": [],
   "execution_count": 2
  },
  {
   "metadata": {
    "ExecuteTime": {
     "end_time": "2024-12-01T08:57:59.758017Z",
     "start_time": "2024-12-01T08:57:53.095918Z"
    }
   },
   "cell_type": "code",
   "source": [
    "pinf_data = np.load(\"train_dataset.npz\")\n",
    "images_train_ = pinf_data['images_train']\n",
    "poses_train = pinf_data['poses_train']\n",
    "hwf = pinf_data['hwf']\n",
    "render_poses = pinf_data['render_poses']\n",
    "render_timesteps = pinf_data['render_timesteps']\n",
    "voxel_tran = pinf_data['voxel_tran']\n",
    "voxel_scale = pinf_data['voxel_scale']\n",
    "near = pinf_data['near'].item()\n",
    "far = pinf_data['far'].item()\n",
    "\n",
    "pinf_data_test = np.load(\"test_dataset.npz\")\n",
    "images_test = pinf_data_test['images_test']\n",
    "poses_test = pinf_data_test['poses_test']"
   ],
   "id": "7b7ceaa95904aaa2",
   "outputs": [],
   "execution_count": 3
  },
  {
   "metadata": {
    "ExecuteTime": {
     "end_time": "2024-12-01T08:58:00.899464Z",
     "start_time": "2024-12-01T08:57:59.860790Z"
    }
   },
   "cell_type": "code",
   "source": [
    "ti.init(arch=ti.cuda, device_memory_GB=8.0)\n",
    "from encoder import HashEncoderHyFluid\n",
    "\n",
    "max_res = np.array([args.finest_resolution, args.finest_resolution, args.finest_resolution, args.finest_resolution_t])\n",
    "min_res = np.array([args.base_resolution, args.base_resolution, args.base_resolution, args.base_resolution_t])\n",
    "embed_fn = HashEncoderHyFluid(min_res=min_res, max_res=max_res, num_scales=args.num_levels,\n",
    "                              max_params=2 ** args.log2_hashmap_size).to(device)\n",
    "input_ch = embed_fn.num_scales * 2  # default 2 params per scale\n",
    "embedding_params = list(embed_fn.parameters())"
   ],
   "id": "4f6ff72080e39126",
   "outputs": [
    {
     "name": "stdout",
     "output_type": "stream",
     "text": [
      "[Taichi] Starting on arch=cuda\n"
     ]
    },
    {
     "name": "stderr",
     "output_type": "stream",
     "text": [
      "C:\\Users\\imeho\\Desktop\\241118\\Instant-PINF\\test\\encoder.py:275: FutureWarning: `torch.cuda.amp.custom_fwd(args...)` is deprecated. Please use `torch.amp.custom_fwd(args..., device_type='cuda')` instead.\n",
      "  @custom_fwd(cast_inputs=torch.float32)\n",
      "C:\\Users\\imeho\\Desktop\\241118\\Instant-PINF\\test\\encoder.py:298: FutureWarning: `torch.cuda.amp.custom_bwd(args...)` is deprecated. Please use `torch.amp.custom_bwd(args..., device_type='cuda')` instead.\n",
      "  @custom_bwd\n",
      "C:\\Users\\imeho\\Desktop\\241118\\Instant-PINF\\test\\encoder.py:310: FutureWarning: `torch.cuda.amp.custom_fwd(args...)` is deprecated. Please use `torch.amp.custom_fwd(args..., device_type='cuda')` instead.\n",
      "  @custom_fwd(cast_inputs=torch.float32)\n",
      "C:\\Users\\imeho\\Desktop\\241118\\Instant-PINF\\test\\encoder.py:336: FutureWarning: `torch.cuda.amp.custom_bwd(args...)` is deprecated. Please use `torch.amp.custom_bwd(args..., device_type='cuda')` instead.\n",
      "  @custom_bwd\n"
     ]
    }
   ],
   "execution_count": 4
  },
  {
   "metadata": {
    "ExecuteTime": {
     "end_time": "2024-12-01T08:58:01.004135Z",
     "start_time": "2024-12-01T08:58:00.929092Z"
    }
   },
   "cell_type": "code",
   "source": [
    "class NeRFSmall(torch.nn.Module):\n",
    "    def __init__(self,\n",
    "                 num_layers=3,\n",
    "                 hidden_dim=64,\n",
    "                 geo_feat_dim=15,\n",
    "                 num_layers_color=2,\n",
    "                 hidden_dim_color=16,\n",
    "                 input_ch=3,\n",
    "                 ):\n",
    "        super(NeRFSmall, self).__init__()\n",
    "\n",
    "        self.input_ch = input_ch\n",
    "        self.rgb = torch.nn.Parameter(torch.tensor([0.0], device=device, dtype=torch.float32))\n",
    "\n",
    "        # sigma network\n",
    "        self.num_layers = num_layers\n",
    "        self.hidden_dim = hidden_dim\n",
    "        self.geo_feat_dim = geo_feat_dim\n",
    "\n",
    "        sigma_net = []\n",
    "        for l in range(num_layers):\n",
    "            if l == 0:\n",
    "                in_dim = self.input_ch\n",
    "            else:\n",
    "                in_dim = hidden_dim\n",
    "\n",
    "            if l == num_layers - 1:\n",
    "                out_dim = 1  # 1 sigma + 15 SH features for color\n",
    "            else:\n",
    "                out_dim = hidden_dim\n",
    "\n",
    "            sigma_net.append(torch.nn.Linear(in_dim, out_dim, bias=False, device=device, dtype=torch.float32))\n",
    "\n",
    "        self.sigma_net = torch.nn.ModuleList(sigma_net)\n",
    "\n",
    "        self.color_net = []\n",
    "        for l in range(num_layers_color):\n",
    "            if l == 0:\n",
    "                in_dim = 1\n",
    "            else:\n",
    "                in_dim = hidden_dim_color\n",
    "\n",
    "            if l == num_layers_color - 1:\n",
    "                out_dim = 1\n",
    "            else:\n",
    "                out_dim = hidden_dim_color\n",
    "\n",
    "            self.color_net.append(torch.nn.Linear(in_dim, out_dim, bias=True, device=device, dtype=torch.float32))\n",
    "\n",
    "    def forward(self, x):\n",
    "        h = x\n",
    "        for l in range(self.num_layers):\n",
    "            h = self.sigma_net[l](h)\n",
    "            h = torch.nn.functional.relu(h, inplace=True)\n",
    "\n",
    "        sigma = h\n",
    "        return sigma\n",
    "\n",
    "\n",
    "model = NeRFSmall(num_layers=2,\n",
    "                  hidden_dim=64,\n",
    "                  geo_feat_dim=15,\n",
    "                  num_layers_color=2,\n",
    "                  hidden_dim_color=16,\n",
    "                  input_ch=input_ch).to(device)\n",
    "grad_vars = list(model.parameters())"
   ],
   "id": "99bbfe6ae7099dbf",
   "outputs": [],
   "execution_count": 5
  },
  {
   "metadata": {
    "ExecuteTime": {
     "end_time": "2024-12-01T08:58:01.164212Z",
     "start_time": "2024-12-01T08:58:01.151540Z"
    }
   },
   "cell_type": "code",
   "source": [
    "from torch.optim.optimizer import Optimizer\n",
    "\n",
    "\n",
    "class RAdam(Optimizer):\n",
    "\n",
    "    def __init__(self, params, lr=1e-3, betas=(0.9, 0.999), eps=1e-8, weight_decay=0, degenerated_to_sgd=False):\n",
    "        if not 0.0 <= lr:\n",
    "            raise ValueError(\"Invalid learning rate: {}\".format(lr))\n",
    "        if not 0.0 <= eps:\n",
    "            raise ValueError(\"Invalid epsilon value: {}\".format(eps))\n",
    "        if not 0.0 <= betas[0] < 1.0:\n",
    "            raise ValueError(\"Invalid beta parameter at index 0: {}\".format(betas[0]))\n",
    "        if not 0.0 <= betas[1] < 1.0:\n",
    "            raise ValueError(\"Invalid beta parameter at index 1: {}\".format(betas[1]))\n",
    "\n",
    "        self.degenerated_to_sgd = degenerated_to_sgd\n",
    "        if isinstance(params, (list, tuple)) and len(params) > 0 and isinstance(params[0], dict):\n",
    "            for param in params:\n",
    "                if 'betas' in param and (param['betas'][0] != betas[0] or param['betas'][1] != betas[1]):\n",
    "                    param['buffer'] = [[None, None, None] for _ in range(10)]\n",
    "        defaults = dict(lr=lr, betas=betas, eps=eps, weight_decay=weight_decay,\n",
    "                        buffer=[[None, None, None] for _ in range(10)])\n",
    "        super(RAdam, self).__init__(params, defaults)\n",
    "\n",
    "    def __setstate__(self, state):\n",
    "        super(RAdam, self).__setstate__(state)\n",
    "\n",
    "    def step(self, closure=None):\n",
    "\n",
    "        loss = None\n",
    "        if closure is not None:\n",
    "            loss = closure()\n",
    "\n",
    "        for group in self.param_groups:\n",
    "\n",
    "            for p in group['params']:\n",
    "                if p.grad is None:\n",
    "                    continue\n",
    "                grad = p.grad.data.float()\n",
    "                if grad.is_sparse:\n",
    "                    raise RuntimeError('RAdam does not support sparse gradients')\n",
    "\n",
    "                p_data_fp32 = p.data.float()\n",
    "\n",
    "                state = self.state[p]\n",
    "\n",
    "                if len(state) == 0:\n",
    "                    state['step'] = 0\n",
    "                    state['exp_avg'] = torch.zeros_like(p_data_fp32)\n",
    "                    state['exp_avg_sq'] = torch.zeros_like(p_data_fp32)\n",
    "                else:\n",
    "                    state['exp_avg'] = state['exp_avg'].type_as(p_data_fp32)\n",
    "                    state['exp_avg_sq'] = state['exp_avg_sq'].type_as(p_data_fp32)\n",
    "\n",
    "                exp_avg, exp_avg_sq = state['exp_avg'], state['exp_avg_sq']\n",
    "                beta1, beta2 = group['betas']\n",
    "\n",
    "                exp_avg_sq.mul_(beta2).addcmul_(grad, grad, value=1 - beta2)\n",
    "                exp_avg.mul_(beta1).add_(grad, alpha=1 - beta1)\n",
    "\n",
    "                state['step'] += 1\n",
    "                buffered = group['buffer'][int(state['step'] % 10)]\n",
    "                if state['step'] == buffered[0]:\n",
    "                    N_sma, step_size = buffered[1], buffered[2]\n",
    "                else:\n",
    "                    buffered[0] = state['step']\n",
    "                    beta2_t = beta2 ** state['step']\n",
    "                    N_sma_max = 2 / (1 - beta2) - 1\n",
    "                    N_sma = N_sma_max - 2 * state['step'] * beta2_t / (1 - beta2_t)\n",
    "                    buffered[1] = N_sma\n",
    "\n",
    "                    # more conservative since it's an approximated value\n",
    "                    if N_sma >= 5:\n",
    "                        step_size = math.sqrt(\n",
    "                            (1 - beta2_t) * (N_sma - 4) / (N_sma_max - 4) * (N_sma - 2) / N_sma * N_sma_max / (\n",
    "                                    N_sma_max - 2)) / (1 - beta1 ** state['step'])\n",
    "                    elif self.degenerated_to_sgd:\n",
    "                        step_size = 1.0 / (1 - beta1 ** state['step'])\n",
    "                    else:\n",
    "                        step_size = -1\n",
    "                    buffered[2] = step_size\n",
    "\n",
    "                # more conservative since it's an approximated value\n",
    "                if N_sma >= 5:\n",
    "                    if group['weight_decay'] != 0:\n",
    "                        p_data_fp32.add_(p_data_fp32, alpha=-group['weight_decay'] * group['lr'])\n",
    "                    denom = exp_avg_sq.sqrt().add_(group['eps'])\n",
    "                    p_data_fp32.addcdiv_(exp_avg, denom, value=-step_size * group['lr'])\n",
    "                    p.data.copy_(p_data_fp32)\n",
    "                elif step_size > 0:\n",
    "                    if group['weight_decay'] != 0:\n",
    "                        p_data_fp32.add_(p_data_fp32, alpha=-group['weight_decay'] * group['lr'])\n",
    "                    p_data_fp32.add_(exp_avg, alpha=-step_size * group['lr'])\n",
    "                    p.data.copy_(p_data_fp32)\n",
    "\n",
    "        return loss\n",
    "\n",
    "\n",
    "optimizer = RAdam([\n",
    "    {'params': grad_vars, 'weight_decay': 1e-6},\n",
    "    {'params': embedding_params, 'eps': 1e-15}\n",
    "], lr=args.lrate, betas=(0.9, 0.99))\n",
    "grad_vars += list(embedding_params)"
   ],
   "id": "1a980c9a5978fd58",
   "outputs": [],
   "execution_count": 6
  },
  {
   "metadata": {
    "ExecuteTime": {
     "end_time": "2024-12-01T08:58:01.192761Z",
     "start_time": "2024-12-01T08:58:01.188420Z"
    }
   },
   "cell_type": "code",
   "source": [
    "H, W, focal = hwf\n",
    "H, W = int(H), int(W)\n",
    "hwf = [H, W, focal]\n",
    "K = np.array([\n",
    "    [focal, 0, 0.5 * W],\n",
    "    [0, focal, 0.5 * H],\n",
    "    [0, 0, 1]\n",
    "])"
   ],
   "id": "64ee5db55bf65b3d",
   "outputs": [],
   "execution_count": 7
  },
  {
   "metadata": {
    "ExecuteTime": {
     "end_time": "2024-12-01T08:58:01.348474Z",
     "start_time": "2024-12-01T08:58:01.217024Z"
    }
   },
   "cell_type": "code",
   "source": [
    "def pos_world2smoke(Pworld, w2s, scale_vector):\n",
    "    pos_rot = torch.sum(Pworld[..., None, :] * (w2s[:3, :3]), -1)  # 4.world to 3.target\n",
    "    pos_off = (w2s[:3, -1]).expand(pos_rot.shape)  # 4.world to 3.target\n",
    "    new_pose = pos_rot + pos_off\n",
    "    pos_scale = new_pose / (scale_vector)  # 3.target to 2.simulation\n",
    "    return pos_scale\n",
    "\n",
    "\n",
    "class BBox_Tool(object):\n",
    "    def __init__(self, smoke_tran_inv, smoke_scale, in_min=[0.15, 0.0, 0.15], in_max=[0.85, 1., 0.85]):\n",
    "        self.s_w2s = torch.tensor(smoke_tran_inv, device=device, dtype=torch.float32).expand([4, 4])\n",
    "        self.s2w = torch.inverse(self.s_w2s)\n",
    "        self.s_scale = torch.tensor(smoke_scale.copy(), device=device, dtype=torch.float32).expand([3])\n",
    "        self.s_min = torch.tensor(in_min, device=device, dtype=torch.float32)\n",
    "        self.s_max = torch.tensor(in_max, device=device, dtype=torch.float32)\n",
    "\n",
    "    def world2sim(self, pts_world):\n",
    "        pts_world_homo = torch.cat([pts_world, torch.ones_like(pts_world[..., :1])], dim=-1)\n",
    "        pts_sim_ = torch.matmul(self.s_w2s, pts_world_homo[..., None]).squeeze(-1)[..., :3]\n",
    "        pts_sim = pts_sim_ / (self.s_scale)  # 3.target to 2.simulation\n",
    "        return pts_sim\n",
    "\n",
    "    def world2sim_rot(self, pts_world):\n",
    "        pts_sim_ = torch.matmul(self.s_w2s[:3, :3], pts_world[..., None]).squeeze(-1)\n",
    "        pts_sim = pts_sim_ / (self.s_scale)  # 3.target to 2.simulation\n",
    "        return pts_sim\n",
    "\n",
    "    def sim2world(self, pts_sim):\n",
    "        pts_sim_ = pts_sim * self.s_scale\n",
    "        pts_sim_homo = torch.cat([pts_sim_, torch.ones_like(pts_sim_[..., :1])], dim=-1)\n",
    "        pts_world = torch.matmul(self.s2w, pts_sim_homo[..., None]).squeeze(-1)[..., :3]\n",
    "        return pts_world\n",
    "\n",
    "    def sim2world_rot(self, pts_sim):\n",
    "        pts_sim_ = pts_sim * self.s_scale\n",
    "        pts_world = torch.matmul(self.s2w[:3, :3], pts_sim_[..., None]).squeeze(-1)\n",
    "        return pts_world\n",
    "\n",
    "    def isInside(self, inputs_pts):\n",
    "        target_pts = pos_world2smoke(inputs_pts, self.s_w2s, self.s_scale)\n",
    "        above = torch.logical_and(target_pts[..., 0] >= self.s_min[0], target_pts[..., 1] >= self.s_min[1])\n",
    "        above = torch.logical_and(above, target_pts[..., 2] >= self.s_min[2])\n",
    "        below = torch.logical_and(target_pts[..., 0] <= self.s_max[0], target_pts[..., 1] <= self.s_max[1])\n",
    "        below = torch.logical_and(below, target_pts[..., 2] <= self.s_max[2])\n",
    "        outputs = torch.logical_and(below, above)\n",
    "        return outputs\n",
    "\n",
    "    def insideMask(self, inputs_pts, to_float=True):\n",
    "        return self.isInside(inputs_pts).to(torch.float) if to_float else self.isInside(inputs_pts)\n",
    "\n",
    "\n",
    "voxel_tran_inv = np.linalg.inv(voxel_tran)\n",
    "bbox_model = BBox_Tool(voxel_tran_inv, voxel_scale)"
   ],
   "id": "10befeead07604b9",
   "outputs": [],
   "execution_count": 8
  },
  {
   "metadata": {
    "ExecuteTime": {
     "end_time": "2024-12-01T09:00:00.433956Z",
     "start_time": "2024-12-01T08:58:01.371889Z"
    }
   },
   "cell_type": "code",
   "source": [
    "def get_rays_np_continuous(H, W, K, c2w):\n",
    "    i, j = np.meshgrid(np.arange(W, dtype=np.float32), np.arange(H, dtype=np.float32), indexing='xy')\n",
    "    random_offset_i = np.random.uniform(0, 1, size=(H, W))\n",
    "    random_offset_j = np.random.uniform(0, 1, size=(H, W))\n",
    "    i = i + random_offset_i\n",
    "    j = j + random_offset_j\n",
    "    i = np.clip(i, 0, W - 1)\n",
    "    j = np.clip(j, 0, H - 1)\n",
    "\n",
    "    dirs = np.stack([(i - K[0][2]) / K[0][0], -(j - K[1][2]) / K[1][1], -np.ones_like(i)], -1)\n",
    "    # Rotate ray directions from camera frame to the world frame\n",
    "    rays_d = np.sum(dirs[..., np.newaxis, :] * c2w[:3, :3],\n",
    "                    -1)  # dot product, equals to: [c2w.dot(dir) for dir in dirs]\n",
    "    # Translate camera frame's origin to the world frame. It is the origin of all rays.\n",
    "    rays_o = np.broadcast_to(c2w[:3, -1], np.shape(rays_d))\n",
    "    return rays_o, rays_d, i, j\n",
    "\n",
    "\n",
    "def sample_bilinear(img, xy):\n",
    "    \"\"\"\n",
    "    Sample image with bilinear interpolation\n",
    "    :param img: (T, V, H, W, 3)\n",
    "    :param xy: (V, 2, H, W)\n",
    "    :return: img: (T, V, H, W, 3)\n",
    "    \"\"\"\n",
    "    T, V, H, W, _ = img.shape\n",
    "    u, v = xy[:, 0], xy[:, 1]\n",
    "\n",
    "    u = np.clip(u, 0, W - 1)\n",
    "    v = np.clip(v, 0, H - 1)\n",
    "\n",
    "    u_floor, v_floor = np.floor(u).astype(int), np.floor(v).astype(int)\n",
    "    u_ceil, v_ceil = np.ceil(u).astype(int), np.ceil(v).astype(int)\n",
    "\n",
    "    u_ratio, v_ratio = u - u_floor, v - v_floor\n",
    "    u_ratio, v_ratio = u_ratio[None, ..., None], v_ratio[None, ..., None]\n",
    "\n",
    "    bottom_left = img[:, np.arange(V)[:, None, None], v_floor, u_floor]\n",
    "    bottom_right = img[:, np.arange(V)[:, None, None], v_floor, u_ceil]\n",
    "    top_left = img[:, np.arange(V)[:, None, None], v_ceil, u_floor]\n",
    "    top_right = img[:, np.arange(V)[:, None, None], v_ceil, u_ceil]\n",
    "\n",
    "    bottom = (1 - u_ratio) * bottom_left + u_ratio * bottom_right\n",
    "    top = (1 - u_ratio) * top_left + u_ratio * top_right\n",
    "\n",
    "    interpolated = (1 - v_ratio) * bottom + v_ratio * top\n",
    "\n",
    "    return interpolated\n",
    "\n",
    "\n",
    "rays_list = []\n",
    "ij = []\n",
    "for p in poses_train[:, :3, :4]:\n",
    "    r_o, r_d, i_, j_ = get_rays_np_continuous(H, W, K, p)\n",
    "    rays_list.append([r_o, r_d])\n",
    "    ij.append([i_, j_])\n",
    "rays_np = np.stack(rays_list, 0)  # [V, ro+rd=2, H, W, 3]\n",
    "ij = np.stack(ij, 0)  # [V, 2, H, W]\n",
    "images_train_sample = sample_bilinear(images_train_, ij)  # [T, V, H, W, 3]\n",
    "\n",
    "rays_np = np.transpose(rays_np, [0, 2, 3, 1, 4])  # [V, H, W, ro+rd=2, 3]\n",
    "rays_np = np.reshape(rays_np, [-1, 2, 3])  # [VHW, ro+rd=2, 3]\n",
    "rays_np = rays_np.astype(np.float32)\n",
    "\n",
    "images_train_gpu = torch.tensor(images_train_sample, device=device, dtype=torch.float32).flatten(start_dim=1, end_dim=3)\n",
    "T, S, _ = images_train_gpu.shape\n",
    "rays_gpu = torch.tensor(rays_np, device=device, dtype=torch.float32)\n",
    "ray_idxs_gpu = torch.randperm(rays_gpu.shape[0], device=device, dtype=torch.int32)\n",
    "print(f'images_train: {images_train_gpu.shape}, rays: {rays_gpu.shape}, T: {T}, S: {S}')"
   ],
   "id": "f1434810da5f3636",
   "outputs": [
    {
     "name": "stdout",
     "output_type": "stream",
     "text": [
      "images_train: torch.Size([120, 2073600, 3]), rays: torch.Size([2073600, 2, 3]), T: 120, S: 2073600\n"
     ]
    }
   ],
   "execution_count": 9
  },
  {
   "metadata": {
    "ExecuteTime": {
     "end_time": "2024-12-01T09:00:02.029089Z",
     "start_time": "2024-12-01T09:00:00.757815Z"
    }
   },
   "cell_type": "code",
   "source": [
    "start = 0\n",
    "i_batch = 0\n",
    "# for i in trange(start + 1, args.N_iters + 1):\n",
    "for i in trange(start + 1, start + 2):\n",
    "    batch_ray_idx = ray_idxs_gpu[i_batch:i_batch + args.N_rand]\n",
    "    batch_rays = torch.transpose(rays_gpu[batch_ray_idx], 0, 1)\n",
    "\n",
    "    time_idx = torch.randperm(T, device=device, dtype=torch.float32)[:args.N_time]\n",
    "    time_idx += torch.randn(args.N_time, device=device, dtype=torch.float32) - 0.5\n",
    "    time_idx_floor = torch.floor(time_idx).long()\n",
    "    time_idx_ceil = torch.ceil(time_idx).long()\n",
    "    time_idx_floor = torch.clamp(time_idx_floor, 0, T - 1)\n",
    "    time_idx_ceil = torch.clamp(time_idx_ceil, 0, T - 1)\n",
    "    time_idx_residual = time_idx - time_idx_floor.float()\n",
    "    frames_floor = images_train_gpu[time_idx_floor]\n",
    "    frames_ceil = images_train_gpu[time_idx_ceil]\n",
    "    frames_interp = frames_floor * (1 - time_idx_residual).unsqueeze(-1) + frames_ceil * time_idx_residual.unsqueeze(-1)\n",
    "    time_step = time_idx / (T - 1) if T > 1 else torch.zeros_like(time_idx)\n",
    "    points = frames_interp[:, batch_ray_idx]\n",
    "    target_s = points.flatten(0, 1)\n",
    "\n",
    "    i_batch += args.N_rand\n",
    "    if i_batch >= rays_gpu.shape[0]:\n",
    "        print(\"Shuffle data after an epoch!\")\n",
    "        ray_idxs = torch.randperm(rays_gpu.shape[0], device=device)\n",
    "        i_batch = 0\n",
    "        resample_rays = True\n",
    "\n",
    "    #####################################################################################################################################\n",
    "    _rays_o, _rays_d = batch_rays\n",
    "    _near_tensor, _far_tensor = near * torch.ones_like(_rays_d[..., :1]), far * torch.ones_like(_rays_d[..., :1])\n",
    "    _rays = torch.cat([_rays_o, _rays_d, _near_tensor, _far_tensor], -1)\n",
    "\n",
    "    _t_vals = torch.linspace(0., 1., steps=args.N_samples, device=device, dtype=torch.float32)\n",
    "    _z_vals = _near_tensor * (1. - _t_vals) + _far_tensor * (_t_vals)\n",
    "\n",
    "    _mids = .5 * (_z_vals[..., 1:] + _z_vals[..., :-1])\n",
    "    _upper = torch.cat([_mids, _z_vals[..., -1:]], -1)\n",
    "    _lower = torch.cat([_z_vals[..., :1], _mids], -1)\n",
    "    _t_rand = torch.rand(_z_vals.shape, device=device, dtype=torch.float32)\n",
    "    _z_vals = _lower + (_upper - _lower) * _t_rand\n",
    "\n",
    "    pts = _rays_o[..., None, :] + _rays_d[..., None, :] * _z_vals[..., :, None]\n",
    "    time_step_expanded = time_step.expand(pts.shape[0], pts.shape[1], 1)\n",
    "    pts_with_time = torch.cat([pts, time_step_expanded], dim=-1)\n",
    "    pts_with_time_flat = torch.reshape(pts_with_time, [-1, pts_with_time.shape[-1]])\n",
    "    print(f'pts_with_time: {pts_with_time_flat.shape}')\n",
    "\n",
    "    out_dim = 1\n",
    "    raw_flat = torch.zeros([pts_with_time_flat.shape[0], out_dim], device=device, dtype=torch.float32)\n",
    "\n",
    "    bbox_mask = bbox_model.insideMask(pts_with_time_flat[..., :3], to_float=False)\n",
    "    if bbox_mask.sum() == 0:\n",
    "        bbox_mask[0] = True\n",
    "    pts_final = pts_with_time_flat[bbox_mask]\n",
    "    raw_flat[bbox_mask] = model(embed_fn(pts_final))\n",
    "    raw = raw_flat.reshape(pts_with_time.shape[0], pts_with_time.shape[1], out_dim)\n",
    "    print(f'raw: {raw.shape}')\n",
    "#####################################################################################################################################"
   ],
   "id": "b1bd561802c9f3e6",
   "outputs": [
    {
     "name": "stderr",
     "output_type": "stream",
     "text": [
      "  0%|          | 0/1 [00:00<?, ?it/s]"
     ]
    },
    {
     "name": "stdout",
     "output_type": "stream",
     "text": [
      "pts_with_time: torch.Size([49152, 4])\n"
     ]
    },
    {
     "name": "stderr",
     "output_type": "stream",
     "text": [
      "  0%|          | 0/1 [00:00<?, ?it/s]\n"
     ]
    },
    {
     "ename": "RuntimeError",
     "evalue": "[taichi/rhi/cuda/cuda_driver.h:taichi::lang::CUDADriverFunction<void * *,unsigned __int64,void *>::operator ()@92] CUDA Error CUDA_ERROR_OUT_OF_MEMORY: out of memory while calling malloc_async_impl (cuMemAllocAsync)",
     "output_type": "error",
     "traceback": [
      "\u001B[1;31m---------------------------------------------------------------------------\u001B[0m",
      "\u001B[1;31mRuntimeError\u001B[0m                              Traceback (most recent call last)",
      "Cell \u001B[1;32mIn[10], line 56\u001B[0m\n\u001B[0;32m     54\u001B[0m     bbox_mask[\u001B[38;5;241m0\u001B[39m] \u001B[38;5;241m=\u001B[39m \u001B[38;5;28;01mTrue\u001B[39;00m\n\u001B[0;32m     55\u001B[0m pts_final \u001B[38;5;241m=\u001B[39m pts_with_time_flat[bbox_mask]\n\u001B[1;32m---> 56\u001B[0m raw_flat[bbox_mask] \u001B[38;5;241m=\u001B[39m model(\u001B[43membed_fn\u001B[49m\u001B[43m(\u001B[49m\u001B[43mpts_final\u001B[49m\u001B[43m)\u001B[49m)\n\u001B[0;32m     57\u001B[0m raw \u001B[38;5;241m=\u001B[39m raw_flat\u001B[38;5;241m.\u001B[39mreshape(pts_with_time\u001B[38;5;241m.\u001B[39mshape[\u001B[38;5;241m0\u001B[39m], pts_with_time\u001B[38;5;241m.\u001B[39mshape[\u001B[38;5;241m1\u001B[39m], out_dim)\n\u001B[0;32m     58\u001B[0m \u001B[38;5;28mprint\u001B[39m(\u001B[38;5;124mf\u001B[39m\u001B[38;5;124m'\u001B[39m\u001B[38;5;124mraw: \u001B[39m\u001B[38;5;132;01m{\u001B[39;00mraw\u001B[38;5;241m.\u001B[39mshape\u001B[38;5;132;01m}\u001B[39;00m\u001B[38;5;124m'\u001B[39m)\n",
      "File \u001B[1;32m~\\Documents\\VituralEnvs\\HyFluid\\Lib\\site-packages\\torch\\nn\\modules\\module.py:1736\u001B[0m, in \u001B[0;36mModule._wrapped_call_impl\u001B[1;34m(self, *args, **kwargs)\u001B[0m\n\u001B[0;32m   1734\u001B[0m     \u001B[38;5;28;01mreturn\u001B[39;00m \u001B[38;5;28mself\u001B[39m\u001B[38;5;241m.\u001B[39m_compiled_call_impl(\u001B[38;5;241m*\u001B[39margs, \u001B[38;5;241m*\u001B[39m\u001B[38;5;241m*\u001B[39mkwargs)  \u001B[38;5;66;03m# type: ignore[misc]\u001B[39;00m\n\u001B[0;32m   1735\u001B[0m \u001B[38;5;28;01melse\u001B[39;00m:\n\u001B[1;32m-> 1736\u001B[0m     \u001B[38;5;28;01mreturn\u001B[39;00m \u001B[38;5;28;43mself\u001B[39;49m\u001B[38;5;241;43m.\u001B[39;49m\u001B[43m_call_impl\u001B[49m\u001B[43m(\u001B[49m\u001B[38;5;241;43m*\u001B[39;49m\u001B[43margs\u001B[49m\u001B[43m,\u001B[49m\u001B[43m \u001B[49m\u001B[38;5;241;43m*\u001B[39;49m\u001B[38;5;241;43m*\u001B[39;49m\u001B[43mkwargs\u001B[49m\u001B[43m)\u001B[49m\n",
      "File \u001B[1;32m~\\Documents\\VituralEnvs\\HyFluid\\Lib\\site-packages\\torch\\nn\\modules\\module.py:1747\u001B[0m, in \u001B[0;36mModule._call_impl\u001B[1;34m(self, *args, **kwargs)\u001B[0m\n\u001B[0;32m   1742\u001B[0m \u001B[38;5;66;03m# If we don't have any hooks, we want to skip the rest of the logic in\u001B[39;00m\n\u001B[0;32m   1743\u001B[0m \u001B[38;5;66;03m# this function, and just call forward.\u001B[39;00m\n\u001B[0;32m   1744\u001B[0m \u001B[38;5;28;01mif\u001B[39;00m \u001B[38;5;129;01mnot\u001B[39;00m (\u001B[38;5;28mself\u001B[39m\u001B[38;5;241m.\u001B[39m_backward_hooks \u001B[38;5;129;01mor\u001B[39;00m \u001B[38;5;28mself\u001B[39m\u001B[38;5;241m.\u001B[39m_backward_pre_hooks \u001B[38;5;129;01mor\u001B[39;00m \u001B[38;5;28mself\u001B[39m\u001B[38;5;241m.\u001B[39m_forward_hooks \u001B[38;5;129;01mor\u001B[39;00m \u001B[38;5;28mself\u001B[39m\u001B[38;5;241m.\u001B[39m_forward_pre_hooks\n\u001B[0;32m   1745\u001B[0m         \u001B[38;5;129;01mor\u001B[39;00m _global_backward_pre_hooks \u001B[38;5;129;01mor\u001B[39;00m _global_backward_hooks\n\u001B[0;32m   1746\u001B[0m         \u001B[38;5;129;01mor\u001B[39;00m _global_forward_hooks \u001B[38;5;129;01mor\u001B[39;00m _global_forward_pre_hooks):\n\u001B[1;32m-> 1747\u001B[0m     \u001B[38;5;28;01mreturn\u001B[39;00m \u001B[43mforward_call\u001B[49m\u001B[43m(\u001B[49m\u001B[38;5;241;43m*\u001B[39;49m\u001B[43margs\u001B[49m\u001B[43m,\u001B[49m\u001B[43m \u001B[49m\u001B[38;5;241;43m*\u001B[39;49m\u001B[38;5;241;43m*\u001B[39;49m\u001B[43mkwargs\u001B[49m\u001B[43m)\u001B[49m\n\u001B[0;32m   1749\u001B[0m result \u001B[38;5;241m=\u001B[39m \u001B[38;5;28;01mNone\u001B[39;00m\n\u001B[0;32m   1750\u001B[0m called_always_called_hooks \u001B[38;5;241m=\u001B[39m \u001B[38;5;28mset\u001B[39m()\n",
      "File \u001B[1;32m~\\Desktop\\241118\\Instant-PINF\\test\\encoder.py:370\u001B[0m, in \u001B[0;36mHashEncoderHyFluid.forward\u001B[1;34m(self, positions)\u001B[0m\n\u001B[0;32m    367\u001B[0m \u001B[38;5;28;01mdef\u001B[39;00m \u001B[38;5;21mforward\u001B[39m(\u001B[38;5;28mself\u001B[39m, positions):\n\u001B[0;32m    368\u001B[0m     \u001B[38;5;66;03m# positions: (N, 4), normalized to [-1, 1]\u001B[39;00m\n\u001B[0;32m    369\u001B[0m     positions \u001B[38;5;241m=\u001B[39m positions \u001B[38;5;241m*\u001B[39m \u001B[38;5;241m0.5\u001B[39m \u001B[38;5;241m+\u001B[39m \u001B[38;5;241m0.5\u001B[39m\n\u001B[1;32m--> 370\u001B[0m     \u001B[38;5;28;01mreturn\u001B[39;00m \u001B[38;5;28;43mself\u001B[39;49m\u001B[38;5;241;43m.\u001B[39;49m\u001B[43mmodule_function\u001B[49m\u001B[38;5;241;43m.\u001B[39;49m\u001B[43mapply\u001B[49m\u001B[43m(\u001B[49m\u001B[43mpositions\u001B[49m\u001B[43m,\u001B[49m\u001B[43m \u001B[49m\u001B[38;5;28;43mself\u001B[39;49m\u001B[38;5;241;43m.\u001B[39;49m\u001B[43mhash_table\u001B[49m\u001B[43m)\u001B[49m\n",
      "File \u001B[1;32m~\\Documents\\VituralEnvs\\HyFluid\\Lib\\site-packages\\torch\\autograd\\function.py:575\u001B[0m, in \u001B[0;36mFunction.apply\u001B[1;34m(cls, *args, **kwargs)\u001B[0m\n\u001B[0;32m    572\u001B[0m \u001B[38;5;28;01mif\u001B[39;00m \u001B[38;5;129;01mnot\u001B[39;00m torch\u001B[38;5;241m.\u001B[39m_C\u001B[38;5;241m.\u001B[39m_are_functorch_transforms_active():\n\u001B[0;32m    573\u001B[0m     \u001B[38;5;66;03m# See NOTE: [functorch vjp and autograd interaction]\u001B[39;00m\n\u001B[0;32m    574\u001B[0m     args \u001B[38;5;241m=\u001B[39m _functorch\u001B[38;5;241m.\u001B[39mutils\u001B[38;5;241m.\u001B[39munwrap_dead_wrappers(args)\n\u001B[1;32m--> 575\u001B[0m     \u001B[38;5;28;01mreturn\u001B[39;00m \u001B[38;5;28;43msuper\u001B[39;49m\u001B[43m(\u001B[49m\u001B[43m)\u001B[49m\u001B[38;5;241;43m.\u001B[39;49m\u001B[43mapply\u001B[49m\u001B[43m(\u001B[49m\u001B[38;5;241;43m*\u001B[39;49m\u001B[43margs\u001B[49m\u001B[43m,\u001B[49m\u001B[43m \u001B[49m\u001B[38;5;241;43m*\u001B[39;49m\u001B[38;5;241;43m*\u001B[39;49m\u001B[43mkwargs\u001B[49m\u001B[43m)\u001B[49m  \u001B[38;5;66;03m# type: ignore[misc]\u001B[39;00m\n\u001B[0;32m    577\u001B[0m \u001B[38;5;28;01mif\u001B[39;00m \u001B[38;5;129;01mnot\u001B[39;00m is_setup_ctx_defined:\n\u001B[0;32m    578\u001B[0m     \u001B[38;5;28;01mraise\u001B[39;00m \u001B[38;5;167;01mRuntimeError\u001B[39;00m(\n\u001B[0;32m    579\u001B[0m         \u001B[38;5;124m\"\u001B[39m\u001B[38;5;124mIn order to use an autograd.Function with functorch transforms \u001B[39m\u001B[38;5;124m\"\u001B[39m\n\u001B[0;32m    580\u001B[0m         \u001B[38;5;124m\"\u001B[39m\u001B[38;5;124m(vmap, grad, jvp, jacrev, ...), it must override the setup_context \u001B[39m\u001B[38;5;124m\"\u001B[39m\n\u001B[0;32m    581\u001B[0m         \u001B[38;5;124m\"\u001B[39m\u001B[38;5;124mstaticmethod. For more details, please see \u001B[39m\u001B[38;5;124m\"\u001B[39m\n\u001B[0;32m    582\u001B[0m         \u001B[38;5;124m\"\u001B[39m\u001B[38;5;124mhttps://pytorch.org/docs/main/notes/extending.func.html\u001B[39m\u001B[38;5;124m\"\u001B[39m\n\u001B[0;32m    583\u001B[0m     )\n",
      "File \u001B[1;32m~\\Documents\\VituralEnvs\\HyFluid\\Lib\\site-packages\\torch\\amp\\autocast_mode.py:476\u001B[0m, in \u001B[0;36mcustom_fwd.<locals>.decorate_fwd\u001B[1;34m(*args, **kwargs)\u001B[0m\n\u001B[0;32m    471\u001B[0m         \u001B[38;5;28;01mreturn\u001B[39;00m fwd(\n\u001B[0;32m    472\u001B[0m             \u001B[38;5;241m*\u001B[39m_cast(args, device_type, cast_inputs),\n\u001B[0;32m    473\u001B[0m             \u001B[38;5;241m*\u001B[39m\u001B[38;5;241m*\u001B[39m_cast(kwargs, device_type, cast_inputs),\n\u001B[0;32m    474\u001B[0m         )\n\u001B[0;32m    475\u001B[0m \u001B[38;5;28;01melse\u001B[39;00m:\n\u001B[1;32m--> 476\u001B[0m     \u001B[38;5;28;01mreturn\u001B[39;00m \u001B[43mfwd\u001B[49m\u001B[43m(\u001B[49m\u001B[38;5;241;43m*\u001B[39;49m\u001B[43margs\u001B[49m\u001B[43m,\u001B[49m\u001B[43m \u001B[49m\u001B[38;5;241;43m*\u001B[39;49m\u001B[38;5;241;43m*\u001B[39;49m\u001B[43mkwargs\u001B[49m\u001B[43m)\u001B[49m\n",
      "File \u001B[1;32m~\\Desktop\\241118\\Instant-PINF\\test\\encoder.py:278\u001B[0m, in \u001B[0;36mHashEncoderHyFluid.__init__.<locals>.ModuleFunction.forward\u001B[1;34m(ctx, input_pos, params)\u001B[0m\n\u001B[0;32m    274\u001B[0m \u001B[38;5;129m@staticmethod\u001B[39m\n\u001B[0;32m    275\u001B[0m \u001B[38;5;129m@custom_fwd\u001B[39m(cast_inputs\u001B[38;5;241m=\u001B[39mtorch\u001B[38;5;241m.\u001B[39mfloat32)\n\u001B[0;32m    276\u001B[0m \u001B[38;5;28;01mdef\u001B[39;00m \u001B[38;5;21mforward\u001B[39m(ctx, input_pos, params):\n\u001B[0;32m    277\u001B[0m     output_embedding \u001B[38;5;241m=\u001B[39m \u001B[38;5;28mself\u001B[39m\u001B[38;5;241m.\u001B[39moutput_embedding[:input_pos\u001B[38;5;241m.\u001B[39mshape[\u001B[38;5;241m0\u001B[39m]]\u001B[38;5;241m.\u001B[39mcontiguous()\n\u001B[1;32m--> 278\u001B[0m     \u001B[43mtorch2ti\u001B[49m\u001B[43m(\u001B[49m\u001B[38;5;28;43mself\u001B[39;49m\u001B[38;5;241;43m.\u001B[39;49m\u001B[43minput_fields\u001B[49m\u001B[43m,\u001B[49m\u001B[43m \u001B[49m\u001B[43minput_pos\u001B[49m\u001B[38;5;241;43m.\u001B[39;49m\u001B[43mcontiguous\u001B[49m\u001B[43m(\u001B[49m\u001B[43m)\u001B[49m\u001B[43m)\u001B[49m\n\u001B[0;32m    279\u001B[0m     torch2ti(\u001B[38;5;28mself\u001B[39m\u001B[38;5;241m.\u001B[39mparameter_fields, params\u001B[38;5;241m.\u001B[39mcontiguous())\n\u001B[0;32m    281\u001B[0m     hash_encode_kernel(\n\u001B[0;32m    282\u001B[0m         \u001B[38;5;28mself\u001B[39m\u001B[38;5;241m.\u001B[39minput_fields,\n\u001B[0;32m    283\u001B[0m         \u001B[38;5;28mself\u001B[39m\u001B[38;5;241m.\u001B[39mparameter_fields,\n\u001B[1;32m   (...)\u001B[0m\n\u001B[0;32m    290\u001B[0m         \u001B[38;5;28mself\u001B[39m\u001B[38;5;241m.\u001B[39mnum_scales,\n\u001B[0;32m    291\u001B[0m     )\n",
      "File \u001B[1;32m~\\Documents\\VituralEnvs\\HyFluid\\Lib\\site-packages\\taichi\\lang\\kernel_impl.py:1113\u001B[0m, in \u001B[0;36m_kernel_impl.<locals>.wrapped\u001B[1;34m(*args, **kwargs)\u001B[0m\n\u001B[0;32m   1110\u001B[0m \u001B[38;5;129m@functools\u001B[39m\u001B[38;5;241m.\u001B[39mwraps(_func)\n\u001B[0;32m   1111\u001B[0m \u001B[38;5;28;01mdef\u001B[39;00m \u001B[38;5;21mwrapped\u001B[39m(\u001B[38;5;241m*\u001B[39margs, \u001B[38;5;241m*\u001B[39m\u001B[38;5;241m*\u001B[39mkwargs):\n\u001B[0;32m   1112\u001B[0m     \u001B[38;5;28;01mtry\u001B[39;00m:\n\u001B[1;32m-> 1113\u001B[0m         \u001B[38;5;28;01mreturn\u001B[39;00m \u001B[43mprimal\u001B[49m\u001B[43m(\u001B[49m\u001B[38;5;241;43m*\u001B[39;49m\u001B[43margs\u001B[49m\u001B[43m,\u001B[49m\u001B[43m \u001B[49m\u001B[38;5;241;43m*\u001B[39;49m\u001B[38;5;241;43m*\u001B[39;49m\u001B[43mkwargs\u001B[49m\u001B[43m)\u001B[49m\n\u001B[0;32m   1114\u001B[0m     \u001B[38;5;28;01mexcept\u001B[39;00m (TaichiCompilationError, TaichiRuntimeError) \u001B[38;5;28;01mas\u001B[39;00m e:\n\u001B[0;32m   1115\u001B[0m         \u001B[38;5;28;01mif\u001B[39;00m impl\u001B[38;5;241m.\u001B[39mget_runtime()\u001B[38;5;241m.\u001B[39mprint_full_traceback:\n",
      "File \u001B[1;32m~\\Documents\\VituralEnvs\\HyFluid\\Lib\\site-packages\\taichi\\lang\\shell.py:27\u001B[0m, in \u001B[0;36m_shell_pop_print.<locals>.new_call\u001B[1;34m(*args, **kwargs)\u001B[0m\n\u001B[0;32m     25\u001B[0m \u001B[38;5;129m@functools\u001B[39m\u001B[38;5;241m.\u001B[39mwraps(old_call)\n\u001B[0;32m     26\u001B[0m \u001B[38;5;28;01mdef\u001B[39;00m \u001B[38;5;21mnew_call\u001B[39m(\u001B[38;5;241m*\u001B[39margs, \u001B[38;5;241m*\u001B[39m\u001B[38;5;241m*\u001B[39mkwargs):\n\u001B[1;32m---> 27\u001B[0m     ret \u001B[38;5;241m=\u001B[39m \u001B[43mold_call\u001B[49m\u001B[43m(\u001B[49m\u001B[38;5;241;43m*\u001B[39;49m\u001B[43margs\u001B[49m\u001B[43m,\u001B[49m\u001B[43m \u001B[49m\u001B[38;5;241;43m*\u001B[39;49m\u001B[38;5;241;43m*\u001B[39;49m\u001B[43mkwargs\u001B[49m\u001B[43m)\u001B[49m\n\u001B[0;32m     28\u001B[0m     \u001B[38;5;66;03m# print's in kernel won't take effect until ti.sync(), discussion:\u001B[39;00m\n\u001B[0;32m     29\u001B[0m     \u001B[38;5;66;03m# https://github.com/taichi-dev/taichi/pull/1303#discussion_r444897102\u001B[39;00m\n\u001B[0;32m     30\u001B[0m     \u001B[38;5;28mprint\u001B[39m(_ti_core\u001B[38;5;241m.\u001B[39mpop_python_print_buffer(), end\u001B[38;5;241m=\u001B[39m\u001B[38;5;124m\"\u001B[39m\u001B[38;5;124m\"\u001B[39m)\n",
      "File \u001B[1;32m~\\Documents\\VituralEnvs\\HyFluid\\Lib\\site-packages\\taichi\\lang\\kernel_impl.py:1043\u001B[0m, in \u001B[0;36mKernel.__call__\u001B[1;34m(self, *args, **kwargs)\u001B[0m\n\u001B[0;32m   1041\u001B[0m     _logging\u001B[38;5;241m.\u001B[39mwarn(\u001B[38;5;124m\"\"\"\u001B[39m\u001B[38;5;124mopt_level = 1 is enforced to enable gradient computation.\u001B[39m\u001B[38;5;124m\"\"\"\u001B[39m)\n\u001B[0;32m   1042\u001B[0m     impl\u001B[38;5;241m.\u001B[39mcurrent_cfg()\u001B[38;5;241m.\u001B[39mopt_level \u001B[38;5;241m=\u001B[39m \u001B[38;5;241m1\u001B[39m\n\u001B[1;32m-> 1043\u001B[0m key \u001B[38;5;241m=\u001B[39m \u001B[38;5;28;43mself\u001B[39;49m\u001B[38;5;241;43m.\u001B[39;49m\u001B[43mensure_compiled\u001B[49m\u001B[43m(\u001B[49m\u001B[38;5;241;43m*\u001B[39;49m\u001B[43margs\u001B[49m\u001B[43m)\u001B[49m\n\u001B[0;32m   1044\u001B[0m kernel_cpp \u001B[38;5;241m=\u001B[39m \u001B[38;5;28mself\u001B[39m\u001B[38;5;241m.\u001B[39mcompiled_kernels[key]\n\u001B[0;32m   1045\u001B[0m \u001B[38;5;28;01mreturn\u001B[39;00m \u001B[38;5;28mself\u001B[39m\u001B[38;5;241m.\u001B[39mlaunch_kernel(kernel_cpp, \u001B[38;5;241m*\u001B[39margs)\n",
      "File \u001B[1;32m~\\Documents\\VituralEnvs\\HyFluid\\Lib\\site-packages\\taichi\\lang\\kernel_impl.py:1011\u001B[0m, in \u001B[0;36mKernel.ensure_compiled\u001B[1;34m(self, *args)\u001B[0m\n\u001B[0;32m   1009\u001B[0m instance_id, arg_features \u001B[38;5;241m=\u001B[39m \u001B[38;5;28mself\u001B[39m\u001B[38;5;241m.\u001B[39mmapper\u001B[38;5;241m.\u001B[39mlookup(args)\n\u001B[0;32m   1010\u001B[0m key \u001B[38;5;241m=\u001B[39m (\u001B[38;5;28mself\u001B[39m\u001B[38;5;241m.\u001B[39mfunc, instance_id, \u001B[38;5;28mself\u001B[39m\u001B[38;5;241m.\u001B[39mautodiff_mode)\n\u001B[1;32m-> 1011\u001B[0m \u001B[38;5;28;43mself\u001B[39;49m\u001B[38;5;241;43m.\u001B[39;49m\u001B[43mmaterialize\u001B[49m\u001B[43m(\u001B[49m\u001B[43mkey\u001B[49m\u001B[38;5;241;43m=\u001B[39;49m\u001B[43mkey\u001B[49m\u001B[43m,\u001B[49m\u001B[43m \u001B[49m\u001B[43margs\u001B[49m\u001B[38;5;241;43m=\u001B[39;49m\u001B[43margs\u001B[49m\u001B[43m,\u001B[49m\u001B[43m \u001B[49m\u001B[43marg_features\u001B[49m\u001B[38;5;241;43m=\u001B[39;49m\u001B[43marg_features\u001B[49m\u001B[43m)\u001B[49m\n\u001B[0;32m   1012\u001B[0m \u001B[38;5;28;01mreturn\u001B[39;00m key\n",
      "File \u001B[1;32m~\\Documents\\VituralEnvs\\HyFluid\\Lib\\site-packages\\taichi\\lang\\kernel_impl.py:637\u001B[0m, in \u001B[0;36mKernel.materialize\u001B[1;34m(self, key, args, arg_features)\u001B[0m\n\u001B[0;32m    635\u001B[0m \u001B[38;5;28;01mif\u001B[39;00m key \u001B[38;5;129;01mis\u001B[39;00m \u001B[38;5;28;01mNone\u001B[39;00m:\n\u001B[0;32m    636\u001B[0m     key \u001B[38;5;241m=\u001B[39m (\u001B[38;5;28mself\u001B[39m\u001B[38;5;241m.\u001B[39mfunc, \u001B[38;5;241m0\u001B[39m, \u001B[38;5;28mself\u001B[39m\u001B[38;5;241m.\u001B[39mautodiff_mode)\n\u001B[1;32m--> 637\u001B[0m \u001B[38;5;28;43mself\u001B[39;49m\u001B[38;5;241;43m.\u001B[39;49m\u001B[43mruntime\u001B[49m\u001B[38;5;241;43m.\u001B[39;49m\u001B[43mmaterialize\u001B[49m\u001B[43m(\u001B[49m\u001B[43m)\u001B[49m\n\u001B[0;32m    639\u001B[0m \u001B[38;5;28;01mif\u001B[39;00m key \u001B[38;5;129;01min\u001B[39;00m \u001B[38;5;28mself\u001B[39m\u001B[38;5;241m.\u001B[39mcompiled_kernels:\n\u001B[0;32m    640\u001B[0m     \u001B[38;5;28;01mreturn\u001B[39;00m\n",
      "File \u001B[1;32m~\\Documents\\VituralEnvs\\HyFluid\\Lib\\site-packages\\taichi\\lang\\impl.py:471\u001B[0m, in \u001B[0;36mPyTaichi.materialize\u001B[1;34m(self)\u001B[0m\n\u001B[0;32m    470\u001B[0m \u001B[38;5;28;01mdef\u001B[39;00m \u001B[38;5;21mmaterialize\u001B[39m(\u001B[38;5;28mself\u001B[39m):\n\u001B[1;32m--> 471\u001B[0m     \u001B[38;5;28;43mself\u001B[39;49m\u001B[38;5;241;43m.\u001B[39;49m\u001B[43mmaterialize_root_fb\u001B[49m\u001B[43m(\u001B[49m\u001B[38;5;129;43;01mnot\u001B[39;49;00m\u001B[43m \u001B[49m\u001B[38;5;28;43mself\u001B[39;49m\u001B[38;5;241;43m.\u001B[39;49m\u001B[43mmaterialized\u001B[49m\u001B[43m)\u001B[49m\n\u001B[0;32m    472\u001B[0m     \u001B[38;5;28mself\u001B[39m\u001B[38;5;241m.\u001B[39mmaterialized \u001B[38;5;241m=\u001B[39m \u001B[38;5;28;01mTrue\u001B[39;00m\n\u001B[0;32m    474\u001B[0m     \u001B[38;5;28mself\u001B[39m\u001B[38;5;241m.\u001B[39mvalidate_fields_builder()\n",
      "File \u001B[1;32m~\\Documents\\VituralEnvs\\HyFluid\\Lib\\site-packages\\taichi\\lang\\impl.py:406\u001B[0m, in \u001B[0;36mPyTaichi.materialize_root_fb\u001B[1;34m(is_first_call)\u001B[0m\n\u001B[0;32m    403\u001B[0m     \u001B[38;5;28;01mif\u001B[39;00m \u001B[38;5;129;01mnot\u001B[39;00m root\u001B[38;5;241m.\u001B[39mfinalized:\n\u001B[0;32m    404\u001B[0m         root\u001B[38;5;241m.\u001B[39m_allocate_adjoint_checkbit()\n\u001B[1;32m--> 406\u001B[0m \u001B[43mroot\u001B[49m\u001B[38;5;241;43m.\u001B[39;49m\u001B[43mfinalize\u001B[49m\u001B[43m(\u001B[49m\u001B[43mraise_warning\u001B[49m\u001B[38;5;241;43m=\u001B[39;49m\u001B[38;5;129;43;01mnot\u001B[39;49;00m\u001B[43m \u001B[49m\u001B[43mis_first_call\u001B[49m\u001B[43m)\u001B[49m\n\u001B[0;32m    407\u001B[0m \u001B[38;5;28;01mglobal\u001B[39;00m _root_fb\n\u001B[0;32m    408\u001B[0m _root_fb \u001B[38;5;241m=\u001B[39m FieldsBuilder()\n",
      "File \u001B[1;32m~\\Documents\\VituralEnvs\\HyFluid\\Lib\\site-packages\\taichi\\_snode\\fields_builder.py:170\u001B[0m, in \u001B[0;36mFieldsBuilder.finalize\u001B[1;34m(self, raise_warning)\u001B[0m\n\u001B[0;32m    165\u001B[0m \u001B[38;5;28;01mdef\u001B[39;00m \u001B[38;5;21mfinalize\u001B[39m(\u001B[38;5;28mself\u001B[39m, raise_warning\u001B[38;5;241m=\u001B[39m\u001B[38;5;28;01mTrue\u001B[39;00m):\n\u001B[0;32m    166\u001B[0m \u001B[38;5;250m    \u001B[39m\u001B[38;5;124;03m\"\"\"Constructs the SNodeTree and finalizes this builder.\u001B[39;00m\n\u001B[0;32m    167\u001B[0m \n\u001B[0;32m    168\u001B[0m \u001B[38;5;124;03m    Args:\u001B[39;00m\n\u001B[0;32m    169\u001B[0m \u001B[38;5;124;03m        raise_warning (bool): Raise warning or not.\"\"\"\u001B[39;00m\n\u001B[1;32m--> 170\u001B[0m     \u001B[38;5;28;01mreturn\u001B[39;00m \u001B[38;5;28;43mself\u001B[39;49m\u001B[38;5;241;43m.\u001B[39;49m\u001B[43m_finalize\u001B[49m\u001B[43m(\u001B[49m\u001B[43mraise_warning\u001B[49m\u001B[43m,\u001B[49m\u001B[43m \u001B[49m\u001B[43mcompile_only\u001B[49m\u001B[38;5;241;43m=\u001B[39;49m\u001B[38;5;28;43;01mFalse\u001B[39;49;00m\u001B[43m)\u001B[49m\n",
      "File \u001B[1;32m~\\Documents\\VituralEnvs\\HyFluid\\Lib\\site-packages\\taichi\\_snode\\fields_builder.py:182\u001B[0m, in \u001B[0;36mFieldsBuilder._finalize\u001B[1;34m(self, raise_warning, compile_only)\u001B[0m\n\u001B[0;32m    180\u001B[0m \u001B[38;5;28mself\u001B[39m\u001B[38;5;241m.\u001B[39mfinalized \u001B[38;5;241m=\u001B[39m \u001B[38;5;28;01mTrue\u001B[39;00m\n\u001B[0;32m    181\u001B[0m impl\u001B[38;5;241m.\u001B[39mget_runtime()\u001B[38;5;241m.\u001B[39mfinalize_fields_builder(\u001B[38;5;28mself\u001B[39m)\n\u001B[1;32m--> 182\u001B[0m \u001B[38;5;28;01mreturn\u001B[39;00m SNodeTree(\u001B[43m_ti_core\u001B[49m\u001B[38;5;241;43m.\u001B[39;49m\u001B[43mfinalize_snode_tree\u001B[49m\u001B[43m(\u001B[49m\u001B[43m_snode_registry\u001B[49m\u001B[43m,\u001B[49m\u001B[43m \u001B[49m\u001B[38;5;28;43mself\u001B[39;49m\u001B[38;5;241;43m.\u001B[39;49m\u001B[43mptr\u001B[49m\u001B[43m,\u001B[49m\u001B[43m \u001B[49m\u001B[43mimpl\u001B[49m\u001B[38;5;241;43m.\u001B[39;49m\u001B[43mget_runtime\u001B[49m\u001B[43m(\u001B[49m\u001B[43m)\u001B[49m\u001B[38;5;241;43m.\u001B[39;49m\u001B[43mprog\u001B[49m\u001B[43m,\u001B[49m\u001B[43m \u001B[49m\u001B[43mcompile_only\u001B[49m\u001B[43m)\u001B[49m)\n",
      "\u001B[1;31mRuntimeError\u001B[0m: [taichi/rhi/cuda/cuda_driver.h:taichi::lang::CUDADriverFunction<void * *,unsigned __int64,void *>::operator ()@92] CUDA Error CUDA_ERROR_OUT_OF_MEMORY: out of memory while calling malloc_async_impl (cuMemAllocAsync)"
     ]
    }
   ],
   "execution_count": 10
  }
 ],
 "metadata": {
  "kernelspec": {
   "display_name": "Python 3",
   "language": "python",
   "name": "python3"
  },
  "language_info": {
   "codemirror_mode": {
    "name": "ipython",
    "version": 2
   },
   "file_extension": ".py",
   "mimetype": "text/x-python",
   "name": "python",
   "nbconvert_exporter": "python",
   "pygments_lexer": "ipython2",
   "version": "2.7.6"
  }
 },
 "nbformat": 4,
 "nbformat_minor": 5
}
