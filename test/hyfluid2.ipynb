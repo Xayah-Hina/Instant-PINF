{
 "cells": [
  {
   "cell_type": "code",
   "id": "initial_id",
   "metadata": {
    "collapsed": true,
    "ExecuteTime": {
     "end_time": "2024-11-28T12:44:01.029489Z",
     "start_time": "2024-11-28T12:43:49.960263Z"
    }
   },
   "source": [
    "import numpy as np\n",
    "pinf_data = np.load(\"train_dataset.npz\")\n",
    "images_train_ = pinf_data['images_train']\n",
    "poses_train = pinf_data['poses_train']\n",
    "hwf = pinf_data['hwf']\n",
    "render_poses = pinf_data['render_poses']\n",
    "render_timesteps = pinf_data['render_timesteps']\n",
    "voxel_tran = pinf_data['voxel_tran']\n",
    "voxel_scale = pinf_data['voxel_scale']\n",
    "near = pinf_data['near'].item()\n",
    "far = pinf_data['far'].item()\n",
    "\n",
    "pinf_data_test = np.load(\"test_dataset.npz\")\n",
    "images_test = pinf_data_test['images_test']\n",
    "poses_test = pinf_data_test['poses_test']\n",
    "hwf = pinf_data_test['hwf']\n",
    "render_poses = pinf_data_test['render_poses']\n",
    "render_timesteps = pinf_data_test['render_timesteps']\n",
    "voxel_tran = pinf_data_test['voxel_tran']\n",
    "voxel_scale = pinf_data_test['voxel_scale']\n",
    "near = pinf_data_test['near'].item()\n",
    "far = pinf_data_test['far'].item()"
   ],
   "outputs": [],
   "execution_count": 2
  },
  {
   "metadata": {
    "ExecuteTime": {
     "end_time": "2024-11-28T12:44:21.721078Z",
     "start_time": "2024-11-28T12:44:21.708856Z"
    }
   },
   "cell_type": "code",
   "source": [
    "print(f'images_train_.shape: {images_train_.shape}')\n",
    "print(f'poses_train.shape: {poses_train.shape}')\n",
    "print(f'hwf.shape: {hwf.shape}')\n",
    "print(f'render_poses.shape: {render_poses.shape}')\n",
    "print(f'render_timesteps.shape: {render_timesteps.shape}')\n",
    "print(f'voxel_tran.shape: {voxel_tran.shape}')\n",
    "print(f'voxel_scale.shape: {voxel_scale.shape}')\n",
    "print(f'near: {near}')\n",
    "print(f'far: {far}')\n",
    "print(f'images_test.shape: {images_test.shape}')\n",
    "print(f'poses_test.shape: {poses_test.shape}')"
   ],
   "id": "ff738b1ccaa4d06c",
   "outputs": [
    {
     "name": "stdout",
     "output_type": "stream",
     "text": [
      "images_train_.shape: (120, 4, 960, 540, 3)\n",
      "poses_train.shape: (4, 4, 4)\n",
      "hwf.shape: (3,)\n",
      "render_poses.shape: (120, 4, 4)\n",
      "render_timesteps.shape: (120,)\n",
      "voxel_tran.shape: (4, 4)\n",
      "voxel_scale.shape: (3,)\n",
      "near: 1.1\n",
      "far: 1.5\n",
      "images_test.shape: (120, 1, 960, 540, 3)\n",
      "poses_test.shape: (1, 4, 4)\n"
     ]
    }
   ],
   "execution_count": 3
  }
 ],
 "metadata": {
  "kernelspec": {
   "display_name": "Python 3",
   "language": "python",
   "name": "python3"
  },
  "language_info": {
   "codemirror_mode": {
    "name": "ipython",
    "version": 2
   },
   "file_extension": ".py",
   "mimetype": "text/x-python",
   "name": "python",
   "nbconvert_exporter": "python",
   "pygments_lexer": "ipython2",
   "version": "2.7.6"
  }
 },
 "nbformat": 4,
 "nbformat_minor": 5
}
