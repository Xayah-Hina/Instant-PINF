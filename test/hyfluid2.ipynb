{
 "cells": [
  {
   "cell_type": "code",
   "id": "initial_id",
   "metadata": {
    "collapsed": true,
    "ExecuteTime": {
     "end_time": "2024-11-28T13:55:38.162921Z",
     "start_time": "2024-11-28T13:55:38.078674Z"
    }
   },
   "source": [
    "import numpy as np\n",
    "from types import SimpleNamespace"
   ],
   "outputs": [],
   "execution_count": 1
  },
  {
   "metadata": {
    "ExecuteTime": {
     "end_time": "2024-11-28T13:55:39.073822Z",
     "start_time": "2024-11-28T13:55:39.067136Z"
    }
   },
   "cell_type": "code",
   "source": [
    "args_npz = np.load(\"args.npz\", allow_pickle=True)\n",
    "\n",
    "args = SimpleNamespace(**{\n",
    "    key: value.item() if isinstance(value, np.ndarray) and value.size == 1 else\n",
    "    value.tolist() if isinstance(value, np.ndarray) else\n",
    "    value\n",
    "    for key, value in args_npz.items()\n",
    "})"
   ],
   "id": "ff738b1ccaa4d06c",
   "outputs": [],
   "execution_count": 2
  },
  {
   "metadata": {
    "ExecuteTime": {
     "end_time": "2024-11-28T13:55:40.405983Z",
     "start_time": "2024-11-28T13:55:40.402733Z"
    }
   },
   "cell_type": "code",
   "source": "print(args)",
   "id": "ea904c60bedaddd4",
   "outputs": [
    {
     "name": "stdout",
     "output_type": "stream",
     "text": [
      "namespace(config='configs/scalarflowreal.txt', expname='exp_real/density_256_128', basedir='./logs', datadir='./data/ScalarReal', encoder='ingp', N_rand=256, N_time=1, lrate=0.01, lrate_decay=10000, N_iters=10000, no_reload=False, ft_path=None, N_samples=192, perturb=1.0, render_only=False, half_res=True, i_print=100, i_weights=10000, i_video=10000, finest_resolution=256, finest_resolution_t=128, num_levels=16, base_resolution=16, base_resolution_t=16, log2_hashmap_size=19, feats_dim=36, tv_loss_weight=1e-06)\n"
     ]
    }
   ],
   "execution_count": 3
  }
 ],
 "metadata": {
  "kernelspec": {
   "display_name": "Python 3",
   "language": "python",
   "name": "python3"
  },
  "language_info": {
   "codemirror_mode": {
    "name": "ipython",
    "version": 2
   },
   "file_extension": ".py",
   "mimetype": "text/x-python",
   "name": "python",
   "nbconvert_exporter": "python",
   "pygments_lexer": "ipython2",
   "version": "2.7.6"
  }
 },
 "nbformat": 4,
 "nbformat_minor": 5
}
