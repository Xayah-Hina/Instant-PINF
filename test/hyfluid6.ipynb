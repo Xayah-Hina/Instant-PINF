{
 "cells": [
  {
   "metadata": {
    "ExecuteTime": {
     "end_time": "2024-12-11T12:04:15.842966Z",
     "start_time": "2024-12-11T12:04:14.206598Z"
    }
   },
   "cell_type": "code",
   "source": [
    "import torch\n",
    "device = torch.device(\"cuda\")"
   ],
   "id": "b2b9f7f76b649697",
   "outputs": [],
   "execution_count": 1
  },
  {
   "metadata": {
    "ExecuteTime": {
     "end_time": "2024-12-11T12:04:18.594266Z",
     "start_time": "2024-12-11T12:04:15.842966Z"
    }
   },
   "cell_type": "code",
   "source": [
    "import numpy as np\n",
    "import taichi as ti\n",
    "\n",
    "ti.init(arch=ti.cuda, device_memory_GB=36.0)\n",
    "\n",
    "base_resolution=16\n",
    "base_resolution_t=16\n",
    "finest_resolution=256\n",
    "finest_resolution_t=128\n",
    "num_levels=16\n",
    "log2_hashmap_size=19\n",
    "\n",
    "lrate=0.01\n",
    "lrate_decay=10000\n",
    "\n",
    "from encoder import HashEncoderHyFluid\n",
    "\n",
    "ENCODER = HashEncoderHyFluid(\n",
    "    min_res=np.array([base_resolution, base_resolution, base_resolution, base_resolution_t]),\n",
    "    max_res=np.array(\n",
    "        [finest_resolution, finest_resolution, finest_resolution, finest_resolution_t]),\n",
    "    num_scales=num_levels,\n",
    "    max_params=2 ** log2_hashmap_size).to(device)\n",
    "ENCODER_params = list(ENCODER.parameters())"
   ],
   "id": "65918d7f94de2540",
   "outputs": [
    {
     "name": "stdout",
     "output_type": "stream",
     "text": [
      "[Taichi] version 1.7.2, llvm 15.0.1, commit 0131dce9, win, python 3.11.0\n",
      "[Taichi] Starting on arch=cuda\n"
     ]
    },
    {
     "name": "stderr",
     "output_type": "stream",
     "text": [
      "C:\\Users\\imeho\\Desktop\\241118\\Instant-PINF\\test\\encoder.py:275: FutureWarning: `torch.cuda.amp.custom_fwd(args...)` is deprecated. Please use `torch.amp.custom_fwd(args..., device_type='cuda')` instead.\n",
      "  @custom_fwd(cast_inputs=torch.float32)\n",
      "C:\\Users\\imeho\\Desktop\\241118\\Instant-PINF\\test\\encoder.py:298: FutureWarning: `torch.cuda.amp.custom_bwd(args...)` is deprecated. Please use `torch.amp.custom_bwd(args..., device_type='cuda')` instead.\n",
      "  @custom_bwd\n",
      "C:\\Users\\imeho\\Desktop\\241118\\Instant-PINF\\test\\encoder.py:310: FutureWarning: `torch.cuda.amp.custom_fwd(args...)` is deprecated. Please use `torch.amp.custom_fwd(args..., device_type='cuda')` instead.\n",
      "  @custom_fwd(cast_inputs=torch.float32)\n",
      "C:\\Users\\imeho\\Desktop\\241118\\Instant-PINF\\test\\encoder.py:336: FutureWarning: `torch.cuda.amp.custom_bwd(args...)` is deprecated. Please use `torch.amp.custom_bwd(args..., device_type='cuda')` instead.\n",
      "  @custom_bwd\n"
     ]
    }
   ],
   "execution_count": 2
  },
  {
   "cell_type": "code",
   "id": "initial_id",
   "metadata": {
    "collapsed": true,
    "ExecuteTime": {
     "end_time": "2024-12-11T12:04:18.989534Z",
     "start_time": "2024-12-11T12:04:18.977569Z"
    }
   },
   "source": [
    "class NeRFSmall(torch.nn.Module):\n",
    "    def __init__(self,\n",
    "                 num_layers=3,\n",
    "                 hidden_dim=64,\n",
    "                 geo_feat_dim=15,\n",
    "                 num_layers_color=2,\n",
    "                 hidden_dim_color=16,\n",
    "                 input_ch=3,\n",
    "                 ):\n",
    "        super(NeRFSmall, self).__init__()\n",
    "\n",
    "        self.input_ch = input_ch\n",
    "        self.rgb = torch.nn.Parameter(torch.tensor([0.0]))\n",
    "\n",
    "        # sigma network\n",
    "        self.num_layers = num_layers\n",
    "        self.hidden_dim = hidden_dim\n",
    "        self.geo_feat_dim = geo_feat_dim\n",
    "\n",
    "        sigma_net = []\n",
    "        for l in range(num_layers):\n",
    "            if l == 0:\n",
    "                in_dim = self.input_ch\n",
    "            else:\n",
    "                in_dim = hidden_dim\n",
    "\n",
    "            if l == num_layers - 1:\n",
    "                out_dim = 1  # 1 sigma + 15 SH features for color\n",
    "            else:\n",
    "                out_dim = hidden_dim\n",
    "\n",
    "            sigma_net.append(torch.nn.Linear(in_dim, out_dim, bias=False))\n",
    "\n",
    "        self.sigma_net = torch.nn.ModuleList(sigma_net)\n",
    "\n",
    "        self.color_net = []\n",
    "        for l in range(num_layers_color):\n",
    "            if l == 0:\n",
    "                in_dim = 1\n",
    "            else:\n",
    "                in_dim = hidden_dim_color\n",
    "\n",
    "            if l == num_layers_color - 1:\n",
    "                out_dim = 1\n",
    "            else:\n",
    "                out_dim = hidden_dim_color\n",
    "\n",
    "            self.color_net.append(torch.nn.Linear(in_dim, out_dim, bias=True))\n",
    "\n",
    "    def forward(self, x):\n",
    "        h = x\n",
    "        for l in range(self.num_layers):\n",
    "            h = self.sigma_net[l](h)\n",
    "            h = torch.nn.functional.relu(h, inplace=True)\n",
    "\n",
    "        sigma = h\n",
    "        return sigma\n",
    "\n",
    "\n",
    "MODEL = NeRFSmall(num_layers=2,\n",
    "                  hidden_dim=64,\n",
    "                  geo_feat_dim=15,\n",
    "                  num_layers_color=2,\n",
    "                  hidden_dim_color=16,\n",
    "                  input_ch=ENCODER.num_scales * 2).to(device)\n",
    "GRAD_vars = list(MODEL.parameters())"
   ],
   "outputs": [],
   "execution_count": 3
  },
  {
   "metadata": {
    "ExecuteTime": {
     "end_time": "2024-12-11T12:04:19.026229Z",
     "start_time": "2024-12-11T12:04:19.016490Z"
    }
   },
   "cell_type": "code",
   "source": [
    "torch.save({\n",
    "    'global_step': global_step,\n",
    "    'network_fn_state_dict': render_kwargs_train['network_fn'].state_dict(),\n",
    "    'embed_fn_state_dict': render_kwargs_train['embed_fn'].state_dict(),\n",
    "    'optimizer_state_dict': optimizer.state_dict(),\n",
    "}, path)"
   ],
   "id": "aa0fd32aee324ab8",
   "outputs": [
    {
     "name": "stdout",
     "output_type": "stream",
     "text": [
      "OrderedDict([('rgb', tensor([0.], device='cuda:0')), ('sigma_net.0.weight', tensor([[ 0.0558, -0.0628,  0.1638,  ..., -0.0514,  0.1751, -0.0634],\n",
      "        [ 0.1027, -0.1041,  0.1392,  ..., -0.0491,  0.1338, -0.0573],\n",
      "        [-0.0621, -0.1157,  0.1138,  ..., -0.1672, -0.0187, -0.1348],\n",
      "        ...,\n",
      "        [-0.0463,  0.0328,  0.0727,  ...,  0.0618,  0.1649,  0.1239],\n",
      "        [ 0.1692, -0.1448, -0.0416,  ...,  0.1656, -0.0307, -0.0014],\n",
      "        [ 0.0795, -0.1002, -0.1327,  ...,  0.0399,  0.1681,  0.0923]],\n",
      "       device='cuda:0')), ('sigma_net.1.weight', tensor([[-0.0694,  0.0107, -0.0133, -0.1072, -0.1051,  0.0851,  0.0395,  0.0086,\n",
      "         -0.0155, -0.1220, -0.0845, -0.0150,  0.0041,  0.0150, -0.0963, -0.0140,\n",
      "         -0.0322,  0.0933,  0.0602, -0.0018,  0.0137,  0.1026,  0.0538,  0.1168,\n",
      "         -0.0708,  0.0440, -0.1083,  0.0329,  0.0144, -0.1174, -0.0546, -0.0962,\n",
      "         -0.0291, -0.0273,  0.0809,  0.0407,  0.0645,  0.1233, -0.0516,  0.0397,\n",
      "          0.0058, -0.0120,  0.0295,  0.0432, -0.0326,  0.0068,  0.0266, -0.1116,\n",
      "         -0.1126,  0.0327, -0.0256, -0.1142,  0.1247,  0.0005,  0.0509, -0.0622,\n",
      "          0.1143, -0.0774,  0.0351, -0.0187, -0.0567, -0.0498,  0.0680,  0.1095]],\n",
      "       device='cuda:0'))])\n"
     ]
    }
   ],
   "execution_count": 4
  }
 ],
 "metadata": {
  "kernelspec": {
   "display_name": "Python 3",
   "language": "python",
   "name": "python3"
  },
  "language_info": {
   "codemirror_mode": {
    "name": "ipython",
    "version": 2
   },
   "file_extension": ".py",
   "mimetype": "text/x-python",
   "name": "python",
   "nbconvert_exporter": "python",
   "pygments_lexer": "ipython2",
   "version": "2.7.6"
  }
 },
 "nbformat": 4,
 "nbformat_minor": 5
}
