{
 "cells": [
  {
   "metadata": {
    "ExecuteTime": {
     "end_time": "2024-12-02T14:29:05.717159Z",
     "start_time": "2024-12-02T14:29:02.516291Z"
    }
   },
   "cell_type": "code",
   "source": [
    "import torch\n",
    "import taichi as ti\n",
    "import numpy as np\n",
    "import math\n",
    "\n",
    "device = torch.device(\"cuda\")\n",
    "ti.init(arch=ti.cuda, device_memory_GB=36.0)"
   ],
   "id": "2f3b5a2a0a587a14",
   "outputs": [
    {
     "name": "stdout",
     "output_type": "stream",
     "text": [
      "[Taichi] version 1.7.2, llvm 15.0.1, commit 0131dce9, win, python 3.11.0\n",
      "[Taichi] Starting on arch=cuda\n"
     ]
    }
   ],
   "execution_count": 1
  },
  {
   "cell_type": "code",
   "id": "initial_id",
   "metadata": {
    "collapsed": true,
    "ExecuteTime": {
     "end_time": "2024-12-02T14:29:05.891533Z",
     "start_time": "2024-12-02T14:29:05.882454Z"
    }
   },
   "source": [
    "from types import SimpleNamespace\n",
    "\n",
    "args_npz = np.load(\"args.npz\", allow_pickle=True)\n",
    "ARGs = SimpleNamespace(**{\n",
    "    key: value.item() if isinstance(value, np.ndarray) and value.size == 1 else\n",
    "    value.tolist() if isinstance(value, np.ndarray) else\n",
    "    value\n",
    "    for key, value in args_npz.items()\n",
    "})\n",
    "del args_npz\n",
    "\n",
    "print(type(ARGs))"
   ],
   "outputs": [
    {
     "name": "stdout",
     "output_type": "stream",
     "text": [
      "<class 'types.SimpleNamespace'>\n"
     ]
    }
   ],
   "execution_count": 2
  },
  {
   "metadata": {
    "ExecuteTime": {
     "end_time": "2024-12-02T14:29:13.185342Z",
     "start_time": "2024-12-02T14:29:05.891533Z"
    }
   },
   "cell_type": "code",
   "source": [
    "pinf_data = np.load(\"train_dataset.npz\")\n",
    "IMAGE_TRAIN_np = pinf_data['images_train']\n",
    "POSES_TRAIN_np = pinf_data['poses_train']\n",
    "HWF_np = pinf_data['hwf']\n",
    "RENDER_POSE_np = pinf_data['render_poses']\n",
    "RENDER_TIMESTEPs_np = pinf_data['render_timesteps']\n",
    "VOXEL_TRAN_np = pinf_data['voxel_tran']\n",
    "VOXEL_SCALE_np = pinf_data['voxel_scale']\n",
    "NEAR_float = pinf_data['near'].item()\n",
    "FAR_float = pinf_data['far'].item()\n",
    "\n",
    "pinf_data_test = np.load(\"test_dataset.npz\")\n",
    "IMAGE_TEST_np = pinf_data_test['images_test']\n",
    "POSES_TEST_np = pinf_data_test['poses_test']\n",
    "\n",
    "del pinf_data\n",
    "del pinf_data_test\n",
    "print(f'IMAGE_TRAIN_np.shape: {IMAGE_TRAIN_np.shape}')\n",
    "print(f'POSES_TRAIN_np.shape: {POSES_TRAIN_np.shape}')\n",
    "print(f'HWF_np: {HWF_np}')\n",
    "print(f'RENDER_POSE_np.shape: {RENDER_POSE_np.shape}')\n",
    "print(f'RENDER_TIMESTEPs_np.shape: {RENDER_TIMESTEPs_np.shape}')\n",
    "print(f'VOXEL_TRAN_np.shape: {VOXEL_TRAN_np.shape}')\n",
    "print(f'VOXEL_SCALE_np.shape: {VOXEL_SCALE_np.shape}')\n",
    "print(f'NEAR_float: {NEAR_float}')\n",
    "print(f'FAR_float: {FAR_float}')\n",
    "print(f'IMAGE_TEST_np.shape: {IMAGE_TEST_np.shape}')\n",
    "print(f'POSES_TEST_np.shape: {POSES_TEST_np.shape}')"
   ],
   "id": "b8a1b8a67c1c8b7a",
   "outputs": [
    {
     "name": "stdout",
     "output_type": "stream",
     "text": [
      "IMAGE_TRAIN_np.shape: (120, 4, 960, 540, 3)\n",
      "POSES_TRAIN_np.shape: (4, 4, 4)\n",
      "HWF_np: [ 960.      540.     1306.8817]\n",
      "RENDER_POSE_np.shape: (120, 4, 4)\n",
      "RENDER_TIMESTEPs_np.shape: (120,)\n",
      "VOXEL_TRAN_np.shape: (4, 4)\n",
      "VOXEL_SCALE_np.shape: (3,)\n",
      "NEAR_float: 1.1\n",
      "FAR_float: 1.5\n",
      "IMAGE_TEST_np.shape: (120, 1, 960, 540, 3)\n",
      "POSES_TEST_np.shape: (1, 4, 4)\n"
     ]
    }
   ],
   "execution_count": 3
  },
  {
   "metadata": {
    "ExecuteTime": {
     "end_time": "2024-12-02T14:29:14.550124Z",
     "start_time": "2024-12-02T14:29:13.266863Z"
    }
   },
   "cell_type": "code",
   "source": [
    "from encoder import HashEncoderHyFluid\n",
    "\n",
    "ENCODER = HashEncoderHyFluid(\n",
    "    min_res=np.array([ARGs.base_resolution, ARGs.base_resolution, ARGs.base_resolution, ARGs.base_resolution_t]),\n",
    "    max_res=np.array(\n",
    "        [ARGs.finest_resolution, ARGs.finest_resolution, ARGs.finest_resolution, ARGs.finest_resolution_t]),\n",
    "    num_scales=ARGs.num_levels,\n",
    "    max_params=2 ** ARGs.log2_hashmap_size).to(device)\n",
    "ENCODER_params = list(ENCODER.parameters())"
   ],
   "id": "1b6289ca0d33697d",
   "outputs": [
    {
     "name": "stderr",
     "output_type": "stream",
     "text": [
      "C:\\Users\\imeho\\Desktop\\241118\\Instant-PINF\\test\\encoder.py:275: FutureWarning: `torch.cuda.amp.custom_fwd(args...)` is deprecated. Please use `torch.amp.custom_fwd(args..., device_type='cuda')` instead.\n",
      "  @custom_fwd(cast_inputs=torch.float32)\n",
      "C:\\Users\\imeho\\Desktop\\241118\\Instant-PINF\\test\\encoder.py:298: FutureWarning: `torch.cuda.amp.custom_bwd(args...)` is deprecated. Please use `torch.amp.custom_bwd(args..., device_type='cuda')` instead.\n",
      "  @custom_bwd\n",
      "C:\\Users\\imeho\\Desktop\\241118\\Instant-PINF\\test\\encoder.py:310: FutureWarning: `torch.cuda.amp.custom_fwd(args...)` is deprecated. Please use `torch.amp.custom_fwd(args..., device_type='cuda')` instead.\n",
      "  @custom_fwd(cast_inputs=torch.float32)\n",
      "C:\\Users\\imeho\\Desktop\\241118\\Instant-PINF\\test\\encoder.py:336: FutureWarning: `torch.cuda.amp.custom_bwd(args...)` is deprecated. Please use `torch.amp.custom_bwd(args..., device_type='cuda')` instead.\n",
      "  @custom_bwd\n"
     ]
    }
   ],
   "execution_count": 4
  },
  {
   "metadata": {
    "ExecuteTime": {
     "end_time": "2024-12-02T14:29:14.562530Z",
     "start_time": "2024-12-02T14:29:14.553128Z"
    }
   },
   "cell_type": "code",
   "source": [
    "class NeRFSmall(torch.nn.Module):\n",
    "    def __init__(self,\n",
    "                 num_layers=3,\n",
    "                 hidden_dim=64,\n",
    "                 geo_feat_dim=15,\n",
    "                 num_layers_color=2,\n",
    "                 hidden_dim_color=16,\n",
    "                 input_ch=3,\n",
    "                 ):\n",
    "        super(NeRFSmall, self).__init__()\n",
    "\n",
    "        self.input_ch = input_ch\n",
    "        self.rgb = torch.nn.Parameter(torch.tensor([0.0]))\n",
    "\n",
    "        # sigma network\n",
    "        self.num_layers = num_layers\n",
    "        self.hidden_dim = hidden_dim\n",
    "        self.geo_feat_dim = geo_feat_dim\n",
    "\n",
    "        sigma_net = []\n",
    "        for l in range(num_layers):\n",
    "            if l == 0:\n",
    "                in_dim = self.input_ch\n",
    "            else:\n",
    "                in_dim = hidden_dim\n",
    "\n",
    "            if l == num_layers - 1:\n",
    "                out_dim = 1  # 1 sigma + 15 SH features for color\n",
    "            else:\n",
    "                out_dim = hidden_dim\n",
    "\n",
    "            sigma_net.append(torch.nn.Linear(in_dim, out_dim, bias=False))\n",
    "\n",
    "        self.sigma_net = torch.nn.ModuleList(sigma_net)\n",
    "\n",
    "        self.color_net = []\n",
    "        for l in range(num_layers_color):\n",
    "            if l == 0:\n",
    "                in_dim = 1\n",
    "            else:\n",
    "                in_dim = hidden_dim_color\n",
    "\n",
    "            if l == num_layers_color - 1:\n",
    "                out_dim = 1\n",
    "            else:\n",
    "                out_dim = hidden_dim_color\n",
    "\n",
    "            self.color_net.append(torch.nn.Linear(in_dim, out_dim, bias=True))\n",
    "\n",
    "    def forward(self, x):\n",
    "        h = x\n",
    "        for l in range(self.num_layers):\n",
    "            h = self.sigma_net[l](h)\n",
    "            h = torch.nn.functional.relu(h, inplace=True)\n",
    "\n",
    "        sigma = h\n",
    "        return sigma\n",
    "\n",
    "\n",
    "MODEL = NeRFSmall(num_layers=2,\n",
    "                  hidden_dim=64,\n",
    "                  geo_feat_dim=15,\n",
    "                  num_layers_color=2,\n",
    "                  hidden_dim_color=16,\n",
    "                  input_ch=ENCODER.num_scales * 2).to(device)\n",
    "GRAD_vars = list(MODEL.parameters())"
   ],
   "id": "e8545a3d5367049",
   "outputs": [],
   "execution_count": 5
  },
  {
   "metadata": {
    "ExecuteTime": {
     "end_time": "2024-12-02T14:29:16.034185Z",
     "start_time": "2024-12-02T14:29:14.723548Z"
    }
   },
   "cell_type": "code",
   "source": [
    "from torch.optim.optimizer import Optimizer\n",
    "\n",
    "\n",
    "class RAdam(Optimizer):\n",
    "\n",
    "    def __init__(self, params, lr=1e-3, betas=(0.9, 0.999), eps=1e-8, weight_decay=0, degenerated_to_sgd=False):\n",
    "        if not 0.0 <= lr:\n",
    "            raise ValueError(\"Invalid learning rate: {}\".format(lr))\n",
    "        if not 0.0 <= eps:\n",
    "            raise ValueError(\"Invalid epsilon value: {}\".format(eps))\n",
    "        if not 0.0 <= betas[0] < 1.0:\n",
    "            raise ValueError(\"Invalid beta parameter at index 0: {}\".format(betas[0]))\n",
    "        if not 0.0 <= betas[1] < 1.0:\n",
    "            raise ValueError(\"Invalid beta parameter at index 1: {}\".format(betas[1]))\n",
    "\n",
    "        self.degenerated_to_sgd = degenerated_to_sgd\n",
    "        if isinstance(params, (list, tuple)) and len(params) > 0 and isinstance(params[0], dict):\n",
    "            for param in params:\n",
    "                if 'betas' in param and (param['betas'][0] != betas[0] or param['betas'][1] != betas[1]):\n",
    "                    param['buffer'] = [[None, None, None] for _ in range(10)]\n",
    "        defaults = dict(lr=lr, betas=betas, eps=eps, weight_decay=weight_decay,\n",
    "                        buffer=[[None, None, None] for _ in range(10)])\n",
    "        super(RAdam, self).__init__(params, defaults)\n",
    "\n",
    "    def __setstate__(self, state):\n",
    "        super(RAdam, self).__setstate__(state)\n",
    "\n",
    "    def step(self, closure=None):\n",
    "\n",
    "        loss = None\n",
    "        if closure is not None:\n",
    "            loss = closure()\n",
    "\n",
    "        for group in self.param_groups:\n",
    "\n",
    "            for p in group['params']:\n",
    "                if p.grad is None:\n",
    "                    continue\n",
    "                grad = p.grad.data.float()\n",
    "                if grad.is_sparse:\n",
    "                    raise RuntimeError('RAdam does not support sparse gradients')\n",
    "\n",
    "                p_data_fp32 = p.data.float()\n",
    "\n",
    "                state = self.state[p]\n",
    "\n",
    "                if len(state) == 0:\n",
    "                    state['step'] = 0\n",
    "                    state['exp_avg'] = torch.zeros_like(p_data_fp32)\n",
    "                    state['exp_avg_sq'] = torch.zeros_like(p_data_fp32)\n",
    "                else:\n",
    "                    state['exp_avg'] = state['exp_avg'].type_as(p_data_fp32)\n",
    "                    state['exp_avg_sq'] = state['exp_avg_sq'].type_as(p_data_fp32)\n",
    "\n",
    "                exp_avg, exp_avg_sq = state['exp_avg'], state['exp_avg_sq']\n",
    "                beta1, beta2 = group['betas']\n",
    "\n",
    "                exp_avg_sq.mul_(beta2).addcmul_(grad, grad, value=1 - beta2)\n",
    "                exp_avg.mul_(beta1).add_(grad, alpha=1 - beta1)\n",
    "\n",
    "                state['step'] += 1\n",
    "                buffered = group['buffer'][int(state['step'] % 10)]\n",
    "                if state['step'] == buffered[0]:\n",
    "                    N_sma, step_size = buffered[1], buffered[2]\n",
    "                else:\n",
    "                    buffered[0] = state['step']\n",
    "                    beta2_t = beta2 ** state['step']\n",
    "                    N_sma_max = 2 / (1 - beta2) - 1\n",
    "                    N_sma = N_sma_max - 2 * state['step'] * beta2_t / (1 - beta2_t)\n",
    "                    buffered[1] = N_sma\n",
    "\n",
    "                    # more conservative since it's an approximated value\n",
    "                    if N_sma >= 5:\n",
    "                        step_size = math.sqrt(\n",
    "                            (1 - beta2_t) * (N_sma - 4) / (N_sma_max - 4) * (N_sma - 2) / N_sma * N_sma_max / (\n",
    "                                    N_sma_max - 2)) / (1 - beta1 ** state['step'])\n",
    "                    elif self.degenerated_to_sgd:\n",
    "                        step_size = 1.0 / (1 - beta1 ** state['step'])\n",
    "                    else:\n",
    "                        step_size = -1\n",
    "                    buffered[2] = step_size\n",
    "\n",
    "                # more conservative since it's an approximated value\n",
    "                if N_sma >= 5:\n",
    "                    if group['weight_decay'] != 0:\n",
    "                        p_data_fp32.add_(p_data_fp32, alpha=-group['weight_decay'] * group['lr'])\n",
    "                    denom = exp_avg_sq.sqrt().add_(group['eps'])\n",
    "                    p_data_fp32.addcdiv_(exp_avg, denom, value=-step_size * group['lr'])\n",
    "                    p.data.copy_(p_data_fp32)\n",
    "                elif step_size > 0:\n",
    "                    if group['weight_decay'] != 0:\n",
    "                        p_data_fp32.add_(p_data_fp32, alpha=-group['weight_decay'] * group['lr'])\n",
    "                    p_data_fp32.add_(exp_avg, alpha=-step_size * group['lr'])\n",
    "                    p.data.copy_(p_data_fp32)\n",
    "\n",
    "        return loss\n",
    "\n",
    "\n",
    "optimizer = RAdam([\n",
    "    {'params': GRAD_vars, 'weight_decay': 1e-6},\n",
    "    {'params': ENCODER_params, 'eps': 1e-15}\n",
    "], lr=ARGs.lrate, betas=(0.9, 0.99))\n",
    "GRAD_vars += list(ENCODER_params)\n",
    "\n",
    "print(f'len(GRAD_vars): {len(GRAD_vars)}')"
   ],
   "id": "f5ba2014de9a65ad",
   "outputs": [
    {
     "name": "stdout",
     "output_type": "stream",
     "text": [
      "len(GRAD_vars): 4\n"
     ]
    }
   ],
   "execution_count": 6
  },
  {
   "metadata": {
    "ExecuteTime": {
     "end_time": "2024-12-02T14:29:16.064978Z",
     "start_time": "2024-12-02T14:29:16.060800Z"
    }
   },
   "cell_type": "code",
   "source": [
    "H = int(HWF_np[0])\n",
    "W = int(HWF_np[1])\n",
    "FOCAL = float(HWF_np[2])\n",
    "K = np.array([[FOCAL, 0, 0.5 * W], [0, FOCAL, 0.5 * H], [0, 0, 1]])\n",
    "print(f'H: {H}, W: {W}, FOCAL: {FOCAL}, K: {K}')"
   ],
   "id": "636c18101d3c6f4d",
   "outputs": [
    {
     "name": "stdout",
     "output_type": "stream",
     "text": [
      "H: 960, W: 540, FOCAL: 1306.8817138671875, K: [[1.30688171e+03 0.00000000e+00 2.70000000e+02]\n",
      " [0.00000000e+00 1.30688171e+03 4.80000000e+02]\n",
      " [0.00000000e+00 0.00000000e+00 1.00000000e+00]]\n"
     ]
    }
   ],
   "execution_count": 7
  },
  {
   "metadata": {
    "ExecuteTime": {
     "end_time": "2024-12-02T14:29:16.305711Z",
     "start_time": "2024-12-02T14:29:16.110854Z"
    }
   },
   "cell_type": "code",
   "source": [
    "def pos_world2smoke(Pworld, w2s, scale_vector):\n",
    "    pos_rot = torch.sum(Pworld[..., None, :] * (w2s[:3, :3]), -1)  # 4.world to 3.target\n",
    "    pos_off = (w2s[:3, -1]).expand(pos_rot.shape)  # 4.world to 3.target\n",
    "    new_pose = pos_rot + pos_off\n",
    "    pos_scale = new_pose / (scale_vector)  # 3.target to 2.simulation\n",
    "    return pos_scale\n",
    "\n",
    "\n",
    "class BBox_Tool(object):\n",
    "    def __init__(self, smoke_tran_inv, smoke_scale, in_min=[0.15, 0.0, 0.15], in_max=[0.85, 1., 0.85]):\n",
    "        self.s_w2s = torch.tensor(smoke_tran_inv, device=device, dtype=torch.float32).expand([4, 4])\n",
    "        self.s2w = torch.inverse(self.s_w2s)\n",
    "        self.s_scale = torch.tensor(smoke_scale.copy(), device=device, dtype=torch.float32).expand([3])\n",
    "        self.s_min = torch.tensor(in_min, device=device, dtype=torch.float32)\n",
    "        self.s_max = torch.tensor(in_max, device=device, dtype=torch.float32)\n",
    "\n",
    "    def world2sim(self, pts_world):\n",
    "        pts_world_homo = torch.cat([pts_world, torch.ones_like(pts_world[..., :1])], dim=-1)\n",
    "        pts_sim_ = torch.matmul(self.s_w2s, pts_world_homo[..., None]).squeeze(-1)[..., :3]\n",
    "        pts_sim = pts_sim_ / (self.s_scale)  # 3.target to 2.simulation\n",
    "        return pts_sim\n",
    "\n",
    "    def world2sim_rot(self, pts_world):\n",
    "        pts_sim_ = torch.matmul(self.s_w2s[:3, :3], pts_world[..., None]).squeeze(-1)\n",
    "        pts_sim = pts_sim_ / (self.s_scale)  # 3.target to 2.simulation\n",
    "        return pts_sim\n",
    "\n",
    "    def sim2world(self, pts_sim):\n",
    "        pts_sim_ = pts_sim * self.s_scale\n",
    "        pts_sim_homo = torch.cat([pts_sim_, torch.ones_like(pts_sim_[..., :1])], dim=-1)\n",
    "        pts_world = torch.matmul(self.s2w, pts_sim_homo[..., None]).squeeze(-1)[..., :3]\n",
    "        return pts_world\n",
    "\n",
    "    def sim2world_rot(self, pts_sim):\n",
    "        pts_sim_ = pts_sim * self.s_scale\n",
    "        pts_world = torch.matmul(self.s2w[:3, :3], pts_sim_[..., None]).squeeze(-1)\n",
    "        return pts_world\n",
    "\n",
    "    def isInside(self, inputs_pts):\n",
    "        target_pts = pos_world2smoke(inputs_pts, self.s_w2s, self.s_scale)\n",
    "        above = torch.logical_and(target_pts[..., 0] >= self.s_min[0], target_pts[..., 1] >= self.s_min[1])\n",
    "        above = torch.logical_and(above, target_pts[..., 2] >= self.s_min[2])\n",
    "        below = torch.logical_and(target_pts[..., 0] <= self.s_max[0], target_pts[..., 1] <= self.s_max[1])\n",
    "        below = torch.logical_and(below, target_pts[..., 2] <= self.s_max[2])\n",
    "        outputs = torch.logical_and(below, above)\n",
    "        return outputs\n",
    "\n",
    "    def insideMask(self, inputs_pts, to_float=True):\n",
    "        return self.isInside(inputs_pts).to(torch.float) if to_float else self.isInside(inputs_pts)\n",
    "\n",
    "\n",
    "voxel_tran_inv = np.linalg.inv(VOXEL_TRAN_np)\n",
    "BBOX_MODEL_gpu = BBox_Tool(voxel_tran_inv, VOXEL_SCALE_np)"
   ],
   "id": "3058f6dd2e3d27c6",
   "outputs": [],
   "execution_count": 8
  },
  {
   "metadata": {
    "ExecuteTime": {
     "end_time": "2024-12-02T14:31:15.725368Z",
     "start_time": "2024-12-02T14:29:16.305711Z"
    }
   },
   "cell_type": "code",
   "source": [
    "def get_rays_np_continuous(c2w):\n",
    "    i, j = np.meshgrid(np.arange(W, dtype=np.float32), np.arange(H, dtype=np.float32), indexing='xy')\n",
    "    random_offset_i = np.random.uniform(0, 1, size=(H, W))\n",
    "    random_offset_j = np.random.uniform(0, 1, size=(H, W))\n",
    "    i = i + random_offset_i\n",
    "    j = j + random_offset_j\n",
    "    i = np.clip(i, 0, W - 1)\n",
    "    j = np.clip(j, 0, H - 1)\n",
    "\n",
    "    dirs = np.stack([(i - K[0][2]) / K[0][0], -(j - K[1][2]) / K[1][1], -np.ones_like(i)], -1)\n",
    "    # Rotate ray directions from camera frame to the world frame\n",
    "    rays_d = np.sum(dirs[..., np.newaxis, :] * c2w[:3, :3],\n",
    "                    -1)  # dot product, equals to: [c2w.dot(dir) for dir in dirs]\n",
    "    # Translate camera frame's origin to the world frame. It is the origin of all rays.\n",
    "    rays_o = np.broadcast_to(c2w[:3, -1], np.shape(rays_d))\n",
    "    return rays_o, rays_d, i, j\n",
    "\n",
    "\n",
    "def sample_bilinear(img, xy):\n",
    "    \"\"\"\n",
    "    Sample image with bilinear interpolation\n",
    "    :param img: (T, V, H, W, 3)\n",
    "    :param xy: (V, 2, H, W)\n",
    "    :return: img: (T, V, H, W, 3)\n",
    "    \"\"\"\n",
    "    T, V, H, W, _ = img.shape\n",
    "    u, v = xy[:, 0], xy[:, 1]\n",
    "\n",
    "    u = np.clip(u, 0, W - 1)\n",
    "    v = np.clip(v, 0, H - 1)\n",
    "\n",
    "    u_floor, v_floor = np.floor(u).astype(int), np.floor(v).astype(int)\n",
    "    u_ceil, v_ceil = np.ceil(u).astype(int), np.ceil(v).astype(int)\n",
    "\n",
    "    u_ratio, v_ratio = u - u_floor, v - v_floor\n",
    "    u_ratio, v_ratio = u_ratio[None, ..., None], v_ratio[None, ..., None]\n",
    "\n",
    "    bottom_left = img[:, np.arange(V)[:, None, None], v_floor, u_floor]\n",
    "    bottom_right = img[:, np.arange(V)[:, None, None], v_floor, u_ceil]\n",
    "    top_left = img[:, np.arange(V)[:, None, None], v_ceil, u_floor]\n",
    "    top_right = img[:, np.arange(V)[:, None, None], v_ceil, u_ceil]\n",
    "\n",
    "    bottom = (1 - u_ratio) * bottom_left + u_ratio * bottom_right\n",
    "    top = (1 - u_ratio) * top_left + u_ratio * top_right\n",
    "\n",
    "    interpolated = (1 - v_ratio) * bottom + v_ratio * top\n",
    "\n",
    "    return interpolated\n",
    "\n",
    "\n",
    "def do_resample_rays():\n",
    "    rays_list = []\n",
    "    ij = []\n",
    "    for p in POSES_TRAIN_np[:, :3, :4]:\n",
    "        r_o, r_d, i_, j_ = get_rays_np_continuous(p)\n",
    "        rays_list.append([r_o, r_d])\n",
    "        ij.append([i_, j_])\n",
    "    ij = np.stack(ij, 0)\n",
    "    images_train_sample = sample_bilinear(IMAGE_TRAIN_np, ij)\n",
    "    ret_IMAGE_TRAIN_gpu = torch.tensor(images_train_sample, device=device, dtype=torch.float32).flatten(start_dim=1,\n",
    "                                                                                                        end_dim=3)\n",
    "\n",
    "    rays_np = np.stack(rays_list, 0)\n",
    "    rays_np = np.transpose(rays_np, [0, 2, 3, 1, 4])\n",
    "    rays_np = np.reshape(rays_np, [-1, 2, 3])  # [VHW, ro+rd=2, 3]\n",
    "    rays_np = rays_np.astype(np.float32)\n",
    "    ret_RAYs_gpu = torch.tensor(rays_np, device=device, dtype=torch.float32)\n",
    "    ret_RAY_IDX_gpu = torch.randperm(ret_RAYs_gpu.shape[0], device=device, dtype=torch.int32)\n",
    "\n",
    "    return ret_IMAGE_TRAIN_gpu, ret_RAYs_gpu, ret_RAY_IDX_gpu\n",
    "\n",
    "\n",
    "IMAGE_TRAIN_gpu, RAYs_gpu, RAY_IDX_gpu = do_resample_rays()\n",
    "resample_rays = False\n",
    "print(f'IMAGE_TRAIN_gpu: shape={IMAGE_TRAIN_gpu.shape}, dtype={IMAGE_TRAIN_gpu.dtype}, device={IMAGE_TRAIN_gpu.device}')\n",
    "print(f'RAYs_gpu: shape={RAYs_gpu.shape}, dtype={RAYs_gpu.dtype}, device={RAYs_gpu.device}')\n",
    "print(f'RAY_IDX_gpu: shape={RAY_IDX_gpu.shape}, dtype={RAY_IDX_gpu.dtype}, device={RAY_IDX_gpu.device}')"
   ],
   "id": "137b162100e6d761",
   "outputs": [
    {
     "name": "stdout",
     "output_type": "stream",
     "text": [
      "IMAGE_TRAIN_gpu: shape=torch.Size([120, 2073600, 3]), dtype=torch.float32, device=cuda:0\n",
      "RAYs_gpu: shape=torch.Size([2073600, 2, 3]), dtype=torch.float32, device=cuda:0\n",
      "RAY_IDX_gpu: shape=torch.Size([2073600]), dtype=torch.int32, device=cuda:0\n"
     ]
    }
   ],
   "execution_count": 9
  },
  {
   "metadata": {
    "ExecuteTime": {
     "end_time": "2024-12-02T14:31:21.884749Z",
     "start_time": "2024-12-02T14:31:16.224108Z"
    }
   },
   "cell_type": "code",
   "source": [
    "import tqdm\n",
    "\n",
    "i_batch = 0\n",
    "for i in tqdm.trange(1, ARGs.N_iters + 1):\n",
    "    BATCH_RAY_IDX_gpu = RAY_IDX_gpu[i_batch:i_batch + ARGs.N_rand]  # (N_rand,)\n",
    "    BATCH_RAYs_gpu = torch.transpose(RAYs_gpu[BATCH_RAY_IDX_gpu], 0, 1)  # (2, N_rand, 3)\n",
    "\n",
    "    TIME_IDX_gpu = torch.randperm(IMAGE_TRAIN_gpu.shape[0], device=device, dtype=torch.float32)[\n",
    "                   :ARGs.N_time] + torch.randn(ARGs.N_time, device=device, dtype=torch.float32)  # (N_time,)\n",
    "    TIME_IDX_FLOOR_gpu = torch.clamp(torch.floor(TIME_IDX_gpu).long(), 0, IMAGE_TRAIN_gpu.shape[0] - 1)  # (N_time,)\n",
    "    TIME_IDX_CEIL_gpu = torch.clamp(torch.ceil(TIME_IDX_gpu).long(), 0, IMAGE_TRAIN_gpu.shape[0] - 1)  # (N_time,)\n",
    "    TIME_IDX_RESIDUAL_gpu = TIME_IDX_gpu - TIME_IDX_FLOOR_gpu.float()  # (N_time,)\n",
    "    TIME_STEP_gpu = TIME_IDX_gpu / (IMAGE_TRAIN_gpu.shape[0] - 1) if IMAGE_TRAIN_gpu.shape[0] > 1 else torch.zeros_like(\n",
    "        TIME_IDX_gpu)  # (N_time,)\n",
    "\n",
    "    FRAMES_INTERPOLATED_gpu = IMAGE_TRAIN_gpu[TIME_IDX_FLOOR_gpu] * (1 - TIME_IDX_RESIDUAL_gpu).unsqueeze(-1) + \\\n",
    "                              IMAGE_TRAIN_gpu[TIME_IDX_CEIL_gpu] * TIME_IDX_RESIDUAL_gpu.unsqueeze(\n",
    "        -1)  # (N_time, 4 * WIDTH * HEIGHT, 3)\n",
    "\n",
    "    TARGET_S_gpu = FRAMES_INTERPOLATED_gpu[:, BATCH_RAY_IDX_gpu].flatten(0, 1)  # (N_time, N_rand, 3)\n",
    "\n",
    "    i_batch += ARGs.N_rand\n",
    "    if i_batch >= RAYs_gpu.shape[0]:\n",
    "        print(\"Shuffle data after an epoch!\")\n",
    "        RAY_IDX_gpu = torch.randperm(RAYs_gpu.shape[0], device=device)\n",
    "        i_batch = 0\n",
    "        resample_rays = True\n",
    "\n",
    "    RAYS_O_gpu, RAYS_D_gpu = BATCH_RAYs_gpu  # (N_rand, 3), (N_rand, 3)\n",
    "    T_VALS_gpu = torch.linspace(0., 1., steps=ARGs.N_samples, device=device, dtype=torch.float32)  # (N_samples,)\n",
    "    Z_VALS_GPU = NEAR_float * torch.ones_like(RAYS_D_gpu[..., :1]) * (1. - T_VALS_gpu) + FAR_float * torch.ones_like(\n",
    "        RAYS_D_gpu[..., :1]) * T_VALS_gpu  # (N_rand, N_samples)\n",
    "\n",
    "    ### Randomize the z-values\n",
    "    MIDs_gpu = .5 * (Z_VALS_GPU[..., 1:] + Z_VALS_GPU[..., :-1])  # (N_rand, N_samples - 1)\n",
    "    UPPER_gpu = torch.cat([MIDs_gpu, Z_VALS_GPU[..., -1:]], -1)  # (N_rand, N_samples)\n",
    "    LOWER_gpu = torch.cat([Z_VALS_GPU[..., :1], MIDs_gpu], -1)  # (N_rand, N_samples)\n",
    "    T_RAND_gpu = torch.rand(Z_VALS_GPU.shape, device=device, dtype=torch.float32)  # (N_rand, N_samples)\n",
    "    Z_VALS_GPU = LOWER_gpu + (UPPER_gpu - LOWER_gpu) * T_RAND_gpu  # (N_rand, N_samples)\n",
    "    ### Randomize the z-values\n",
    "\n",
    "    POINTS_gpu = RAYS_O_gpu[..., None, :] + RAYS_D_gpu[..., None, :] * Z_VALS_GPU[..., :, None]\n",
    "    TIME_STEP_EXPENDED_gpu = TIME_STEP_gpu.expand(POINTS_gpu[..., :1].shape)  # TODO: check here\n",
    "    POINTS_TIME_gpu = torch.cat([POINTS_gpu, TIME_STEP_EXPENDED_gpu], dim=-1)\n",
    "    POINTS_TIME_FLAT_gpu = torch.reshape(POINTS_TIME_gpu, [-1, POINTS_TIME_gpu.shape[-1]])\n",
    "\n",
    "    out_dim = 1\n",
    "    RAW_FLAT_gpu = torch.zeros([POINTS_TIME_FLAT_gpu.shape[0], out_dim], device=device, dtype=torch.float32)\n",
    "    bbox_mask = BBOX_MODEL_gpu.insideMask(POINTS_TIME_FLAT_gpu[..., :3], to_float=False)\n",
    "    if bbox_mask.sum() == 0:\n",
    "        bbox_mask[0] = True\n",
    "    POINTS_TIME_FLAT_FINAL_gpu = POINTS_TIME_FLAT_gpu[bbox_mask]\n",
    "    RAW_FLAT_gpu[bbox_mask] = MODEL(ENCODER(POINTS_TIME_FLAT_FINAL_gpu))\n",
    "    RAW_gpu = RAW_FLAT_gpu.reshape(*POINTS_TIME_gpu.shape[:-1], out_dim)\n",
    "\n",
    "    DISTS_gpu = Z_VALS_GPU[..., 1:] - Z_VALS_GPU[..., :-1]\n",
    "    DISTS_gpu = torch.cat([DISTS_gpu, torch.tensor([1e10], device=device).expand(DISTS_gpu[..., :1].shape)], -1)\n",
    "    DISTS_gpu = DISTS_gpu * torch.norm(RAYS_D_gpu[..., None, :], dim=-1)\n",
    "    RGB_TRAINED = torch.ones(3, device=device) * (0.6 + torch.tanh(MODEL.rgb) * 0.4)\n",
    "    raw2alpha = lambda raw, dists, act_fn=torch.nn.functional.relu: 1. - torch.exp(-act_fn(raw) * dists)\n",
    "    noise = 0.\n",
    "    alpha = raw2alpha(RAW_gpu[..., -1] + noise, DISTS_gpu)\n",
    "    weights = alpha * torch.cumprod(torch.cat([torch.ones((alpha.shape[0], 1), device=device), 1. - alpha + 1e-10], -1),\n",
    "                                    -1)[:, :-1]\n",
    "    rgb_map = torch.sum(weights[..., None] * RGB_TRAINED, -2)\n",
    "\n",
    "    img2mse = lambda x, y: torch.mean((x - y) ** 2)\n",
    "    img_loss = img2mse(rgb_map, TARGET_S_gpu)\n",
    "    loss = img_loss\n",
    "\n",
    "    for param in GRAD_vars:  # slightly faster than optimizer.zero_grad()\n",
    "        param.grad = None\n",
    "    loss.backward()\n",
    "    optimizer.step()\n",
    "\n",
    "    decay_rate = 0.1\n",
    "    decay_steps = ARGs.lrate_decay\n",
    "    new_lrate = ARGs.lrate * (decay_rate ** (i / decay_steps))\n",
    "    for param_group in optimizer.param_groups:\n",
    "        param_group['lr'] = new_lrate\n",
    "\n",
    "    if resample_rays:\n",
    "        print(\"Sampling new rays!\")\n",
    "        IMAGE_TRAIN_gpu, RAYs_gpu, RAY_IDX_gpu = do_resample_rays()\n",
    "        i_batch = 0\n",
    "        resample_rays = False"
   ],
   "id": "702ae25d69d650a9",
   "outputs": [
    {
     "name": "stderr",
     "output_type": "stream",
     "text": [
      "  0%|          | 0/10000 [00:04<?, ?it/s]\n"
     ]
    },
    {
     "ename": "KeyboardInterrupt",
     "evalue": "",
     "output_type": "error",
     "traceback": [
      "\u001B[1;31m---------------------------------------------------------------------------\u001B[0m",
      "\u001B[1;31mKeyboardInterrupt\u001B[0m                         Traceback (most recent call last)",
      "Cell \u001B[1;32mIn[10], line 53\u001B[0m\n\u001B[0;32m     51\u001B[0m     bbox_mask[\u001B[38;5;241m0\u001B[39m] \u001B[38;5;241m=\u001B[39m \u001B[38;5;28;01mTrue\u001B[39;00m\n\u001B[0;32m     52\u001B[0m POINTS_TIME_FLAT_FINAL_gpu \u001B[38;5;241m=\u001B[39m POINTS_TIME_FLAT_gpu[bbox_mask]\n\u001B[1;32m---> 53\u001B[0m RAW_FLAT_gpu[bbox_mask] \u001B[38;5;241m=\u001B[39m MODEL(\u001B[43mENCODER\u001B[49m\u001B[43m(\u001B[49m\u001B[43mPOINTS_TIME_FLAT_FINAL_gpu\u001B[49m\u001B[43m)\u001B[49m)\n\u001B[0;32m     54\u001B[0m RAW_gpu \u001B[38;5;241m=\u001B[39m RAW_FLAT_gpu\u001B[38;5;241m.\u001B[39mreshape(\u001B[38;5;241m*\u001B[39mPOINTS_TIME_gpu\u001B[38;5;241m.\u001B[39mshape[:\u001B[38;5;241m-\u001B[39m\u001B[38;5;241m1\u001B[39m], out_dim)\n\u001B[0;32m     56\u001B[0m DISTS_gpu \u001B[38;5;241m=\u001B[39m Z_VALS_GPU[\u001B[38;5;241m.\u001B[39m\u001B[38;5;241m.\u001B[39m\u001B[38;5;241m.\u001B[39m, \u001B[38;5;241m1\u001B[39m:] \u001B[38;5;241m-\u001B[39m Z_VALS_GPU[\u001B[38;5;241m.\u001B[39m\u001B[38;5;241m.\u001B[39m\u001B[38;5;241m.\u001B[39m, :\u001B[38;5;241m-\u001B[39m\u001B[38;5;241m1\u001B[39m]\n",
      "File \u001B[1;32m~\\Documents\\VituralEnvs\\HyFluid\\Lib\\site-packages\\torch\\nn\\modules\\module.py:1736\u001B[0m, in \u001B[0;36mModule._wrapped_call_impl\u001B[1;34m(self, *args, **kwargs)\u001B[0m\n\u001B[0;32m   1734\u001B[0m     \u001B[38;5;28;01mreturn\u001B[39;00m \u001B[38;5;28mself\u001B[39m\u001B[38;5;241m.\u001B[39m_compiled_call_impl(\u001B[38;5;241m*\u001B[39margs, \u001B[38;5;241m*\u001B[39m\u001B[38;5;241m*\u001B[39mkwargs)  \u001B[38;5;66;03m# type: ignore[misc]\u001B[39;00m\n\u001B[0;32m   1735\u001B[0m \u001B[38;5;28;01melse\u001B[39;00m:\n\u001B[1;32m-> 1736\u001B[0m     \u001B[38;5;28;01mreturn\u001B[39;00m \u001B[38;5;28;43mself\u001B[39;49m\u001B[38;5;241;43m.\u001B[39;49m\u001B[43m_call_impl\u001B[49m\u001B[43m(\u001B[49m\u001B[38;5;241;43m*\u001B[39;49m\u001B[43margs\u001B[49m\u001B[43m,\u001B[49m\u001B[43m \u001B[49m\u001B[38;5;241;43m*\u001B[39;49m\u001B[38;5;241;43m*\u001B[39;49m\u001B[43mkwargs\u001B[49m\u001B[43m)\u001B[49m\n",
      "File \u001B[1;32m~\\Documents\\VituralEnvs\\HyFluid\\Lib\\site-packages\\torch\\nn\\modules\\module.py:1747\u001B[0m, in \u001B[0;36mModule._call_impl\u001B[1;34m(self, *args, **kwargs)\u001B[0m\n\u001B[0;32m   1742\u001B[0m \u001B[38;5;66;03m# If we don't have any hooks, we want to skip the rest of the logic in\u001B[39;00m\n\u001B[0;32m   1743\u001B[0m \u001B[38;5;66;03m# this function, and just call forward.\u001B[39;00m\n\u001B[0;32m   1744\u001B[0m \u001B[38;5;28;01mif\u001B[39;00m \u001B[38;5;129;01mnot\u001B[39;00m (\u001B[38;5;28mself\u001B[39m\u001B[38;5;241m.\u001B[39m_backward_hooks \u001B[38;5;129;01mor\u001B[39;00m \u001B[38;5;28mself\u001B[39m\u001B[38;5;241m.\u001B[39m_backward_pre_hooks \u001B[38;5;129;01mor\u001B[39;00m \u001B[38;5;28mself\u001B[39m\u001B[38;5;241m.\u001B[39m_forward_hooks \u001B[38;5;129;01mor\u001B[39;00m \u001B[38;5;28mself\u001B[39m\u001B[38;5;241m.\u001B[39m_forward_pre_hooks\n\u001B[0;32m   1745\u001B[0m         \u001B[38;5;129;01mor\u001B[39;00m _global_backward_pre_hooks \u001B[38;5;129;01mor\u001B[39;00m _global_backward_hooks\n\u001B[0;32m   1746\u001B[0m         \u001B[38;5;129;01mor\u001B[39;00m _global_forward_hooks \u001B[38;5;129;01mor\u001B[39;00m _global_forward_pre_hooks):\n\u001B[1;32m-> 1747\u001B[0m     \u001B[38;5;28;01mreturn\u001B[39;00m \u001B[43mforward_call\u001B[49m\u001B[43m(\u001B[49m\u001B[38;5;241;43m*\u001B[39;49m\u001B[43margs\u001B[49m\u001B[43m,\u001B[49m\u001B[43m \u001B[49m\u001B[38;5;241;43m*\u001B[39;49m\u001B[38;5;241;43m*\u001B[39;49m\u001B[43mkwargs\u001B[49m\u001B[43m)\u001B[49m\n\u001B[0;32m   1749\u001B[0m result \u001B[38;5;241m=\u001B[39m \u001B[38;5;28;01mNone\u001B[39;00m\n\u001B[0;32m   1750\u001B[0m called_always_called_hooks \u001B[38;5;241m=\u001B[39m \u001B[38;5;28mset\u001B[39m()\n",
      "File \u001B[1;32m~\\Desktop\\241118\\Instant-PINF\\test\\encoder.py:370\u001B[0m, in \u001B[0;36mHashEncoderHyFluid.forward\u001B[1;34m(self, positions)\u001B[0m\n\u001B[0;32m    367\u001B[0m \u001B[38;5;28;01mdef\u001B[39;00m \u001B[38;5;21mforward\u001B[39m(\u001B[38;5;28mself\u001B[39m, positions):\n\u001B[0;32m    368\u001B[0m     \u001B[38;5;66;03m# positions: (N, 4), normalized to [-1, 1]\u001B[39;00m\n\u001B[0;32m    369\u001B[0m     positions \u001B[38;5;241m=\u001B[39m positions \u001B[38;5;241m*\u001B[39m \u001B[38;5;241m0.5\u001B[39m \u001B[38;5;241m+\u001B[39m \u001B[38;5;241m0.5\u001B[39m\n\u001B[1;32m--> 370\u001B[0m     \u001B[38;5;28;01mreturn\u001B[39;00m \u001B[38;5;28;43mself\u001B[39;49m\u001B[38;5;241;43m.\u001B[39;49m\u001B[43mmodule_function\u001B[49m\u001B[38;5;241;43m.\u001B[39;49m\u001B[43mapply\u001B[49m\u001B[43m(\u001B[49m\u001B[43mpositions\u001B[49m\u001B[43m,\u001B[49m\u001B[43m \u001B[49m\u001B[38;5;28;43mself\u001B[39;49m\u001B[38;5;241;43m.\u001B[39;49m\u001B[43mhash_table\u001B[49m\u001B[43m)\u001B[49m\n",
      "File \u001B[1;32m~\\Documents\\VituralEnvs\\HyFluid\\Lib\\site-packages\\torch\\autograd\\function.py:575\u001B[0m, in \u001B[0;36mFunction.apply\u001B[1;34m(cls, *args, **kwargs)\u001B[0m\n\u001B[0;32m    572\u001B[0m \u001B[38;5;28;01mif\u001B[39;00m \u001B[38;5;129;01mnot\u001B[39;00m torch\u001B[38;5;241m.\u001B[39m_C\u001B[38;5;241m.\u001B[39m_are_functorch_transforms_active():\n\u001B[0;32m    573\u001B[0m     \u001B[38;5;66;03m# See NOTE: [functorch vjp and autograd interaction]\u001B[39;00m\n\u001B[0;32m    574\u001B[0m     args \u001B[38;5;241m=\u001B[39m _functorch\u001B[38;5;241m.\u001B[39mutils\u001B[38;5;241m.\u001B[39munwrap_dead_wrappers(args)\n\u001B[1;32m--> 575\u001B[0m     \u001B[38;5;28;01mreturn\u001B[39;00m \u001B[38;5;28;43msuper\u001B[39;49m\u001B[43m(\u001B[49m\u001B[43m)\u001B[49m\u001B[38;5;241;43m.\u001B[39;49m\u001B[43mapply\u001B[49m\u001B[43m(\u001B[49m\u001B[38;5;241;43m*\u001B[39;49m\u001B[43margs\u001B[49m\u001B[43m,\u001B[49m\u001B[43m \u001B[49m\u001B[38;5;241;43m*\u001B[39;49m\u001B[38;5;241;43m*\u001B[39;49m\u001B[43mkwargs\u001B[49m\u001B[43m)\u001B[49m  \u001B[38;5;66;03m# type: ignore[misc]\u001B[39;00m\n\u001B[0;32m    577\u001B[0m \u001B[38;5;28;01mif\u001B[39;00m \u001B[38;5;129;01mnot\u001B[39;00m is_setup_ctx_defined:\n\u001B[0;32m    578\u001B[0m     \u001B[38;5;28;01mraise\u001B[39;00m \u001B[38;5;167;01mRuntimeError\u001B[39;00m(\n\u001B[0;32m    579\u001B[0m         \u001B[38;5;124m\"\u001B[39m\u001B[38;5;124mIn order to use an autograd.Function with functorch transforms \u001B[39m\u001B[38;5;124m\"\u001B[39m\n\u001B[0;32m    580\u001B[0m         \u001B[38;5;124m\"\u001B[39m\u001B[38;5;124m(vmap, grad, jvp, jacrev, ...), it must override the setup_context \u001B[39m\u001B[38;5;124m\"\u001B[39m\n\u001B[0;32m    581\u001B[0m         \u001B[38;5;124m\"\u001B[39m\u001B[38;5;124mstaticmethod. For more details, please see \u001B[39m\u001B[38;5;124m\"\u001B[39m\n\u001B[0;32m    582\u001B[0m         \u001B[38;5;124m\"\u001B[39m\u001B[38;5;124mhttps://pytorch.org/docs/main/notes/extending.func.html\u001B[39m\u001B[38;5;124m\"\u001B[39m\n\u001B[0;32m    583\u001B[0m     )\n",
      "File \u001B[1;32m~\\Documents\\VituralEnvs\\HyFluid\\Lib\\site-packages\\torch\\amp\\autocast_mode.py:476\u001B[0m, in \u001B[0;36mcustom_fwd.<locals>.decorate_fwd\u001B[1;34m(*args, **kwargs)\u001B[0m\n\u001B[0;32m    471\u001B[0m         \u001B[38;5;28;01mreturn\u001B[39;00m fwd(\n\u001B[0;32m    472\u001B[0m             \u001B[38;5;241m*\u001B[39m_cast(args, device_type, cast_inputs),\n\u001B[0;32m    473\u001B[0m             \u001B[38;5;241m*\u001B[39m\u001B[38;5;241m*\u001B[39m_cast(kwargs, device_type, cast_inputs),\n\u001B[0;32m    474\u001B[0m         )\n\u001B[0;32m    475\u001B[0m \u001B[38;5;28;01melse\u001B[39;00m:\n\u001B[1;32m--> 476\u001B[0m     \u001B[38;5;28;01mreturn\u001B[39;00m \u001B[43mfwd\u001B[49m\u001B[43m(\u001B[49m\u001B[38;5;241;43m*\u001B[39;49m\u001B[43margs\u001B[49m\u001B[43m,\u001B[49m\u001B[43m \u001B[49m\u001B[38;5;241;43m*\u001B[39;49m\u001B[38;5;241;43m*\u001B[39;49m\u001B[43mkwargs\u001B[49m\u001B[43m)\u001B[49m\n",
      "File \u001B[1;32m~\\Desktop\\241118\\Instant-PINF\\test\\encoder.py:278\u001B[0m, in \u001B[0;36mHashEncoderHyFluid.__init__.<locals>.ModuleFunction.forward\u001B[1;34m(ctx, input_pos, params)\u001B[0m\n\u001B[0;32m    274\u001B[0m \u001B[38;5;129m@staticmethod\u001B[39m\n\u001B[0;32m    275\u001B[0m \u001B[38;5;129m@custom_fwd\u001B[39m(cast_inputs\u001B[38;5;241m=\u001B[39mtorch\u001B[38;5;241m.\u001B[39mfloat32)\n\u001B[0;32m    276\u001B[0m \u001B[38;5;28;01mdef\u001B[39;00m \u001B[38;5;21mforward\u001B[39m(ctx, input_pos, params):\n\u001B[0;32m    277\u001B[0m     output_embedding \u001B[38;5;241m=\u001B[39m \u001B[38;5;28mself\u001B[39m\u001B[38;5;241m.\u001B[39moutput_embedding[:input_pos\u001B[38;5;241m.\u001B[39mshape[\u001B[38;5;241m0\u001B[39m]]\u001B[38;5;241m.\u001B[39mcontiguous()\n\u001B[1;32m--> 278\u001B[0m     \u001B[43mtorch2ti\u001B[49m\u001B[43m(\u001B[49m\u001B[38;5;28;43mself\u001B[39;49m\u001B[38;5;241;43m.\u001B[39;49m\u001B[43minput_fields\u001B[49m\u001B[43m,\u001B[49m\u001B[43m \u001B[49m\u001B[43minput_pos\u001B[49m\u001B[38;5;241;43m.\u001B[39;49m\u001B[43mcontiguous\u001B[49m\u001B[43m(\u001B[49m\u001B[43m)\u001B[49m\u001B[43m)\u001B[49m\n\u001B[0;32m    279\u001B[0m     torch2ti(\u001B[38;5;28mself\u001B[39m\u001B[38;5;241m.\u001B[39mparameter_fields, params\u001B[38;5;241m.\u001B[39mcontiguous())\n\u001B[0;32m    281\u001B[0m     hash_encode_kernel(\n\u001B[0;32m    282\u001B[0m         \u001B[38;5;28mself\u001B[39m\u001B[38;5;241m.\u001B[39minput_fields,\n\u001B[0;32m    283\u001B[0m         \u001B[38;5;28mself\u001B[39m\u001B[38;5;241m.\u001B[39mparameter_fields,\n\u001B[1;32m   (...)\u001B[0m\n\u001B[0;32m    290\u001B[0m         \u001B[38;5;28mself\u001B[39m\u001B[38;5;241m.\u001B[39mnum_scales,\n\u001B[0;32m    291\u001B[0m     )\n",
      "File \u001B[1;32m~\\Documents\\VituralEnvs\\HyFluid\\Lib\\site-packages\\taichi\\lang\\kernel_impl.py:1113\u001B[0m, in \u001B[0;36m_kernel_impl.<locals>.wrapped\u001B[1;34m(*args, **kwargs)\u001B[0m\n\u001B[0;32m   1110\u001B[0m \u001B[38;5;129m@functools\u001B[39m\u001B[38;5;241m.\u001B[39mwraps(_func)\n\u001B[0;32m   1111\u001B[0m \u001B[38;5;28;01mdef\u001B[39;00m \u001B[38;5;21mwrapped\u001B[39m(\u001B[38;5;241m*\u001B[39margs, \u001B[38;5;241m*\u001B[39m\u001B[38;5;241m*\u001B[39mkwargs):\n\u001B[0;32m   1112\u001B[0m     \u001B[38;5;28;01mtry\u001B[39;00m:\n\u001B[1;32m-> 1113\u001B[0m         \u001B[38;5;28;01mreturn\u001B[39;00m \u001B[43mprimal\u001B[49m\u001B[43m(\u001B[49m\u001B[38;5;241;43m*\u001B[39;49m\u001B[43margs\u001B[49m\u001B[43m,\u001B[49m\u001B[43m \u001B[49m\u001B[38;5;241;43m*\u001B[39;49m\u001B[38;5;241;43m*\u001B[39;49m\u001B[43mkwargs\u001B[49m\u001B[43m)\u001B[49m\n\u001B[0;32m   1114\u001B[0m     \u001B[38;5;28;01mexcept\u001B[39;00m (TaichiCompilationError, TaichiRuntimeError) \u001B[38;5;28;01mas\u001B[39;00m e:\n\u001B[0;32m   1115\u001B[0m         \u001B[38;5;28;01mif\u001B[39;00m impl\u001B[38;5;241m.\u001B[39mget_runtime()\u001B[38;5;241m.\u001B[39mprint_full_traceback:\n",
      "File \u001B[1;32m~\\Documents\\VituralEnvs\\HyFluid\\Lib\\site-packages\\taichi\\lang\\shell.py:27\u001B[0m, in \u001B[0;36m_shell_pop_print.<locals>.new_call\u001B[1;34m(*args, **kwargs)\u001B[0m\n\u001B[0;32m     25\u001B[0m \u001B[38;5;129m@functools\u001B[39m\u001B[38;5;241m.\u001B[39mwraps(old_call)\n\u001B[0;32m     26\u001B[0m \u001B[38;5;28;01mdef\u001B[39;00m \u001B[38;5;21mnew_call\u001B[39m(\u001B[38;5;241m*\u001B[39margs, \u001B[38;5;241m*\u001B[39m\u001B[38;5;241m*\u001B[39mkwargs):\n\u001B[1;32m---> 27\u001B[0m     ret \u001B[38;5;241m=\u001B[39m \u001B[43mold_call\u001B[49m\u001B[43m(\u001B[49m\u001B[38;5;241;43m*\u001B[39;49m\u001B[43margs\u001B[49m\u001B[43m,\u001B[49m\u001B[43m \u001B[49m\u001B[38;5;241;43m*\u001B[39;49m\u001B[38;5;241;43m*\u001B[39;49m\u001B[43mkwargs\u001B[49m\u001B[43m)\u001B[49m\n\u001B[0;32m     28\u001B[0m     \u001B[38;5;66;03m# print's in kernel won't take effect until ti.sync(), discussion:\u001B[39;00m\n\u001B[0;32m     29\u001B[0m     \u001B[38;5;66;03m# https://github.com/taichi-dev/taichi/pull/1303#discussion_r444897102\u001B[39;00m\n\u001B[0;32m     30\u001B[0m     \u001B[38;5;28mprint\u001B[39m(_ti_core\u001B[38;5;241m.\u001B[39mpop_python_print_buffer(), end\u001B[38;5;241m=\u001B[39m\u001B[38;5;124m\"\u001B[39m\u001B[38;5;124m\"\u001B[39m)\n",
      "File \u001B[1;32m~\\Documents\\VituralEnvs\\HyFluid\\Lib\\site-packages\\taichi\\lang\\kernel_impl.py:1045\u001B[0m, in \u001B[0;36mKernel.__call__\u001B[1;34m(self, *args, **kwargs)\u001B[0m\n\u001B[0;32m   1043\u001B[0m key \u001B[38;5;241m=\u001B[39m \u001B[38;5;28mself\u001B[39m\u001B[38;5;241m.\u001B[39mensure_compiled(\u001B[38;5;241m*\u001B[39margs)\n\u001B[0;32m   1044\u001B[0m kernel_cpp \u001B[38;5;241m=\u001B[39m \u001B[38;5;28mself\u001B[39m\u001B[38;5;241m.\u001B[39mcompiled_kernels[key]\n\u001B[1;32m-> 1045\u001B[0m \u001B[38;5;28;01mreturn\u001B[39;00m \u001B[38;5;28;43mself\u001B[39;49m\u001B[38;5;241;43m.\u001B[39;49m\u001B[43mlaunch_kernel\u001B[49m\u001B[43m(\u001B[49m\u001B[43mkernel_cpp\u001B[49m\u001B[43m,\u001B[49m\u001B[43m \u001B[49m\u001B[38;5;241;43m*\u001B[39;49m\u001B[43margs\u001B[49m\u001B[43m)\u001B[49m\n",
      "\u001B[1;31mKeyboardInterrupt\u001B[0m: "
     ]
    }
   ],
   "execution_count": 10
  },
  {
   "metadata": {
    "ExecuteTime": {
     "end_time": "2024-12-02T14:32:22.161194Z",
     "start_time": "2024-12-02T14:31:26.130515Z"
    }
   },
   "cell_type": "code",
   "source": [
    "import os\n",
    "import lpips\n",
    "\n",
    "\n",
    "def get_rays(H, W, K, c2w):\n",
    "    i, j = torch.meshgrid(torch.linspace(0, W - 1, W, device=device), torch.linspace(0, H - 1, H, device=device),\n",
    "                          indexing='ij')  # pytorch's meshgrid has indexing='ij'\n",
    "    i = i.t()\n",
    "    j = j.t()\n",
    "    dirs = torch.stack([(i - K[0][2]) / K[0][0], -(j - K[1][2]) / K[1][1], -torch.ones_like(i)], -1)\n",
    "    # Rotate ray directions from camera frame to the world frame\n",
    "    rays_d = torch.sum(dirs[..., np.newaxis, :] * c2w[:3, :3],\n",
    "                       -1)  # dot product, equals to: [c2w.dot(dir) for dir in dirs]\n",
    "    # Translate camera frame's origin to the world frame. It is the origin of all rays.\n",
    "    rays_o = c2w[:3, -1].expand(rays_d.shape)\n",
    "    return rays_o, rays_d\n",
    "\n",
    "\n",
    "def merge_imgs(save_dir, framerate=30, prefix=''):\n",
    "    os.system(\n",
    "        'ffmpeg -hide_banner -loglevel error -y -i {0}/{1}%03d.png -vf palettegen {0}/palette.png'.format(save_dir,\n",
    "                                                                                                          prefix))\n",
    "    os.system(\n",
    "        'ffmpeg -hide_banner -loglevel error -y -framerate {0} -i {1}/{2}%03d.png -i {1}/palette.png -lavfi paletteuse {1}/_{2}.gif'.format(\n",
    "            framerate, save_dir, prefix))\n",
    "    os.system(\n",
    "        'ffmpeg -hide_banner -loglevel error -y -framerate {0} -i {1}/{2}%03d.png -i {1}/palette.png -lavfi paletteuse {1}/_{2}.mp4'.format(\n",
    "            framerate, save_dir, prefix))\n",
    "\n",
    "\n",
    "os.makedirs(os.path.join(\"output\"), exist_ok=True)\n",
    "with torch.no_grad():\n",
    "    test_view_pose = torch.tensor(POSES_TEST_np[0], device=device, dtype=torch.float32)\n",
    "    N_timesteps = IMAGE_TEST_np.shape[0]\n",
    "    test_timesteps = torch.arange(N_timesteps, device=device) / (N_timesteps - 1)\n",
    "    print(test_timesteps.shape)\n",
    "\n",
    "    lpips_net = lpips.LPIPS().cuda()\n",
    "\n",
    "    c2w = test_view_pose\n",
    "    rays_o, rays_d = get_rays(H, W, K, c2w)\n",
    "    rays_o = torch.reshape(rays_o, [-1, 3]).float()\n",
    "    rays_d = torch.reshape(rays_d, [-1, 3]).float()\n",
    "    near, far = NEAR_float * torch.ones_like(rays_d[..., :1]), FAR_float * torch.ones_like(rays_d[..., :1])\n",
    "    t_vals = torch.linspace(0., 1., steps=ARGs.N_samples, device=device, dtype=torch.float32)  # (N_samples,)\n",
    "    z_vals = NEAR_float * torch.ones_like(rays_d[..., :1]) * (1. - t_vals) + FAR_float * torch.ones_like(rays_d[..., :1]) * t_vals  # (N_rand, N_samples)\n",
    "    pts = rays_o[..., None, :] + rays_d[..., None, :] * z_vals[..., :, None]\n",
    "    print(pts.shape)\n",
    "    for i in tqdm.trange(0, test_timesteps.shape[0]):\n",
    "        print(i)\n",
    "        test_timesteps_expended = test_timesteps[i].expand(pts[..., :1].shape)\n",
    "        pts_time_gpu = torch.cat([pts, test_timesteps_expended], dim=-1)\n",
    "        pts_time_flat_gpu = torch.reshape(pts_time_gpu, [-1, pts_time_gpu.shape[-1]])\n",
    "\n",
    "        out_dim = 1\n",
    "        RAW_FLAT_gpu = torch.zeros([pts_time_flat_gpu.shape[0], out_dim], device=device, dtype=torch.float32)\n",
    "        bbox_mask = BBOX_MODEL_gpu.insideMask(pts_time_flat_gpu[..., :3], to_float=False)\n",
    "        if bbox_mask.sum() == 0:\n",
    "            bbox_mask[0] = True\n",
    "        POINTS_TIME_FLAT_FINAL_gpu = pts_time_flat_gpu\n",
    "\n",
    "        chunk=512 * 64\n",
    "        all_part = []\n",
    "        for j in range(0, POINTS_TIME_FLAT_FINAL_gpu.shape[0], chunk):\n",
    "            part = MODEL(ENCODER(POINTS_TIME_FLAT_FINAL_gpu[j:j + chunk]))\n",
    "            all_part.append(part)\n",
    "        result = torch.cat(all_part, 0)\n",
    "\n",
    "        RAW_FLAT_gpu[bbox_mask] = result\n",
    "        RAW_gpu = RAW_FLAT_gpu.reshape(*pts_time_gpu.shape[:-1], out_dim)\n",
    "\n",
    "        dists = z_vals[..., 1:] - z_vals[..., :-1]\n",
    "        dists = torch.cat([dists, torch.tensor([1e10], device=device).expand(dists[..., :1].shape)], -1)\n",
    "        dists = dists * torch.norm(rays_d[..., None, :], dim=-1)\n",
    "        RGB_TRAINED = torch.ones(3, device=device) * (0.6 + torch.tanh(MODEL.rgb) * 0.4)\n",
    "        raw2alpha = lambda raw, _dists, act_fn=torch.nn.functional.relu: 1. - torch.exp(-act_fn(raw) * _dists)\n",
    "        noise = 0.\n",
    "        alpha = raw2alpha(RAW_gpu[..., -1] + noise, dists)\n",
    "        weights = alpha * torch.cumprod(torch.cat([torch.ones((alpha.shape[0], 1), device=device), 1. - alpha + 1e-10], -1),\n",
    "                                        -1)[:, :-1]\n",
    "        rgb_map = torch.sum(weights[..., None] * RGB_TRAINED, -2)"
   ],
   "id": "6ef81cca7e1d80c2",
   "outputs": [
    {
     "name": "stdout",
     "output_type": "stream",
     "text": [
      "torch.Size([120])\n",
      "Setting up [LPIPS] perceptual loss: trunk [alex], v[0.1], spatial [off]\n"
     ]
    },
    {
     "name": "stderr",
     "output_type": "stream",
     "text": [
      "C:\\Users\\imeho\\Documents\\VituralEnvs\\HyFluid\\Lib\\site-packages\\torchvision\\models\\_utils.py:208: UserWarning: The parameter 'pretrained' is deprecated since 0.13 and may be removed in the future, please use 'weights' instead.\n",
      "  warnings.warn(\n",
      "C:\\Users\\imeho\\Documents\\VituralEnvs\\HyFluid\\Lib\\site-packages\\torchvision\\models\\_utils.py:223: UserWarning: Arguments other than a weight enum or `None` for 'weights' are deprecated since 0.13 and may be removed in the future. The current behavior is equivalent to passing `weights=AlexNet_Weights.IMAGENET1K_V1`. You can also use `weights=AlexNet_Weights.DEFAULT` to get the most up-to-date weights.\n",
      "  warnings.warn(msg)\n",
      "C:\\Users\\imeho\\Documents\\VituralEnvs\\HyFluid\\Lib\\site-packages\\lpips\\lpips.py:107: FutureWarning: You are using `torch.load` with `weights_only=False` (the current default value), which uses the default pickle module implicitly. It is possible to construct malicious pickle data which will execute arbitrary code during unpickling (See https://github.com/pytorch/pytorch/blob/main/SECURITY.md#untrusted-models for more details). In a future release, the default value for `weights_only` will be flipped to `True`. This limits the functions that could be executed during unpickling. Arbitrary objects will no longer be allowed to be loaded via this mode unless they are explicitly allowlisted by the user via `torch.serialization.add_safe_globals`. We recommend you start setting `weights_only=True` for any use case where you don't have full control of the loaded file. Please open an issue on GitHub for any issues related to this experimental feature.\n",
      "  self.load_state_dict(torch.load(model_path, map_location='cpu'), strict=False)\n"
     ]
    },
    {
     "name": "stdout",
     "output_type": "stream",
     "text": [
      "Loading model from: C:\\Users\\imeho\\Documents\\VituralEnvs\\HyFluid\\Lib\\site-packages\\lpips\\weights\\v0.1\\alex.pth\n",
      "torch.Size([518400, 192, 3])\n"
     ]
    },
    {
     "name": "stderr",
     "output_type": "stream",
     "text": [
      "  0%|          | 0/120 [00:00<?, ?it/s]"
     ]
    },
    {
     "name": "stdout",
     "output_type": "stream",
     "text": [
      "0\n"
     ]
    },
    {
     "name": "stderr",
     "output_type": "stream",
     "text": [
      "  0%|          | 0/120 [00:54<?, ?it/s]\n",
      "Exception ignored in: <bound method IPythonKernel._clean_thread_parent_frames of <ipykernel.ipkernel.IPythonKernel object at 0x000001D8F7A117D0>>\n",
      "Traceback (most recent call last):\n",
      "  File \"C:\\Users\\imeho\\Documents\\VituralEnvs\\HyFluid\\Lib\\site-packages\\ipykernel\\ipkernel.py\", line 775, in _clean_thread_parent_frames\n",
      "    def _clean_thread_parent_frames(\n",
      "\n",
      "KeyboardInterrupt: \n"
     ]
    },
    {
     "ename": "KeyboardInterrupt",
     "evalue": "",
     "output_type": "error",
     "traceback": [
      "\u001B[1;31m---------------------------------------------------------------------------\u001B[0m",
      "\u001B[1;31mKeyboardInterrupt\u001B[0m                         Traceback (most recent call last)",
      "Cell \u001B[1;32mIn[11], line 52\u001B[0m\n\u001B[0;32m     50\u001B[0m \u001B[38;5;28mprint\u001B[39m(i)\n\u001B[0;32m     51\u001B[0m test_timesteps_expended \u001B[38;5;241m=\u001B[39m test_timesteps[i]\u001B[38;5;241m.\u001B[39mexpand(pts[\u001B[38;5;241m.\u001B[39m\u001B[38;5;241m.\u001B[39m\u001B[38;5;241m.\u001B[39m, :\u001B[38;5;241m1\u001B[39m]\u001B[38;5;241m.\u001B[39mshape)\n\u001B[1;32m---> 52\u001B[0m pts_time_gpu \u001B[38;5;241m=\u001B[39m \u001B[43mtorch\u001B[49m\u001B[38;5;241m.\u001B[39mcat([pts, test_timesteps_expended], dim\u001B[38;5;241m=\u001B[39m\u001B[38;5;241m-\u001B[39m\u001B[38;5;241m1\u001B[39m)\n\u001B[0;32m     53\u001B[0m pts_time_flat_gpu \u001B[38;5;241m=\u001B[39m torch\u001B[38;5;241m.\u001B[39mreshape(pts_time_gpu, [\u001B[38;5;241m-\u001B[39m\u001B[38;5;241m1\u001B[39m, pts_time_gpu\u001B[38;5;241m.\u001B[39mshape[\u001B[38;5;241m-\u001B[39m\u001B[38;5;241m1\u001B[39m]])\n\u001B[0;32m     54\u001B[0m \u001B[38;5;28mprint\u001B[39m(pts_time_flat_gpu\u001B[38;5;241m.\u001B[39mshape)\n",
      "Cell \u001B[1;32mIn[11], line 52\u001B[0m\n\u001B[0;32m     50\u001B[0m \u001B[38;5;28mprint\u001B[39m(i)\n\u001B[0;32m     51\u001B[0m test_timesteps_expended \u001B[38;5;241m=\u001B[39m test_timesteps[i]\u001B[38;5;241m.\u001B[39mexpand(pts[\u001B[38;5;241m.\u001B[39m\u001B[38;5;241m.\u001B[39m\u001B[38;5;241m.\u001B[39m, :\u001B[38;5;241m1\u001B[39m]\u001B[38;5;241m.\u001B[39mshape)\n\u001B[1;32m---> 52\u001B[0m pts_time_gpu \u001B[38;5;241m=\u001B[39m \u001B[43mtorch\u001B[49m\u001B[38;5;241m.\u001B[39mcat([pts, test_timesteps_expended], dim\u001B[38;5;241m=\u001B[39m\u001B[38;5;241m-\u001B[39m\u001B[38;5;241m1\u001B[39m)\n\u001B[0;32m     53\u001B[0m pts_time_flat_gpu \u001B[38;5;241m=\u001B[39m torch\u001B[38;5;241m.\u001B[39mreshape(pts_time_gpu, [\u001B[38;5;241m-\u001B[39m\u001B[38;5;241m1\u001B[39m, pts_time_gpu\u001B[38;5;241m.\u001B[39mshape[\u001B[38;5;241m-\u001B[39m\u001B[38;5;241m1\u001B[39m]])\n\u001B[0;32m     54\u001B[0m \u001B[38;5;28mprint\u001B[39m(pts_time_flat_gpu\u001B[38;5;241m.\u001B[39mshape)\n",
      "File \u001B[1;32m_pydevd_bundle\\\\pydevd_cython_win32_311_64.pyx:1187\u001B[0m, in \u001B[0;36m_pydevd_bundle.pydevd_cython_win32_311_64.SafeCallWrapper.__call__\u001B[1;34m()\u001B[0m\n",
      "File \u001B[1;32m_pydevd_bundle\\\\pydevd_cython_win32_311_64.pyx:627\u001B[0m, in \u001B[0;36m_pydevd_bundle.pydevd_cython_win32_311_64.PyDBFrame.trace_dispatch\u001B[1;34m()\u001B[0m\n",
      "File \u001B[1;32m_pydevd_bundle\\\\pydevd_cython_win32_311_64.pyx:1103\u001B[0m, in \u001B[0;36m_pydevd_bundle.pydevd_cython_win32_311_64.PyDBFrame.trace_dispatch\u001B[1;34m()\u001B[0m\n",
      "File \u001B[1;32m_pydevd_bundle\\\\pydevd_cython_win32_311_64.pyx:1061\u001B[0m, in \u001B[0;36m_pydevd_bundle.pydevd_cython_win32_311_64.PyDBFrame.trace_dispatch\u001B[1;34m()\u001B[0m\n",
      "File \u001B[1;32mC:\\Program Files\\JetBrains\\PyCharm 2024.2.1\\plugins\\python\\helpers-pro\\jupyter_debug\\pydev_jupyter_plugin.py:169\u001B[0m, in \u001B[0;36mstop\u001B[1;34m(plugin, pydb, frame, event, args, stop_info, arg, step_cmd)\u001B[0m\n\u001B[0;32m    167\u001B[0m     frame \u001B[38;5;241m=\u001B[39m suspend_jupyter(main_debugger, thread, frame, step_cmd)\n\u001B[0;32m    168\u001B[0m     \u001B[38;5;28;01mif\u001B[39;00m frame:\n\u001B[1;32m--> 169\u001B[0m         \u001B[43mmain_debugger\u001B[49m\u001B[38;5;241;43m.\u001B[39;49m\u001B[43mdo_wait_suspend\u001B[49m\u001B[43m(\u001B[49m\u001B[43mthread\u001B[49m\u001B[43m,\u001B[49m\u001B[43m \u001B[49m\u001B[43mframe\u001B[49m\u001B[43m,\u001B[49m\u001B[43m \u001B[49m\u001B[43mevent\u001B[49m\u001B[43m,\u001B[49m\u001B[43m \u001B[49m\u001B[43marg\u001B[49m\u001B[43m)\u001B[49m\n\u001B[0;32m    170\u001B[0m         \u001B[38;5;28;01mreturn\u001B[39;00m \u001B[38;5;28;01mTrue\u001B[39;00m\n\u001B[0;32m    171\u001B[0m \u001B[38;5;28;01mreturn\u001B[39;00m \u001B[38;5;28;01mFalse\u001B[39;00m\n",
      "File \u001B[1;32mC:\\Program Files\\JetBrains\\PyCharm 2024.2.1\\plugins\\python-ce\\helpers\\pydev\\pydevd.py:1220\u001B[0m, in \u001B[0;36mPyDB.do_wait_suspend\u001B[1;34m(self, thread, frame, event, arg, send_suspend_message, is_unhandled_exception)\u001B[0m\n\u001B[0;32m   1217\u001B[0m         from_this_thread\u001B[38;5;241m.\u001B[39mappend(frame_id)\n\u001B[0;32m   1219\u001B[0m \u001B[38;5;28;01mwith\u001B[39;00m \u001B[38;5;28mself\u001B[39m\u001B[38;5;241m.\u001B[39m_threads_suspended_single_notification\u001B[38;5;241m.\u001B[39mnotify_thread_suspended(thread_id, stop_reason):\n\u001B[1;32m-> 1220\u001B[0m     \u001B[38;5;28;43mself\u001B[39;49m\u001B[38;5;241;43m.\u001B[39;49m\u001B[43m_do_wait_suspend\u001B[49m\u001B[43m(\u001B[49m\u001B[43mthread\u001B[49m\u001B[43m,\u001B[49m\u001B[43m \u001B[49m\u001B[43mframe\u001B[49m\u001B[43m,\u001B[49m\u001B[43m \u001B[49m\u001B[43mevent\u001B[49m\u001B[43m,\u001B[49m\u001B[43m \u001B[49m\u001B[43marg\u001B[49m\u001B[43m,\u001B[49m\u001B[43m \u001B[49m\u001B[43msuspend_type\u001B[49m\u001B[43m,\u001B[49m\u001B[43m \u001B[49m\u001B[43mfrom_this_thread\u001B[49m\u001B[43m)\u001B[49m\n",
      "File \u001B[1;32mC:\\Program Files\\JetBrains\\PyCharm 2024.2.1\\plugins\\python-ce\\helpers\\pydev\\pydevd.py:1235\u001B[0m, in \u001B[0;36mPyDB._do_wait_suspend\u001B[1;34m(self, thread, frame, event, arg, suspend_type, from_this_thread)\u001B[0m\n\u001B[0;32m   1232\u001B[0m             \u001B[38;5;28mself\u001B[39m\u001B[38;5;241m.\u001B[39m_call_mpl_hook()\n\u001B[0;32m   1234\u001B[0m         \u001B[38;5;28mself\u001B[39m\u001B[38;5;241m.\u001B[39mprocess_internal_commands()\n\u001B[1;32m-> 1235\u001B[0m         \u001B[43mtime\u001B[49m\u001B[38;5;241;43m.\u001B[39;49m\u001B[43msleep\u001B[49m\u001B[43m(\u001B[49m\u001B[38;5;241;43m0.01\u001B[39;49m\u001B[43m)\u001B[49m\n\u001B[0;32m   1237\u001B[0m \u001B[38;5;28mself\u001B[39m\u001B[38;5;241m.\u001B[39mcancel_async_evaluation(get_current_thread_id(thread), \u001B[38;5;28mstr\u001B[39m(\u001B[38;5;28mid\u001B[39m(frame)))\n\u001B[0;32m   1239\u001B[0m \u001B[38;5;66;03m# process any stepping instructions\u001B[39;00m\n",
      "\u001B[1;31mKeyboardInterrupt\u001B[0m: "
     ]
    }
   ],
   "execution_count": 11
  }
 ],
 "metadata": {
  "kernelspec": {
   "display_name": "Python 3",
   "language": "python",
   "name": "python3"
  },
  "language_info": {
   "codemirror_mode": {
    "name": "ipython",
    "version": 2
   },
   "file_extension": ".py",
   "mimetype": "text/x-python",
   "name": "python",
   "nbconvert_exporter": "python",
   "pygments_lexer": "ipython2",
   "version": "2.7.6"
  }
 },
 "nbformat": 4,
 "nbformat_minor": 5
}
