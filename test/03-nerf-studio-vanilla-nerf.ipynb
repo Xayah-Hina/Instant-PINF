{
 "cells": [
  {
   "metadata": {},
   "cell_type": "markdown",
   "source": "Test - Unwrap Level 1",
   "id": "7014c84e2fe248a3"
  },
  {
   "metadata": {
    "jupyter": {
     "is_executing": true
    },
    "ExecuteTime": {
     "start_time": "2024-10-16T22:02:46.598033Z"
    }
   },
   "cell_type": "code",
   "source": [
    "from nerfstudio.configs.method_configs import method_configs\n",
    "from pathlib import Path\n",
    "\n",
    "trainer_config = method_configs[\"vanilla-nerf\"]\n",
    "trainer_config.vis = \"viewer\"\n",
    "trainer_config.pipeline.datamanager.data = Path(\"data/nerf_synthetic/lego\")\n",
    "trainer_config.set_timestamp()\n",
    "# trainer_config.print_to_terminal()\n",
    "trainer_config.save_config()\n",
    "\n",
    "trainer = trainer_config.setup(local_rank=0, world_size=1)\n",
    "trainer.setup()\n",
    "trainer.train()"
   ],
   "id": "5b7cfd393c3d4d1e",
   "outputs": [],
   "execution_count": null
  },
  {
   "metadata": {},
   "cell_type": "markdown",
   "source": "Test - Load Blender data",
   "id": "2d7bbf5d7050696d"
  },
  {
   "cell_type": "code",
   "id": "initial_id",
   "metadata": {
    "collapsed": true
   },
   "source": [
    "from nerfstudio.data.dataparsers.blender_dataparser import BlenderDataParserConfig, Blender\n",
    "from nerfstudio.data.datasets.base_dataset import InputDataset\n",
    "from pathlib import Path\n",
    "\n",
    "dataparser_config = BlenderDataParserConfig()\n",
    "dataparser_config.data = Path(\"data/nerf_synthetic/lego\")\n",
    "dataparser = dataparser_config.setup()\n",
    "train_dataparser_outputs = dataparser.get_dataparser_outputs(split=\"train\")\n",
    "dataset = InputDataset(dataparser_outputs=train_dataparser_outputs, scale_factor=1.0)\n",
    "samples_iter = iter(dataset)"
   ],
   "outputs": [],
   "execution_count": null
  },
  {
   "metadata": {},
   "cell_type": "code",
   "source": [
    "from matplotlib import pyplot as plt\n",
    "sample = next(samples_iter)\n",
    "print(sample['image_idx'])\n",
    "plt.imshow(sample['image'])\n",
    "plt.show()"
   ],
   "id": "a51b1ebc41460b95",
   "outputs": [],
   "execution_count": null
  },
  {
   "metadata": {},
   "cell_type": "markdown",
   "source": "Test - Extend New Approaches ",
   "id": "1fa27a4bfb9ceff8"
  },
  {
   "metadata": {},
   "cell_type": "code",
   "source": [
    "from nerfstudio.engine.trainer import Trainer\n",
    "from nerfstudio.plugins.types import MethodSpecification\n"
   ],
   "id": "3c021d8850f1fc89",
   "outputs": [],
   "execution_count": null
  }
 ],
 "metadata": {
  "kernelspec": {
   "display_name": "Python 3",
   "language": "python",
   "name": "python3"
  },
  "language_info": {
   "codemirror_mode": {
    "name": "ipython",
    "version": 2
   },
   "file_extension": ".py",
   "mimetype": "text/x-python",
   "name": "python",
   "nbconvert_exporter": "python",
   "pygments_lexer": "ipython2",
   "version": "2.7.6"
  }
 },
 "nbformat": 4,
 "nbformat_minor": 5
}
