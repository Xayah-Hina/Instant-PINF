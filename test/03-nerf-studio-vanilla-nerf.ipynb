{
 "cells": [
  {
   "cell_type": "code",
   "id": "initial_id",
   "metadata": {
    "collapsed": true,
    "ExecuteTime": {
     "end_time": "2024-10-13T10:21:51.185988Z",
     "start_time": "2024-10-13T10:21:51.183030Z"
    }
   },
   "source": "from nerfstudio.data.dataparsers.base_dataparser import DataParser, DataParserConfig, DataparserOutputs",
   "outputs": [],
   "execution_count": 12
  },
  {
   "metadata": {
    "ExecuteTime": {
     "end_time": "2024-10-13T10:47:13.312736Z",
     "start_time": "2024-10-13T10:47:13.304035Z"
    }
   },
   "cell_type": "code",
   "source": [
    "import tyro\n",
    "\n",
    "def add(a: int, b: int = 3) -> int:\n",
    "    return a + b\n",
    "\n",
    "# Populate the inputs of add(), call it, then return the output.\n",
    "total = tyro.cli(add)\n",
    "\n",
    "print(total)"
   ],
   "id": "9acdf6ae7b9c0d2d",
   "outputs": [
    {
     "data": {
      "text/plain": [
       "\u001B[91m╭─\u001B[0m\u001B[91m \u001B[0m\u001B[1;91mUnrecognized options\u001B[0m\u001B[91m \u001B[0m\u001B[91m─────────────────────────────\u001B[0m\u001B[91m─╮\u001B[0m\n",
       "\u001B[91m│\u001B[0m Unrecognized options: -f                            \u001B[91m│\u001B[0m\n",
       "\u001B[91m│\u001B[0m \u001B[31m───────────────────────────────────────────────────\u001B[0m \u001B[91m│\u001B[0m\n",
       "\u001B[91m│\u001B[0m For full helptext, run \u001B[1mipykernel_launcher.py --help\u001B[0m \u001B[91m│\u001B[0m\n",
       "\u001B[91m╰─────────────────────────────────────────────────────╯\u001B[0m\n"
      ],
      "text/html": [
       "<pre style=\"white-space:pre;overflow-x:auto;line-height:normal;font-family:Menlo,'DejaVu Sans Mono',consolas,'Courier New',monospace\"><span style=\"color: #ff0000; text-decoration-color: #ff0000\">╭─ </span><span style=\"color: #ff0000; text-decoration-color: #ff0000; font-weight: bold\">Unrecognized options</span><span style=\"color: #ff0000; text-decoration-color: #ff0000\"> ──────────────────────────────╮</span>\n",
       "<span style=\"color: #ff0000; text-decoration-color: #ff0000\">│</span> Unrecognized options: -f                            <span style=\"color: #ff0000; text-decoration-color: #ff0000\">│</span>\n",
       "<span style=\"color: #ff0000; text-decoration-color: #ff0000\">│</span> <span style=\"color: #800000; text-decoration-color: #800000\">───────────────────────────────────────────────────</span> <span style=\"color: #ff0000; text-decoration-color: #ff0000\">│</span>\n",
       "<span style=\"color: #ff0000; text-decoration-color: #ff0000\">│</span> For full helptext, run <span style=\"font-weight: bold\">ipykernel_launcher.py --help</span> <span style=\"color: #ff0000; text-decoration-color: #ff0000\">│</span>\n",
       "<span style=\"color: #ff0000; text-decoration-color: #ff0000\">╰─────────────────────────────────────────────────────╯</span>\n",
       "</pre>\n"
      ]
     },
     "metadata": {},
     "output_type": "display_data"
    },
    {
     "ename": "SystemExit",
     "evalue": "2",
     "output_type": "error",
     "traceback": [
      "An exception has occurred, use %tb to see the full traceback.\n",
      "\u001B[1;31mSystemExit\u001B[0m\u001B[1;31m:\u001B[0m 2\n"
     ]
    }
   ],
   "execution_count": 15
  }
 ],
 "metadata": {
  "kernelspec": {
   "display_name": "Python 3",
   "language": "python",
   "name": "python3"
  },
  "language_info": {
   "codemirror_mode": {
    "name": "ipython",
    "version": 2
   },
   "file_extension": ".py",
   "mimetype": "text/x-python",
   "name": "python",
   "nbconvert_exporter": "python",
   "pygments_lexer": "ipython2",
   "version": "2.7.6"
  }
 },
 "nbformat": 4,
 "nbformat_minor": 5
}
