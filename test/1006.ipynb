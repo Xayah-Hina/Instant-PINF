{
 "cells": [
  {
   "metadata": {},
   "cell_type": "markdown",
   "source": "# PINF",
   "id": "caa2edc0a6a23647"
  },
  {
   "metadata": {},
   "cell_type": "markdown",
   "source": "## 0. Hyperparameters",
   "id": "ae8e3bbdd979db23"
  },
  {
   "cell_type": "code",
   "id": "initial_id",
   "metadata": {
    "collapsed": true,
    "ExecuteTime": {
     "end_time": "2024-10-09T11:40:51.011050Z",
     "start_time": "2024-10-09T11:40:49.257619Z"
    }
   },
   "source": [
    "import torch\n",
    "import numpy as np\n",
    "import imageio.v2 as imageio\n",
    "import cv2\n",
    "import argparse\n",
    "import json\n",
    "import os\n",
    "from typing import Tuple"
   ],
   "outputs": [],
   "execution_count": 1
  },
  {
   "metadata": {
    "ExecuteTime": {
     "end_time": "2024-10-09T11:40:51.052916Z",
     "start_time": "2024-10-09T11:40:51.015056Z"
    }
   },
   "cell_type": "code",
   "source": [
    "args = {\n",
    "    'config': 'configs/scalar.txt',\n",
    "    'expname': 'scalar_test1',\n",
    "    'basedir': './log',\n",
    "    'datadir': '../data/ScalarReal',\n",
    "    'net_model': 'siren',\n",
    "    'netdepth': 8,\n",
    "    'netwidth': 256,\n",
    "    'netdepth_fine': 8,\n",
    "    'netwidth_fine': 256,\n",
    "    'N_rand': 1024,\n",
    "    'lrate': 0.0005,\n",
    "    'lrate_decay': 500,\n",
    "    'chunk': 32768,\n",
    "    'netchunk': 65536,\n",
    "    'no_batching': True,\n",
    "    'no_reload': False,\n",
    "    'ft_path': None,\n",
    "    'fix_seed': 42,\n",
    "    'fading_layers': 50000,\n",
    "    'tempo_delay': 0,\n",
    "    'vel_delay': 10000,\n",
    "    'N_iter': 600000,\n",
    "    'train_warp': True,\n",
    "    'bbox_min': '0.05',\n",
    "    'bbox_max': '0.9',\n",
    "    'vgg_strides': 4,\n",
    "    'ghostW': 0.07,\n",
    "    'vggW': 0.01,\n",
    "    'overlayW': -0.0,\n",
    "    'd2vW': 2.0,\n",
    "    'nseW': 0.001,\n",
    "    'vol_output_only': False,\n",
    "    'vol_output_W': 128,\n",
    "    'render_only': False,\n",
    "    'render_test': False,\n",
    "    'N_samples': 64,\n",
    "    'N_importance': 64,\n",
    "    'perturb': 1.0,\n",
    "    'use_viewdirs': False,\n",
    "    'i_embed': -1,\n",
    "    'multires': 10,\n",
    "    'multires_views': 4,\n",
    "    'raw_noise_std': 0.0,\n",
    "    'render_factor': 0,\n",
    "    'precrop_iters': 1000,\n",
    "    'precrop_frac': 0.5,\n",
    "    'dataset_type': 'pinf_data',\n",
    "    'testskip': 20,\n",
    "    'shape': 'greek',\n",
    "    'white_bkgd': True,\n",
    "    'half_res': 'half',\n",
    "    'factor': 8,\n",
    "    'no_ndc': False,\n",
    "    'lindisp': False,\n",
    "    'spherify': False,\n",
    "    'llffhold': 8,\n",
    "    'i_print': 400,\n",
    "    'i_img': 2000,\n",
    "    'i_weights': 25000,\n",
    "    'i_testset': 50000,\n",
    "    'i_video': 50000\n",
    "}\n",
    "args = argparse.Namespace(**args)\n",
    "device = torch.device(\"cuda\" if torch.cuda.is_available() else \"cpu\")\n",
    "torch.set_default_device('cuda')\n",
    "torch.set_default_dtype(torch.float32)"
   ],
   "id": "89064bf850d54d47",
   "outputs": [],
   "execution_count": 2
  },
  {
   "metadata": {
    "ExecuteTime": {
     "end_time": "2024-10-09T11:40:51.471947Z",
     "start_time": "2024-10-09T11:40:51.467028Z"
    }
   },
   "cell_type": "code",
   "source": [
    "np.random.seed(args.fix_seed)\n",
    "torch.manual_seed(args.fix_seed)\n",
    "if torch.cuda.is_available():\n",
    "    torch.cuda.manual_seed(args.fix_seed)\n",
    "    torch.backends.cudnn.deterministic = True"
   ],
   "id": "23211c8928f94baf",
   "outputs": [],
   "execution_count": 3
  },
  {
   "metadata": {
    "ExecuteTime": {
     "end_time": "2024-10-09T11:40:51.485242Z",
     "start_time": "2024-10-09T11:40:51.477885Z"
    }
   },
   "cell_type": "code",
   "source": [
    "trans_t = lambda t: torch.tensor([\n",
    "    [1, 0, 0, 0],\n",
    "    [0, 1, 0, 0],\n",
    "    [0, 0, 1, t],\n",
    "    [0, 0, 0, 1]], dtype=torch.float32)\n",
    "\n",
    "rot_phi = lambda phi: torch.tensor([\n",
    "    [1, 0, 0, 0],\n",
    "    [0, np.cos(phi), -np.sin(phi), 0],\n",
    "    [0, np.sin(phi), np.cos(phi), 0],\n",
    "    [0, 0, 0, 1]], dtype=torch.float32)\n",
    "\n",
    "rot_theta = lambda th: torch.tensor([\n",
    "    [np.cos(th), 0, -np.sin(th), 0],\n",
    "    [0, 1, 0, 0],\n",
    "    [np.sin(th), 0, np.cos(th), 0],\n",
    "    [0, 0, 0, 1]], dtype=torch.float32)\n",
    "\n",
    "\n",
    "def pose_spherical(theta, phi, radius):\n",
    "    c2w = trans_t(radius)\n",
    "    c2w = rot_phi(phi / 180. * np.pi) @ c2w\n",
    "    c2w = rot_theta(theta / 180. * np.pi) @ c2w\n",
    "    c2w = torch.tensor(np.array([[-1, 0, 0, 0], [0, 0, 1, 0], [0, 1, 0, 0], [0, 0, 0, 1]]), dtype=torch.float32) @ c2w\n",
    "    return c2w\n",
    "\n",
    "\n",
    "def get_embedder(multires: int, include_input=True, log_sampling=True):\n",
    "    input_dims = 3\n",
    "    max_freq_log2 = multires - 1\n",
    "    num_freqs = multires\n",
    "    periodic_fns = [torch.sin, torch.cos]\n",
    "\n",
    "    embed_fns = []\n",
    "    out_dim = 0\n",
    "    if include_input:\n",
    "        embed_fns.append(lambda x: x)\n",
    "        out_dim += input_dims\n",
    "    if log_sampling:\n",
    "        freq_bands = 2. ** torch.linspace(0., max_freq_log2, steps=num_freqs)\n",
    "    else:\n",
    "        freq_bands = torch.linspace(2. ** 0., 2. ** max_freq_log2, steps=num_freqs)\n",
    "\n",
    "    for _freq in freq_bands:\n",
    "        for _p_fn in periodic_fns:\n",
    "            embed_fns.append(lambda x, p_fn=_p_fn, freq=_freq: p_fn(x * freq))\n",
    "            out_dim += input_dims\n",
    "\n",
    "    return lambda x: torch.cat([fn(x) for fn in embed_fns], -1), out_dim"
   ],
   "id": "811bb684af78b306",
   "outputs": [],
   "execution_count": 4
  },
  {
   "metadata": {},
   "cell_type": "markdown",
   "source": "## 1. Load Data and Preprocess",
   "id": "9529842b53d7cbb6"
  },
  {
   "metadata": {
    "ExecuteTime": {
     "end_time": "2024-10-09T11:41:18.519457Z",
     "start_time": "2024-10-09T11:40:51.491071Z"
    }
   },
   "cell_type": "code",
   "source": [
    "def load_data_pinf(in_type: str, in_skip: int = 1):\n",
    "    _all_images = []\n",
    "    _all_poses = []\n",
    "    _all_time_steps = []\n",
    "    with open(os.path.normpath(os.path.join(args.datadir, 'info.json')), 'r') as fp:\n",
    "        _meta = json.load(fp)\n",
    "        for _video in _meta[in_type + '_videos']:\n",
    "            _image_array = []\n",
    "            _pose_array = []\n",
    "            _time_step_array = []\n",
    "            _reader = imageio.get_reader(os.path.normpath(os.path.join(args.datadir, _video['file_name'])))\n",
    "            _dt = 1. / _video['frame_num']\n",
    "            for _idx in range(0, _video['frame_num'], in_skip):\n",
    "                _reader.set_image_index(_idx)\n",
    "                _image_array.append(_reader.get_next_data())\n",
    "                _pose_array.append(_video['transform_matrix'])\n",
    "                _time_step_array.append(_idx * _dt)\n",
    "            _reader.close()\n",
    "            _all_images.append((np.array(_image_array) / 255.).astype(np.float32))\n",
    "            _all_poses.append(np.array(_pose_array).astype(np.float32))\n",
    "            _all_time_steps.append(np.array(_time_step_array).astype(np.float32))\n",
    "    return _all_images, _all_poses, _all_time_steps\n",
    "\n",
    "\n",
    "all_images, all_poses, all_time_steps = load_data_pinf('train')"
   ],
   "id": "f7739c91f086424e",
   "outputs": [],
   "execution_count": 5
  },
  {
   "metadata": {},
   "cell_type": "markdown",
   "source": "## 2. Define Model",
   "id": "cb7ac1eacbae584a"
  },
  {
   "metadata": {
    "ExecuteTime": {
     "end_time": "2024-10-09T11:41:18.551959Z",
     "start_time": "2024-10-09T11:41:18.547069Z"
    }
   },
   "cell_type": "code",
   "source": [
    "class SIREN(torch.nn.Module):\n",
    "    def __init__(self):\n",
    "        super(SIREN, self).__init__()\n",
    "    def forward(self, x):\n",
    "        pass"
   ],
   "id": "a96eba8c85728b62",
   "outputs": [],
   "execution_count": 6
  }
 ],
 "metadata": {
  "kernelspec": {
   "display_name": "Python 3",
   "language": "python",
   "name": "python3"
  },
  "language_info": {
   "codemirror_mode": {
    "name": "ipython",
    "version": 2
   },
   "file_extension": ".py",
   "mimetype": "text/x-python",
   "name": "python",
   "nbconvert_exporter": "python",
   "pygments_lexer": "ipython2",
   "version": "2.7.6"
  }
 },
 "nbformat": 4,
 "nbformat_minor": 5
}
