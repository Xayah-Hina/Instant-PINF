{
 "cells": [
  {
   "cell_type": "code",
   "execution_count": null,
   "id": "initial_id",
   "metadata": {
    "collapsed": true
   },
   "outputs": [],
   "source": [
    "import torch\n",
    "from phi.torch.flow import *\n",
    "\n",
    "device = torch.device('cuda')"
   ]
  },
  {
   "metadata": {
    "ExecuteTime": {
     "end_time": "2025-01-18T08:50:12.712867Z",
     "start_time": "2025-01-18T08:50:12.698916Z"
    }
   },
   "cell_type": "code",
   "source": [
    "from phiml import math, nn\n",
    "math.use('torch')\n",
    "mlp = nn.mlp(in_channels=1, out_channels=1, layers=[64, 64], activation='ReLU')\n",
    "mlp.parameters()"
   ],
   "id": "2e80f26e2bdb21fe",
   "outputs": [
    {
     "data": {
      "text/plain": [
       "<generator object Module.parameters at 0x0000017414A5C740>"
      ]
     },
     "execution_count": 4,
     "metadata": {},
     "output_type": "execute_result"
    }
   ],
   "execution_count": 4
  }
 ],
 "metadata": {
  "kernelspec": {
   "display_name": "Python 3",
   "language": "python",
   "name": "python3"
  },
  "language_info": {
   "codemirror_mode": {
    "name": "ipython",
    "version": 2
   },
   "file_extension": ".py",
   "mimetype": "text/x-python",
   "name": "python",
   "nbconvert_exporter": "python",
   "pygments_lexer": "ipython2",
   "version": "2.7.6"
  }
 },
 "nbformat": 4,
 "nbformat_minor": 5
}
