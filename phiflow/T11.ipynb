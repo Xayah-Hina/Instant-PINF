{
 "cells": [
  {
   "cell_type": "code",
   "id": "initial_id",
   "metadata": {
    "collapsed": true,
    "ExecuteTime": {
     "end_time": "2025-01-15T12:44:18.791838Z",
     "start_time": "2025-01-15T12:44:16.404704Z"
    }
   },
   "source": [
    "import torch\n",
    "import numpy as np\n",
    "import phi.torch.flow as ptf\n",
    "\n",
    "device = torch.device('cuda')"
   ],
   "outputs": [],
   "execution_count": 1
  },
  {
   "metadata": {
    "ExecuteTime": {
     "end_time": "2025-01-15T13:13:42.471029Z",
     "start_time": "2025-01-15T13:13:41.956255Z"
    }
   },
   "cell_type": "code",
   "source": [
    "BOUNDS = ptf.Box(x=1, y=1, z=1)\n",
    "RESOLUTION = 100\n",
    "\n",
    "TO_LEARN_DIRECTION = [\n",
    "    torch.randn(3, device=device, requires_grad=True),\n",
    "    torch.randn(3, device=device, requires_grad=True),\n",
    "    torch.randn(3, device=device, requires_grad=True),\n",
    "]\n",
    "\n",
    "LOCATIONS = [\n",
    "    ptf.vec(x=0, y=0, z=0),\n",
    "    ptf.vec(x=0.5, y=0.5, z=0.5),\n",
    "    ptf.vec(x=1, y=1, z=1),\n",
    "]\n",
    "DIRECTIONS = [\n",
    "    ptf.wrap(TO_LEARN_DIRECTION[0], ptf.channel(vector='x,y,z')),\n",
    "    ptf.wrap(TO_LEARN_DIRECTION[1], ptf.channel(vector='x,y,z')),\n",
    "    ptf.wrap(TO_LEARN_DIRECTION[2], ptf.channel(vector='x,y,z')),\n",
    "]\n",
    "\n",
    "FORCE_FIELD = ptf.CenteredGrid(\n",
    "    values=(0, 0, 0),\n",
    "    extrapolation=ptf.extrapolation.ZERO_GRADIENT,\n",
    "    bounds=BOUNDS,\n",
    "    resolution=ptf.spatial(x=RESOLUTION, y=RESOLUTION, z=RESOLUTION),\n",
    ")\n",
    "for LOCATION, DIRECTION in zip(LOCATIONS, DIRECTIONS):\n",
    "    LAMBDA = ptf.CenteredGrid(\n",
    "        values=lambda loc: 0.2 - ptf.length(loc - LOCATION),\n",
    "        extrapolation=ptf.extrapolation.ZERO_GRADIENT,\n",
    "        bounds=BOUNDS,\n",
    "        resolution=ptf.spatial(x=RESOLUTION, y=RESOLUTION, z=RESOLUTION),\n",
    "    )\n",
    "    MARK = ptf.CenteredGrid(\n",
    "        values=lambda loc: ptf.length(loc - LOCATION) < 0.2,\n",
    "        extrapolation=ptf.extrapolation.ZERO_GRADIENT,\n",
    "        bounds=BOUNDS,\n",
    "        resolution=ptf.spatial(x=RESOLUTION, y=RESOLUTION, z=RESOLUTION),\n",
    "    )\n",
    "    VECTOR_FIELD = ptf.CenteredGrid(\n",
    "        values=DIRECTION,\n",
    "        extrapolation=ptf.extrapolation.ZERO_GRADIENT,\n",
    "        bounds=BOUNDS,\n",
    "        resolution=ptf.spatial(x=RESOLUTION, y=RESOLUTION, z=RESOLUTION),\n",
    "    )\n",
    "    FORCE_FIELD = FORCE_FIELD + LAMBDA * MARK * VECTOR_FIELD\n",
    "\n",
    "loss = FORCE_FIELD.values.native('x,y,z,vector').sum()\n",
    "loss.backward()"
   ],
   "id": "7bfc9cfc1151adb5",
   "outputs": [],
   "execution_count": 36
  },
  {
   "metadata": {},
   "cell_type": "markdown",
   "source": "## Check Gradient",
   "id": "79ad0a0ef2e4d55f"
  },
  {
   "metadata": {
    "ExecuteTime": {
     "end_time": "2025-01-15T13:13:44.521836Z",
     "start_time": "2025-01-15T13:13:44.495986Z"
    }
   },
   "cell_type": "code",
   "source": [
    "grads = torch.autograd.grad(\n",
    "    outputs=loss,\n",
    "    inputs=TO_LEARN_DIRECTION,\n",
    "    retain_graph=True,\n",
    "    allow_unused=True\n",
    ")\n",
    "for i, grad in enumerate(grads):\n",
    "    print(f\"Gradient for TO_LEARN_DIRECTION[{i}]: {grad}\")"
   ],
   "id": "42b6c34e621363cc",
   "outputs": [
    {
     "name": "stdout",
     "output_type": "stream",
     "text": [
      "Gradient for TO_LEARN_DIRECTION[0]: tensor([209.4329, 209.4329, 209.4329], device='cuda:0')\n",
      "Gradient for TO_LEARN_DIRECTION[1]: tensor([1675.4626, 1675.4626, 1675.4626], device='cuda:0')\n",
      "Gradient for TO_LEARN_DIRECTION[2]: tensor([209.4330, 209.4330, 209.4330], device='cuda:0')\n"
     ]
    }
   ],
   "execution_count": 37
  }
 ],
 "metadata": {
  "kernelspec": {
   "display_name": "Python 3",
   "language": "python",
   "name": "python3"
  },
  "language_info": {
   "codemirror_mode": {
    "name": "ipython",
    "version": 2
   },
   "file_extension": ".py",
   "mimetype": "text/x-python",
   "name": "python",
   "nbconvert_exporter": "python",
   "pygments_lexer": "ipython2",
   "version": "2.7.6"
  }
 },
 "nbformat": 4,
 "nbformat_minor": 5
}
