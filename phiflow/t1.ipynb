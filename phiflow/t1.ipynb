{
 "cells": [
  {
   "cell_type": "code",
   "id": "initial_id",
   "metadata": {
    "collapsed": true
   },
   "source": "from phi.torch.flow import *",
   "outputs": [],
   "execution_count": null
  },
  {
   "metadata": {},
   "cell_type": "code",
   "source": "backend.default_backend().get_default_device()",
   "id": "417522de32479c3f",
   "outputs": [],
   "execution_count": null
  },
  {
   "metadata": {},
   "cell_type": "code",
   "source": "math.get_precision()",
   "id": "68ce3467a975db73",
   "outputs": [],
   "execution_count": null
  },
  {
   "metadata": {},
   "cell_type": "code",
   "source": [
    "from phi.torch.flow import *\n",
    "\n",
    "BOUNDS = Box(x=1, y=1, z=1)\n",
    "RESOLUTION = 50\n",
    "DENSITY = CenteredGrid(\n",
    "    values=0,\n",
    "    extrapolation=extrapolation.ZERO_GRADIENT,\n",
    "    bounds=BOUNDS,\n",
    "    resolution=spatial(x=RESOLUTION, y=RESOLUTION, z=RESOLUTION),\n",
    ")\n",
    "VELOCITY = StaggeredGrid(\n",
    "    values=0,\n",
    "    extrapolation=extrapolation.ZERO,\n",
    "    bounds=BOUNDS,\n",
    "    resolution=spatial(x=RESOLUTION, y=RESOLUTION, z=RESOLUTION),\n",
    ")\n",
    "INFLOW = CenteredGrid(\n",
    "    values=Sphere(center=tensor([0.5, 0.5, 0.5], channel(vector='x,y,z')), radius=0.1),\n",
    "    extrapolation=extrapolation.ZERO_GRADIENT,\n",
    "    bounds=BOUNDS,\n",
    "    resolution=spatial(x=RESOLUTION, y=RESOLUTION, z=RESOLUTION),\n",
    ")\n",
    "\n",
    "\n",
    "@jit_compile\n",
    "def step(v, s, p, dt, inflow_rate, inflow):\n",
    "    s = advect.mac_cormack(s, v, dt) + inflow_rate * resample(inflow, to=s, soft=True)\n",
    "    buoyancy = resample(s * (0, 0.1, 0), to=v)\n",
    "    v = advect.semi_lagrangian(v, v, dt) + buoyancy * dt\n",
    "    v, p = fluid.make_incompressible(v, (), Solve('CG', 1e-3, x0=p))\n",
    "    return v, s, p\n",
    "\n",
    "step(VELOCITY, DENSITY, None, 0.2, 0.2, INFLOW)\n",
    "step(VELOCITY, DENSITY, None, 0.2, 0.2, INFLOW)"
   ],
   "id": "723238b8a711b2ef",
   "outputs": [],
   "execution_count": null
  },
  {
   "metadata": {},
   "cell_type": "code",
   "source": "# np.savez('phiflow.npz', density=DENSITY.numpy(), inflow=INFLOW.numpy())",
   "id": "665e6ccf080f2667",
   "outputs": [],
   "execution_count": null
  }
 ],
 "metadata": {
  "kernelspec": {
   "display_name": "Python 3",
   "language": "python",
   "name": "python3"
  },
  "language_info": {
   "codemirror_mode": {
    "name": "ipython",
    "version": 2
   },
   "file_extension": ".py",
   "mimetype": "text/x-python",
   "name": "python",
   "nbconvert_exporter": "python",
   "pygments_lexer": "ipython2",
   "version": "2.7.6"
  }
 },
 "nbformat": 4,
 "nbformat_minor": 5
}
