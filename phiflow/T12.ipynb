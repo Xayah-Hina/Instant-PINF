{
 "cells": [
  {
   "cell_type": "code",
   "id": "initial_id",
   "metadata": {
    "collapsed": true,
    "ExecuteTime": {
     "end_time": "2025-01-16T12:23:53.255538Z",
     "start_time": "2025-01-16T12:23:51.033361Z"
    }
   },
   "source": [
    "import torch\n",
    "import numpy as np\n",
    "import phi.torch.flow as ptf\n",
    "\n",
    "import tqdm\n",
    "\n",
    "device = torch.device('cuda')"
   ],
   "outputs": [],
   "execution_count": 1
  },
  {
   "metadata": {
    "ExecuteTime": {
     "end_time": "2025-01-16T12:23:53.265689Z",
     "start_time": "2025-01-16T12:23:53.261548Z"
    }
   },
   "cell_type": "code",
   "source": [
    "BOUNDS = ptf.Box(x=1, y=1, z=1)\n",
    "RESOLUTION = 100"
   ],
   "id": "773ef8331888a5c3",
   "outputs": [],
   "execution_count": 2
  },
  {
   "metadata": {
    "ExecuteTime": {
     "end_time": "2025-01-16T12:23:53.822254Z",
     "start_time": "2025-01-16T12:23:53.454214Z"
    }
   },
   "cell_type": "code",
   "source": [
    "index1 = 0\n",
    "index2 = index1 + 5\n",
    "den1_np = np.load(f'origin/origin_{index1:03d}.npz')['density']\n",
    "den2_np = np.load(f'origin/origin_{index2:03d}.npz')['density']\n",
    "den1_gpu = torch.tensor(den1_np, dtype=torch.float32, device=device)\n",
    "den2_gpu = torch.tensor(den2_np, dtype=torch.float32, device=device)\n",
    "\n",
    "DENSITY1 = ptf.CenteredGrid(\n",
    "    values=ptf.wrap(den1_gpu, ptf.spatial('x,y,z')),\n",
    "    extrapolation=ptf.extrapolation.ZERO_GRADIENT,\n",
    "    bounds=BOUNDS,\n",
    "    resolution=ptf.spatial(x=RESOLUTION, y=RESOLUTION, z=RESOLUTION),\n",
    ")\n",
    "DENSITY2 = ptf.CenteredGrid(\n",
    "    values=ptf.wrap(den2_gpu, ptf.spatial('x,y,z')),\n",
    "    extrapolation=ptf.extrapolation.ZERO_GRADIENT,\n",
    "    bounds=BOUNDS,\n",
    "    resolution=ptf.spatial(x=RESOLUTION, y=RESOLUTION, z=RESOLUTION),\n",
    ")\n",
    "VELOCITY0 = ptf.StaggeredGrid(\n",
    "    values=0,\n",
    "    extrapolation=ptf.extrapolation.ZERO,\n",
    "    bounds=BOUNDS,\n",
    "    resolution=ptf.spatial(x=RESOLUTION, y=RESOLUTION, z=RESOLUTION),\n",
    ")\n",
    "INFLOW = ptf.CenteredGrid(\n",
    "    values=ptf.Sphere(center=ptf.tensor([0.5, 0, 0.5], ptf.channel(vector='x,y,z')), radius=0.05),\n",
    "    extrapolation=ptf.extrapolation.ZERO,\n",
    "    bounds=BOUNDS,\n",
    "    resolution=ptf.spatial(x=RESOLUTION, y=RESOLUTION, z=RESOLUTION),\n",
    ")\n",
    "\n",
    "\n",
    "# @ptf.jit_compile\n",
    "def step(v, s, p, dt, inflow_rate, inflow, FORCE):\n",
    "    s = ptf.advect.mac_cormack(s, v, dt) + inflow_rate * ptf.resample(inflow, to=s, soft=True)\n",
    "    buoyancy = ptf.resample(s * (0, 0.1, 0), to=v) + ptf.resample(FORCE, to=v)\n",
    "    v = ptf.advect.semi_lagrangian(v, v, dt) + buoyancy * dt\n",
    "    v, p = ptf.fluid.make_incompressible(v, (), ptf.Solve('auto', 1e-3, x0=p))\n",
    "    return v, s, p\n",
    "\n",
    "\n",
    "DENSITY = DENSITY1\n",
    "VELOCITY = VELOCITY0"
   ],
   "id": "35e352507f490053",
   "outputs": [],
   "execution_count": 3
  },
  {
   "metadata": {
    "ExecuteTime": {
     "end_time": "2025-01-16T12:24:22.885798Z",
     "start_time": "2025-01-16T12:23:54.067871Z"
    }
   },
   "cell_type": "code",
   "source": [
    "x = torch.linspace(0.2, 0.8, 3, dtype=torch.float32, device=device)\n",
    "y = torch.linspace(0.2, 0.8, 3, dtype=torch.float32, device=device)\n",
    "z = torch.linspace(0.2, 0.8, 3, dtype=torch.float32, device=device)\n",
    "grid_x, grid_y, grid_z = torch.meshgrid(x, y, z, indexing='ij')\n",
    "\n",
    "LOCATIONS = torch.stack([grid_x, grid_y, grid_z], dim=-1).reshape(-1, 3)  # [27, 3]\n",
    "DIRECTIONS = torch.randn_like(LOCATIONS, dtype=torch.float32, device=device, requires_grad=True)  # [27, 3]\n",
    "OPTIMIZER = torch.optim.RAdam([DIRECTIONS], lr=0.001)\n",
    "\n",
    "# Gaussian falloff function\n",
    "A = 0.2  # 高斯幅值\n",
    "sigma = 0.2  # 标准差，控制衰减范围\n",
    "LAMBDA_FIELDS = []\n",
    "for loc in LOCATIONS:\n",
    "    LAMBDA = ptf.CenteredGrid(\n",
    "        values=lambda x: A * ptf.math.exp(-ptf.length(x - loc) ** 2 / (2 * sigma ** 2)),\n",
    "        extrapolation=ptf.extrapolation.ZERO_GRADIENT,\n",
    "        bounds=BOUNDS,\n",
    "        resolution=ptf.spatial(x=RESOLUTION, y=RESOLUTION, z=RESOLUTION),\n",
    "    )\n",
    "    LAMBDA_FIELDS.append(LAMBDA)\n",
    "\n",
    "DIRECTION_FIELDS = []\n",
    "for dir in DIRECTIONS:\n",
    "    DIRECTION = ptf.CenteredGrid(\n",
    "        values=dir,\n",
    "        extrapolation=ptf.extrapolation.ZERO_GRADIENT,\n",
    "        bounds=BOUNDS,\n",
    "        resolution=ptf.spatial(x=RESOLUTION, y=RESOLUTION, z=RESOLUTION),\n",
    "    )\n",
    "    DIRECTION_FIELDS.append(DIRECTION)\n",
    "\n",
    "all_iterations = 100\n",
    "losses = []\n",
    "for _ in tqdm.trange(all_iterations):\n",
    "    OPTIMIZER.zero_grad()\n",
    "\n",
    "    first = True\n",
    "    FORCE_FIELD = ptf.CenteredGrid(\n",
    "        values=(0, 0, 0),\n",
    "        extrapolation=ptf.extrapolation.ZERO_GRADIENT,\n",
    "        bounds=BOUNDS,\n",
    "        resolution=ptf.spatial(x=RESOLUTION, y=RESOLUTION, z=RESOLUTION),\n",
    "    )\n",
    "    for _1, _2 in zip(LAMBDA_FIELDS, DIRECTION_FIELDS):\n",
    "        FORCE_FIELD = FORCE_FIELD + _1 * _2\n",
    "\n",
    "    for frame in range(5):\n",
    "        VELOCITY, DENSITY, PRESSURE = step(VELOCITY, DENSITY, None, 0.2, 0.2, INFLOW, FORCE_FIELD)\n",
    "\n",
    "\n",
    "    loss = torch.nn.functional.mse_loss(DENSITY2.values.native('x,y,z'), DENSITY.values.native('x,y,z'))\n",
    "    loss.backward()\n",
    "    OPTIMIZER.step()\n",
    "\n",
    "    print(f'loss: {loss.item()}')\n",
    "    losses.append(loss.item())"
   ],
   "id": "c61646d99b9f25e",
   "outputs": [
    {
     "name": "stderr",
     "output_type": "stream",
     "text": [
      "  0%|          | 0/100 [00:00<?, ?it/s]C:\\Users\\imeho\\Documents\\VituralEnvs\\InstantPINF-TCNN\\Lib\\site-packages\\phiml\\backend\\torch\\_torch_backend.py:803: UserWarning: Sparse CSR tensor support is in beta state. If you miss a functionality in the sparse tensor support, please submit a feature request to https://github.com/pytorch/pytorch/issues. (Triggered internally at C:\\actions-runner\\_work\\pytorch\\pytorch\\builder\\windows\\pytorch\\aten\\src\\ATen\\SparseCsrTensorImpl.cpp:55.)\n",
      "  return torch.sparse_csr_tensor(row_pointers, column_indices, values, shape, device=values.device)\n",
      "  1%|          | 1/100 [00:26<44:25, 26.92s/it]"
     ]
    },
    {
     "name": "stdout",
     "output_type": "stream",
     "text": [
      "loss: 0.0003622330550570041\n"
     ]
    },
    {
     "name": "stderr",
     "output_type": "stream",
     "text": [
      "\n"
     ]
    },
    {
     "ename": "RuntimeError",
     "evalue": "Output 0 of UnbindBackward0 is a view and its base or another view of its base has been modified inplace. This view is the output of a function that returns multiple views. Such functions do not allow the output views to be modified inplace. You should replace the inplace operation by an out-of-place one.",
     "output_type": "error",
     "traceback": [
      "\u001B[1;31m---------------------------------------------------------------------------\u001B[0m",
      "\u001B[1;31mRuntimeError\u001B[0m                              Traceback (most recent call last)",
      "Cell \u001B[1;32mIn[4], line 46\u001B[0m\n\u001B[0;32m     39\u001B[0m FORCE_FIELD \u001B[38;5;241m=\u001B[39m ptf\u001B[38;5;241m.\u001B[39mCenteredGrid(\n\u001B[0;32m     40\u001B[0m     values\u001B[38;5;241m=\u001B[39m(\u001B[38;5;241m0\u001B[39m, \u001B[38;5;241m0\u001B[39m, \u001B[38;5;241m0\u001B[39m),\n\u001B[0;32m     41\u001B[0m     extrapolation\u001B[38;5;241m=\u001B[39mptf\u001B[38;5;241m.\u001B[39mextrapolation\u001B[38;5;241m.\u001B[39mZERO_GRADIENT,\n\u001B[0;32m     42\u001B[0m     bounds\u001B[38;5;241m=\u001B[39mBOUNDS,\n\u001B[0;32m     43\u001B[0m     resolution\u001B[38;5;241m=\u001B[39mptf\u001B[38;5;241m.\u001B[39mspatial(x\u001B[38;5;241m=\u001B[39mRESOLUTION, y\u001B[38;5;241m=\u001B[39mRESOLUTION, z\u001B[38;5;241m=\u001B[39mRESOLUTION),\n\u001B[0;32m     44\u001B[0m )\n\u001B[0;32m     45\u001B[0m \u001B[38;5;28;01mfor\u001B[39;00m _1, _2 \u001B[38;5;129;01min\u001B[39;00m \u001B[38;5;28mzip\u001B[39m(LAMBDA_FIELDS, DIRECTION_FIELDS):\n\u001B[1;32m---> 46\u001B[0m     FORCE_FIELD \u001B[38;5;241m=\u001B[39m \u001B[43mFORCE_FIELD\u001B[49m\u001B[43m \u001B[49m\u001B[38;5;241;43m+\u001B[39;49m\u001B[43m \u001B[49m\u001B[43m_1\u001B[49m\u001B[43m \u001B[49m\u001B[38;5;241;43m+\u001B[39;49m\u001B[43m \u001B[49m\u001B[43m_2\u001B[49m\n\u001B[0;32m     48\u001B[0m \u001B[38;5;28;01mfor\u001B[39;00m frame \u001B[38;5;129;01min\u001B[39;00m \u001B[38;5;28mrange\u001B[39m(\u001B[38;5;241m5\u001B[39m):\n\u001B[0;32m     49\u001B[0m     VELOCITY, DENSITY, PRESSURE \u001B[38;5;241m=\u001B[39m step(VELOCITY, DENSITY, \u001B[38;5;28;01mNone\u001B[39;00m, \u001B[38;5;241m0.2\u001B[39m, \u001B[38;5;241m0.2\u001B[39m, INFLOW, FORCE_FIELD)\n",
      "File \u001B[1;32m~\\Documents\\VituralEnvs\\InstantPINF-TCNN\\Lib\\site-packages\\phi\\field\\_field.py:746\u001B[0m, in \u001B[0;36mField.__add__\u001B[1;34m(self, other)\u001B[0m\n\u001B[0;32m    745\u001B[0m \u001B[38;5;28;01mdef\u001B[39;00m \u001B[38;5;21m__add__\u001B[39m(\u001B[38;5;28mself\u001B[39m, other):\n\u001B[1;32m--> 746\u001B[0m     \u001B[38;5;28;01mreturn\u001B[39;00m \u001B[38;5;28;43mself\u001B[39;49m\u001B[38;5;241;43m.\u001B[39;49m\u001B[43m_op2\u001B[49m\u001B[43m(\u001B[49m\u001B[43mother\u001B[49m\u001B[43m,\u001B[49m\u001B[43m \u001B[49m\u001B[38;5;28;43;01mlambda\u001B[39;49;00m\u001B[43m \u001B[49m\u001B[43md1\u001B[49m\u001B[43m,\u001B[49m\u001B[43m \u001B[49m\u001B[43md2\u001B[49m\u001B[43m:\u001B[49m\u001B[43m \u001B[49m\u001B[43md1\u001B[49m\u001B[43m \u001B[49m\u001B[38;5;241;43m+\u001B[39;49m\u001B[43m \u001B[49m\u001B[43md2\u001B[49m\u001B[43m)\u001B[49m\n",
      "File \u001B[1;32m~\\Documents\\VituralEnvs\\InstantPINF-TCNN\\Lib\\site-packages\\phi\\field\\_field.py:790\u001B[0m, in \u001B[0;36mField._op2\u001B[1;34m(self, other, operator)\u001B[0m\n\u001B[0;32m    788\u001B[0m \u001B[38;5;28;01mif\u001B[39;00m \u001B[38;5;28misinstance\u001B[39m(other, Field):\n\u001B[0;32m    789\u001B[0m     \u001B[38;5;28;01mif\u001B[39;00m \u001B[38;5;28mself\u001B[39m\u001B[38;5;241m.\u001B[39mgeometry \u001B[38;5;241m==\u001B[39m other\u001B[38;5;241m.\u001B[39mgeometry:\n\u001B[1;32m--> 790\u001B[0m         values \u001B[38;5;241m=\u001B[39m \u001B[43moperator\u001B[49m\u001B[43m(\u001B[49m\u001B[38;5;28;43mself\u001B[39;49m\u001B[38;5;241;43m.\u001B[39;49m\u001B[43mvalues\u001B[49m\u001B[43m,\u001B[49m\u001B[43m \u001B[49m\u001B[43mother\u001B[49m\u001B[38;5;241;43m.\u001B[39;49m\u001B[43mvalues\u001B[49m\u001B[43m)\u001B[49m\n\u001B[0;32m    791\u001B[0m         extrapolation_ \u001B[38;5;241m=\u001B[39m operator(\u001B[38;5;28mself\u001B[39m\u001B[38;5;241m.\u001B[39mboundary, other\u001B[38;5;241m.\u001B[39mextrapolation)\n\u001B[0;32m    792\u001B[0m         \u001B[38;5;28;01mreturn\u001B[39;00m Field(\u001B[38;5;28mself\u001B[39m\u001B[38;5;241m.\u001B[39mgeometry, values, extrapolation_)\n",
      "File \u001B[1;32m~\\Documents\\VituralEnvs\\InstantPINF-TCNN\\Lib\\site-packages\\phi\\field\\_field.py:746\u001B[0m, in \u001B[0;36mField.__add__.<locals>.<lambda>\u001B[1;34m(d1, d2)\u001B[0m\n\u001B[0;32m    745\u001B[0m \u001B[38;5;28;01mdef\u001B[39;00m \u001B[38;5;21m__add__\u001B[39m(\u001B[38;5;28mself\u001B[39m, other):\n\u001B[1;32m--> 746\u001B[0m     \u001B[38;5;28;01mreturn\u001B[39;00m \u001B[38;5;28mself\u001B[39m\u001B[38;5;241m.\u001B[39m_op2(other, \u001B[38;5;28;01mlambda\u001B[39;00m d1, d2: \u001B[43md1\u001B[49m\u001B[43m \u001B[49m\u001B[38;5;241;43m+\u001B[39;49m\u001B[43m \u001B[49m\u001B[43md2\u001B[49m)\n",
      "File \u001B[1;32m~\\Documents\\VituralEnvs\\InstantPINF-TCNN\\Lib\\site-packages\\phiml\\math\\_tensors.py:653\u001B[0m, in \u001B[0;36mTensor.__add__\u001B[1;34m(self, other)\u001B[0m\n\u001B[0;32m    652\u001B[0m \u001B[38;5;28;01mdef\u001B[39;00m \u001B[38;5;21m__add__\u001B[39m(\u001B[38;5;28mself\u001B[39m, other):\n\u001B[1;32m--> 653\u001B[0m     \u001B[38;5;28;01mreturn\u001B[39;00m \u001B[38;5;28;43mself\u001B[39;49m\u001B[38;5;241;43m.\u001B[39;49m\u001B[43m_op2\u001B[49m\u001B[43m(\u001B[49m\u001B[43mother\u001B[49m\u001B[43m,\u001B[49m\u001B[43m \u001B[49m\u001B[38;5;28;43;01mlambda\u001B[39;49;00m\u001B[43m \u001B[49m\u001B[43mx\u001B[49m\u001B[43m,\u001B[49m\u001B[43m \u001B[49m\u001B[43my\u001B[49m\u001B[43m:\u001B[49m\u001B[43m \u001B[49m\u001B[43mx\u001B[49m\u001B[43m \u001B[49m\u001B[38;5;241;43m+\u001B[39;49m\u001B[43m \u001B[49m\u001B[43my\u001B[49m\u001B[43m,\u001B[49m\u001B[43m \u001B[49m\u001B[38;5;28;43;01mlambda\u001B[39;49;00m\u001B[43m \u001B[49m\u001B[43mx\u001B[49m\u001B[43m,\u001B[49m\u001B[43m \u001B[49m\u001B[43my\u001B[49m\u001B[43m:\u001B[49m\u001B[43m \u001B[49m\u001B[43mchoose_backend\u001B[49m\u001B[43m(\u001B[49m\u001B[43mx\u001B[49m\u001B[43m,\u001B[49m\u001B[43m \u001B[49m\u001B[43my\u001B[49m\u001B[43m)\u001B[49m\u001B[38;5;241;43m.\u001B[39;49m\u001B[43madd\u001B[49m\u001B[43m(\u001B[49m\u001B[43mx\u001B[49m\u001B[43m,\u001B[49m\u001B[43m \u001B[49m\u001B[43my\u001B[49m\u001B[43m)\u001B[49m\u001B[43m,\u001B[49m\u001B[43m \u001B[49m\u001B[38;5;124;43m'\u001B[39;49m\u001B[38;5;124;43madd\u001B[39;49m\u001B[38;5;124;43m'\u001B[39;49m\u001B[43m,\u001B[49m\u001B[43m \u001B[49m\u001B[38;5;124;43m'\u001B[39;49m\u001B[38;5;124;43m+\u001B[39;49m\u001B[38;5;124;43m'\u001B[39;49m\u001B[43m)\u001B[49m\n",
      "File \u001B[1;32m~\\Documents\\VituralEnvs\\InstantPINF-TCNN\\Lib\\site-packages\\phiml\\math\\_tensors.py:1364\u001B[0m, in \u001B[0;36mNativeTensor._op2\u001B[1;34m(self, other, operator, native_function, op_name, op_symbol, switch_args)\u001B[0m\n\u001B[0;32m   1362\u001B[0m     other_tensor \u001B[38;5;241m=\u001B[39m NativeTensor(other_tensor\u001B[38;5;241m.\u001B[39mnative(other_tensor\u001B[38;5;241m.\u001B[39mshape), other_tensor\u001B[38;5;241m.\u001B[39mshape, other_tensor\u001B[38;5;241m.\u001B[39mshape)\n\u001B[0;32m   1363\u001B[0m broadcast_shape \u001B[38;5;241m=\u001B[39m \u001B[38;5;28mself\u001B[39m\u001B[38;5;241m.\u001B[39m_native_shape \u001B[38;5;241m&\u001B[39m other_tensor\u001B[38;5;241m.\u001B[39m_native_shape\n\u001B[1;32m-> 1364\u001B[0m natives \u001B[38;5;241m=\u001B[39m \u001B[43m[\u001B[49m\u001B[43mt\u001B[49m\u001B[38;5;241;43m.\u001B[39;49m\u001B[43mnative\u001B[49m\u001B[43m(\u001B[49m\u001B[43morder\u001B[49m\u001B[38;5;241;43m=\u001B[39;49m\u001B[43mbroadcast_shape\u001B[49m\u001B[43m,\u001B[49m\u001B[43m \u001B[49m\u001B[43mforce_expand\u001B[49m\u001B[38;5;241;43m=\u001B[39;49m\u001B[38;5;28;43;01mFalse\u001B[39;49;00m\u001B[43m)\u001B[49m\u001B[43m \u001B[49m\u001B[38;5;28;43;01mif\u001B[39;49;00m\u001B[43m \u001B[49m\u001B[43mt\u001B[49m\u001B[38;5;241;43m.\u001B[39;49m\u001B[43mrank\u001B[49m\u001B[43m \u001B[49m\u001B[38;5;241;43m>\u001B[39;49m\u001B[43m \u001B[49m\u001B[38;5;241;43m0\u001B[39;49m\u001B[43m \u001B[49m\u001B[38;5;28;43;01melse\u001B[39;49;00m\u001B[43m \u001B[49m\u001B[43mt\u001B[49m\u001B[38;5;241;43m.\u001B[39;49m\u001B[43mnative\u001B[49m\u001B[43m(\u001B[49m\u001B[43m)\u001B[49m\u001B[43m \u001B[49m\u001B[38;5;28;43;01mfor\u001B[39;49;00m\u001B[43m \u001B[49m\u001B[43mt\u001B[49m\u001B[43m \u001B[49m\u001B[38;5;129;43;01min\u001B[39;49;00m\u001B[43m \u001B[49m\u001B[43m[\u001B[49m\u001B[38;5;28;43mself\u001B[39;49m\u001B[43m,\u001B[49m\u001B[43m \u001B[49m\u001B[43mother_tensor\u001B[49m\u001B[43m]\u001B[49m\u001B[43m]\u001B[49m\n\u001B[0;32m   1365\u001B[0m \u001B[38;5;28;01mif\u001B[39;00m switch_args:\n\u001B[0;32m   1366\u001B[0m     natives \u001B[38;5;241m=\u001B[39m natives[::\u001B[38;5;241m-\u001B[39m\u001B[38;5;241m1\u001B[39m]\n",
      "File \u001B[1;32m~\\Documents\\VituralEnvs\\InstantPINF-TCNN\\Lib\\site-packages\\phiml\\math\\_tensors.py:1364\u001B[0m, in \u001B[0;36m<listcomp>\u001B[1;34m(.0)\u001B[0m\n\u001B[0;32m   1362\u001B[0m     other_tensor \u001B[38;5;241m=\u001B[39m NativeTensor(other_tensor\u001B[38;5;241m.\u001B[39mnative(other_tensor\u001B[38;5;241m.\u001B[39mshape), other_tensor\u001B[38;5;241m.\u001B[39mshape, other_tensor\u001B[38;5;241m.\u001B[39mshape)\n\u001B[0;32m   1363\u001B[0m broadcast_shape \u001B[38;5;241m=\u001B[39m \u001B[38;5;28mself\u001B[39m\u001B[38;5;241m.\u001B[39m_native_shape \u001B[38;5;241m&\u001B[39m other_tensor\u001B[38;5;241m.\u001B[39m_native_shape\n\u001B[1;32m-> 1364\u001B[0m natives \u001B[38;5;241m=\u001B[39m [\u001B[43mt\u001B[49m\u001B[38;5;241;43m.\u001B[39;49m\u001B[43mnative\u001B[49m\u001B[43m(\u001B[49m\u001B[43morder\u001B[49m\u001B[38;5;241;43m=\u001B[39;49m\u001B[43mbroadcast_shape\u001B[49m\u001B[43m,\u001B[49m\u001B[43m \u001B[49m\u001B[43mforce_expand\u001B[49m\u001B[38;5;241;43m=\u001B[39;49m\u001B[38;5;28;43;01mFalse\u001B[39;49;00m\u001B[43m)\u001B[49m \u001B[38;5;28;01mif\u001B[39;00m t\u001B[38;5;241m.\u001B[39mrank \u001B[38;5;241m>\u001B[39m \u001B[38;5;241m0\u001B[39m \u001B[38;5;28;01melse\u001B[39;00m t\u001B[38;5;241m.\u001B[39mnative() \u001B[38;5;28;01mfor\u001B[39;00m t \u001B[38;5;129;01min\u001B[39;00m [\u001B[38;5;28mself\u001B[39m, other_tensor]]\n\u001B[0;32m   1365\u001B[0m \u001B[38;5;28;01mif\u001B[39;00m switch_args:\n\u001B[0;32m   1366\u001B[0m     natives \u001B[38;5;241m=\u001B[39m natives[::\u001B[38;5;241m-\u001B[39m\u001B[38;5;241m1\u001B[39m]\n",
      "File \u001B[1;32m~\\Documents\\VituralEnvs\\InstantPINF-TCNN\\Lib\\site-packages\\phiml\\math\\_tensors.py:75\u001B[0m, in \u001B[0;36mTensor.native\u001B[1;34m(self, order, force_expand, to_numpy)\u001B[0m\n\u001B[0;32m     73\u001B[0m \u001B[38;5;28;01melse\u001B[39;00m:\n\u001B[0;32m     74\u001B[0m     order \u001B[38;5;241m=\u001B[39m parse_dim_order(order)\n\u001B[1;32m---> 75\u001B[0m native \u001B[38;5;241m=\u001B[39m \u001B[38;5;28;43mself\u001B[39;49m\u001B[38;5;241;43m.\u001B[39;49m\u001B[43m_transposed_native\u001B[49m\u001B[43m(\u001B[49m\u001B[43morder\u001B[49m\u001B[43m,\u001B[49m\u001B[43m \u001B[49m\u001B[43mforce_expand\u001B[49m\u001B[43m)\u001B[49m\n\u001B[0;32m     76\u001B[0m \u001B[38;5;28;01mreturn\u001B[39;00m choose_backend(native)\u001B[38;5;241m.\u001B[39mnumpy(native) \u001B[38;5;28;01mif\u001B[39;00m to_numpy \u001B[38;5;28;01melse\u001B[39;00m native\n",
      "File \u001B[1;32m~\\Documents\\VituralEnvs\\InstantPINF-TCNN\\Lib\\site-packages\\phiml\\math\\_tensors.py:1261\u001B[0m, in \u001B[0;36mNativeTensor._transposed_native\u001B[1;34m(self, order, force_expand)\u001B[0m\n\u001B[0;32m   1259\u001B[0m \u001B[38;5;66;03m# --- Expand ---\u001B[39;00m\n\u001B[0;32m   1260\u001B[0m slices \u001B[38;5;241m=\u001B[39m [\u001B[38;5;28mslice\u001B[39m(\u001B[38;5;28;01mNone\u001B[39;00m) \u001B[38;5;28;01mif\u001B[39;00m dim \u001B[38;5;129;01min\u001B[39;00m \u001B[38;5;28mself\u001B[39m\u001B[38;5;241m.\u001B[39m_native_shape \u001B[38;5;28;01melse\u001B[39;00m \u001B[38;5;28;01mNone\u001B[39;00m \u001B[38;5;28;01mfor\u001B[39;00m dim \u001B[38;5;129;01min\u001B[39;00m order]\n\u001B[1;32m-> 1261\u001B[0m expanded \u001B[38;5;241m=\u001B[39m \u001B[43mtransposed\u001B[49m\u001B[43m[\u001B[49m\u001B[38;5;28;43mtuple\u001B[39;49m\u001B[43m(\u001B[49m\u001B[43mslices\u001B[49m\u001B[43m)\u001B[49m\u001B[43m]\u001B[49m\n\u001B[0;32m   1262\u001B[0m \u001B[38;5;28;01mif\u001B[39;00m force_expand:\n\u001B[0;32m   1263\u001B[0m     multiples \u001B[38;5;241m=\u001B[39m [\u001B[38;5;28mself\u001B[39m\u001B[38;5;241m.\u001B[39m_shape\u001B[38;5;241m.\u001B[39mget_size(dim) \u001B[38;5;28;01mif\u001B[39;00m dim \u001B[38;5;129;01min\u001B[39;00m \u001B[38;5;28mself\u001B[39m\u001B[38;5;241m.\u001B[39m_shape \u001B[38;5;129;01mand\u001B[39;00m dim \u001B[38;5;129;01mnot\u001B[39;00m \u001B[38;5;129;01min\u001B[39;00m \u001B[38;5;28mself\u001B[39m\u001B[38;5;241m.\u001B[39m_native_shape \u001B[38;5;28;01melse\u001B[39;00m \u001B[38;5;241m1\u001B[39m \u001B[38;5;28;01mfor\u001B[39;00m dim \u001B[38;5;129;01min\u001B[39;00m order]\n",
      "\u001B[1;31mRuntimeError\u001B[0m: Output 0 of UnbindBackward0 is a view and its base or another view of its base has been modified inplace. This view is the output of a function that returns multiple views. Such functions do not allow the output views to be modified inplace. You should replace the inplace operation by an out-of-place one."
     ]
    }
   ],
   "execution_count": 4
  },
  {
   "metadata": {},
   "cell_type": "code",
   "source": [
    "x = torch.linspace(0, 1, 3, dtype=torch.float32, device=device)\n",
    "y = torch.linspace(0, 1, 3, dtype=torch.float32, device=device)\n",
    "z = torch.linspace(0, 1, 3, dtype=torch.float32, device=device)\n",
    "grid_x, grid_y, grid_z = torch.meshgrid(x, y, z, indexing='ij')\n",
    "grid_points = torch.stack([grid_x, grid_y, grid_z], dim=-1)\n",
    "\n",
    "TO_LEARN_DIRECTION = []\n",
    "LOCATIONS = []\n",
    "DIRECTIONS = []\n",
    "GRAD_vars = []\n",
    "for pos in grid_points.reshape(-1, 3):\n",
    "    TO_LEARN_DIRECTION.append(torch.randn(3, device=device, requires_grad=True))\n",
    "    LOCATIONS.append(ptf.vec(x=pos[0], y=pos[1], z=pos[2]))\n",
    "    DIRECTIONS.append(ptf.wrap(TO_LEARN_DIRECTION[-1], ptf.channel(vector='x,y,z')))\n",
    "    GRAD_vars.append(TO_LEARN_DIRECTION[-1])\n",
    "OPTIMIZER = torch.optim.RAdam(GRAD_vars, lr=0.001)\n",
    "\n",
    "locations_tensor = torch.tensor([[loc.x, loc.y, loc.z] for loc in LOCATIONS], device=device)  # 形状 [N, 3]\n",
    "directions_tensor = torch.stack([torch.tensor(dir.native(), device=device) for dir in DIRECTIONS])  # 形状 [N, 3]\n",
    "\n",
    "losses = []\n",
    "\n",
    "all_iterations = 100\n",
    "for _ in tqdm.trange(all_iterations):\n",
    "    OPTIMIZER.zero_grad()\n",
    "\n",
    "    FORCE_FIELD = ptf.CenteredGrid(\n",
    "        values=(0, 0, 0),\n",
    "        extrapolation=ptf.extrapolation.ZERO_GRADIENT,\n",
    "        bounds=BOUNDS,\n",
    "        resolution=ptf.spatial(x=RESOLUTION, y=RESOLUTION, z=RESOLUTION),\n",
    "    )\n",
    "    for LOCATION, DIRECTION in zip(LOCATIONS, DIRECTIONS):\n",
    "        LAMBDA = ptf.CenteredGrid(\n",
    "            values=lambda loc: A * ptf.math.exp(-ptf.length(loc - LOCATION) ** 2 / (2 * sigma ** 2)),\n",
    "            extrapolation=ptf.extrapolation.ZERO_GRADIENT,\n",
    "            bounds=BOUNDS,\n",
    "            resolution=ptf.spatial(x=RESOLUTION, y=RESOLUTION, z=RESOLUTION),\n",
    "        )\n",
    "        VECTOR_FIELD = ptf.CenteredGrid(\n",
    "            values=DIRECTION,\n",
    "            extrapolation=ptf.extrapolation.ZERO_GRADIENT,\n",
    "            bounds=BOUNDS,\n",
    "            resolution=ptf.spatial(x=RESOLUTION, y=RESOLUTION, z=RESOLUTION),\n",
    "        )\n",
    "        FORCE_FIELD = FORCE_FIELD + LAMBDA * VECTOR_FIELD\n",
    "\n",
    "    for frame in range(5):\n",
    "        VELOCITY, DENSITY, PRESSURE = step(VELOCITY, DENSITY, None, 0.2, 0.2, INFLOW, FORCE_FIELD)\n",
    "\n",
    "    loss = torch.nn.functional.mse_loss(DENSITY2.values.native('x,y,z'), DENSITY.values.native('x,y,z'))\n",
    "    loss.backward(retain_graph=True)\n",
    "    OPTIMIZER.step()\n",
    "\n",
    "    print(f'loss: {loss.item()}')\n",
    "    losses.append(loss.item())"
   ],
   "id": "d9401aa7af25d9d",
   "outputs": [],
   "execution_count": null
  },
  {
   "metadata": {},
   "cell_type": "code",
   "source": [
    "import matplotlib.pyplot as plt\n",
    "\n",
    "plt.figure(figsize=(10, 6))\n",
    "plt.plot(range(all_iterations), losses, label='Loss')\n",
    "plt.xlabel('Step')\n",
    "plt.ylabel('Loss')\n",
    "plt.title('Loss Over Steps')\n",
    "plt.legend()\n",
    "plt.grid()\n",
    "plt.show()"
   ],
   "id": "b883614575dce8d",
   "outputs": [],
   "execution_count": null
  },
  {
   "metadata": {},
   "cell_type": "code",
   "source": [
    "# x = torch.linspace(0, 1, 5, dtype=torch.float32, device=device)\n",
    "# y = torch.linspace(0, 1, 5, dtype=torch.float32, device=device)\n",
    "# z = torch.linspace(0, 1, 5, dtype=torch.float32, device=device)\n",
    "# grid_x, grid_y, grid_z = torch.meshgrid(x, y, z, indexing='ij')\n",
    "# grid_points = torch.stack([grid_x, grid_y, grid_z], dim=-1)\n",
    "#\n",
    "# TO_LEARN_DIRECTION = []\n",
    "# LOCATIONS = []\n",
    "# DIRECTIONS = []\n",
    "# GRAD_vars = []\n",
    "# for pos in grid_points.reshape(-1, 3):\n",
    "#     TO_LEARN_DIRECTION.append(torch.randn(3, device=device, requires_grad=True))\n",
    "#     LOCATIONS.append(ptf.vec(x=pos[0], y=pos[1], z=pos[2]))\n",
    "#     DIRECTIONS.append(ptf.wrap(TO_LEARN_DIRECTION[-1], ptf.channel(vector='x,y,z')))\n",
    "#     GRAD_vars.append(TO_LEARN_DIRECTION[-1])\n",
    "# OPTIMIZER = torch.optim.RAdam(GRAD_vars, lr=0.001)\n",
    "#\n",
    "# FORCE_FIELD = ptf.CenteredGrid(\n",
    "#     values=(0, 0, 0),\n",
    "#     extrapolation=ptf.extrapolation.ZERO_GRADIENT,\n",
    "#     bounds=BOUNDS,\n",
    "#     resolution=ptf.spatial(x=RESOLUTION, y=RESOLUTION, z=RESOLUTION),\n",
    "# )\n",
    "#\n",
    "# # Gaussian falloff function\n",
    "# A = 0.2  # 高斯幅值\n",
    "# sigma = 0.2  # 标准差，控制衰减范围\n",
    "# for LOCATION, DIRECTION in tqdm.tqdm(zip(LOCATIONS, DIRECTIONS)):\n",
    "#     LAMBDA = ptf.CenteredGrid(\n",
    "#         values=lambda loc: A * ptf.math.exp(-ptf.length(loc - LOCATION) ** 2 / (2 * sigma ** 2)),\n",
    "#         extrapolation=ptf.extrapolation.ZERO_GRADIENT,\n",
    "#         bounds=BOUNDS,\n",
    "#         resolution=ptf.spatial(x=RESOLUTION, y=RESOLUTION, z=RESOLUTION),\n",
    "#     )\n",
    "#     VECTOR_FIELD = ptf.CenteredGrid(\n",
    "#         values=DIRECTION,\n",
    "#         extrapolation=ptf.extrapolation.ZERO_GRADIENT,\n",
    "#         bounds=BOUNDS,\n",
    "#         resolution=ptf.spatial(x=RESOLUTION, y=RESOLUTION, z=RESOLUTION),\n",
    "#     )\n",
    "#     FORCE_FIELD = FORCE_FIELD + LAMBDA * VECTOR_FIELD\n"
   ],
   "id": "b952fff831fb0043",
   "outputs": [],
   "execution_count": null
  }
 ],
 "metadata": {
  "kernelspec": {
   "display_name": "Python 3",
   "language": "python",
   "name": "python3"
  },
  "language_info": {
   "codemirror_mode": {
    "name": "ipython",
    "version": 2
   },
   "file_extension": ".py",
   "mimetype": "text/x-python",
   "name": "python",
   "nbconvert_exporter": "python",
   "pygments_lexer": "ipython2",
   "version": "2.7.6"
  }
 },
 "nbformat": 4,
 "nbformat_minor": 5
}
