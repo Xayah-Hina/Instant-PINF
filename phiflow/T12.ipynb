{
 "cells": [
  {
   "cell_type": "code",
   "id": "initial_id",
   "metadata": {
    "collapsed": true,
    "ExecuteTime": {
     "end_time": "2025-01-15T13:17:55.753923Z",
     "start_time": "2025-01-15T13:17:53.656022Z"
    }
   },
   "source": [
    "import torch\n",
    "import numpy as np\n",
    "import phi.torch.flow as ptf\n",
    "\n",
    "import tqdm\n",
    "\n",
    "device = torch.device('cuda')"
   ],
   "outputs": [],
   "execution_count": 1
  },
  {
   "metadata": {},
   "cell_type": "code",
   "outputs": [],
   "execution_count": null,
   "source": [
    "BOUNDS = ptf.Box(x=1, y=1, z=1)\n",
    "RESOLUTION = 100"
   ],
   "id": "773ef8331888a5c3"
  },
  {
   "metadata": {
    "ExecuteTime": {
     "end_time": "2025-01-15T14:06:07.595217Z",
     "start_time": "2025-01-15T14:06:07.316694Z"
    }
   },
   "cell_type": "code",
   "source": [
    "index1 = 0\n",
    "index2 = index1 + 5\n",
    "den1_np = np.load(f'origin/origin_{index1:03d}.npz')['density']\n",
    "den2_np = np.load(f'origin/origin_{index2:03d}.npz')['density']\n",
    "den1_gpu = torch.tensor(den1_np, dtype=torch.float32, device=device)\n",
    "den2_gpu = torch.tensor(den2_np, dtype=torch.float32, device=device)\n",
    "\n",
    "DENSITY1 = ptf.CenteredGrid(\n",
    "    values=ptf.wrap(den1_gpu, ptf.spatial('x,y,z')),\n",
    "    extrapolation=ptf.extrapolation.ZERO_GRADIENT,\n",
    "    bounds=BOUNDS,\n",
    "    resolution=ptf.spatial(x=RESOLUTION, y=RESOLUTION, z=RESOLUTION),\n",
    ")\n",
    "DENSITY2 = ptf.CenteredGrid(\n",
    "    values=ptf.wrap(den2_gpu, ptf.spatial('x,y,z')),\n",
    "    extrapolation=ptf.extrapolation.ZERO_GRADIENT,\n",
    "    bounds=BOUNDS,\n",
    "    resolution=ptf.spatial(x=RESOLUTION, y=RESOLUTION, z=RESOLUTION),\n",
    ")\n",
    "VELOCITY = ptf.StaggeredGrid(\n",
    "    values=0,\n",
    "    extrapolation=ptf.extrapolation.ZERO,\n",
    "    bounds=BOUNDS,\n",
    "    resolution=ptf.spatial(x=RESOLUTION, y=RESOLUTION, z=RESOLUTION),\n",
    ")\n",
    "INFLOW = ptf.CenteredGrid(\n",
    "    values=ptf.Sphere(center=ptf.tensor([0.5, 0, 0.5], ptf.channel(vector='x,y,z')), radius=0.05),\n",
    "    extrapolation=ptf.extrapolation.ZERO,\n",
    "    bounds=BOUNDS,\n",
    "    resolution=ptf.spatial(x=RESOLUTION, y=RESOLUTION, z=RESOLUTION),\n",
    ")\n",
    "\n",
    "\n",
    "# @ptf.jit_compile\n",
    "def step(v, s, p, dt, inflow_rate, inflow, FORCE):\n",
    "    s = ptf.advect.mac_cormack(s, v, dt) + inflow_rate * ptf.resample(inflow, to=s, soft=True)\n",
    "    buoyancy = ptf.resample(s * (0, 0.1, 0), to=v) + FORCE\n",
    "    v = ptf.advect.semi_lagrangian(v, v, dt) + buoyancy * dt\n",
    "    v, p = ptf.fluid.make_incompressible(v, (), ptf.Solve('auto', 1e-3, x0=p))\n",
    "    return v, s, p"
   ],
   "id": "35e352507f490053",
   "outputs": [],
   "execution_count": 8
  },
  {
   "metadata": {},
   "cell_type": "code",
   "outputs": [],
   "execution_count": null,
   "source": "for _ in tqdm.trange(100):",
   "id": "d9401aa7af25d9d"
  },
  {
   "metadata": {
    "ExecuteTime": {
     "end_time": "2025-01-15T13:53:43.968176Z",
     "start_time": "2025-01-15T13:53:40.529735Z"
    }
   },
   "cell_type": "code",
   "source": [
    "x = torch.linspace(0, 1, 5, dtype=torch.float32, device=device)\n",
    "y = torch.linspace(0, 1, 5, dtype=torch.float32, device=device)\n",
    "z = torch.linspace(0, 1, 5, dtype=torch.float32, device=device)\n",
    "grid_x, grid_y, grid_z = torch.meshgrid(x, y, z, indexing='ij')\n",
    "grid_points = torch.stack([grid_x, grid_y, grid_z], dim=-1)\n",
    "\n",
    "TO_LEARN_DIRECTION = []\n",
    "LOCATIONS = []\n",
    "DIRECTIONS = []\n",
    "GRAD_vars = []\n",
    "for pos in grid_points.reshape(-1, 3):\n",
    "    TO_LEARN_DIRECTION.append(torch.randn(3, device=device, requires_grad=True))\n",
    "    LOCATIONS.append(ptf.vec(x=pos[0], y=pos[1], z=pos[2]))\n",
    "    DIRECTIONS.append(ptf.wrap(TO_LEARN_DIRECTION[-1], ptf.channel(vector='x,y,z')))\n",
    "    GRAD_vars.append(TO_LEARN_DIRECTION[-1])\n",
    "OPTIMIZER = torch.optim.RAdam(GRAD_vars, lr=0.001)\n",
    "\n",
    "FORCE_FIELD = ptf.CenteredGrid(\n",
    "    values=(0, 0, 0),\n",
    "    extrapolation=ptf.extrapolation.ZERO_GRADIENT,\n",
    "    bounds=BOUNDS,\n",
    "    resolution=ptf.spatial(x=RESOLUTION, y=RESOLUTION, z=RESOLUTION),\n",
    ")\n",
    "\n",
    "# Gaussian falloff function\n",
    "A = 0.2  # 高斯幅值\n",
    "sigma = 0.2  # 标准差，控制衰减范围\n",
    "for LOCATION, DIRECTION in tqdm.tqdm(zip(LOCATIONS, DIRECTIONS)):\n",
    "    LAMBDA = ptf.CenteredGrid(\n",
    "        values=lambda loc: A * ptf.math.exp(-ptf.length(loc - LOCATION) ** 2 / (2 * sigma ** 2)),\n",
    "        extrapolation=ptf.extrapolation.ZERO_GRADIENT,\n",
    "        bounds=BOUNDS,\n",
    "        resolution=ptf.spatial(x=RESOLUTION, y=RESOLUTION, z=RESOLUTION),\n",
    "    )\n",
    "    VECTOR_FIELD = ptf.CenteredGrid(\n",
    "        values=DIRECTION,\n",
    "        extrapolation=ptf.extrapolation.ZERO_GRADIENT,\n",
    "        bounds=BOUNDS,\n",
    "        resolution=ptf.spatial(x=RESOLUTION, y=RESOLUTION, z=RESOLUTION),\n",
    "    )\n",
    "    FORCE_FIELD = FORCE_FIELD + LAMBDA * VECTOR_FIELD\n"
   ],
   "id": "b952fff831fb0043",
   "outputs": [
    {
     "name": "stderr",
     "output_type": "stream",
     "text": [
      "125it [00:03, 37.64it/s]\n"
     ]
    }
   ],
   "execution_count": 7
  },
  {
   "metadata": {},
   "cell_type": "code",
   "outputs": [],
   "execution_count": null,
   "source": "",
   "id": "f87528e50c667abe"
  }
 ],
 "metadata": {
  "kernelspec": {
   "display_name": "Python 3",
   "language": "python",
   "name": "python3"
  },
  "language_info": {
   "codemirror_mode": {
    "name": "ipython",
    "version": 2
   },
   "file_extension": ".py",
   "mimetype": "text/x-python",
   "name": "python",
   "nbconvert_exporter": "python",
   "pygments_lexer": "ipython2",
   "version": "2.7.6"
  }
 },
 "nbformat": 4,
 "nbformat_minor": 5
}
