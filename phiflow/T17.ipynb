{
 "cells": [
  {
   "cell_type": "code",
   "id": "initial_id",
   "metadata": {
    "collapsed": true,
    "ExecuteTime": {
     "end_time": "2025-01-23T07:19:25.120844Z",
     "start_time": "2025-01-23T07:19:22.816705Z"
    }
   },
   "source": [
    "from phi.torch.flow import *\n",
    "import torch\n",
    "\n",
    "device = torch.device('cuda')"
   ],
   "outputs": [],
   "execution_count": 1
  },
  {
   "metadata": {
    "ExecuteTime": {
     "end_time": "2025-01-23T07:19:25.129206Z",
     "start_time": "2025-01-23T07:19:25.124355Z"
    }
   },
   "cell_type": "code",
   "source": [
    "BOUNDS = Box(x=1, y=1)\n",
    "RESOLUTION = 10"
   ],
   "id": "dd65bfc04c3c10f3",
   "outputs": [],
   "execution_count": 2
  },
  {
   "metadata": {
    "ExecuteTime": {
     "end_time": "2025-01-23T07:19:25.685014Z",
     "start_time": "2025-01-23T07:19:25.318144Z"
    }
   },
   "cell_type": "code",
   "source": [
    "ORIGIN_DENSITY_FIELD = CenteredGrid(\n",
    "    values=Noise(),\n",
    "    extrapolation=extrapolation.ZERO_GRADIENT,\n",
    "    bounds=BOUNDS,\n",
    "    resolution=spatial(x=RESOLUTION, y=RESOLUTION),\n",
    ")\n",
    "TARGET_DENSITY_FIELD = CenteredGrid(\n",
    "    values=Noise(),\n",
    "    extrapolation=extrapolation.ZERO_GRADIENT,\n",
    "    bounds=BOUNDS,\n",
    "    resolution=spatial(x=RESOLUTION, y=RESOLUTION),\n",
    ")\n",
    "ORIGIN_VELOCITY_FIELD = StaggeredGrid(\n",
    "    values=Noise(),\n",
    "    extrapolation=extrapolation.ZERO_GRADIENT,\n",
    "    bounds=BOUNDS,\n",
    "    resolution=spatial(x=RESOLUTION, y=RESOLUTION),\n",
    ")\n",
    "# TRAIN_FORCE_FIELD = StaggeredGrid(\n",
    "#     values=1.0,\n",
    "#     extrapolation=extrapolation.ZERO_GRADIENT,\n",
    "#     bounds=BOUNDS,\n",
    "#     resolution=spatial(x=RESOLUTION, y=RESOLUTION),\n",
    "# )\n",
    "# _ = plot(ORIGIN_DENSITY_FIELD)\n",
    "# _ = plot(TARGET_DENSITY_FIELD)\n",
    "# _ = plot(ORIGIN_VELOCITY_FIELD)"
   ],
   "id": "9a221d5cb6988e6d",
   "outputs": [],
   "execution_count": 3
  },
  {
   "metadata": {
    "ExecuteTime": {
     "end_time": "2025-01-23T07:19:25.918706Z",
     "start_time": "2025-01-23T07:19:25.788093Z"
    }
   },
   "cell_type": "code",
   "source": [
    "TRAIN_FORCE_FIELD = CenteredGrid(\n",
    "    values=lambda loc: vec(x = 0.5, y = 0.5),\n",
    "    extrapolation=extrapolation.ZERO_GRADIENT,\n",
    "    bounds=BOUNDS,\n",
    "    resolution=spatial(x=RESOLUTION, y=RESOLUTION),\n",
    ")\n",
    "_ = plot(TRAIN_FORCE_FIELD)"
   ],
   "id": "93ec3da38da738e0",
   "outputs": [
    {
     "ename": "AssertionError",
     "evalue": "Spatial dimensions of values ((vectorᶜ=x,y)) do not match elements (xˢ=10, yˢ=10), bounds=Box(x=(0, 1), y=(0, 1))",
     "output_type": "error",
     "traceback": [
      "\u001B[1;31m---------------------------------------------------------------------------\u001B[0m",
      "\u001B[1;31mAssertionError\u001B[0m                            Traceback (most recent call last)",
      "Cell \u001B[1;32mIn[4], line 1\u001B[0m\n\u001B[1;32m----> 1\u001B[0m TRAIN_FORCE_FIELD \u001B[38;5;241m=\u001B[39m \u001B[43mCenteredGrid\u001B[49m\u001B[43m(\u001B[49m\n\u001B[0;32m      2\u001B[0m \u001B[43m    \u001B[49m\u001B[43mvalues\u001B[49m\u001B[38;5;241;43m=\u001B[39;49m\u001B[38;5;28;43;01mlambda\u001B[39;49;00m\u001B[43m \u001B[49m\u001B[43mloc\u001B[49m\u001B[43m:\u001B[49m\u001B[43m \u001B[49m\u001B[43mvec\u001B[49m\u001B[43m(\u001B[49m\u001B[43mx\u001B[49m\u001B[43m \u001B[49m\u001B[38;5;241;43m=\u001B[39;49m\u001B[43m \u001B[49m\u001B[38;5;241;43m0.5\u001B[39;49m\u001B[43m,\u001B[49m\u001B[43m \u001B[49m\u001B[43my\u001B[49m\u001B[43m \u001B[49m\u001B[38;5;241;43m=\u001B[39;49m\u001B[43m \u001B[49m\u001B[38;5;241;43m0.5\u001B[39;49m\u001B[43m)\u001B[49m\u001B[43m,\u001B[49m\n\u001B[0;32m      3\u001B[0m \u001B[43m    \u001B[49m\u001B[43mextrapolation\u001B[49m\u001B[38;5;241;43m=\u001B[39;49m\u001B[43mextrapolation\u001B[49m\u001B[38;5;241;43m.\u001B[39;49m\u001B[43mZERO_GRADIENT\u001B[49m\u001B[43m,\u001B[49m\n\u001B[0;32m      4\u001B[0m \u001B[43m    \u001B[49m\u001B[43mbounds\u001B[49m\u001B[38;5;241;43m=\u001B[39;49m\u001B[43mBOUNDS\u001B[49m\u001B[43m,\u001B[49m\n\u001B[0;32m      5\u001B[0m \u001B[43m    \u001B[49m\u001B[43mresolution\u001B[49m\u001B[38;5;241;43m=\u001B[39;49m\u001B[43mspatial\u001B[49m\u001B[43m(\u001B[49m\u001B[43mx\u001B[49m\u001B[38;5;241;43m=\u001B[39;49m\u001B[43mRESOLUTION\u001B[49m\u001B[43m,\u001B[49m\u001B[43m \u001B[49m\u001B[43my\u001B[49m\u001B[38;5;241;43m=\u001B[39;49m\u001B[43mRESOLUTION\u001B[49m\u001B[43m)\u001B[49m\u001B[43m,\u001B[49m\n\u001B[0;32m      6\u001B[0m \u001B[43m)\u001B[49m\n\u001B[0;32m      7\u001B[0m _ \u001B[38;5;241m=\u001B[39m plot(TRAIN_FORCE_FIELD)\n",
      "File \u001B[1;32m~\\Documents\\VituralEnvs\\InstantPINF-TCNN\\Lib\\site-packages\\phi\\field\\_grid.py:83\u001B[0m, in \u001B[0;36mCenteredGrid\u001B[1;34m(values, boundary, bounds, resolution, extrapolation, convert, **resolution_)\u001B[0m\n\u001B[0;32m     81\u001B[0m     values \u001B[38;5;241m=\u001B[39m math\u001B[38;5;241m.\u001B[39mto_float(values)\n\u001B[0;32m     82\u001B[0m \u001B[38;5;28;01massert\u001B[39;00m resolution\u001B[38;5;241m.\u001B[39mspatial_rank \u001B[38;5;241m==\u001B[39m elements\u001B[38;5;241m.\u001B[39mbounds\u001B[38;5;241m.\u001B[39mspatial_rank, \u001B[38;5;124mf\u001B[39m\u001B[38;5;124m\"\u001B[39m\u001B[38;5;124mResolution \u001B[39m\u001B[38;5;132;01m{\u001B[39;00mresolution\u001B[38;5;132;01m}\u001B[39;00m\u001B[38;5;124m does not match bounds \u001B[39m\u001B[38;5;132;01m{\u001B[39;00mbounds\u001B[38;5;132;01m}\u001B[39;00m\u001B[38;5;124m\"\u001B[39m\n\u001B[1;32m---> 83\u001B[0m \u001B[38;5;28;01massert\u001B[39;00m values\u001B[38;5;241m.\u001B[39mshape\u001B[38;5;241m.\u001B[39mspatial_rank \u001B[38;5;241m==\u001B[39m elements\u001B[38;5;241m.\u001B[39mspatial_rank, \u001B[38;5;124mf\u001B[39m\u001B[38;5;124m\"\u001B[39m\u001B[38;5;124mSpatial dimensions of values (\u001B[39m\u001B[38;5;132;01m{\u001B[39;00mvalues\u001B[38;5;241m.\u001B[39mshape\u001B[38;5;132;01m}\u001B[39;00m\u001B[38;5;124m) do not match elements \u001B[39m\u001B[38;5;132;01m{\u001B[39;00melements\u001B[38;5;132;01m}\u001B[39;00m\u001B[38;5;124m\"\u001B[39m\n\u001B[0;32m     84\u001B[0m \u001B[38;5;28;01massert\u001B[39;00m values\u001B[38;5;241m.\u001B[39mshape\u001B[38;5;241m.\u001B[39mspatial_rank \u001B[38;5;241m==\u001B[39m elements\u001B[38;5;241m.\u001B[39mbounds\u001B[38;5;241m.\u001B[39mspatial_rank, \u001B[38;5;124mf\u001B[39m\u001B[38;5;124m\"\u001B[39m\u001B[38;5;124mSpatial dimensions of values (\u001B[39m\u001B[38;5;132;01m{\u001B[39;00mvalues\u001B[38;5;241m.\u001B[39mshape\u001B[38;5;132;01m}\u001B[39;00m\u001B[38;5;124m) do not match elements \u001B[39m\u001B[38;5;132;01m{\u001B[39;00melements\u001B[38;5;132;01m}\u001B[39;00m\u001B[38;5;124m\"\u001B[39m\n\u001B[0;32m     85\u001B[0m \u001B[38;5;28;01massert\u001B[39;00m values\u001B[38;5;241m.\u001B[39mshape\u001B[38;5;241m.\u001B[39minstance_rank \u001B[38;5;241m==\u001B[39m \u001B[38;5;241m0\u001B[39m, \u001B[38;5;124mf\u001B[39m\u001B[38;5;124m\"\u001B[39m\u001B[38;5;124mInstance dimensions not supported for grids. Got values with shape \u001B[39m\u001B[38;5;132;01m{\u001B[39;00mvalues\u001B[38;5;241m.\u001B[39mshape\u001B[38;5;132;01m}\u001B[39;00m\u001B[38;5;124m\"\u001B[39m\n",
      "\u001B[1;31mAssertionError\u001B[0m: Spatial dimensions of values ((vectorᶜ=x,y)) do not match elements (xˢ=10, yˢ=10), bounds=Box(x=(0, 1), y=(0, 1))"
     ]
    }
   ],
   "execution_count": 4
  }
 ],
 "metadata": {
  "kernelspec": {
   "display_name": "Python 3",
   "language": "python",
   "name": "python3"
  },
  "language_info": {
   "codemirror_mode": {
    "name": "ipython",
    "version": 2
   },
   "file_extension": ".py",
   "mimetype": "text/x-python",
   "name": "python",
   "nbconvert_exporter": "python",
   "pygments_lexer": "ipython2",
   "version": "2.7.6"
  }
 },
 "nbformat": 4,
 "nbformat_minor": 5
}
