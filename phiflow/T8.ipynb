{
 "cells": [
  {
   "cell_type": "code",
   "id": "initial_id",
   "metadata": {
    "collapsed": true,
    "ExecuteTime": {
     "end_time": "2025-01-13T07:01:57.144035Z",
     "start_time": "2025-01-13T07:01:54.964662Z"
    }
   },
   "source": [
    "import torch\n",
    "import numpy as np\n",
    "import phi.torch.flow as ptf\n",
    "\n",
    "device = torch.device('cuda')"
   ],
   "outputs": [],
   "execution_count": 1
  },
  {
   "metadata": {
    "ExecuteTime": {
     "end_time": "2025-01-13T07:01:57.306050Z",
     "start_time": "2025-01-13T07:01:57.147541Z"
    }
   },
   "cell_type": "code",
   "source": [
    "BOUNDS = ptf.Box(x=1, y=1, z=1)\n",
    "RESOLUTION = 100\n",
    "INFLOW = ptf.CenteredGrid(\n",
    "    values=ptf.Sphere(center=ptf.tensor([0.5, 0, 0.5], ptf.channel(vector='x,y,z')), radius=0.05),\n",
    "    extrapolation=ptf.extrapolation.ZERO,\n",
    "    bounds=BOUNDS,\n",
    "    resolution=ptf.spatial(x=RESOLUTION, y=RESOLUTION, z=RESOLUTION),\n",
    ")"
   ],
   "id": "48edaa7d25f96741",
   "outputs": [],
   "execution_count": 2
  },
  {
   "metadata": {
    "ExecuteTime": {
     "end_time": "2025-01-13T07:01:57.534908Z",
     "start_time": "2025-01-13T07:01:57.531694Z"
    }
   },
   "cell_type": "code",
   "source": [
    "@ptf.jit_compile\n",
    "def step(v, s, dt, ir, inflow):\n",
    "    s = ptf.advect.mac_cormack(s, v, dt) + ir * ptf.resample(inflow, to=s, soft=True)\n",
    "    return s\n",
    "\n",
    "\n",
    "delta_time = 0.2\n",
    "inflow_rate = 0.2"
   ],
   "id": "cdd91c84e316d7ab",
   "outputs": [],
   "execution_count": 3
  },
  {
   "metadata": {
    "ExecuteTime": {
     "end_time": "2025-01-13T07:01:57.576232Z",
     "start_time": "2025-01-13T07:01:57.555158Z"
    }
   },
   "cell_type": "code",
   "source": [
    "index0 = 0\n",
    "den0_np = np.load(f'../ret/phiflow_{index0:03d}.npz')['density']\n",
    "den0_gpu = torch.tensor(den0_np, dtype=torch.float32, device=device)\n",
    "DENSITY0 = ptf.CenteredGrid(\n",
    "    values=ptf.wrap(den0_gpu, ptf.spatial('x,y,z')),\n",
    "    extrapolation=ptf.extrapolation.ZERO,\n",
    "    bounds=BOUNDS,\n",
    "    resolution=ptf.spatial(x=RESOLUTION, y=RESOLUTION, z=RESOLUTION),\n",
    ")\n",
    "np.save(f'resim/den_{index0:03d}.npy', DENSITY0.numpy())"
   ],
   "id": "1aedea87b83a4041",
   "outputs": [],
   "execution_count": 4
  },
  {
   "metadata": {
    "ExecuteTime": {
     "end_time": "2025-01-13T07:02:03.393890Z",
     "start_time": "2025-01-13T07:01:57.627082Z"
    }
   },
   "cell_type": "code",
   "source": [
    "import tqdm\n",
    "\n",
    "DENSITY = DENSITY0\n",
    "for iter in tqdm.trange(119):\n",
    "    vel_np = np.load(f'reconstructed/vel_{iter:03d}.npz.npy')\n",
    "    vel_gpu = torch.tensor(vel_np, dtype=torch.float32, device=device)\n",
    "    VELOCITY = ptf.CenteredGrid(\n",
    "        values=ptf.wrap(vel_gpu, ptf.spatial('x,y,z'), ptf.channel(vector='x,y,z')),\n",
    "        extrapolation=ptf.extrapolation.ZERO,\n",
    "        bounds=BOUNDS,\n",
    "        resolution=ptf.spatial(x=RESOLUTION, y=RESOLUTION, z=RESOLUTION),\n",
    "    )\n",
    "\n",
    "    ret = step(VELOCITY, DENSITY, delta_time, inflow_rate, INFLOW)\n",
    "    np.save(f'resim/den_{iter + 1:03d}.npy', ret.numpy())\n",
    "    DENSITY = ret"
   ],
   "id": "5be47cf228bb9cea",
   "outputs": [
    {
     "name": "stderr",
     "output_type": "stream",
     "text": [
      "100%|██████████| 119/119 [00:05<00:00, 20.66it/s]\n"
     ]
    }
   ],
   "execution_count": 5
  }
 ],
 "metadata": {
  "kernelspec": {
   "display_name": "Python 3",
   "language": "python",
   "name": "python3"
  },
  "language_info": {
   "codemirror_mode": {
    "name": "ipython",
    "version": 2
   },
   "file_extension": ".py",
   "mimetype": "text/x-python",
   "name": "python",
   "nbconvert_exporter": "python",
   "pygments_lexer": "ipython2",
   "version": "2.7.6"
  }
 },
 "nbformat": 4,
 "nbformat_minor": 5
}
