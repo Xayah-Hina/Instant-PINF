{
 "cells": [
  {
   "cell_type": "code",
   "id": "initial_id",
   "metadata": {
    "collapsed": true,
    "ExecuteTime": {
     "end_time": "2025-01-12T09:01:24.129928Z",
     "start_time": "2025-01-12T09:01:21.953096Z"
    }
   },
   "source": [
    "import torch\n",
    "import numpy as np\n",
    "import phi.torch.flow as ptf\n",
    "\n",
    "device = torch.device('cuda')"
   ],
   "outputs": [],
   "execution_count": 1
  },
  {
   "metadata": {
    "ExecuteTime": {
     "end_time": "2025-01-12T09:01:24.297342Z",
     "start_time": "2025-01-12T09:01:24.133210Z"
    }
   },
   "cell_type": "code",
   "source": [
    "BOUNDS = ptf.Box(x=1, y=1, z=1)\n",
    "RESOLUTION = 100\n",
    "INFLOW = ptf.CenteredGrid(\n",
    "    values=ptf.Sphere(center=ptf.tensor([0.5, 0, 0.5], ptf.channel(vector='x,y,z')), radius=0.05),\n",
    "    extrapolation=ptf.extrapolation.ZERO,\n",
    "    bounds=BOUNDS,\n",
    "    resolution=ptf.spatial(x=RESOLUTION, y=RESOLUTION, z=RESOLUTION),\n",
    ")"
   ],
   "id": "bccc0090abff13c7",
   "outputs": [],
   "execution_count": 2
  },
  {
   "metadata": {
    "ExecuteTime": {
     "end_time": "2025-01-12T09:01:24.533461Z",
     "start_time": "2025-01-12T09:01:24.528931Z"
    }
   },
   "cell_type": "code",
   "source": [
    "def step(v, s, dt, ir, inflow):\n",
    "    s = ptf.advect.mac_cormack(s, v, dt) + ir * ptf.resample(inflow, to=s, soft=True)\n",
    "    return s\n",
    "\n",
    "\n",
    "delta_time = 0.2\n",
    "inflow_rate = 0.2"
   ],
   "id": "b2a994f0547c8251",
   "outputs": [],
   "execution_count": 3
  },
  {
   "metadata": {},
   "cell_type": "code",
   "source": [
    "import tqdm\n",
    "\n",
    "for iter in range(119):\n",
    "    print(f'iter: {iter}')\n",
    "    index1 = iter\n",
    "    index2 = iter + 1\n",
    "    filename1 = f'../ret/phiflow_{index1:03d}.npz'\n",
    "    filename2 = f'../ret/phiflow_{index2:03d}.npz'\n",
    "    den1_np = np.load(filename1)['density']\n",
    "    den2_np = np.load(filename2)['density']\n",
    "    den1_gpu = torch.tensor(den1_np, dtype=torch.float32, device=device)\n",
    "    den2_gpu = torch.tensor(den2_np, dtype=torch.float32, device=device)\n",
    "\n",
    "    DENSITY1 = ptf.CenteredGrid(\n",
    "        values=ptf.wrap(den1_gpu, ptf.spatial('x,y,z')),\n",
    "        extrapolation=ptf.extrapolation.ZERO,\n",
    "        bounds=BOUNDS,\n",
    "        resolution=ptf.spatial(x=RESOLUTION, y=RESOLUTION, z=RESOLUTION),\n",
    "    )\n",
    "    DENSITY2 = ptf.CenteredGrid(\n",
    "        values=ptf.wrap(den2_gpu, ptf.spatial('x,y,z')),\n",
    "        extrapolation=ptf.extrapolation.ZERO,\n",
    "        bounds=BOUNDS,\n",
    "        resolution=ptf.spatial(x=RESOLUTION, y=RESOLUTION, z=RESOLUTION),\n",
    "    )\n",
    "\n",
    "    vel_x_gpu = torch.zeros(RESOLUTION + 1, RESOLUTION, RESOLUTION, dtype=torch.float32, device=device,\n",
    "                            requires_grad=True)\n",
    "    vel_y_gpu = torch.zeros(RESOLUTION, RESOLUTION + 1, RESOLUTION, dtype=torch.float32, device=device,\n",
    "                            requires_grad=True)\n",
    "    vel_z_gpu = torch.zeros(RESOLUTION, RESOLUTION, RESOLUTION + 1, dtype=torch.float32, device=device,\n",
    "                            requires_grad=True)\n",
    "    vel_x_wrap = ptf.wrap(vel_x_gpu, ptf.spatial('x,y,z'))\n",
    "    vel_y_wrap = ptf.wrap(vel_y_gpu, ptf.spatial('x,y,z'))\n",
    "    vel_z_wrap = ptf.wrap(vel_z_gpu, ptf.spatial('x,y,z'))\n",
    "\n",
    "    VELOCITY = ptf.StaggeredGrid(\n",
    "        values=ptf.math.stack([vel_x_wrap, vel_y_wrap, vel_z_wrap], ptf.dual(vector='x,y,z')),\n",
    "        extrapolation=ptf.extrapolation.ZERO_GRADIENT,\n",
    "        bounds=BOUNDS,\n",
    "        resolution=ptf.spatial(x=RESOLUTION, y=RESOLUTION, z=RESOLUTION),\n",
    "    )\n",
    "\n",
    "    params = [vel_x_gpu, vel_y_gpu, vel_z_gpu]\n",
    "    optimizer = torch.optim.RAdam(params, lr=0.001)\n",
    "\n",
    "    mask = (DENSITY1.values.native('x,y,z') < 0.01).bool()\n",
    "    for _ in tqdm.trange(500):\n",
    "        optimizer.zero_grad()\n",
    "        ret = step(VELOCITY, DENSITY1, delta_time, inflow_rate, INFLOW)\n",
    "        loss_mse = torch.nn.functional.mse_loss(DENSITY2.values.native('x,y,z'), ret.values.native('x,y,z'))\n",
    "        loss_velocity_penalty = 100 * torch.norm(VELOCITY.at_centers().values.native('x,y,z, vector')[mask],\n",
    "                                                 dim=-1).mean()\n",
    "        loss = loss_mse + loss_velocity_penalty\n",
    "        loss.backward()"
   ],
   "id": "20b715c35fa7b7c8",
   "outputs": [],
   "execution_count": null
  }
 ],
 "metadata": {
  "kernelspec": {
   "display_name": "Python 3",
   "language": "python",
   "name": "python3"
  },
  "language_info": {
   "codemirror_mode": {
    "name": "ipython",
    "version": 2
   },
   "file_extension": ".py",
   "mimetype": "text/x-python",
   "name": "python",
   "nbconvert_exporter": "python",
   "pygments_lexer": "ipython2",
   "version": "2.7.6"
  }
 },
 "nbformat": 4,
 "nbformat_minor": 5
}
