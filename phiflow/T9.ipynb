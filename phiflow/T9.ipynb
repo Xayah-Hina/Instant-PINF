{
 "cells": [
  {
   "cell_type": "code",
   "id": "initial_id",
   "metadata": {
    "collapsed": true
   },
   "source": [
    "import torch\n",
    "import numpy as np\n",
    "import phi.torch.flow as ptf\n",
    "\n",
    "device = torch.device('cuda')"
   ],
   "outputs": [],
   "execution_count": null
  },
  {
   "metadata": {},
   "cell_type": "code",
   "source": [
    "BOUNDS = ptf.Box(x=1, y=1, z=1)\n",
    "RESOLUTION = 100\n",
    "DENSITY = ptf.CenteredGrid(\n",
    "    values=0,\n",
    "    extrapolation=ptf.extrapolation.ZERO_GRADIENT,\n",
    "    bounds=BOUNDS,\n",
    "    resolution=ptf.spatial(x=RESOLUTION, y=RESOLUTION, z=RESOLUTION),\n",
    ")\n",
    "VELOCITY = ptf.StaggeredGrid(\n",
    "    values=0,\n",
    "    extrapolation=ptf.extrapolation.ZERO,\n",
    "    bounds=BOUNDS,\n",
    "    resolution=ptf.spatial(x=RESOLUTION, y=RESOLUTION, z=RESOLUTION),\n",
    ")\n",
    "INFLOW = ptf.CenteredGrid(\n",
    "    values=ptf.Sphere(center=ptf.tensor([0.5, 0, 0.5], ptf.channel(vector='x,y,z')), radius=0.05),\n",
    "    extrapolation=ptf.extrapolation.ZERO,\n",
    "    bounds=BOUNDS,\n",
    "    resolution=ptf.spatial(x=RESOLUTION, y=RESOLUTION, z=RESOLUTION),\n",
    ")"
   ],
   "id": "e11dce448763b6e5",
   "outputs": [],
   "execution_count": null
  },
  {
   "metadata": {},
   "cell_type": "code",
   "source": [
    "OBSTACLE = ptf.Obstacle(geometry=ptf.Sphere(center=ptf.tensor([0.5, 0.5, 0.5], ptf.channel(vector='x,y,z')), radius=0.2),\n",
    "                        velocity=(0., 0., 0.),\n",
    "                        angular_velocity=(0., 0., 0.))"
   ],
   "id": "460a3b8199231f69",
   "outputs": [],
   "execution_count": null
  },
  {
   "metadata": {},
   "cell_type": "code",
   "source": [
    "@ptf.jit_compile\n",
    "def step(v, s, p, dt, inflow_rate, inflow, obs):\n",
    "    s = ptf.advect.mac_cormack(s, v, dt) + inflow_rate * ptf.resample(inflow, to=s, soft=True)\n",
    "    buoyancy = ptf.resample(s * (0, 0.1, 0), to=v)\n",
    "    v = ptf.advect.semi_lagrangian(v, v, dt) + buoyancy * dt\n",
    "    v, p = ptf.fluid.make_incompressible(v, (obs), ptf.Solve('CG', 1e-3, x0=p))\n",
    "    return v, s, p\n",
    "\n",
    "# @ptf.jit_compile_linear"
   ],
   "id": "98d8274b9830aad2",
   "outputs": [],
   "execution_count": null
  },
  {
   "metadata": {},
   "cell_type": "code",
   "source": [
    "import tqdm\n",
    "\n",
    "for _ in tqdm.trange(119):\n",
    "    VELOCITY, DENSITY, _ = step(VELOCITY, DENSITY, None, 0.2, 0.4, INFLOW, OBSTACLE)"
   ],
   "id": "67e6de85947cd911",
   "outputs": [],
   "execution_count": null
  }
 ],
 "metadata": {
  "kernelspec": {
   "display_name": "Python 3",
   "language": "python",
   "name": "python3"
  },
  "language_info": {
   "codemirror_mode": {
    "name": "ipython",
    "version": 2
   },
   "file_extension": ".py",
   "mimetype": "text/x-python",
   "name": "python",
   "nbconvert_exporter": "python",
   "pygments_lexer": "ipython2",
   "version": "2.7.6"
  }
 },
 "nbformat": 4,
 "nbformat_minor": 5
}
