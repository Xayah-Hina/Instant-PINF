{
 "cells": [
  {
   "metadata": {},
   "cell_type": "markdown",
   "source": [
    "## 为什么会报错？\n",
    "```\n",
    "RuntimeError: Output 0 of UnbindBackward0 is a view and its base or another view of its base has been modified inplace. This view is the output of a function that returns multiple views. Such functions do not allow the output views to be modified inplace. You should replace the inplace operation by an out-of-place one.\n",
    "```"
   ],
   "id": "fc3a2936e4c69a08"
  },
  {
   "cell_type": "code",
   "id": "initial_id",
   "metadata": {
    "collapsed": true,
    "ExecuteTime": {
     "end_time": "2025-01-16T14:19:11.408244Z",
     "start_time": "2025-01-16T14:19:09.199347Z"
    }
   },
   "source": [
    "import torch\n",
    "import numpy as np\n",
    "import phi.torch.flow as ptf\n",
    "\n",
    "import tqdm\n",
    "\n",
    "device = torch.device('cuda')"
   ],
   "outputs": [],
   "execution_count": 1
  },
  {
   "metadata": {
    "ExecuteTime": {
     "end_time": "2025-01-16T14:19:11.415829Z",
     "start_time": "2025-01-16T14:19:11.411600Z"
    }
   },
   "cell_type": "code",
   "source": [
    "BOUNDS = ptf.Box(x=1, y=1, z=1)\n",
    "RESOLUTION = 100"
   ],
   "id": "79a5cdfddcb88a02",
   "outputs": [],
   "execution_count": 2
  },
  {
   "metadata": {
    "ExecuteTime": {
     "end_time": "2025-01-16T14:19:13.333893Z",
     "start_time": "2025-01-16T14:19:11.601928Z"
    }
   },
   "cell_type": "code",
   "source": [
    "x = torch.linspace(0.2, 0.8, 3, dtype=torch.float32, device=device)\n",
    "y = torch.linspace(0.2, 0.8, 3, dtype=torch.float32, device=device)\n",
    "z = torch.linspace(0.2, 0.8, 3, dtype=torch.float32, device=device)\n",
    "grid_x, grid_y, grid_z = torch.meshgrid(x, y, z, indexing='ij')\n",
    "\n",
    "LOCATIONS = torch.stack([grid_x, grid_y, grid_z], dim=-1).reshape(-1, 3)  # [27, 3]\n",
    "DIRECTIONS = torch.randn_like(LOCATIONS, dtype=torch.float32, device=device, requires_grad=True)  # [27, 3]\n",
    "OPTIMIZER = torch.optim.RAdam([DIRECTIONS], lr=0.001)\n",
    "\n",
    "def my_func(xx):\n",
    "    ret = A * ptf.math.exp(-ptf.length(xx - loca) ** 2 / (2 * sigma ** 2))\n",
    "    return ptf.vec(x=ret, y=ret, z=ret)\n",
    "\n",
    "A = 0.2  # 高斯幅值\n",
    "sigma = 0.2  # 标准差，控制衰减范围\n",
    "LAMBDA_FIELDS = []\n",
    "for loca in LOCATIONS:\n",
    "    LAMBDA = ptf.CenteredGrid(\n",
    "        values=my_func,\n",
    "        extrapolation=ptf.extrapolation.ZERO_GRADIENT,\n",
    "        bounds=BOUNDS,\n",
    "        resolution=ptf.spatial(x=RESOLUTION, y=RESOLUTION, z=RESOLUTION),\n",
    "    )\n",
    "    LAMBDA_FIELDS.append(LAMBDA)\n",
    "\n",
    "DIRECTION_FIELDS = []\n",
    "for dire in DIRECTIONS:\n",
    "    DIRECTION = ptf.CenteredGrid(\n",
    "        values=ptf.vec(x=dire[0], y=dire[1], z=dire[2]),\n",
    "        extrapolation=ptf.extrapolation.ZERO_GRADIENT,\n",
    "        bounds=BOUNDS,\n",
    "        resolution=ptf.spatial(x=RESOLUTION, y=RESOLUTION, z=RESOLUTION),\n",
    "    )\n",
    "    DIRECTION_FIELDS.append(DIRECTION)"
   ],
   "id": "c5a5ec304abe7525",
   "outputs": [],
   "execution_count": 3
  },
  {
   "metadata": {
    "ExecuteTime": {
     "end_time": "2025-01-16T14:19:13.647865Z",
     "start_time": "2025-01-16T14:19:13.638594Z"
    }
   },
   "cell_type": "code",
   "source": [
    "print(LAMBDA_FIELDS[0].shape)\n",
    "print(DIRECTION_FIELDS[0].shape)"
   ],
   "id": "2ea18f532f4799a9",
   "outputs": [
    {
     "name": "stdout",
     "output_type": "stream",
     "text": [
      "(xˢ=100, yˢ=100, zˢ=100, vectorᶜ=x,y,z)\n",
      "(xˢ=100, yˢ=100, zˢ=100, vectorᶜ=x,y,z)\n"
     ]
    }
   ],
   "execution_count": 4
  },
  {
   "metadata": {},
   "cell_type": "code",
   "outputs": [],
   "execution_count": null,
   "source": "",
   "id": "93e57769dff9eb90"
  }
 ],
 "metadata": {
  "kernelspec": {
   "display_name": "Python 3",
   "language": "python",
   "name": "python3"
  },
  "language_info": {
   "codemirror_mode": {
    "name": "ipython",
    "version": 2
   },
   "file_extension": ".py",
   "mimetype": "text/x-python",
   "name": "python",
   "nbconvert_exporter": "python",
   "pygments_lexer": "ipython2",
   "version": "2.7.6"
  }
 },
 "nbformat": 4,
 "nbformat_minor": 5
}
