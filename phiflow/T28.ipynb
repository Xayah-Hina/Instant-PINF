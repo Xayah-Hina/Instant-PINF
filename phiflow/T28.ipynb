{
 "cells": [
  {
   "metadata": {},
   "cell_type": "markdown",
   "source": "# 建立初始速度预测场",
   "id": "457b4893660eb963"
  },
  {
   "cell_type": "code",
   "execution_count": null,
   "id": "initial_id",
   "metadata": {
    "collapsed": true
   },
   "outputs": [],
   "source": [
    "from phi.torch.flow import *\n",
    "import tqdm\n",
    "\n",
    "device = torch.device('cuda')\n",
    "BOUNDS = Box(x=1, y=1)\n",
    "RESOLUTION = 100\n",
    "\n",
    "\n",
    "@jit_compile\n",
    "def step(v, s, dt, inflow):\n",
    "    s = advect.mac_cormack(s, v, dt) + 0.2 * resample(inflow, to=s, soft=True)\n",
    "    buoyancy = resample(s * (0, 0.1), to=v)\n",
    "    v = advect.semi_lagrangian(v, v, dt) + buoyancy * dt\n",
    "    v, _ = fluid.make_incompressible(v, (), Solve('auto', 1e-3))\n",
    "    return v, s\n",
    "\n",
    "\n",
    "v0 = StaggeredGrid(\n",
    "    values=0,\n",
    "    extrapolation=extrapolation.ZERO,\n",
    "    bounds=BOUNDS,\n",
    "    resolution=spatial(x=RESOLUTION, y=RESOLUTION),\n",
    ")\n",
    "smoke0 = CenteredGrid(\n",
    "    values=0,\n",
    "    extrapolation=extrapolation.ZERO_GRADIENT,\n",
    "    bounds=BOUNDS,\n",
    "    resolution=spatial(x=RESOLUTION, y=RESOLUTION),\n",
    ")\n",
    "inflow0 = Sphere(x=0.5, y=0.15, radius=0.1)\n",
    "\n",
    "vel, smoke = v0, smoke0\n",
    "vel_list = []\n",
    "smoke_list = []\n",
    "for _ in tqdm.trange(100):\n",
    "    vel, smoke = step(vel, smoke, 0.2, inflow0)\n",
    "    vel_list.append(vel)\n",
    "    smoke_list.append(smoke)"
   ]
  }
 ],
 "metadata": {
  "kernelspec": {
   "display_name": "Python 3",
   "language": "python",
   "name": "python3"
  },
  "language_info": {
   "codemirror_mode": {
    "name": "ipython",
    "version": 2
   },
   "file_extension": ".py",
   "mimetype": "text/x-python",
   "name": "python",
   "nbconvert_exporter": "python",
   "pygments_lexer": "ipython2",
   "version": "2.7.6"
  }
 },
 "nbformat": 4,
 "nbformat_minor": 5
}
