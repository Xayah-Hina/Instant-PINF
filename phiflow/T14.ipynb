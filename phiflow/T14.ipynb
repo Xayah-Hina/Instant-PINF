{
 "cells": [
  {
   "cell_type": "code",
   "id": "initial_id",
   "metadata": {
    "collapsed": true,
    "ExecuteTime": {
     "end_time": "2025-01-18T07:58:02.397135Z",
     "start_time": "2025-01-18T07:58:00.244026Z"
    }
   },
   "source": [
    "import torch\n",
    "from phi.torch.flow import *\n",
    "\n",
    "device = torch.device('cuda')"
   ],
   "outputs": [],
   "execution_count": 1
  },
  {
   "metadata": {
    "ExecuteTime": {
     "end_time": "2025-01-18T07:58:02.403917Z",
     "start_time": "2025-01-18T07:58:02.399264Z"
    }
   },
   "cell_type": "code",
   "source": [
    "BOUNDS = Box(x=1, y=1, z=1)\n",
    "RESOLUTION = 100"
   ],
   "id": "4fb2013d8d0a8fa0",
   "outputs": [],
   "execution_count": 2
  },
  {
   "metadata": {
    "ExecuteTime": {
     "end_time": "2025-01-18T07:58:03.122715Z",
     "start_time": "2025-01-18T07:58:02.588489Z"
    }
   },
   "cell_type": "code",
   "source": [
    "ORIGIN_DENSITY_FIELD = CenteredGrid(\n",
    "    values=Noise(),\n",
    "    extrapolation=extrapolation.ZERO_GRADIENT,\n",
    "    bounds=BOUNDS,\n",
    "    resolution=spatial(x=RESOLUTION, y=RESOLUTION, z=RESOLUTION),\n",
    ")\n",
    "TARGET_DENSITY_FIELD = CenteredGrid(\n",
    "    values=Noise(),\n",
    "    extrapolation=extrapolation.ZERO_GRADIENT,\n",
    "    bounds=BOUNDS,\n",
    "    resolution=spatial(x=RESOLUTION, y=RESOLUTION, z=RESOLUTION),\n",
    ")\n",
    "ORIGIN_VELOCITY_FIELD = StaggeredGrid(\n",
    "    values=Noise(),\n",
    "    extrapolation=extrapolation.ZERO,\n",
    "    bounds=BOUNDS,\n",
    "    resolution=spatial(x=RESOLUTION, y=RESOLUTION, z=RESOLUTION),\n",
    ")"
   ],
   "id": "a2690cbe688c1efe",
   "outputs": [],
   "execution_count": 3
  },
  {
   "metadata": {
    "ExecuteTime": {
     "end_time": "2025-01-18T07:58:05.255644Z",
     "start_time": "2025-01-18T07:58:03.252021Z"
    }
   },
   "cell_type": "code",
   "source": [
    "dir_torch = torch.randn(3, device=device, requires_grad=True)\n",
    "dir_phi = wrap(dir_torch, channel(vector='x,y,z'))\n",
    "FORCE_FIELD = StaggeredGrid(\n",
    "    values=dir_phi,\n",
    "    extrapolation=extrapolation.ZERO,\n",
    "    bounds=BOUNDS,\n",
    "    resolution=spatial(x=RESOLUTION, y=RESOLUTION, z=RESOLUTION),\n",
    ")\n",
    "OPTIMIZER = torch.optim.RAdam([dir_torch], lr=0.001)\n",
    "\n",
    "DENSITY = ORIGIN_DENSITY_FIELD\n",
    "VELOCITY = ORIGIN_VELOCITY_FIELD\n",
    "dt = 0.2\n",
    "for _ in range(100):\n",
    "    OPTIMIZER.zero_grad()\n",
    "\n",
    "    VELOCITY = VELOCITY + FORCE_FIELD\n",
    "    DENSITY = advect.mac_cormack(DENSITY, VELOCITY, dt)\n",
    "    loss = torch.nn.functional.mse_loss(DENSITY.values.native('x,y,z'), TARGET_DENSITY_FIELD.values.native('x,y,z'))\n",
    "    loss.backward()\n",
    "\n",
    "    OPTIMIZER.step()"
   ],
   "id": "b92d16d361c039ab",
   "outputs": [
    {
     "ename": "RuntimeError",
     "evalue": "Output 0 of UnbindBackward0 is a view and its base or another view of its base has been modified inplace. This view is the output of a function that returns multiple views. Such functions do not allow the output views to be modified inplace. You should replace the inplace operation by an out-of-place one.",
     "output_type": "error",
     "traceback": [
      "\u001B[1;31m---------------------------------------------------------------------------\u001B[0m",
      "\u001B[1;31mRuntimeError\u001B[0m                              Traceback (most recent call last)",
      "Cell \u001B[1;32mIn[4], line 17\u001B[0m\n\u001B[0;32m     14\u001B[0m \u001B[38;5;28;01mfor\u001B[39;00m _ \u001B[38;5;129;01min\u001B[39;00m \u001B[38;5;28mrange\u001B[39m(\u001B[38;5;241m100\u001B[39m):\n\u001B[0;32m     15\u001B[0m     OPTIMIZER\u001B[38;5;241m.\u001B[39mzero_grad()\n\u001B[1;32m---> 17\u001B[0m     VELOCITY \u001B[38;5;241m=\u001B[39m \u001B[43mVELOCITY\u001B[49m\u001B[43m \u001B[49m\u001B[38;5;241;43m+\u001B[39;49m\u001B[43m \u001B[49m\u001B[43mFORCE_FIELD\u001B[49m\n\u001B[0;32m     18\u001B[0m     DENSITY \u001B[38;5;241m=\u001B[39m advect\u001B[38;5;241m.\u001B[39mmac_cormack(DENSITY, VELOCITY, dt)\n\u001B[0;32m     19\u001B[0m     loss \u001B[38;5;241m=\u001B[39m torch\u001B[38;5;241m.\u001B[39mnn\u001B[38;5;241m.\u001B[39mfunctional\u001B[38;5;241m.\u001B[39mmse_loss(DENSITY\u001B[38;5;241m.\u001B[39mvalues\u001B[38;5;241m.\u001B[39mnative(\u001B[38;5;124m'\u001B[39m\u001B[38;5;124mx,y,z\u001B[39m\u001B[38;5;124m'\u001B[39m), TARGET_DENSITY_FIELD\u001B[38;5;241m.\u001B[39mvalues\u001B[38;5;241m.\u001B[39mnative(\u001B[38;5;124m'\u001B[39m\u001B[38;5;124mx,y,z\u001B[39m\u001B[38;5;124m'\u001B[39m))\n",
      "File \u001B[1;32m~\\Documents\\VituralEnvs\\InstantPINF-TCNN\\Lib\\site-packages\\phi\\field\\_field.py:746\u001B[0m, in \u001B[0;36mField.__add__\u001B[1;34m(self, other)\u001B[0m\n\u001B[0;32m    745\u001B[0m \u001B[38;5;28;01mdef\u001B[39;00m \u001B[38;5;21m__add__\u001B[39m(\u001B[38;5;28mself\u001B[39m, other):\n\u001B[1;32m--> 746\u001B[0m     \u001B[38;5;28;01mreturn\u001B[39;00m \u001B[38;5;28;43mself\u001B[39;49m\u001B[38;5;241;43m.\u001B[39;49m\u001B[43m_op2\u001B[49m\u001B[43m(\u001B[49m\u001B[43mother\u001B[49m\u001B[43m,\u001B[49m\u001B[43m \u001B[49m\u001B[38;5;28;43;01mlambda\u001B[39;49;00m\u001B[43m \u001B[49m\u001B[43md1\u001B[49m\u001B[43m,\u001B[49m\u001B[43m \u001B[49m\u001B[43md2\u001B[49m\u001B[43m:\u001B[49m\u001B[43m \u001B[49m\u001B[43md1\u001B[49m\u001B[43m \u001B[49m\u001B[38;5;241;43m+\u001B[39;49m\u001B[43m \u001B[49m\u001B[43md2\u001B[49m\u001B[43m)\u001B[49m\n",
      "File \u001B[1;32m~\\Documents\\VituralEnvs\\InstantPINF-TCNN\\Lib\\site-packages\\phi\\field\\_field.py:790\u001B[0m, in \u001B[0;36mField._op2\u001B[1;34m(self, other, operator)\u001B[0m\n\u001B[0;32m    788\u001B[0m \u001B[38;5;28;01mif\u001B[39;00m \u001B[38;5;28misinstance\u001B[39m(other, Field):\n\u001B[0;32m    789\u001B[0m     \u001B[38;5;28;01mif\u001B[39;00m \u001B[38;5;28mself\u001B[39m\u001B[38;5;241m.\u001B[39mgeometry \u001B[38;5;241m==\u001B[39m other\u001B[38;5;241m.\u001B[39mgeometry:\n\u001B[1;32m--> 790\u001B[0m         values \u001B[38;5;241m=\u001B[39m \u001B[43moperator\u001B[49m\u001B[43m(\u001B[49m\u001B[38;5;28;43mself\u001B[39;49m\u001B[38;5;241;43m.\u001B[39;49m\u001B[43mvalues\u001B[49m\u001B[43m,\u001B[49m\u001B[43m \u001B[49m\u001B[43mother\u001B[49m\u001B[38;5;241;43m.\u001B[39;49m\u001B[43mvalues\u001B[49m\u001B[43m)\u001B[49m\n\u001B[0;32m    791\u001B[0m         extrapolation_ \u001B[38;5;241m=\u001B[39m operator(\u001B[38;5;28mself\u001B[39m\u001B[38;5;241m.\u001B[39mboundary, other\u001B[38;5;241m.\u001B[39mextrapolation)\n\u001B[0;32m    792\u001B[0m         \u001B[38;5;28;01mreturn\u001B[39;00m Field(\u001B[38;5;28mself\u001B[39m\u001B[38;5;241m.\u001B[39mgeometry, values, extrapolation_)\n",
      "File \u001B[1;32m~\\Documents\\VituralEnvs\\InstantPINF-TCNN\\Lib\\site-packages\\phi\\field\\_field.py:746\u001B[0m, in \u001B[0;36mField.__add__.<locals>.<lambda>\u001B[1;34m(d1, d2)\u001B[0m\n\u001B[0;32m    745\u001B[0m \u001B[38;5;28;01mdef\u001B[39;00m \u001B[38;5;21m__add__\u001B[39m(\u001B[38;5;28mself\u001B[39m, other):\n\u001B[1;32m--> 746\u001B[0m     \u001B[38;5;28;01mreturn\u001B[39;00m \u001B[38;5;28mself\u001B[39m\u001B[38;5;241m.\u001B[39m_op2(other, \u001B[38;5;28;01mlambda\u001B[39;00m d1, d2: \u001B[43md1\u001B[49m\u001B[43m \u001B[49m\u001B[38;5;241;43m+\u001B[39;49m\u001B[43m \u001B[49m\u001B[43md2\u001B[49m)\n",
      "File \u001B[1;32m~\\Documents\\VituralEnvs\\InstantPINF-TCNN\\Lib\\site-packages\\phiml\\math\\_tensors.py:653\u001B[0m, in \u001B[0;36mTensor.__add__\u001B[1;34m(self, other)\u001B[0m\n\u001B[0;32m    652\u001B[0m \u001B[38;5;28;01mdef\u001B[39;00m \u001B[38;5;21m__add__\u001B[39m(\u001B[38;5;28mself\u001B[39m, other):\n\u001B[1;32m--> 653\u001B[0m     \u001B[38;5;28;01mreturn\u001B[39;00m \u001B[38;5;28;43mself\u001B[39;49m\u001B[38;5;241;43m.\u001B[39;49m\u001B[43m_op2\u001B[49m\u001B[43m(\u001B[49m\u001B[43mother\u001B[49m\u001B[43m,\u001B[49m\u001B[43m \u001B[49m\u001B[38;5;28;43;01mlambda\u001B[39;49;00m\u001B[43m \u001B[49m\u001B[43mx\u001B[49m\u001B[43m,\u001B[49m\u001B[43m \u001B[49m\u001B[43my\u001B[49m\u001B[43m:\u001B[49m\u001B[43m \u001B[49m\u001B[43mx\u001B[49m\u001B[43m \u001B[49m\u001B[38;5;241;43m+\u001B[39;49m\u001B[43m \u001B[49m\u001B[43my\u001B[49m\u001B[43m,\u001B[49m\u001B[43m \u001B[49m\u001B[38;5;28;43;01mlambda\u001B[39;49;00m\u001B[43m \u001B[49m\u001B[43mx\u001B[49m\u001B[43m,\u001B[49m\u001B[43m \u001B[49m\u001B[43my\u001B[49m\u001B[43m:\u001B[49m\u001B[43m \u001B[49m\u001B[43mchoose_backend\u001B[49m\u001B[43m(\u001B[49m\u001B[43mx\u001B[49m\u001B[43m,\u001B[49m\u001B[43m \u001B[49m\u001B[43my\u001B[49m\u001B[43m)\u001B[49m\u001B[38;5;241;43m.\u001B[39;49m\u001B[43madd\u001B[49m\u001B[43m(\u001B[49m\u001B[43mx\u001B[49m\u001B[43m,\u001B[49m\u001B[43m \u001B[49m\u001B[43my\u001B[49m\u001B[43m)\u001B[49m\u001B[43m,\u001B[49m\u001B[43m \u001B[49m\u001B[38;5;124;43m'\u001B[39;49m\u001B[38;5;124;43madd\u001B[39;49m\u001B[38;5;124;43m'\u001B[39;49m\u001B[43m,\u001B[49m\u001B[43m \u001B[49m\u001B[38;5;124;43m'\u001B[39;49m\u001B[38;5;124;43m+\u001B[39;49m\u001B[38;5;124;43m'\u001B[39;49m\u001B[43m)\u001B[49m\n",
      "File \u001B[1;32m~\\Documents\\VituralEnvs\\InstantPINF-TCNN\\Lib\\site-packages\\phiml\\math\\_tensors.py:1513\u001B[0m, in \u001B[0;36mTensorStack._op2\u001B[1;34m(self, other, operator, native_function, op_name, op_symbol)\u001B[0m\n\u001B[0;32m   1511\u001B[0m \u001B[38;5;28;01mif\u001B[39;00m \u001B[38;5;28mself\u001B[39m\u001B[38;5;241m.\u001B[39m_stack_dim\u001B[38;5;241m.\u001B[39mname \u001B[38;5;129;01min\u001B[39;00m other\u001B[38;5;241m.\u001B[39mshape:\n\u001B[0;32m   1512\u001B[0m     other_slices \u001B[38;5;241m=\u001B[39m other\u001B[38;5;241m.\u001B[39m_unstack(\u001B[38;5;28mself\u001B[39m\u001B[38;5;241m.\u001B[39m_stack_dim\u001B[38;5;241m.\u001B[39mname)\n\u001B[1;32m-> 1513\u001B[0m     tensors \u001B[38;5;241m=\u001B[39m \u001B[43m[\u001B[49m\u001B[43moperator\u001B[49m\u001B[43m(\u001B[49m\u001B[43mt1\u001B[49m\u001B[43m,\u001B[49m\u001B[43m \u001B[49m\u001B[43mt2\u001B[49m\u001B[43m)\u001B[49m\u001B[43m \u001B[49m\u001B[38;5;28;43;01mfor\u001B[39;49;00m\u001B[43m \u001B[49m\u001B[43mt1\u001B[49m\u001B[43m,\u001B[49m\u001B[43m \u001B[49m\u001B[43mt2\u001B[49m\u001B[43m \u001B[49m\u001B[38;5;129;43;01min\u001B[39;49;00m\u001B[43m \u001B[49m\u001B[38;5;28;43mzip\u001B[39;49m\u001B[43m(\u001B[49m\u001B[38;5;28;43mself\u001B[39;49m\u001B[38;5;241;43m.\u001B[39;49m\u001B[43m_tensors\u001B[49m\u001B[43m,\u001B[49m\u001B[43m \u001B[49m\u001B[43mother_slices\u001B[49m\u001B[43m)\u001B[49m\u001B[43m]\u001B[49m\n\u001B[0;32m   1514\u001B[0m \u001B[38;5;28;01melse\u001B[39;00m:\n\u001B[0;32m   1515\u001B[0m     tensors \u001B[38;5;241m=\u001B[39m [operator(t, other) \u001B[38;5;28;01mfor\u001B[39;00m t \u001B[38;5;129;01min\u001B[39;00m \u001B[38;5;28mself\u001B[39m\u001B[38;5;241m.\u001B[39m_tensors]\n",
      "File \u001B[1;32m~\\Documents\\VituralEnvs\\InstantPINF-TCNN\\Lib\\site-packages\\phiml\\math\\_tensors.py:1513\u001B[0m, in \u001B[0;36m<listcomp>\u001B[1;34m(.0)\u001B[0m\n\u001B[0;32m   1511\u001B[0m \u001B[38;5;28;01mif\u001B[39;00m \u001B[38;5;28mself\u001B[39m\u001B[38;5;241m.\u001B[39m_stack_dim\u001B[38;5;241m.\u001B[39mname \u001B[38;5;129;01min\u001B[39;00m other\u001B[38;5;241m.\u001B[39mshape:\n\u001B[0;32m   1512\u001B[0m     other_slices \u001B[38;5;241m=\u001B[39m other\u001B[38;5;241m.\u001B[39m_unstack(\u001B[38;5;28mself\u001B[39m\u001B[38;5;241m.\u001B[39m_stack_dim\u001B[38;5;241m.\u001B[39mname)\n\u001B[1;32m-> 1513\u001B[0m     tensors \u001B[38;5;241m=\u001B[39m [\u001B[43moperator\u001B[49m\u001B[43m(\u001B[49m\u001B[43mt1\u001B[49m\u001B[43m,\u001B[49m\u001B[43m \u001B[49m\u001B[43mt2\u001B[49m\u001B[43m)\u001B[49m \u001B[38;5;28;01mfor\u001B[39;00m t1, t2 \u001B[38;5;129;01min\u001B[39;00m \u001B[38;5;28mzip\u001B[39m(\u001B[38;5;28mself\u001B[39m\u001B[38;5;241m.\u001B[39m_tensors, other_slices)]\n\u001B[0;32m   1514\u001B[0m \u001B[38;5;28;01melse\u001B[39;00m:\n\u001B[0;32m   1515\u001B[0m     tensors \u001B[38;5;241m=\u001B[39m [operator(t, other) \u001B[38;5;28;01mfor\u001B[39;00m t \u001B[38;5;129;01min\u001B[39;00m \u001B[38;5;28mself\u001B[39m\u001B[38;5;241m.\u001B[39m_tensors]\n",
      "File \u001B[1;32m~\\Documents\\VituralEnvs\\InstantPINF-TCNN\\Lib\\site-packages\\phiml\\math\\_tensors.py:653\u001B[0m, in \u001B[0;36mTensor.__add__.<locals>.<lambda>\u001B[1;34m(x, y)\u001B[0m\n\u001B[0;32m    652\u001B[0m \u001B[38;5;28;01mdef\u001B[39;00m \u001B[38;5;21m__add__\u001B[39m(\u001B[38;5;28mself\u001B[39m, other):\n\u001B[1;32m--> 653\u001B[0m     \u001B[38;5;28;01mreturn\u001B[39;00m \u001B[38;5;28mself\u001B[39m\u001B[38;5;241m.\u001B[39m_op2(other, \u001B[38;5;28;01mlambda\u001B[39;00m x, y: \u001B[43mx\u001B[49m\u001B[43m \u001B[49m\u001B[38;5;241;43m+\u001B[39;49m\u001B[43m \u001B[49m\u001B[43my\u001B[49m, \u001B[38;5;28;01mlambda\u001B[39;00m x, y: choose_backend(x, y)\u001B[38;5;241m.\u001B[39madd(x, y), \u001B[38;5;124m'\u001B[39m\u001B[38;5;124madd\u001B[39m\u001B[38;5;124m'\u001B[39m, \u001B[38;5;124m'\u001B[39m\u001B[38;5;124m+\u001B[39m\u001B[38;5;124m'\u001B[39m)\n",
      "File \u001B[1;32m~\\Documents\\VituralEnvs\\InstantPINF-TCNN\\Lib\\site-packages\\phiml\\math\\_tensors.py:653\u001B[0m, in \u001B[0;36mTensor.__add__\u001B[1;34m(self, other)\u001B[0m\n\u001B[0;32m    652\u001B[0m \u001B[38;5;28;01mdef\u001B[39;00m \u001B[38;5;21m__add__\u001B[39m(\u001B[38;5;28mself\u001B[39m, other):\n\u001B[1;32m--> 653\u001B[0m     \u001B[38;5;28;01mreturn\u001B[39;00m \u001B[38;5;28;43mself\u001B[39;49m\u001B[38;5;241;43m.\u001B[39;49m\u001B[43m_op2\u001B[49m\u001B[43m(\u001B[49m\u001B[43mother\u001B[49m\u001B[43m,\u001B[49m\u001B[43m \u001B[49m\u001B[38;5;28;43;01mlambda\u001B[39;49;00m\u001B[43m \u001B[49m\u001B[43mx\u001B[49m\u001B[43m,\u001B[49m\u001B[43m \u001B[49m\u001B[43my\u001B[49m\u001B[43m:\u001B[49m\u001B[43m \u001B[49m\u001B[43mx\u001B[49m\u001B[43m \u001B[49m\u001B[38;5;241;43m+\u001B[39;49m\u001B[43m \u001B[49m\u001B[43my\u001B[49m\u001B[43m,\u001B[49m\u001B[43m \u001B[49m\u001B[38;5;28;43;01mlambda\u001B[39;49;00m\u001B[43m \u001B[49m\u001B[43mx\u001B[49m\u001B[43m,\u001B[49m\u001B[43m \u001B[49m\u001B[43my\u001B[49m\u001B[43m:\u001B[49m\u001B[43m \u001B[49m\u001B[43mchoose_backend\u001B[49m\u001B[43m(\u001B[49m\u001B[43mx\u001B[49m\u001B[43m,\u001B[49m\u001B[43m \u001B[49m\u001B[43my\u001B[49m\u001B[43m)\u001B[49m\u001B[38;5;241;43m.\u001B[39;49m\u001B[43madd\u001B[49m\u001B[43m(\u001B[49m\u001B[43mx\u001B[49m\u001B[43m,\u001B[49m\u001B[43m \u001B[49m\u001B[43my\u001B[49m\u001B[43m)\u001B[49m\u001B[43m,\u001B[49m\u001B[43m \u001B[49m\u001B[38;5;124;43m'\u001B[39;49m\u001B[38;5;124;43madd\u001B[39;49m\u001B[38;5;124;43m'\u001B[39;49m\u001B[43m,\u001B[49m\u001B[43m \u001B[49m\u001B[38;5;124;43m'\u001B[39;49m\u001B[38;5;124;43m+\u001B[39;49m\u001B[38;5;124;43m'\u001B[39;49m\u001B[43m)\u001B[49m\n",
      "File \u001B[1;32m~\\Documents\\VituralEnvs\\InstantPINF-TCNN\\Lib\\site-packages\\phiml\\math\\_tensors.py:1364\u001B[0m, in \u001B[0;36mNativeTensor._op2\u001B[1;34m(self, other, operator, native_function, op_name, op_symbol, switch_args)\u001B[0m\n\u001B[0;32m   1362\u001B[0m     other_tensor \u001B[38;5;241m=\u001B[39m NativeTensor(other_tensor\u001B[38;5;241m.\u001B[39mnative(other_tensor\u001B[38;5;241m.\u001B[39mshape), other_tensor\u001B[38;5;241m.\u001B[39mshape, other_tensor\u001B[38;5;241m.\u001B[39mshape)\n\u001B[0;32m   1363\u001B[0m broadcast_shape \u001B[38;5;241m=\u001B[39m \u001B[38;5;28mself\u001B[39m\u001B[38;5;241m.\u001B[39m_native_shape \u001B[38;5;241m&\u001B[39m other_tensor\u001B[38;5;241m.\u001B[39m_native_shape\n\u001B[1;32m-> 1364\u001B[0m natives \u001B[38;5;241m=\u001B[39m \u001B[43m[\u001B[49m\u001B[43mt\u001B[49m\u001B[38;5;241;43m.\u001B[39;49m\u001B[43mnative\u001B[49m\u001B[43m(\u001B[49m\u001B[43morder\u001B[49m\u001B[38;5;241;43m=\u001B[39;49m\u001B[43mbroadcast_shape\u001B[49m\u001B[43m,\u001B[49m\u001B[43m \u001B[49m\u001B[43mforce_expand\u001B[49m\u001B[38;5;241;43m=\u001B[39;49m\u001B[38;5;28;43;01mFalse\u001B[39;49;00m\u001B[43m)\u001B[49m\u001B[43m \u001B[49m\u001B[38;5;28;43;01mif\u001B[39;49;00m\u001B[43m \u001B[49m\u001B[43mt\u001B[49m\u001B[38;5;241;43m.\u001B[39;49m\u001B[43mrank\u001B[49m\u001B[43m \u001B[49m\u001B[38;5;241;43m>\u001B[39;49m\u001B[43m \u001B[49m\u001B[38;5;241;43m0\u001B[39;49m\u001B[43m \u001B[49m\u001B[38;5;28;43;01melse\u001B[39;49;00m\u001B[43m \u001B[49m\u001B[43mt\u001B[49m\u001B[38;5;241;43m.\u001B[39;49m\u001B[43mnative\u001B[49m\u001B[43m(\u001B[49m\u001B[43m)\u001B[49m\u001B[43m \u001B[49m\u001B[38;5;28;43;01mfor\u001B[39;49;00m\u001B[43m \u001B[49m\u001B[43mt\u001B[49m\u001B[43m \u001B[49m\u001B[38;5;129;43;01min\u001B[39;49;00m\u001B[43m \u001B[49m\u001B[43m[\u001B[49m\u001B[38;5;28;43mself\u001B[39;49m\u001B[43m,\u001B[49m\u001B[43m \u001B[49m\u001B[43mother_tensor\u001B[49m\u001B[43m]\u001B[49m\u001B[43m]\u001B[49m\n\u001B[0;32m   1365\u001B[0m \u001B[38;5;28;01mif\u001B[39;00m switch_args:\n\u001B[0;32m   1366\u001B[0m     natives \u001B[38;5;241m=\u001B[39m natives[::\u001B[38;5;241m-\u001B[39m\u001B[38;5;241m1\u001B[39m]\n",
      "File \u001B[1;32m~\\Documents\\VituralEnvs\\InstantPINF-TCNN\\Lib\\site-packages\\phiml\\math\\_tensors.py:1364\u001B[0m, in \u001B[0;36m<listcomp>\u001B[1;34m(.0)\u001B[0m\n\u001B[0;32m   1362\u001B[0m     other_tensor \u001B[38;5;241m=\u001B[39m NativeTensor(other_tensor\u001B[38;5;241m.\u001B[39mnative(other_tensor\u001B[38;5;241m.\u001B[39mshape), other_tensor\u001B[38;5;241m.\u001B[39mshape, other_tensor\u001B[38;5;241m.\u001B[39mshape)\n\u001B[0;32m   1363\u001B[0m broadcast_shape \u001B[38;5;241m=\u001B[39m \u001B[38;5;28mself\u001B[39m\u001B[38;5;241m.\u001B[39m_native_shape \u001B[38;5;241m&\u001B[39m other_tensor\u001B[38;5;241m.\u001B[39m_native_shape\n\u001B[1;32m-> 1364\u001B[0m natives \u001B[38;5;241m=\u001B[39m [\u001B[43mt\u001B[49m\u001B[38;5;241;43m.\u001B[39;49m\u001B[43mnative\u001B[49m\u001B[43m(\u001B[49m\u001B[43morder\u001B[49m\u001B[38;5;241;43m=\u001B[39;49m\u001B[43mbroadcast_shape\u001B[49m\u001B[43m,\u001B[49m\u001B[43m \u001B[49m\u001B[43mforce_expand\u001B[49m\u001B[38;5;241;43m=\u001B[39;49m\u001B[38;5;28;43;01mFalse\u001B[39;49;00m\u001B[43m)\u001B[49m \u001B[38;5;28;01mif\u001B[39;00m t\u001B[38;5;241m.\u001B[39mrank \u001B[38;5;241m>\u001B[39m \u001B[38;5;241m0\u001B[39m \u001B[38;5;28;01melse\u001B[39;00m t\u001B[38;5;241m.\u001B[39mnative() \u001B[38;5;28;01mfor\u001B[39;00m t \u001B[38;5;129;01min\u001B[39;00m [\u001B[38;5;28mself\u001B[39m, other_tensor]]\n\u001B[0;32m   1365\u001B[0m \u001B[38;5;28;01mif\u001B[39;00m switch_args:\n\u001B[0;32m   1366\u001B[0m     natives \u001B[38;5;241m=\u001B[39m natives[::\u001B[38;5;241m-\u001B[39m\u001B[38;5;241m1\u001B[39m]\n",
      "File \u001B[1;32m~\\Documents\\VituralEnvs\\InstantPINF-TCNN\\Lib\\site-packages\\phiml\\math\\_tensors.py:75\u001B[0m, in \u001B[0;36mTensor.native\u001B[1;34m(self, order, force_expand, to_numpy)\u001B[0m\n\u001B[0;32m     73\u001B[0m \u001B[38;5;28;01melse\u001B[39;00m:\n\u001B[0;32m     74\u001B[0m     order \u001B[38;5;241m=\u001B[39m parse_dim_order(order)\n\u001B[1;32m---> 75\u001B[0m native \u001B[38;5;241m=\u001B[39m \u001B[38;5;28;43mself\u001B[39;49m\u001B[38;5;241;43m.\u001B[39;49m\u001B[43m_transposed_native\u001B[49m\u001B[43m(\u001B[49m\u001B[43morder\u001B[49m\u001B[43m,\u001B[49m\u001B[43m \u001B[49m\u001B[43mforce_expand\u001B[49m\u001B[43m)\u001B[49m\n\u001B[0;32m     76\u001B[0m \u001B[38;5;28;01mreturn\u001B[39;00m choose_backend(native)\u001B[38;5;241m.\u001B[39mnumpy(native) \u001B[38;5;28;01mif\u001B[39;00m to_numpy \u001B[38;5;28;01melse\u001B[39;00m native\n",
      "File \u001B[1;32m~\\Documents\\VituralEnvs\\InstantPINF-TCNN\\Lib\\site-packages\\phiml\\math\\_tensors.py:1261\u001B[0m, in \u001B[0;36mNativeTensor._transposed_native\u001B[1;34m(self, order, force_expand)\u001B[0m\n\u001B[0;32m   1259\u001B[0m \u001B[38;5;66;03m# --- Expand ---\u001B[39;00m\n\u001B[0;32m   1260\u001B[0m slices \u001B[38;5;241m=\u001B[39m [\u001B[38;5;28mslice\u001B[39m(\u001B[38;5;28;01mNone\u001B[39;00m) \u001B[38;5;28;01mif\u001B[39;00m dim \u001B[38;5;129;01min\u001B[39;00m \u001B[38;5;28mself\u001B[39m\u001B[38;5;241m.\u001B[39m_native_shape \u001B[38;5;28;01melse\u001B[39;00m \u001B[38;5;28;01mNone\u001B[39;00m \u001B[38;5;28;01mfor\u001B[39;00m dim \u001B[38;5;129;01min\u001B[39;00m order]\n\u001B[1;32m-> 1261\u001B[0m expanded \u001B[38;5;241m=\u001B[39m \u001B[43mtransposed\u001B[49m\u001B[43m[\u001B[49m\u001B[38;5;28;43mtuple\u001B[39;49m\u001B[43m(\u001B[49m\u001B[43mslices\u001B[49m\u001B[43m)\u001B[49m\u001B[43m]\u001B[49m\n\u001B[0;32m   1262\u001B[0m \u001B[38;5;28;01mif\u001B[39;00m force_expand:\n\u001B[0;32m   1263\u001B[0m     multiples \u001B[38;5;241m=\u001B[39m [\u001B[38;5;28mself\u001B[39m\u001B[38;5;241m.\u001B[39m_shape\u001B[38;5;241m.\u001B[39mget_size(dim) \u001B[38;5;28;01mif\u001B[39;00m dim \u001B[38;5;129;01min\u001B[39;00m \u001B[38;5;28mself\u001B[39m\u001B[38;5;241m.\u001B[39m_shape \u001B[38;5;129;01mand\u001B[39;00m dim \u001B[38;5;129;01mnot\u001B[39;00m \u001B[38;5;129;01min\u001B[39;00m \u001B[38;5;28mself\u001B[39m\u001B[38;5;241m.\u001B[39m_native_shape \u001B[38;5;28;01melse\u001B[39;00m \u001B[38;5;241m1\u001B[39m \u001B[38;5;28;01mfor\u001B[39;00m dim \u001B[38;5;129;01min\u001B[39;00m order]\n",
      "\u001B[1;31mRuntimeError\u001B[0m: Output 0 of UnbindBackward0 is a view and its base or another view of its base has been modified inplace. This view is the output of a function that returns multiple views. Such functions do not allow the output views to be modified inplace. You should replace the inplace operation by an out-of-place one."
     ]
    }
   ],
   "execution_count": 4
  }
 ],
 "metadata": {
  "kernelspec": {
   "display_name": "Python 3",
   "language": "python",
   "name": "python3"
  },
  "language_info": {
   "codemirror_mode": {
    "name": "ipython",
    "version": 2
   },
   "file_extension": ".py",
   "mimetype": "text/x-python",
   "name": "python",
   "nbconvert_exporter": "python",
   "pygments_lexer": "ipython2",
   "version": "2.7.6"
  }
 },
 "nbformat": 4,
 "nbformat_minor": 5
}
