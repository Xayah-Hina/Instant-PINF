{
 "cells": [
  {
   "cell_type": "code",
   "id": "initial_id",
   "metadata": {
    "collapsed": true,
    "ExecuteTime": {
     "end_time": "2025-02-01T09:51:22.666506Z",
     "start_time": "2025-02-01T09:51:22.083469Z"
    }
   },
   "source": "import numpy as np",
   "outputs": [],
   "execution_count": 1
  },
  {
   "metadata": {
    "ExecuteTime": {
     "end_time": "2025-01-26T08:23:11.496221Z",
     "start_time": "2025-01-26T08:23:11.489408Z"
    }
   },
   "cell_type": "code",
   "source": [
    "args_npz = np.load(\"args.npz\", allow_pickle=True)\n",
    "from types import SimpleNamespace\n",
    "\n",
    "args = SimpleNamespace(**{\n",
    "    key: value.item() if isinstance(value, np.ndarray) and value.size == 1 else\n",
    "    value.tolist() if isinstance(value, np.ndarray) else\n",
    "    value\n",
    "    for key, value in args_npz.items()\n",
    "})"
   ],
   "id": "75f4e7e365763538",
   "outputs": [],
   "execution_count": 7
  },
  {
   "metadata": {
    "ExecuteTime": {
     "end_time": "2025-01-26T08:23:14.455950Z",
     "start_time": "2025-01-26T08:23:14.451889Z"
    }
   },
   "cell_type": "code",
   "source": "print(args)",
   "id": "4a4e2a1819813b2e",
   "outputs": [
    {
     "name": "stdout",
     "output_type": "stream",
     "text": [
      "namespace(config='configs/scalarflowreal.txt', expname='exp_real/p_v128_128', basedir='./logs', datadir='./data', N_rand=512, N_time=1, lrate=0.0005, lrate_den=0.0001, lrate_decay=100000, N_iters=100000, no_reload=False, ft_path=None, ft_v_path=None, use_f=False, detach_vel=False, N_samples=192, perturb=1.0, render_only=False, train_vel=False, run_advect_den=False, run_future_pred=False, generate_vort_particles=False, half_res=True, sim_res_x=128, sim_res_y=192, sim_res_z=128, proj_y=128, y_start=48, use_project=False, i_print=100, i_weights=10000, i_video=10000, finest_resolution=256, finest_resolution_t=128, num_levels=16, base_resolution=16, base_resolution_t=16, finest_resolution_v=128, finest_resolution_v_t=128, base_resolution_v=16, base_resolution_v_t=16, log2_hashmap_size=19, tv_loss_weight=1e-06, no_vel_der=True, save_fields=False, save_den=False, vel_num_layers=2, vel_scale=0.025, vel_weight=1.0, d_weight=0.0, flow_weight=0.001, rec_weight=10000.0, sim_steps=1, proj_weight=1.0, d2v_weight=10.0, coef_den2vel=0.2, debug=False)\n"
     ]
    }
   ],
   "execution_count": 8
  },
  {
   "metadata": {
    "ExecuteTime": {
     "end_time": "2025-02-01T09:51:32.279232Z",
     "start_time": "2025-02-01T09:51:32.271810Z"
    }
   },
   "cell_type": "code",
   "source": [
    "input_test_dataset = \"test_dataset.npz\"\n",
    "pinf_data_test = np.load(input_test_dataset)\n",
    "\n",
    "RENDER_POSE_np = pinf_data_test['render_poses']\n",
    "print(RENDER_POSE_np.shape)"
   ],
   "id": "d4d3dc3616d703",
   "outputs": [
    {
     "name": "stdout",
     "output_type": "stream",
     "text": [
      "(120, 4, 4)\n"
     ]
    }
   ],
   "execution_count": 2
  }
 ],
 "metadata": {
  "kernelspec": {
   "display_name": "Python 3",
   "language": "python",
   "name": "python3"
  },
  "language_info": {
   "codemirror_mode": {
    "name": "ipython",
    "version": 2
   },
   "file_extension": ".py",
   "mimetype": "text/x-python",
   "name": "python",
   "nbconvert_exporter": "python",
   "pygments_lexer": "ipython2",
   "version": "2.7.6"
  }
 },
 "nbformat": 4,
 "nbformat_minor": 5
}
