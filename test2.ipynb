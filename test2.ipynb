{
 "cells": [
  {
   "cell_type": "code",
   "id": "initial_id",
   "metadata": {
    "collapsed": true
   },
   "source": [
    "import src.dataloader\n",
    "import torch\n",
    "import pathlib\n",
    "\n",
    "device = torch.device(\"cuda\")\n",
    "\n",
    "dataloader = src.dataloader.load_train_data(pathlib.Path(\"C:/Users/imeho/Documents/DataSets/InstantPINF/ScalarReal\"),\n",
    "                                            \"train\",\n",
    "                                            device=device)\n",
    "image_batch = next(iter(dataloader))\n",
    "\n",
    "print(f'image device: {image_batch[\"image\"].device}')\n",
    "memory_image_cuda = image_batch['image'].element_size() * image_batch['image'].numel()\n",
    "print(f'Memory of image: {memory_image_cuda / 1024 / 1024:.2f} MB')"
   ],
   "outputs": [],
   "execution_count": null
  },
  {
   "metadata": {},
   "cell_type": "code",
   "source": [
    "from nerfstudio.model_components.ray_samplers import UniformSampler\n",
    "from nerfstudio.model_components.scene_colliders import NearFarCollider\n",
    "\n",
    "collider = NearFarCollider(near_plane=1.1, far_plane=1.5).to(device)\n",
    "sampler_uniform = UniformSampler(num_samples=192).to(device)"
   ],
   "id": "db38077e4bdb12f3",
   "outputs": [],
   "execution_count": null
  },
  {
   "metadata": {},
   "cell_type": "code",
   "source": [
    "import src.encoder\n",
    "import taichi as ti\n",
    "import numpy as np\n",
    "\n",
    "ti.init(arch=ti.cuda)\n",
    "xyzt_encoder = src.encoder.HashEncoderHyFluid(\n",
    "    min_res=np.array([16, 16, 16, 16]),\n",
    "    max_res=np.array([256, 256, 256, 128]),\n",
    "    num_scales=16,\n",
    "    max_params=2 ** 19,\n",
    ")\n",
    "xyzt_encoder.to(device)"
   ],
   "id": "cdc6f6672d55d218",
   "outputs": [],
   "execution_count": null
  },
  {
   "metadata": {},
   "cell_type": "code",
   "source": [
    "from nerfstudio.field_components.mlp import MLP\n",
    "import src.radam\n",
    "\n",
    "mlp_base = MLP(\n",
    "    in_dim=xyzt_encoder.num_scales * xyzt_encoder.features_per_level,\n",
    "    num_layers=2,\n",
    "    layer_width=64,\n",
    "    out_dim=1,\n",
    "    out_activation=torch.nn.ReLU(),\n",
    ")\n",
    "mlp_base.to(device)\n",
    "learned_rgb = torch.nn.Parameter(torch.tensor([0.0], device=device))\n",
    "\n",
    "grad_vars = list(mlp_base.parameters()) + [learned_rgb]\n",
    "embedding_params = list(xyzt_encoder.parameters())\n",
    "\n",
    "optimizer = src.radam.RAdam([\n",
    "    {'params': grad_vars, 'weight_decay': 1e-6},\n",
    "    {'params': embedding_params, 'eps': 1e-15}\n",
    "], lr=0.01, betas=(0.9, 0.99))"
   ],
   "id": "3ceb3a17ab09ad93",
   "outputs": [],
   "execution_count": null
  },
  {
   "metadata": {},
   "cell_type": "code",
   "source": "raw2alpha = lambda raw, dists, act_fn=torch.nn.functional.relu: 1. - torch.exp(-act_fn(raw) * dists)",
   "id": "6cf7c10225aef1b8",
   "outputs": [],
   "execution_count": null
  },
  {
   "metadata": {},
   "cell_type": "code",
   "source": [
    "import nerfstudio.data.pixel_samplers\n",
    "import nerfstudio.model_components.ray_generators\n",
    "\n",
    "ps = nerfstudio.data.pixel_samplers.PixelSamplerConfig(num_rays_per_batch=1024).setup()\n",
    "rg = nerfstudio.model_components.ray_generators.RayGenerator(dataloader.dataset.cameras).to(device)"
   ],
   "id": "976ebc101d3bd0dd",
   "outputs": [],
   "execution_count": null
  },
  {
   "metadata": {},
   "cell_type": "code",
   "source": [
    "def image_idx_to_frame(image_indices, all_frames):\n",
    "    cumulative_frames = torch.cumsum(torch.tensor([0] + all_frames[:-1], device=image_indices.device), dim=0)\n",
    "    result = []\n",
    "    for image_idx in image_indices:\n",
    "        video_idx = torch.searchsorted(cumulative_frames, image_idx, right=True) - 1\n",
    "        frame_in_video = image_idx - cumulative_frames[video_idx]\n",
    "        result.append(frame_in_video.item())\n",
    "    return torch.tensor(result, device=image_indices.device)"
   ],
   "id": "3f9220f247bc02aa",
   "outputs": [],
   "execution_count": null
  },
  {
   "metadata": {
    "ExecuteTime": {
     "end_time": "2024-11-20T06:08:59.684994800Z",
     "start_time": "2024-11-20T06:01:54.691693Z"
    }
   },
   "cell_type": "code",
   "source": [
    "import nerfstudio.model_components.losses\n",
    "import tqdm\n",
    "import time\n",
    "import matplotlib.pyplot as plt\n",
    "\n",
    "# 初始化 MSE 损失函数\n",
    "rgb_loss = nerfstudio.model_components.losses.MSELoss()\n",
    "\n",
    "# 定义列表存储时间\n",
    "encoding_times = []\n",
    "loss_calc_times = []\n",
    "optimizer_times = []\n",
    "\n",
    "# 主循环\n",
    "for i in tqdm.tqdm(range(100)):\n",
    "    # 记录编码时间\n",
    "    start = time.time()\n",
    "    batch = ps.sample(image_batch)\n",
    "    ray_bundle = rg(batch['indices'])\n",
    "    collider(ray_bundle)\n",
    "    ray_samples_uniform = sampler_uniform(ray_bundle)\n",
    "    positions = ray_samples_uniform.frustums.get_positions()\n",
    "\n",
    "    frames = image_idx_to_frame(image_indices=batch['indices'][:, 0],\n",
    "                                all_frames=dataloader.dataset.metadata['all_frames'])\n",
    "    frames_expanded = frames.view(positions.shape[0], 1, 1).expand(-1, positions.shape[1], -1)\n",
    "    xyzt = torch.cat((positions, frames_expanded), dim=-1)\n",
    "    xyzt_flat = xyzt.reshape(-1, 4)\n",
    "    xyzt_encoded = xyzt_encoder(xyzt_flat)\n",
    "    end = time.time()\n",
    "    encoding_times.append(end - start)  # 存储编码耗时\n",
    "\n",
    "    # 记录损失计算时间\n",
    "    start = time.time()\n",
    "    raw_flat = mlp_base(xyzt_encoded)\n",
    "    raw = raw_flat.reshape(xyzt.shape[0], xyzt.shape[1], raw_flat.shape[-1])\n",
    "    dists = ray_samples_uniform.deltas\n",
    "    rgb = torch.ones(3, device=device) * (0.6 + torch.tanh(learned_rgb) * 0.4)\n",
    "    alpha = raw2alpha(raw[..., -1], dists[..., -1])\n",
    "    weights = alpha * torch.cumprod(torch.cat([torch.ones((alpha.shape[0], 1), device=device), 1. - alpha + 1e-10], -1),\n",
    "                                    -1)[:, :-1]\n",
    "    rgb_map = torch.sum(weights[..., None] * rgb, -2)\n",
    "    loss = rgb_loss(rgb_map, batch['image'])\n",
    "    end = time.time()\n",
    "    loss_calc_times.append(end - start)  # 存储损失计算耗时\n",
    "\n",
    "    # 记录优化时间\n",
    "    start = time.time()\n",
    "    optimizer.zero_grad()\n",
    "    loss.backward()\n",
    "    optimizer.step()\n",
    "\n",
    "    new_lrate = 5e-4 * (0.1 ** (i / 250))\n",
    "    for param_group in optimizer.param_groups:\n",
    "        param_group['lr'] = new_lrate\n",
    "\n",
    "    end = time.time()\n",
    "    optimizer_times.append(end - start)  # 存储优化耗时\n",
    "\n",
    "# 绘制折线图\n",
    "plt.figure(figsize=(10, 6))\n",
    "plt.plot(encoding_times, label='Encoding Time')\n",
    "plt.plot(loss_calc_times, label='Loss Calculation Time')\n",
    "plt.plot(optimizer_times, label='Optimizer Time')\n",
    "plt.xlabel('Iteration')\n",
    "plt.ylabel('Time (seconds)')\n",
    "plt.title('Time Analysis per Operation')\n",
    "plt.legend()\n",
    "plt.grid(True)\n",
    "plt.show()"
   ],
   "id": "be05a56550a25d75",
   "outputs": [
    {
     "name": "stderr",
     "output_type": "stream",
     "text": [
      "  0%|          | 0/100 [00:00<?, ?it/s]"
     ]
    },
    {
     "name": "stdout",
     "output_type": "stream",
     "text": [
      "Encoding took 0.23 seconds\n"
     ]
    },
    {
     "name": "stderr",
     "output_type": "stream",
     "text": [
      "  1%|          | 1/100 [00:00<00:56,  1.77it/s]"
     ]
    },
    {
     "name": "stdout",
     "output_type": "stream",
     "text": [
      "Loss calculation took 0.34 seconds\n",
      "optimizer 0 took 0.00 seconds\n"
     ]
    },
    {
     "name": "stderr",
     "output_type": "stream",
     "text": [
      "  2%|▏         | 2/100 [00:14<13:56,  8.54s/it]"
     ]
    },
    {
     "name": "stdout",
     "output_type": "stream",
     "text": [
      "Encoding took 14.07 seconds\n",
      "Loss calculation took 0.03 seconds\n",
      "optimizer 1 took 0.02 seconds\n"
     ]
    },
    {
     "name": "stderr",
     "output_type": "stream",
     "text": [
      "  3%|▎         | 3/100 [00:28<17:49, 11.02s/it]"
     ]
    },
    {
     "name": "stdout",
     "output_type": "stream",
     "text": [
      "Encoding took 13.93 seconds\n",
      "Loss calculation took 0.03 seconds\n",
      "optimizer 2 took 0.02 seconds\n"
     ]
    },
    {
     "name": "stderr",
     "output_type": "stream",
     "text": [
      "  4%|▍         | 4/100 [00:42<19:14, 12.02s/it]"
     ]
    },
    {
     "name": "stdout",
     "output_type": "stream",
     "text": [
      "Encoding took 13.52 seconds\n",
      "Loss calculation took 0.03 seconds\n",
      "optimizer 3 took 0.00 seconds\n"
     ]
    },
    {
     "name": "stderr",
     "output_type": "stream",
     "text": [
      "  5%|▌         | 5/100 [00:55<19:58, 12.62s/it]"
     ]
    },
    {
     "name": "stdout",
     "output_type": "stream",
     "text": [
      "Encoding took 13.63 seconds\n",
      "Loss calculation took 0.03 seconds\n",
      "optimizer 4 took 0.02 seconds\n"
     ]
    },
    {
     "name": "stderr",
     "output_type": "stream",
     "text": [
      "  6%|▌         | 6/100 [01:09<20:24, 13.02s/it]"
     ]
    },
    {
     "name": "stdout",
     "output_type": "stream",
     "text": [
      "Encoding took 13.78 seconds\n",
      "Loss calculation took 0.03 seconds\n",
      "optimizer 5 took 0.00 seconds\n"
     ]
    },
    {
     "name": "stderr",
     "output_type": "stream",
     "text": [
      "  7%|▋         | 7/100 [01:23<20:34, 13.27s/it]"
     ]
    },
    {
     "name": "stdout",
     "output_type": "stream",
     "text": [
      "Encoding took 13.75 seconds\n",
      "Loss calculation took 0.03 seconds\n",
      "optimizer 6 took 0.00 seconds\n"
     ]
    },
    {
     "name": "stderr",
     "output_type": "stream",
     "text": [
      "  8%|▊         | 8/100 [01:36<20:27, 13.35s/it]"
     ]
    },
    {
     "name": "stdout",
     "output_type": "stream",
     "text": [
      "Encoding took 13.46 seconds\n",
      "Loss calculation took 0.03 seconds\n",
      "optimizer 7 took 0.02 seconds\n"
     ]
    },
    {
     "name": "stderr",
     "output_type": "stream",
     "text": [
      "  9%|▉         | 9/100 [01:51<20:36, 13.58s/it]"
     ]
    },
    {
     "name": "stdout",
     "output_type": "stream",
     "text": [
      "Encoding took 14.05 seconds\n",
      "Loss calculation took 0.03 seconds\n",
      "optimizer 8 took 0.02 seconds\n"
     ]
    },
    {
     "name": "stderr",
     "output_type": "stream",
     "text": [
      " 10%|█         | 10/100 [02:04<20:25, 13.62s/it]"
     ]
    },
    {
     "name": "stdout",
     "output_type": "stream",
     "text": [
      "Encoding took 13.65 seconds\n",
      "Loss calculation took 0.03 seconds\n",
      "optimizer 9 took 0.02 seconds\n"
     ]
    },
    {
     "name": "stderr",
     "output_type": "stream",
     "text": [
      " 11%|█         | 11/100 [02:18<20:13, 13.63s/it]"
     ]
    },
    {
     "name": "stdout",
     "output_type": "stream",
     "text": [
      "Encoding took 13.64 seconds\n",
      "Loss calculation took 0.03 seconds\n",
      "optimizer 10 took 0.00 seconds\n"
     ]
    },
    {
     "name": "stderr",
     "output_type": "stream",
     "text": [
      " 12%|█▏        | 12/100 [02:32<19:57, 13.61s/it]"
     ]
    },
    {
     "name": "stdout",
     "output_type": "stream",
     "text": [
      "Encoding took 13.51 seconds\n",
      "Loss calculation took 0.03 seconds\n",
      "optimizer 11 took 0.00 seconds\n"
     ]
    },
    {
     "name": "stderr",
     "output_type": "stream",
     "text": [
      " 13%|█▎        | 13/100 [02:45<19:39, 13.56s/it]"
     ]
    },
    {
     "name": "stdout",
     "output_type": "stream",
     "text": [
      "Encoding took 13.41 seconds\n",
      "Loss calculation took 0.03 seconds\n",
      "optimizer 12 took 0.00 seconds\n"
     ]
    },
    {
     "name": "stderr",
     "output_type": "stream",
     "text": [
      " 14%|█▍        | 14/100 [02:58<19:24, 13.54s/it]"
     ]
    },
    {
     "name": "stdout",
     "output_type": "stream",
     "text": [
      "Encoding took 13.46 seconds\n",
      "Loss calculation took 0.03 seconds\n",
      "optimizer 13 took 0.02 seconds\n"
     ]
    },
    {
     "name": "stderr",
     "output_type": "stream",
     "text": [
      " 15%|█▌        | 15/100 [03:12<19:12, 13.56s/it]"
     ]
    },
    {
     "name": "stdout",
     "output_type": "stream",
     "text": [
      "Encoding took 13.57 seconds\n",
      "Loss calculation took 0.03 seconds\n",
      "optimizer 14 took 0.00 seconds\n"
     ]
    },
    {
     "name": "stderr",
     "output_type": "stream",
     "text": [
      " 16%|█▌        | 16/100 [03:26<19:01, 13.58s/it]"
     ]
    },
    {
     "name": "stdout",
     "output_type": "stream",
     "text": [
      "Encoding took 13.61 seconds\n",
      "Loss calculation took 0.03 seconds\n",
      "optimizer 15 took 0.00 seconds\n"
     ]
    },
    {
     "name": "stderr",
     "output_type": "stream",
     "text": [
      " 17%|█▋        | 17/100 [03:39<18:46, 13.57s/it]"
     ]
    },
    {
     "name": "stdout",
     "output_type": "stream",
     "text": [
      "Encoding took 13.52 seconds\n",
      "Loss calculation took 0.03 seconds\n",
      "optimizer 16 took 0.00 seconds\n"
     ]
    },
    {
     "name": "stderr",
     "output_type": "stream",
     "text": [
      " 18%|█▊        | 18/100 [03:53<18:41, 13.68s/it]"
     ]
    },
    {
     "name": "stdout",
     "output_type": "stream",
     "text": [
      "Encoding took 13.79 seconds\n",
      "Loss calculation took 0.03 seconds\n",
      "optimizer 17 took 0.09 seconds\n"
     ]
    },
    {
     "name": "stderr",
     "output_type": "stream",
     "text": [
      " 19%|█▉        | 19/100 [04:07<18:33, 13.75s/it]"
     ]
    },
    {
     "name": "stdout",
     "output_type": "stream",
     "text": [
      "Encoding took 13.87 seconds\n",
      "Loss calculation took 0.04 seconds\n",
      "optimizer 18 took 0.01 seconds\n"
     ]
    },
    {
     "name": "stderr",
     "output_type": "stream",
     "text": [
      " 20%|██        | 20/100 [04:21<18:25, 13.82s/it]"
     ]
    },
    {
     "name": "stdout",
     "output_type": "stream",
     "text": [
      "Encoding took 13.96 seconds\n",
      "Loss calculation took 0.03 seconds\n",
      "optimizer 19 took 0.00 seconds\n"
     ]
    },
    {
     "name": "stderr",
     "output_type": "stream",
     "text": [
      " 21%|██        | 21/100 [04:35<18:11, 13.81s/it]"
     ]
    },
    {
     "name": "stdout",
     "output_type": "stream",
     "text": [
      "Encoding took 13.76 seconds\n",
      "Loss calculation took 0.03 seconds\n",
      "optimizer 20 took 0.00 seconds\n"
     ]
    },
    {
     "name": "stderr",
     "output_type": "stream",
     "text": [
      " 22%|██▏       | 22/100 [04:49<17:56, 13.81s/it]"
     ]
    },
    {
     "name": "stdout",
     "output_type": "stream",
     "text": [
      "Encoding took 13.76 seconds\n",
      "Loss calculation took 0.03 seconds\n",
      "optimizer 21 took 0.00 seconds\n"
     ]
    },
    {
     "name": "stderr",
     "output_type": "stream",
     "text": [
      " 23%|██▎       | 23/100 [05:02<17:40, 13.77s/it]"
     ]
    },
    {
     "name": "stdout",
     "output_type": "stream",
     "text": [
      "Encoding took 13.67 seconds\n",
      "Loss calculation took 0.03 seconds\n",
      "optimizer 22 took 0.00 seconds\n"
     ]
    },
    {
     "name": "stderr",
     "output_type": "stream",
     "text": [
      " 24%|██▍       | 24/100 [05:16<17:28, 13.80s/it]"
     ]
    },
    {
     "name": "stdout",
     "output_type": "stream",
     "text": [
      "Encoding took 13.78 seconds\n",
      "Loss calculation took 0.03 seconds\n",
      "optimizer 23 took 0.06 seconds\n"
     ]
    },
    {
     "name": "stderr",
     "output_type": "stream",
     "text": [
      " 25%|██▌       | 25/100 [05:30<17:05, 13.68s/it]"
     ]
    },
    {
     "name": "stdout",
     "output_type": "stream",
     "text": [
      "Encoding took 13.36 seconds\n",
      "Loss calculation took 0.03 seconds\n",
      "optimizer 24 took 0.00 seconds\n"
     ]
    },
    {
     "name": "stderr",
     "output_type": "stream",
     "text": [
      " 26%|██▌       | 26/100 [05:44<16:57, 13.75s/it]"
     ]
    },
    {
     "name": "stdout",
     "output_type": "stream",
     "text": [
      "Encoding took 13.89 seconds\n",
      "Loss calculation took 0.03 seconds\n",
      "optimizer 25 took 0.00 seconds\n"
     ]
    },
    {
     "name": "stderr",
     "output_type": "stream",
     "text": [
      " 27%|██▋       | 27/100 [05:57<16:39, 13.70s/it]"
     ]
    },
    {
     "name": "stdout",
     "output_type": "stream",
     "text": [
      "Encoding took 13.52 seconds\n",
      "Loss calculation took 0.03 seconds\n",
      "optimizer 26 took 0.02 seconds\n"
     ]
    },
    {
     "name": "stderr",
     "output_type": "stream",
     "text": [
      " 28%|██▊       | 28/100 [06:11<16:25, 13.69s/it]"
     ]
    },
    {
     "name": "stdout",
     "output_type": "stream",
     "text": [
      "Encoding took 13.64 seconds\n",
      "Loss calculation took 0.03 seconds\n",
      "optimizer 27 took 0.02 seconds\n"
     ]
    },
    {
     "name": "stderr",
     "output_type": "stream",
     "text": [
      " 29%|██▉       | 29/100 [06:25<16:20, 13.82s/it]"
     ]
    },
    {
     "name": "stdout",
     "output_type": "stream",
     "text": [
      "Encoding took 14.02 seconds\n",
      "Loss calculation took 0.03 seconds\n",
      "optimizer 28 took 0.05 seconds\n"
     ]
    },
    {
     "name": "stderr",
     "output_type": "stream",
     "text": [
      " 30%|███       | 30/100 [06:39<16:08, 13.83s/it]"
     ]
    },
    {
     "name": "stdout",
     "output_type": "stream",
     "text": [
      "Encoding took 13.82 seconds\n",
      "Loss calculation took 0.05 seconds\n",
      "optimizer 29 took 0.00 seconds\n"
     ]
    },
    {
     "name": "stderr",
     "output_type": "stream",
     "text": [
      " 31%|███       | 31/100 [06:53<15:55, 13.85s/it]"
     ]
    },
    {
     "name": "stdout",
     "output_type": "stream",
     "text": [
      "Encoding took 13.88 seconds\n",
      "Loss calculation took 0.03 seconds\n",
      "optimizer 30 took 0.00 seconds\n"
     ]
    }
   ],
   "execution_count": null
  },
  {
   "metadata": {},
   "cell_type": "code",
   "source": "",
   "id": "c587e67bfbdf474a",
   "outputs": [],
   "execution_count": null
  }
 ],
 "metadata": {
  "kernelspec": {
   "display_name": "Python 3",
   "language": "python",
   "name": "python3"
  },
  "language_info": {
   "codemirror_mode": {
    "name": "ipython",
    "version": 2
   },
   "file_extension": ".py",
   "mimetype": "text/x-python",
   "name": "python",
   "nbconvert_exporter": "python",
   "pygments_lexer": "ipython2",
   "version": "2.7.6"
  }
 },
 "nbformat": 4,
 "nbformat_minor": 5
}
